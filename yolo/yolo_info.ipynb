{
 "cells": [
  {
   "cell_type": "markdown",
   "metadata": {},
   "source": [
    "### ALGORITMO YOLO\n",
    "**Definición** \\\n",
    "YOLO consiste en una red neuronal convolucional que predice simultáneamente\n",
    "múltiples cuadros delimitadores y las probabilidades de la clase de objeto que delimitan\n",
    "dichos cuadros delimitadores.\n",
    "\n",
    "**Funcionamiento** \\\n",
    "El funcionamiento se basa en una red neuronal convolucional, en la que usa características de la imagen al completo para trazar los cuadros\n",
    "delimitadores (Bounding Box). \\\n",
    "https://www.datacamp.com/es/blog/yolo-object-detection-explained\n",
    "\n",
    "**Github de ejemplo para entrenar tu modelo** \\\n",
    "https://github.com/AntonMu/TrainYourOwnYOLO\n",
    "\n",
    "\n",
    "1. (libreria pre-entrenada para utilizar el algoritmo YOLO) \\\n",
    "https://medium.com/@enriqueav/detecci%C3%B3n-de-objetos-con-yolo-implementaciones-y-como-usarlas-c73ca2489246 \\\n",
    "Darkflow --> Port de darknet a TensowFlow. - https://github.com/thtrieu/darkflow/\n",
    "\n",
    "2. (Implementar desde 0 usando Pytorh 4.0 y python 3.5) - (5 Partes) - (Edit: usa darklow tambien)  \\\n",
    "https://blog.paperspace.com/how-to-implement-a-yolo-object-detector-in-pytorch/\n",
    "\n",
    "**Pasos para aplicar el algoritmo** \\\n",
    "Visitar el siguiente enlace en la seccion - ¿Como funciona la detección de objetos YOLO? \\\n",
    "https://www.datacamp.com/es/blog/yolo-object-detection-explained#%C2%BFc%C3%B3mo-funciona-la-detecci%C3%B3n-de-objetos-yolo?-ahora"
   ]
  },
  {
   "cell_type": "markdown",
   "metadata": {},
   "source": []
  }
 ],
 "metadata": {
  "language_info": {
   "name": "python"
  }
 },
 "nbformat": 4,
 "nbformat_minor": 2
}
