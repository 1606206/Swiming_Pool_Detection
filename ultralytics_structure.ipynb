{
 "cells": [
  {
   "cell_type": "markdown",
   "metadata": {},
   "source": [
    "No ejecutar de nuevo"
   ]
  },
  {
   "cell_type": "code",
   "execution_count": 1,
   "metadata": {},
   "outputs": [
    {
     "name": "stdout",
     "output_type": "stream",
     "text": [
      "Proceso completado.\n"
     ]
    }
   ],
   "source": [
    "import os\n",
    "import random\n",
    "import shutil\n",
    "\n",
    "# Definir la ruta de la carpeta original que contiene las imágenes y sus archivos .txt\n",
    "ruta_carpeta_original = 'DATABASE/ultralytics_modif/images/todo'\n",
    "\n",
    "# Definir las rutas para las carpetas de train, val, train_labels y val_labels\n",
    "ruta_carpeta_train = 'DATABASE/ultralytics_modif/images/train'\n",
    "ruta_carpeta_val = 'DATABASE/ultralytics_modif/images/val'\n",
    "ruta_carpeta_train_labels = 'DATABASE/ultralytics_modif/labels/train'\n",
    "ruta_carpeta_val_labels = 'DATABASE/ultralytics_modif/labels/val'\n",
    "\n",
    "# Crear las carpetas si no existen\n",
    "os.makedirs(ruta_carpeta_train, exist_ok=True)\n",
    "os.makedirs(ruta_carpeta_val, exist_ok=True)\n",
    "os.makedirs(ruta_carpeta_train_labels, exist_ok=True)\n",
    "os.makedirs(ruta_carpeta_val_labels, exist_ok=True)\n",
    "\n",
    "# Obtener la lista de todos los archivos en la carpeta original\n",
    "lista_archivos = os.listdir(ruta_carpeta_original)\n",
    "\n",
    "# Obtener una lista de las imágenes (archivos .jpg) en la carpeta original\n",
    "lista_imagenes = [archivo for archivo in lista_archivos if archivo.endswith('.jpg')]\n",
    "\n",
    "# Determinar el número de imágenes a mover al conjunto de validación (10% del total)\n",
    "num_imagenes_val = int(len(lista_imagenes) * 0.1)\n",
    "\n",
    "# Seleccionar aleatoriamente las imágenes para el conjunto de validación\n",
    "imagenes_val = random.sample(lista_imagenes, num_imagenes_val)\n",
    "\n",
    "# Mover las imágenes seleccionadas al directorio de validación y sus respectivos labels\n",
    "for imagen in imagenes_val:\n",
    "    # Ruta completa de la imagen y su archivo de texto asociado\n",
    "    ruta_imagen = os.path.join(ruta_carpeta_original, imagen)\n",
    "    ruta_txt = os.path.join(ruta_carpeta_original, imagen.replace('.jpg', '.txt'))\n",
    "    \n",
    "    # Copiar la imagen al directorio de validación\n",
    "    shutil.copy(ruta_imagen, ruta_carpeta_val)\n",
    "    \n",
    "    # Copiar el archivo de texto al directorio de validación de labels\n",
    "    shutil.copy(ruta_txt, ruta_carpeta_val_labels)\n",
    "\n",
    "# Mover las imágenes restantes al directorio de entrenamiento y sus respectivos labels\n",
    "for imagen in lista_imagenes:\n",
    "    if imagen not in imagenes_val:\n",
    "        # Ruta completa de la imagen y su archivo de texto asociado\n",
    "        ruta_imagen = os.path.join(ruta_carpeta_original, imagen)\n",
    "        ruta_txt = os.path.join(ruta_carpeta_original, imagen.replace('.jpg', '.txt'))\n",
    "        \n",
    "        # Copiar la imagen al directorio de entrenamiento\n",
    "        shutil.copy(ruta_imagen, ruta_carpeta_train)\n",
    "        \n",
    "        # Copiar el archivo de texto al directorio de entrenamiento de labels\n",
    "        shutil.copy(ruta_txt, ruta_carpeta_train_labels)\n",
    "\n",
    "print(\"Proceso completado.\")"
   ]
  },
  {
   "cell_type": "code",
   "execution_count": null,
   "metadata": {},
   "outputs": [],
   "source": []
  }
 ],
 "metadata": {
  "kernelspec": {
   "display_name": "Python 3",
   "language": "python",
   "name": "python3"
  },
  "language_info": {
   "codemirror_mode": {
    "name": "ipython",
    "version": 3
   },
   "file_extension": ".py",
   "mimetype": "text/x-python",
   "name": "python",
   "nbconvert_exporter": "python",
   "pygments_lexer": "ipython3",
   "version": "3.12.0"
  }
 },
 "nbformat": 4,
 "nbformat_minor": 2
}
