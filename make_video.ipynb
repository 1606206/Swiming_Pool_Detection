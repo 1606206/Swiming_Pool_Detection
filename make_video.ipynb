{
 "cells": [
  {
   "cell_type": "code",
   "execution_count": 3,
   "metadata": {},
   "outputs": [],
   "source": [
    "import subprocess\n",
    "import os\n",
    "import shutil\n",
    "\n",
    "# Ruta al directorio que contiene las imágenes\n",
    "input_directory = \"C:/Users/guill/Desktop/Universidad/2023-2024/Segundo_Semestre/VC/Practicas/Swiming_Pool_Detection/DATABASE/test_data_images\"\n",
    "temp_directory = \"C:/Users/guill/Desktop/Universidad/2023-2024/Segundo_Semestre/VC/Practicas/Swiming_Pool_Detection/DATABASE/temp_images\"\n",
    "output_file = \"test_video.mp4\"\n",
    "frame_rate = 60  # Puedes ajustar la velocidad de fotogramas según tus necesidades\n",
    "\n",
    "# Crear el directorio temporal si no existe\n",
    "if not os.path.exists(temp_directory):\n",
    "    os.makedirs(temp_directory)\n",
    "\n",
    "# Copiar las primeras 300 imágenes al directorio temporal\n",
    "for i in range(300):\n",
    "    src = os.path.join(input_directory, f\"{i:09d}.jpg\")\n",
    "    dst = os.path.join(temp_directory, f\"{i:09d}.jpg\")\n",
    "    shutil.copy(src, dst)\n",
    "\n",
    "# Ruta completa al ejecutable de ffmpeg\n",
    "ffmpeg_path = \"C:/ffmpeg/ffmpeg.exe\"  # Asegúrate de cambiar esta ruta a donde está tu ffmpeg.exe\n",
    "\n",
    "# Construir el comando de ffmpeg\n",
    "ffmpeg_command = [\n",
    "    ffmpeg_path,\n",
    "    '-framerate', str(frame_rate),\n",
    "    '-i', os.path.join(temp_directory, '%09d.jpg'),\n",
    "    '-vf', 'setpts=10.0*PTS',  # Ajusta la velocidad del video\n",
    "    '-c:v', 'libx264',\n",
    "    '-pix_fmt', 'yuv420p',\n",
    "    output_file\n",
    "]\n",
    "\n",
    "# Ejecutar el comando de ffmpeg\n",
    "subprocess.run(ffmpeg_command, check=True)\n",
    "\n",
    "# Eliminar el directorio temporal y sus contenidos\n",
    "shutil.rmtree(temp_directory)\n"
   ]
  },
  {
   "cell_type": "code",
   "execution_count": null,
   "metadata": {},
   "outputs": [],
   "source": []
  }
 ],
 "metadata": {
  "kernelspec": {
   "display_name": "Python 3",
   "language": "python",
   "name": "python3"
  },
  "language_info": {
   "codemirror_mode": {
    "name": "ipython",
    "version": 3
   },
   "file_extension": ".py",
   "mimetype": "text/x-python",
   "name": "python",
   "nbconvert_exporter": "python",
   "pygments_lexer": "ipython3",
   "version": "3.12.0"
  }
 },
 "nbformat": 4,
 "nbformat_minor": 2
}
