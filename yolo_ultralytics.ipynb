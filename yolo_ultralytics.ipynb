{
 "cells": [
  {
   "cell_type": "markdown",
   "metadata": {},
   "source": [
    "### **Entrenamos el modelo para 1,10 y para 200 epochs**"
   ]
  },
  {
   "cell_type": "code",
   "execution_count": 1,
   "metadata": {},
   "outputs": [],
   "source": [
    "from ultralytics import YOLO"
   ]
  },
  {
   "cell_type": "code",
   "execution_count": 40,
   "metadata": {},
   "outputs": [
    {
     "name": "stdout",
     "output_type": "stream",
     "text": [
      "New https://pypi.org/project/ultralytics/8.2.12 available  Update with 'pip install -U ultralytics'\n",
      "Ultralytics YOLOv8.2.6  Python-3.12.0 torch-2.3.0+cpu CPU (11th Gen Intel Core(TM) i5-11600K 3.90GHz)\n",
      "\u001b[34m\u001b[1mengine\\trainer: \u001b[0mtask=detect, mode=train, model=yolov8n.yaml, data=config.yaml, epochs=200, time=None, patience=100, batch=16, imgsz=224, save=True, save_period=-1, cache=False, device=None, workers=8, project=None, name=train7, exist_ok=False, pretrained=True, optimizer=auto, verbose=True, seed=0, deterministic=True, single_cls=False, rect=False, cos_lr=False, close_mosaic=10, resume=False, amp=True, fraction=1.0, profile=False, freeze=None, multi_scale=False, overlap_mask=True, mask_ratio=4, dropout=0.0, val=True, split=val, save_json=False, save_hybrid=False, conf=None, iou=0.7, max_det=300, half=False, dnn=False, plots=True, source=None, vid_stride=1, stream_buffer=False, visualize=False, augment=False, agnostic_nms=False, classes=None, retina_masks=False, embed=None, show=False, save_frames=False, save_txt=False, save_conf=False, save_crop=False, show_labels=True, show_conf=True, show_boxes=True, line_width=None, format=torchscript, keras=False, optimize=False, int8=False, dynamic=False, simplify=False, opset=None, workspace=4, nms=False, lr0=0.01, lrf=0.01, momentum=0.937, weight_decay=0.0005, warmup_epochs=3.0, warmup_momentum=0.8, warmup_bias_lr=0.1, box=7.5, cls=0.5, dfl=1.5, pose=12.0, kobj=1.0, label_smoothing=0.0, nbs=64, hsv_h=0.015, hsv_s=0.7, hsv_v=0.4, degrees=0.0, translate=0.1, scale=0.5, shear=0.0, perspective=0.0, flipud=0.0, fliplr=0.5, bgr=0.0, mosaic=1.0, mixup=0.0, copy_paste=0.0, auto_augment=randaugment, erasing=0.4, crop_fraction=1.0, cfg=None, tracker=botsort.yaml, save_dir=runs\\detect\\train7\n",
      "Overriding model.yaml nc=80 with nc=1\n",
      "\n",
      "                   from  n    params  module                                       arguments                     \n",
      "  0                  -1  1       464  ultralytics.nn.modules.conv.Conv             [3, 16, 3, 2]                 \n",
      "  1                  -1  1      4672  ultralytics.nn.modules.conv.Conv             [16, 32, 3, 2]                \n",
      "  2                  -1  1      7360  ultralytics.nn.modules.block.C2f             [32, 32, 1, True]             \n",
      "  3                  -1  1     18560  ultralytics.nn.modules.conv.Conv             [32, 64, 3, 2]                \n",
      "  4                  -1  2     49664  ultralytics.nn.modules.block.C2f             [64, 64, 2, True]             \n",
      "  5                  -1  1     73984  ultralytics.nn.modules.conv.Conv             [64, 128, 3, 2]               \n",
      "  6                  -1  2    197632  ultralytics.nn.modules.block.C2f             [128, 128, 2, True]           \n",
      "  7                  -1  1    295424  ultralytics.nn.modules.conv.Conv             [128, 256, 3, 2]              \n",
      "  8                  -1  1    460288  ultralytics.nn.modules.block.C2f             [256, 256, 1, True]           \n",
      "  9                  -1  1    164608  ultralytics.nn.modules.block.SPPF            [256, 256, 5]                 \n",
      " 10                  -1  1         0  torch.nn.modules.upsampling.Upsample         [None, 2, 'nearest']          \n",
      " 11             [-1, 6]  1         0  ultralytics.nn.modules.conv.Concat           [1]                           \n",
      " 12                  -1  1    148224  ultralytics.nn.modules.block.C2f             [384, 128, 1]                 \n",
      " 13                  -1  1         0  torch.nn.modules.upsampling.Upsample         [None, 2, 'nearest']          \n",
      " 14             [-1, 4]  1         0  ultralytics.nn.modules.conv.Concat           [1]                           \n",
      " 15                  -1  1     37248  ultralytics.nn.modules.block.C2f             [192, 64, 1]                  \n",
      " 16                  -1  1     36992  ultralytics.nn.modules.conv.Conv             [64, 64, 3, 2]                \n",
      " 17            [-1, 12]  1         0  ultralytics.nn.modules.conv.Concat           [1]                           \n",
      " 18                  -1  1    123648  ultralytics.nn.modules.block.C2f             [192, 128, 1]                 \n",
      " 19                  -1  1    147712  ultralytics.nn.modules.conv.Conv             [128, 128, 3, 2]              \n",
      " 20             [-1, 9]  1         0  ultralytics.nn.modules.conv.Concat           [1]                           \n",
      " 21                  -1  1    493056  ultralytics.nn.modules.block.C2f             [384, 256, 1]                 \n",
      " 22        [15, 18, 21]  1    751507  ultralytics.nn.modules.head.Detect           [1, [64, 128, 256]]           \n",
      "YOLOv8n summary: 225 layers, 3011043 parameters, 3011027 gradients, 8.2 GFLOPs\n",
      "\n",
      "\u001b[34m\u001b[1mTensorBoard: \u001b[0mStart with 'tensorboard --logdir runs\\detect\\train7', view at http://localhost:6006/\n",
      "Freezing layer 'model.22.dfl.conv.weight'\n"
     ]
    },
    {
     "name": "stderr",
     "output_type": "stream",
     "text": [
      "\u001b[34m\u001b[1mtrain: \u001b[0mScanning C:\\Users\\guill\\Desktop\\Universidad\\2023-2024\\Segundo_Semestre\\VC\\Practicas\\Swiming_Pool_Detection\\DATABASE\\ultralytics\\labels\\train.cache... 1794 images, 0 backgrounds, 0 corrupt: 100%|██████████| 1794/1794 [00:00<?, ?it/s]\n",
      "\u001b[34m\u001b[1mval: \u001b[0mScanning C:\\Users\\guill\\Desktop\\Universidad\\2023-2024\\Segundo_Semestre\\VC\\Practicas\\Swiming_Pool_Detection\\DATABASE\\ultralytics\\labels\\val.cache... 387 images, 0 backgrounds, 0 corrupt: 100%|██████████| 387/387 [00:00<?, ?it/s]"
     ]
    },
    {
     "name": "stdout",
     "output_type": "stream",
     "text": [
      "Plotting labels to runs\\detect\\train7\\labels.jpg... \n"
     ]
    },
    {
     "name": "stderr",
     "output_type": "stream",
     "text": [
      "\n"
     ]
    },
    {
     "name": "stdout",
     "output_type": "stream",
     "text": [
      "\u001b[34m\u001b[1moptimizer:\u001b[0m 'optimizer=auto' found, ignoring 'lr0=0.01' and 'momentum=0.937' and determining best 'optimizer', 'lr0' and 'momentum' automatically... \n",
      "\u001b[34m\u001b[1moptimizer:\u001b[0m AdamW(lr=0.002, momentum=0.9) with parameter groups 57 weight(decay=0.0), 64 weight(decay=0.0005), 63 bias(decay=0.0)\n",
      "\u001b[34m\u001b[1mTensorBoard: \u001b[0mmodel graph visualization added \n",
      "Image sizes 224 train, 224 val\n",
      "Using 0 dataloader workers\n",
      "Logging results to \u001b[1mruns\\detect\\train7\u001b[0m\n",
      "Starting training for 200 epochs...\n",
      "\n",
      "      Epoch    GPU_mem   box_loss   cls_loss   dfl_loss  Instances       Size\n"
     ]
    },
    {
     "name": "stderr",
     "output_type": "stream",
     "text": [
      "      1/200         0G      4.285      3.175      3.149          3        224: 100%|██████████| 113/113 [00:51<00:00,  2.17it/s]\n",
      "                 Class     Images  Instances      Box(P          R      mAP50  mAP50-95): 100%|██████████| 13/13 [00:05<00:00,  2.33it/s]"
     ]
    },
    {
     "name": "stdout",
     "output_type": "stream",
     "text": [
      "                   all        387        609      0.378      0.414      0.331      0.108\n"
     ]
    },
    {
     "name": "stderr",
     "output_type": "stream",
     "text": [
      "\n"
     ]
    },
    {
     "name": "stdout",
     "output_type": "stream",
     "text": [
      "\n",
      "      Epoch    GPU_mem   box_loss   cls_loss   dfl_loss  Instances       Size\n"
     ]
    },
    {
     "name": "stderr",
     "output_type": "stream",
     "text": [
      "      2/200         0G      2.479       1.54      1.822          3        224: 100%|██████████| 113/113 [00:49<00:00,  2.26it/s]\n",
      "                 Class     Images  Instances      Box(P          R      mAP50  mAP50-95): 100%|██████████| 13/13 [00:05<00:00,  2.33it/s]"
     ]
    },
    {
     "name": "stdout",
     "output_type": "stream",
     "text": [
      "                   all        387        609      0.599      0.529       0.49      0.195\n"
     ]
    },
    {
     "name": "stderr",
     "output_type": "stream",
     "text": [
      "\n"
     ]
    },
    {
     "name": "stdout",
     "output_type": "stream",
     "text": [
      "\n",
      "      Epoch    GPU_mem   box_loss   cls_loss   dfl_loss  Instances       Size\n"
     ]
    },
    {
     "name": "stderr",
     "output_type": "stream",
     "text": [
      "      3/200         0G      2.365      1.366      1.669          2        224: 100%|██████████| 113/113 [00:49<00:00,  2.29it/s]\n",
      "                 Class     Images  Instances      Box(P          R      mAP50  mAP50-95): 100%|██████████| 13/13 [00:05<00:00,  2.36it/s]"
     ]
    },
    {
     "name": "stdout",
     "output_type": "stream",
     "text": [
      "                   all        387        609        0.8      0.624      0.653       0.26\n"
     ]
    },
    {
     "name": "stderr",
     "output_type": "stream",
     "text": [
      "\n"
     ]
    },
    {
     "name": "stdout",
     "output_type": "stream",
     "text": [
      "\n",
      "      Epoch    GPU_mem   box_loss   cls_loss   dfl_loss  Instances       Size\n"
     ]
    },
    {
     "name": "stderr",
     "output_type": "stream",
     "text": [
      "      4/200         0G      2.301      1.289       1.61          1        224: 100%|██████████| 113/113 [00:49<00:00,  2.29it/s]\n",
      "                 Class     Images  Instances      Box(P          R      mAP50  mAP50-95): 100%|██████████| 13/13 [00:05<00:00,  2.34it/s]"
     ]
    },
    {
     "name": "stdout",
     "output_type": "stream",
     "text": [
      "                   all        387        609      0.752      0.567      0.609      0.208\n"
     ]
    },
    {
     "name": "stderr",
     "output_type": "stream",
     "text": [
      "\n"
     ]
    },
    {
     "name": "stdout",
     "output_type": "stream",
     "text": [
      "\n",
      "      Epoch    GPU_mem   box_loss   cls_loss   dfl_loss  Instances       Size\n"
     ]
    },
    {
     "name": "stderr",
     "output_type": "stream",
     "text": [
      "      5/200         0G      2.235      1.238      1.558          5        224: 100%|██████████| 113/113 [00:49<00:00,  2.30it/s]\n",
      "                 Class     Images  Instances      Box(P          R      mAP50  mAP50-95): 100%|██████████| 13/13 [00:05<00:00,  2.36it/s]"
     ]
    },
    {
     "name": "stdout",
     "output_type": "stream",
     "text": [
      "                   all        387        609      0.878      0.568      0.656      0.308\n"
     ]
    },
    {
     "name": "stderr",
     "output_type": "stream",
     "text": [
      "\n"
     ]
    },
    {
     "name": "stdout",
     "output_type": "stream",
     "text": [
      "\n",
      "      Epoch    GPU_mem   box_loss   cls_loss   dfl_loss  Instances       Size\n"
     ]
    },
    {
     "name": "stderr",
     "output_type": "stream",
     "text": [
      "      6/200         0G      2.184      1.204      1.529          7        224: 100%|██████████| 113/113 [00:49<00:00,  2.30it/s]\n",
      "                 Class     Images  Instances      Box(P          R      mAP50  mAP50-95): 100%|██████████| 13/13 [00:05<00:00,  2.35it/s]"
     ]
    },
    {
     "name": "stdout",
     "output_type": "stream",
     "text": [
      "                   all        387        609      0.896      0.634      0.698      0.286\n"
     ]
    },
    {
     "name": "stderr",
     "output_type": "stream",
     "text": [
      "\n"
     ]
    },
    {
     "name": "stdout",
     "output_type": "stream",
     "text": [
      "\n",
      "      Epoch    GPU_mem   box_loss   cls_loss   dfl_loss  Instances       Size\n"
     ]
    },
    {
     "name": "stderr",
     "output_type": "stream",
     "text": [
      "      7/200         0G       2.16      1.197      1.519          2        224: 100%|██████████| 113/113 [00:48<00:00,  2.32it/s]\n",
      "                 Class     Images  Instances      Box(P          R      mAP50  mAP50-95): 100%|██████████| 13/13 [00:05<00:00,  2.44it/s]"
     ]
    },
    {
     "name": "stdout",
     "output_type": "stream",
     "text": [
      "                   all        387        609      0.919      0.615      0.703      0.315\n"
     ]
    },
    {
     "name": "stderr",
     "output_type": "stream",
     "text": [
      "\n"
     ]
    },
    {
     "name": "stdout",
     "output_type": "stream",
     "text": [
      "\n",
      "      Epoch    GPU_mem   box_loss   cls_loss   dfl_loss  Instances       Size\n"
     ]
    },
    {
     "name": "stderr",
     "output_type": "stream",
     "text": [
      "      8/200         0G      2.067      1.199      1.453          0        224: 100%|██████████| 113/113 [00:47<00:00,  2.40it/s]\n",
      "                 Class     Images  Instances      Box(P          R      mAP50  mAP50-95): 100%|██████████| 13/13 [00:05<00:00,  2.44it/s]"
     ]
    },
    {
     "name": "stdout",
     "output_type": "stream",
     "text": [
      "                   all        387        609      0.715      0.523      0.541      0.158\n"
     ]
    },
    {
     "name": "stderr",
     "output_type": "stream",
     "text": [
      "\n"
     ]
    },
    {
     "name": "stdout",
     "output_type": "stream",
     "text": [
      "\n",
      "      Epoch    GPU_mem   box_loss   cls_loss   dfl_loss  Instances       Size\n"
     ]
    },
    {
     "name": "stderr",
     "output_type": "stream",
     "text": [
      "      9/200         0G      2.084      1.196      1.458          4        224: 100%|██████████| 113/113 [00:47<00:00,  2.37it/s]\n",
      "                 Class     Images  Instances      Box(P          R      mAP50  mAP50-95): 100%|██████████| 13/13 [00:05<00:00,  2.35it/s]"
     ]
    },
    {
     "name": "stdout",
     "output_type": "stream",
     "text": [
      "                   all        387        609      0.894      0.593      0.664      0.243\n"
     ]
    },
    {
     "name": "stderr",
     "output_type": "stream",
     "text": [
      "\n"
     ]
    },
    {
     "name": "stdout",
     "output_type": "stream",
     "text": [
      "\n",
      "      Epoch    GPU_mem   box_loss   cls_loss   dfl_loss  Instances       Size\n"
     ]
    },
    {
     "name": "stderr",
     "output_type": "stream",
     "text": [
      "     10/200         0G      2.043      1.148       1.43          3        224: 100%|██████████| 113/113 [00:49<00:00,  2.29it/s]\n",
      "                 Class     Images  Instances      Box(P          R      mAP50  mAP50-95): 100%|██████████| 13/13 [00:05<00:00,  2.34it/s]"
     ]
    },
    {
     "name": "stdout",
     "output_type": "stream",
     "text": [
      "                   all        387        609      0.872       0.64      0.719      0.298\n"
     ]
    },
    {
     "name": "stderr",
     "output_type": "stream",
     "text": [
      "\n"
     ]
    },
    {
     "name": "stdout",
     "output_type": "stream",
     "text": [
      "\n",
      "      Epoch    GPU_mem   box_loss   cls_loss   dfl_loss  Instances       Size\n"
     ]
    },
    {
     "name": "stderr",
     "output_type": "stream",
     "text": [
      "     11/200         0G      2.061      1.145      1.431          3        224: 100%|██████████| 113/113 [00:49<00:00,  2.29it/s]\n",
      "                 Class     Images  Instances      Box(P          R      mAP50  mAP50-95): 100%|██████████| 13/13 [00:05<00:00,  2.36it/s]"
     ]
    },
    {
     "name": "stdout",
     "output_type": "stream",
     "text": [
      "                   all        387        609       0.84      0.591      0.665      0.232\n"
     ]
    },
    {
     "name": "stderr",
     "output_type": "stream",
     "text": [
      "\n"
     ]
    },
    {
     "name": "stdout",
     "output_type": "stream",
     "text": [
      "\n",
      "      Epoch    GPU_mem   box_loss   cls_loss   dfl_loss  Instances       Size\n"
     ]
    },
    {
     "name": "stderr",
     "output_type": "stream",
     "text": [
      "     12/200         0G      2.016      1.134      1.419          6        224: 100%|██████████| 113/113 [00:49<00:00,  2.30it/s]\n",
      "                 Class     Images  Instances      Box(P          R      mAP50  mAP50-95): 100%|██████████| 13/13 [00:05<00:00,  2.32it/s]"
     ]
    },
    {
     "name": "stdout",
     "output_type": "stream",
     "text": [
      "                   all        387        609      0.862      0.601      0.706      0.333\n"
     ]
    },
    {
     "name": "stderr",
     "output_type": "stream",
     "text": [
      "\n"
     ]
    },
    {
     "name": "stdout",
     "output_type": "stream",
     "text": [
      "\n",
      "      Epoch    GPU_mem   box_loss   cls_loss   dfl_loss  Instances       Size\n"
     ]
    },
    {
     "name": "stderr",
     "output_type": "stream",
     "text": [
      "     13/200         0G      1.971      1.115      1.396          2        224: 100%|██████████| 113/113 [00:49<00:00,  2.29it/s]\n",
      "                 Class     Images  Instances      Box(P          R      mAP50  mAP50-95): 100%|██████████| 13/13 [00:05<00:00,  2.34it/s]"
     ]
    },
    {
     "name": "stdout",
     "output_type": "stream",
     "text": [
      "                   all        387        609      0.839      0.617      0.628      0.216\n"
     ]
    },
    {
     "name": "stderr",
     "output_type": "stream",
     "text": [
      "\n"
     ]
    },
    {
     "name": "stdout",
     "output_type": "stream",
     "text": [
      "\n",
      "      Epoch    GPU_mem   box_loss   cls_loss   dfl_loss  Instances       Size\n"
     ]
    },
    {
     "name": "stderr",
     "output_type": "stream",
     "text": [
      "     14/200         0G      1.947      1.112      1.378          6        224: 100%|██████████| 113/113 [00:49<00:00,  2.29it/s]\n",
      "                 Class     Images  Instances      Box(P          R      mAP50  mAP50-95): 100%|██████████| 13/13 [00:05<00:00,  2.34it/s]"
     ]
    },
    {
     "name": "stdout",
     "output_type": "stream",
     "text": [
      "                   all        387        609      0.839      0.634      0.687      0.279\n"
     ]
    },
    {
     "name": "stderr",
     "output_type": "stream",
     "text": [
      "\n"
     ]
    },
    {
     "name": "stdout",
     "output_type": "stream",
     "text": [
      "\n",
      "      Epoch    GPU_mem   box_loss   cls_loss   dfl_loss  Instances       Size\n"
     ]
    },
    {
     "name": "stderr",
     "output_type": "stream",
     "text": [
      "     15/200         0G      1.917      1.066      1.361          6        224: 100%|██████████| 113/113 [00:49<00:00,  2.29it/s]\n",
      "                 Class     Images  Instances      Box(P          R      mAP50  mAP50-95): 100%|██████████| 13/13 [00:05<00:00,  2.34it/s]"
     ]
    },
    {
     "name": "stdout",
     "output_type": "stream",
     "text": [
      "                   all        387        609      0.884      0.653      0.709      0.321\n"
     ]
    },
    {
     "name": "stderr",
     "output_type": "stream",
     "text": [
      "\n"
     ]
    },
    {
     "name": "stdout",
     "output_type": "stream",
     "text": [
      "\n",
      "      Epoch    GPU_mem   box_loss   cls_loss   dfl_loss  Instances       Size\n"
     ]
    },
    {
     "name": "stderr",
     "output_type": "stream",
     "text": [
      "     16/200         0G      1.914      1.066      1.353          3        224: 100%|██████████| 113/113 [00:49<00:00,  2.29it/s]\n",
      "                 Class     Images  Instances      Box(P          R      mAP50  mAP50-95): 100%|██████████| 13/13 [00:05<00:00,  2.34it/s]"
     ]
    },
    {
     "name": "stdout",
     "output_type": "stream",
     "text": [
      "                   all        387        609      0.878      0.673      0.741      0.348\n"
     ]
    },
    {
     "name": "stderr",
     "output_type": "stream",
     "text": [
      "\n"
     ]
    },
    {
     "name": "stdout",
     "output_type": "stream",
     "text": [
      "\n",
      "      Epoch    GPU_mem   box_loss   cls_loss   dfl_loss  Instances       Size\n"
     ]
    },
    {
     "name": "stderr",
     "output_type": "stream",
     "text": [
      "     17/200         0G      1.929      1.083      1.361          4        224: 100%|██████████| 113/113 [00:49<00:00,  2.28it/s]\n",
      "                 Class     Images  Instances      Box(P          R      mAP50  mAP50-95): 100%|██████████| 13/13 [00:05<00:00,  2.34it/s]"
     ]
    },
    {
     "name": "stdout",
     "output_type": "stream",
     "text": [
      "                   all        387        609      0.872      0.624      0.719      0.327\n"
     ]
    },
    {
     "name": "stderr",
     "output_type": "stream",
     "text": [
      "\n"
     ]
    },
    {
     "name": "stdout",
     "output_type": "stream",
     "text": [
      "\n",
      "      Epoch    GPU_mem   box_loss   cls_loss   dfl_loss  Instances       Size\n"
     ]
    },
    {
     "name": "stderr",
     "output_type": "stream",
     "text": [
      "     18/200         0G      1.891      1.064      1.346         11        224: 100%|██████████| 113/113 [00:49<00:00,  2.28it/s]\n",
      "                 Class     Images  Instances      Box(P          R      mAP50  mAP50-95): 100%|██████████| 13/13 [00:05<00:00,  2.34it/s]"
     ]
    },
    {
     "name": "stdout",
     "output_type": "stream",
     "text": [
      "                   all        387        609      0.787      0.621      0.618      0.211\n"
     ]
    },
    {
     "name": "stderr",
     "output_type": "stream",
     "text": [
      "\n"
     ]
    },
    {
     "name": "stdout",
     "output_type": "stream",
     "text": [
      "\n",
      "      Epoch    GPU_mem   box_loss   cls_loss   dfl_loss  Instances       Size\n"
     ]
    },
    {
     "name": "stderr",
     "output_type": "stream",
     "text": [
      "     19/200         0G      1.864      1.049       1.33          9        224: 100%|██████████| 113/113 [00:49<00:00,  2.28it/s]\n",
      "                 Class     Images  Instances      Box(P          R      mAP50  mAP50-95): 100%|██████████| 13/13 [00:05<00:00,  2.33it/s]"
     ]
    },
    {
     "name": "stdout",
     "output_type": "stream",
     "text": [
      "                   all        387        609      0.859       0.64      0.669      0.242\n"
     ]
    },
    {
     "name": "stderr",
     "output_type": "stream",
     "text": [
      "\n"
     ]
    },
    {
     "name": "stdout",
     "output_type": "stream",
     "text": [
      "\n",
      "      Epoch    GPU_mem   box_loss   cls_loss   dfl_loss  Instances       Size\n"
     ]
    },
    {
     "name": "stderr",
     "output_type": "stream",
     "text": [
      "     20/200         0G      1.888      1.062      1.342          5        224: 100%|██████████| 113/113 [00:49<00:00,  2.29it/s]\n",
      "                 Class     Images  Instances      Box(P          R      mAP50  mAP50-95): 100%|██████████| 13/13 [00:05<00:00,  2.34it/s]"
     ]
    },
    {
     "name": "stdout",
     "output_type": "stream",
     "text": [
      "                   all        387        609      0.862      0.624      0.692       0.25\n"
     ]
    },
    {
     "name": "stderr",
     "output_type": "stream",
     "text": [
      "\n"
     ]
    },
    {
     "name": "stdout",
     "output_type": "stream",
     "text": [
      "\n",
      "      Epoch    GPU_mem   box_loss   cls_loss   dfl_loss  Instances       Size\n"
     ]
    },
    {
     "name": "stderr",
     "output_type": "stream",
     "text": [
      "     21/200         0G      1.898       1.07       1.34          2        224: 100%|██████████| 113/113 [00:49<00:00,  2.29it/s]\n",
      "                 Class     Images  Instances      Box(P          R      mAP50  mAP50-95): 100%|██████████| 13/13 [00:05<00:00,  2.36it/s]"
     ]
    },
    {
     "name": "stdout",
     "output_type": "stream",
     "text": [
      "                   all        387        609      0.899      0.629      0.731      0.377\n"
     ]
    },
    {
     "name": "stderr",
     "output_type": "stream",
     "text": [
      "\n"
     ]
    },
    {
     "name": "stdout",
     "output_type": "stream",
     "text": [
      "\n",
      "      Epoch    GPU_mem   box_loss   cls_loss   dfl_loss  Instances       Size\n"
     ]
    },
    {
     "name": "stderr",
     "output_type": "stream",
     "text": [
      "     22/200         0G      1.847      1.057      1.314          3        224: 100%|██████████| 113/113 [00:49<00:00,  2.29it/s]\n",
      "                 Class     Images  Instances      Box(P          R      mAP50  mAP50-95): 100%|██████████| 13/13 [00:05<00:00,  2.34it/s]"
     ]
    },
    {
     "name": "stdout",
     "output_type": "stream",
     "text": [
      "                   all        387        609      0.895      0.701      0.742      0.335\n"
     ]
    },
    {
     "name": "stderr",
     "output_type": "stream",
     "text": [
      "\n"
     ]
    },
    {
     "name": "stdout",
     "output_type": "stream",
     "text": [
      "\n",
      "      Epoch    GPU_mem   box_loss   cls_loss   dfl_loss  Instances       Size\n"
     ]
    },
    {
     "name": "stderr",
     "output_type": "stream",
     "text": [
      "     23/200         0G      1.794      1.008      1.308          6        224: 100%|██████████| 113/113 [00:49<00:00,  2.29it/s]\n",
      "                 Class     Images  Instances      Box(P          R      mAP50  mAP50-95): 100%|██████████| 13/13 [00:05<00:00,  2.35it/s]"
     ]
    },
    {
     "name": "stdout",
     "output_type": "stream",
     "text": [
      "                   all        387        609      0.888      0.647      0.725        0.3\n"
     ]
    },
    {
     "name": "stderr",
     "output_type": "stream",
     "text": [
      "\n"
     ]
    },
    {
     "name": "stdout",
     "output_type": "stream",
     "text": [
      "\n",
      "      Epoch    GPU_mem   box_loss   cls_loss   dfl_loss  Instances       Size\n"
     ]
    },
    {
     "name": "stderr",
     "output_type": "stream",
     "text": [
      "     24/200         0G        1.8      1.018      1.297         10        224: 100%|██████████| 113/113 [00:49<00:00,  2.29it/s]\n",
      "                 Class     Images  Instances      Box(P          R      mAP50  mAP50-95): 100%|██████████| 13/13 [00:05<00:00,  2.34it/s]"
     ]
    },
    {
     "name": "stdout",
     "output_type": "stream",
     "text": [
      "                   all        387        609      0.907      0.657      0.742      0.331\n"
     ]
    },
    {
     "name": "stderr",
     "output_type": "stream",
     "text": [
      "\n"
     ]
    },
    {
     "name": "stdout",
     "output_type": "stream",
     "text": [
      "\n",
      "      Epoch    GPU_mem   box_loss   cls_loss   dfl_loss  Instances       Size\n"
     ]
    },
    {
     "name": "stderr",
     "output_type": "stream",
     "text": [
      "     25/200         0G      1.831      1.039      1.312          7        224: 100%|██████████| 113/113 [00:49<00:00,  2.29it/s]\n",
      "                 Class     Images  Instances      Box(P          R      mAP50  mAP50-95): 100%|██████████| 13/13 [00:05<00:00,  2.35it/s]"
     ]
    },
    {
     "name": "stdout",
     "output_type": "stream",
     "text": [
      "                   all        387        609      0.882      0.677      0.744      0.322\n"
     ]
    },
    {
     "name": "stderr",
     "output_type": "stream",
     "text": [
      "\n"
     ]
    },
    {
     "name": "stdout",
     "output_type": "stream",
     "text": [
      "\n",
      "      Epoch    GPU_mem   box_loss   cls_loss   dfl_loss  Instances       Size\n"
     ]
    },
    {
     "name": "stderr",
     "output_type": "stream",
     "text": [
      "     26/200         0G      1.808      1.018      1.301          2        224: 100%|██████████| 113/113 [00:49<00:00,  2.29it/s]\n",
      "                 Class     Images  Instances      Box(P          R      mAP50  mAP50-95): 100%|██████████| 13/13 [00:05<00:00,  2.33it/s]"
     ]
    },
    {
     "name": "stdout",
     "output_type": "stream",
     "text": [
      "                   all        387        609      0.794      0.614      0.613      0.183\n"
     ]
    },
    {
     "name": "stderr",
     "output_type": "stream",
     "text": [
      "\n"
     ]
    },
    {
     "name": "stdout",
     "output_type": "stream",
     "text": [
      "\n",
      "      Epoch    GPU_mem   box_loss   cls_loss   dfl_loss  Instances       Size\n"
     ]
    },
    {
     "name": "stderr",
     "output_type": "stream",
     "text": [
      "     27/200         0G      1.765     0.9881      1.293          7        224: 100%|██████████| 113/113 [00:49<00:00,  2.29it/s]\n",
      "                 Class     Images  Instances      Box(P          R      mAP50  mAP50-95): 100%|██████████| 13/13 [00:05<00:00,  2.34it/s]"
     ]
    },
    {
     "name": "stdout",
     "output_type": "stream",
     "text": [
      "                   all        387        609      0.908      0.681      0.741      0.306\n"
     ]
    },
    {
     "name": "stderr",
     "output_type": "stream",
     "text": [
      "\n"
     ]
    },
    {
     "name": "stdout",
     "output_type": "stream",
     "text": [
      "\n",
      "      Epoch    GPU_mem   box_loss   cls_loss   dfl_loss  Instances       Size\n"
     ]
    },
    {
     "name": "stderr",
     "output_type": "stream",
     "text": [
      "     28/200         0G      1.766     0.9975      1.284          3        224: 100%|██████████| 113/113 [00:47<00:00,  2.39it/s]\n",
      "                 Class     Images  Instances      Box(P          R      mAP50  mAP50-95): 100%|██████████| 13/13 [00:05<00:00,  2.44it/s]"
     ]
    },
    {
     "name": "stdout",
     "output_type": "stream",
     "text": [
      "                   all        387        609      0.842      0.665      0.671      0.241\n"
     ]
    },
    {
     "name": "stderr",
     "output_type": "stream",
     "text": [
      "\n"
     ]
    },
    {
     "name": "stdout",
     "output_type": "stream",
     "text": [
      "\n",
      "      Epoch    GPU_mem   box_loss   cls_loss   dfl_loss  Instances       Size\n"
     ]
    },
    {
     "name": "stderr",
     "output_type": "stream",
     "text": [
      "     29/200         0G      1.769     0.9971      1.286          8        224: 100%|██████████| 113/113 [00:47<00:00,  2.40it/s]\n",
      "                 Class     Images  Instances      Box(P          R      mAP50  mAP50-95): 100%|██████████| 13/13 [00:05<00:00,  2.45it/s]"
     ]
    },
    {
     "name": "stdout",
     "output_type": "stream",
     "text": [
      "                   all        387        609      0.883      0.601      0.691      0.242\n"
     ]
    },
    {
     "name": "stderr",
     "output_type": "stream",
     "text": [
      "\n"
     ]
    },
    {
     "name": "stdout",
     "output_type": "stream",
     "text": [
      "\n",
      "      Epoch    GPU_mem   box_loss   cls_loss   dfl_loss  Instances       Size\n"
     ]
    },
    {
     "name": "stderr",
     "output_type": "stream",
     "text": [
      "     30/200         0G      1.757      1.012      1.286          4        224: 100%|██████████| 113/113 [00:47<00:00,  2.40it/s]\n",
      "                 Class     Images  Instances      Box(P          R      mAP50  mAP50-95): 100%|██████████| 13/13 [00:05<00:00,  2.41it/s]"
     ]
    },
    {
     "name": "stdout",
     "output_type": "stream",
     "text": [
      "                   all        387        609      0.845      0.663      0.718      0.268\n"
     ]
    },
    {
     "name": "stderr",
     "output_type": "stream",
     "text": [
      "\n"
     ]
    },
    {
     "name": "stdout",
     "output_type": "stream",
     "text": [
      "\n",
      "      Epoch    GPU_mem   box_loss   cls_loss   dfl_loss  Instances       Size\n"
     ]
    },
    {
     "name": "stderr",
     "output_type": "stream",
     "text": [
      "     31/200         0G      1.745      1.005      1.274          3        224: 100%|██████████| 113/113 [00:47<00:00,  2.37it/s]\n",
      "                 Class     Images  Instances      Box(P          R      mAP50  mAP50-95): 100%|██████████| 13/13 [00:05<00:00,  2.45it/s]"
     ]
    },
    {
     "name": "stdout",
     "output_type": "stream",
     "text": [
      "                   all        387        609      0.871      0.667      0.711      0.263\n"
     ]
    },
    {
     "name": "stderr",
     "output_type": "stream",
     "text": [
      "\n"
     ]
    },
    {
     "name": "stdout",
     "output_type": "stream",
     "text": [
      "\n",
      "      Epoch    GPU_mem   box_loss   cls_loss   dfl_loss  Instances       Size\n"
     ]
    },
    {
     "name": "stderr",
     "output_type": "stream",
     "text": [
      "     32/200         0G      1.727     0.9636      1.277          9        224: 100%|██████████| 113/113 [00:47<00:00,  2.40it/s]\n",
      "                 Class     Images  Instances      Box(P          R      mAP50  mAP50-95): 100%|██████████| 13/13 [00:05<00:00,  2.44it/s]"
     ]
    },
    {
     "name": "stdout",
     "output_type": "stream",
     "text": [
      "                   all        387        609      0.895      0.698      0.741      0.303\n"
     ]
    },
    {
     "name": "stderr",
     "output_type": "stream",
     "text": [
      "\n"
     ]
    },
    {
     "name": "stdout",
     "output_type": "stream",
     "text": [
      "\n",
      "      Epoch    GPU_mem   box_loss   cls_loss   dfl_loss  Instances       Size\n"
     ]
    },
    {
     "name": "stderr",
     "output_type": "stream",
     "text": [
      "     33/200         0G      1.748     0.9692      1.288          5        224: 100%|██████████| 113/113 [00:48<00:00,  2.34it/s]\n",
      "                 Class     Images  Instances      Box(P          R      mAP50  mAP50-95): 100%|██████████| 13/13 [00:05<00:00,  2.37it/s]"
     ]
    },
    {
     "name": "stdout",
     "output_type": "stream",
     "text": [
      "                   all        387        609      0.672      0.558      0.478      0.105\n"
     ]
    },
    {
     "name": "stderr",
     "output_type": "stream",
     "text": [
      "\n"
     ]
    },
    {
     "name": "stdout",
     "output_type": "stream",
     "text": [
      "\n",
      "      Epoch    GPU_mem   box_loss   cls_loss   dfl_loss  Instances       Size\n"
     ]
    },
    {
     "name": "stderr",
     "output_type": "stream",
     "text": [
      "     34/200         0G      1.721     0.9666      1.257          2        224: 100%|██████████| 113/113 [00:48<00:00,  2.32it/s]\n",
      "                 Class     Images  Instances      Box(P          R      mAP50  mAP50-95): 100%|██████████| 13/13 [00:05<00:00,  2.44it/s]"
     ]
    },
    {
     "name": "stdout",
     "output_type": "stream",
     "text": [
      "                   all        387        609      0.889      0.665      0.727        0.3\n"
     ]
    },
    {
     "name": "stderr",
     "output_type": "stream",
     "text": [
      "\n"
     ]
    },
    {
     "name": "stdout",
     "output_type": "stream",
     "text": [
      "\n",
      "      Epoch    GPU_mem   box_loss   cls_loss   dfl_loss  Instances       Size\n"
     ]
    },
    {
     "name": "stderr",
     "output_type": "stream",
     "text": [
      "     35/200         0G       1.72     0.9643      1.265          8        224: 100%|██████████| 113/113 [00:47<00:00,  2.39it/s]\n",
      "                 Class     Images  Instances      Box(P          R      mAP50  mAP50-95): 100%|██████████| 13/13 [00:05<00:00,  2.41it/s]"
     ]
    },
    {
     "name": "stdout",
     "output_type": "stream",
     "text": [
      "                   all        387        609      0.889      0.709      0.762      0.331\n"
     ]
    },
    {
     "name": "stderr",
     "output_type": "stream",
     "text": [
      "\n"
     ]
    },
    {
     "name": "stdout",
     "output_type": "stream",
     "text": [
      "\n",
      "      Epoch    GPU_mem   box_loss   cls_loss   dfl_loss  Instances       Size\n"
     ]
    },
    {
     "name": "stderr",
     "output_type": "stream",
     "text": [
      "     36/200         0G      1.687     0.9704      1.246          2        224: 100%|██████████| 113/113 [00:49<00:00,  2.29it/s]\n",
      "                 Class     Images  Instances      Box(P          R      mAP50  mAP50-95): 100%|██████████| 13/13 [00:05<00:00,  2.34it/s]"
     ]
    },
    {
     "name": "stdout",
     "output_type": "stream",
     "text": [
      "                   all        387        609      0.833      0.671      0.676      0.234\n"
     ]
    },
    {
     "name": "stderr",
     "output_type": "stream",
     "text": [
      "\n"
     ]
    },
    {
     "name": "stdout",
     "output_type": "stream",
     "text": [
      "\n",
      "      Epoch    GPU_mem   box_loss   cls_loss   dfl_loss  Instances       Size\n"
     ]
    },
    {
     "name": "stderr",
     "output_type": "stream",
     "text": [
      "     37/200         0G      1.727     0.9571      1.271          5        224: 100%|██████████| 113/113 [00:49<00:00,  2.28it/s]\n",
      "                 Class     Images  Instances      Box(P          R      mAP50  mAP50-95): 100%|██████████| 13/13 [00:05<00:00,  2.37it/s]"
     ]
    },
    {
     "name": "stdout",
     "output_type": "stream",
     "text": [
      "                   all        387        609      0.883      0.681      0.721      0.279\n"
     ]
    },
    {
     "name": "stderr",
     "output_type": "stream",
     "text": [
      "\n"
     ]
    },
    {
     "name": "stdout",
     "output_type": "stream",
     "text": [
      "\n",
      "      Epoch    GPU_mem   box_loss   cls_loss   dfl_loss  Instances       Size\n"
     ]
    },
    {
     "name": "stderr",
     "output_type": "stream",
     "text": [
      "     38/200         0G      1.723     0.9681      1.254          4        224: 100%|██████████| 113/113 [00:49<00:00,  2.30it/s]\n",
      "                 Class     Images  Instances      Box(P          R      mAP50  mAP50-95): 100%|██████████| 13/13 [00:05<00:00,  2.35it/s]"
     ]
    },
    {
     "name": "stdout",
     "output_type": "stream",
     "text": [
      "                   all        387        609      0.904      0.697      0.763      0.338\n"
     ]
    },
    {
     "name": "stderr",
     "output_type": "stream",
     "text": [
      "\n"
     ]
    },
    {
     "name": "stdout",
     "output_type": "stream",
     "text": [
      "\n",
      "      Epoch    GPU_mem   box_loss   cls_loss   dfl_loss  Instances       Size\n"
     ]
    },
    {
     "name": "stderr",
     "output_type": "stream",
     "text": [
      "     39/200         0G      1.683     0.9317      1.255          4        224: 100%|██████████| 113/113 [00:49<00:00,  2.29it/s]\n",
      "                 Class     Images  Instances      Box(P          R      mAP50  mAP50-95): 100%|██████████| 13/13 [00:05<00:00,  2.36it/s]"
     ]
    },
    {
     "name": "stdout",
     "output_type": "stream",
     "text": [
      "                   all        387        609      0.888      0.693      0.747      0.306\n"
     ]
    },
    {
     "name": "stderr",
     "output_type": "stream",
     "text": [
      "\n"
     ]
    },
    {
     "name": "stdout",
     "output_type": "stream",
     "text": [
      "\n",
      "      Epoch    GPU_mem   box_loss   cls_loss   dfl_loss  Instances       Size\n"
     ]
    },
    {
     "name": "stderr",
     "output_type": "stream",
     "text": [
      "     40/200         0G       1.67     0.9516      1.242          5        224: 100%|██████████| 113/113 [00:49<00:00,  2.29it/s]\n",
      "                 Class     Images  Instances      Box(P          R      mAP50  mAP50-95): 100%|██████████| 13/13 [00:05<00:00,  2.35it/s]"
     ]
    },
    {
     "name": "stdout",
     "output_type": "stream",
     "text": [
      "                   all        387        609      0.902      0.713      0.782      0.345\n"
     ]
    },
    {
     "name": "stderr",
     "output_type": "stream",
     "text": [
      "\n"
     ]
    },
    {
     "name": "stdout",
     "output_type": "stream",
     "text": [
      "\n",
      "      Epoch    GPU_mem   box_loss   cls_loss   dfl_loss  Instances       Size\n"
     ]
    },
    {
     "name": "stderr",
     "output_type": "stream",
     "text": [
      "     41/200         0G      1.685     0.9405      1.249          4        224: 100%|██████████| 113/113 [00:49<00:00,  2.29it/s]\n",
      "                 Class     Images  Instances      Box(P          R      mAP50  mAP50-95): 100%|██████████| 13/13 [00:05<00:00,  2.35it/s]"
     ]
    },
    {
     "name": "stdout",
     "output_type": "stream",
     "text": [
      "                   all        387        609      0.894      0.675      0.742      0.293\n"
     ]
    },
    {
     "name": "stderr",
     "output_type": "stream",
     "text": [
      "\n"
     ]
    },
    {
     "name": "stdout",
     "output_type": "stream",
     "text": [
      "\n",
      "      Epoch    GPU_mem   box_loss   cls_loss   dfl_loss  Instances       Size\n"
     ]
    },
    {
     "name": "stderr",
     "output_type": "stream",
     "text": [
      "     42/200         0G      1.657     0.9273      1.247          8        224: 100%|██████████| 113/113 [00:47<00:00,  2.38it/s]\n",
      "                 Class     Images  Instances      Box(P          R      mAP50  mAP50-95): 100%|██████████| 13/13 [00:05<00:00,  2.44it/s]"
     ]
    },
    {
     "name": "stdout",
     "output_type": "stream",
     "text": [
      "                   all        387        609       0.87      0.703      0.752      0.303\n"
     ]
    },
    {
     "name": "stderr",
     "output_type": "stream",
     "text": [
      "\n"
     ]
    },
    {
     "name": "stdout",
     "output_type": "stream",
     "text": [
      "\n",
      "      Epoch    GPU_mem   box_loss   cls_loss   dfl_loss  Instances       Size\n"
     ]
    },
    {
     "name": "stderr",
     "output_type": "stream",
     "text": [
      "     43/200         0G      1.666     0.9349      1.242          7        224: 100%|██████████| 113/113 [00:46<00:00,  2.41it/s]\n",
      "                 Class     Images  Instances      Box(P          R      mAP50  mAP50-95): 100%|██████████| 13/13 [00:05<00:00,  2.41it/s]"
     ]
    },
    {
     "name": "stdout",
     "output_type": "stream",
     "text": [
      "                   all        387        609      0.764      0.654      0.622      0.203\n"
     ]
    },
    {
     "name": "stderr",
     "output_type": "stream",
     "text": [
      "\n"
     ]
    },
    {
     "name": "stdout",
     "output_type": "stream",
     "text": [
      "\n",
      "      Epoch    GPU_mem   box_loss   cls_loss   dfl_loss  Instances       Size\n"
     ]
    },
    {
     "name": "stderr",
     "output_type": "stream",
     "text": [
      "     44/200         0G      1.655     0.9307      1.232          6        224: 100%|██████████| 113/113 [00:46<00:00,  2.41it/s]\n",
      "                 Class     Images  Instances      Box(P          R      mAP50  mAP50-95): 100%|██████████| 13/13 [00:05<00:00,  2.40it/s]"
     ]
    },
    {
     "name": "stdout",
     "output_type": "stream",
     "text": [
      "                   all        387        609      0.893      0.683      0.756      0.321\n"
     ]
    },
    {
     "name": "stderr",
     "output_type": "stream",
     "text": [
      "\n"
     ]
    },
    {
     "name": "stdout",
     "output_type": "stream",
     "text": [
      "\n",
      "      Epoch    GPU_mem   box_loss   cls_loss   dfl_loss  Instances       Size\n"
     ]
    },
    {
     "name": "stderr",
     "output_type": "stream",
     "text": [
      "     45/200         0G      1.665     0.9401      1.248          8        224: 100%|██████████| 113/113 [00:47<00:00,  2.40it/s]\n",
      "                 Class     Images  Instances      Box(P          R      mAP50  mAP50-95): 100%|██████████| 13/13 [00:05<00:00,  2.44it/s]"
     ]
    },
    {
     "name": "stdout",
     "output_type": "stream",
     "text": [
      "                   all        387        609      0.917      0.728      0.785      0.358\n"
     ]
    },
    {
     "name": "stderr",
     "output_type": "stream",
     "text": [
      "\n"
     ]
    },
    {
     "name": "stdout",
     "output_type": "stream",
     "text": [
      "\n",
      "      Epoch    GPU_mem   box_loss   cls_loss   dfl_loss  Instances       Size\n"
     ]
    },
    {
     "name": "stderr",
     "output_type": "stream",
     "text": [
      "     46/200         0G      1.624     0.9372      1.221          0        224: 100%|██████████| 113/113 [00:46<00:00,  2.41it/s]\n",
      "                 Class     Images  Instances      Box(P          R      mAP50  mAP50-95): 100%|██████████| 13/13 [00:05<00:00,  2.44it/s]"
     ]
    },
    {
     "name": "stdout",
     "output_type": "stream",
     "text": [
      "                   all        387        609      0.867      0.696      0.744      0.276\n"
     ]
    },
    {
     "name": "stderr",
     "output_type": "stream",
     "text": [
      "\n"
     ]
    },
    {
     "name": "stdout",
     "output_type": "stream",
     "text": [
      "\n",
      "      Epoch    GPU_mem   box_loss   cls_loss   dfl_loss  Instances       Size\n"
     ]
    },
    {
     "name": "stderr",
     "output_type": "stream",
     "text": [
      "     47/200         0G      1.652     0.9301      1.256          1        224: 100%|██████████| 113/113 [00:48<00:00,  2.32it/s]\n",
      "                 Class     Images  Instances      Box(P          R      mAP50  mAP50-95): 100%|██████████| 13/13 [00:05<00:00,  2.34it/s]"
     ]
    },
    {
     "name": "stdout",
     "output_type": "stream",
     "text": [
      "                   all        387        609      0.825      0.683       0.69      0.244\n"
     ]
    },
    {
     "name": "stderr",
     "output_type": "stream",
     "text": [
      "\n"
     ]
    },
    {
     "name": "stdout",
     "output_type": "stream",
     "text": [
      "\n",
      "      Epoch    GPU_mem   box_loss   cls_loss   dfl_loss  Instances       Size\n"
     ]
    },
    {
     "name": "stderr",
     "output_type": "stream",
     "text": [
      "     48/200         0G      1.642     0.9366      1.229          8        224: 100%|██████████| 113/113 [00:49<00:00,  2.29it/s]\n",
      "                 Class     Images  Instances      Box(P          R      mAP50  mAP50-95): 100%|██████████| 13/13 [00:05<00:00,  2.33it/s]"
     ]
    },
    {
     "name": "stdout",
     "output_type": "stream",
     "text": [
      "                   all        387        609      0.913      0.719       0.78      0.317\n"
     ]
    },
    {
     "name": "stderr",
     "output_type": "stream",
     "text": [
      "\n"
     ]
    },
    {
     "name": "stdout",
     "output_type": "stream",
     "text": [
      "\n",
      "      Epoch    GPU_mem   box_loss   cls_loss   dfl_loss  Instances       Size\n"
     ]
    },
    {
     "name": "stderr",
     "output_type": "stream",
     "text": [
      "     49/200         0G      1.614     0.9048      1.221          3        224: 100%|██████████| 113/113 [00:49<00:00,  2.28it/s]\n",
      "                 Class     Images  Instances      Box(P          R      mAP50  mAP50-95): 100%|██████████| 13/13 [00:05<00:00,  2.36it/s]"
     ]
    },
    {
     "name": "stdout",
     "output_type": "stream",
     "text": [
      "                   all        387        609      0.894      0.716       0.76      0.325\n"
     ]
    },
    {
     "name": "stderr",
     "output_type": "stream",
     "text": [
      "\n"
     ]
    },
    {
     "name": "stdout",
     "output_type": "stream",
     "text": [
      "\n",
      "      Epoch    GPU_mem   box_loss   cls_loss   dfl_loss  Instances       Size\n"
     ]
    },
    {
     "name": "stderr",
     "output_type": "stream",
     "text": [
      "     50/200         0G      1.646     0.9269      1.234          4        224: 100%|██████████| 113/113 [00:49<00:00,  2.28it/s]\n",
      "                 Class     Images  Instances      Box(P          R      mAP50  mAP50-95): 100%|██████████| 13/13 [00:05<00:00,  2.34it/s]"
     ]
    },
    {
     "name": "stdout",
     "output_type": "stream",
     "text": [
      "                   all        387        609      0.932      0.703      0.774      0.335\n"
     ]
    },
    {
     "name": "stderr",
     "output_type": "stream",
     "text": [
      "\n"
     ]
    },
    {
     "name": "stdout",
     "output_type": "stream",
     "text": [
      "\n",
      "      Epoch    GPU_mem   box_loss   cls_loss   dfl_loss  Instances       Size\n"
     ]
    },
    {
     "name": "stderr",
     "output_type": "stream",
     "text": [
      "     51/200         0G      1.653     0.9202      1.234          8        224: 100%|██████████| 113/113 [00:49<00:00,  2.28it/s]\n",
      "                 Class     Images  Instances      Box(P          R      mAP50  mAP50-95): 100%|██████████| 13/13 [00:05<00:00,  2.34it/s]"
     ]
    },
    {
     "name": "stdout",
     "output_type": "stream",
     "text": [
      "                   all        387        609      0.841      0.688      0.692      0.228\n"
     ]
    },
    {
     "name": "stderr",
     "output_type": "stream",
     "text": [
      "\n"
     ]
    },
    {
     "name": "stdout",
     "output_type": "stream",
     "text": [
      "\n",
      "      Epoch    GPU_mem   box_loss   cls_loss   dfl_loss  Instances       Size\n"
     ]
    },
    {
     "name": "stderr",
     "output_type": "stream",
     "text": [
      "     52/200         0G      1.615     0.8988      1.211          7        224: 100%|██████████| 113/113 [00:49<00:00,  2.28it/s]\n",
      "                 Class     Images  Instances      Box(P          R      mAP50  mAP50-95): 100%|██████████| 13/13 [00:05<00:00,  2.33it/s]"
     ]
    },
    {
     "name": "stdout",
     "output_type": "stream",
     "text": [
      "                   all        387        609      0.916      0.716      0.774      0.344\n"
     ]
    },
    {
     "name": "stderr",
     "output_type": "stream",
     "text": [
      "\n"
     ]
    },
    {
     "name": "stdout",
     "output_type": "stream",
     "text": [
      "\n",
      "      Epoch    GPU_mem   box_loss   cls_loss   dfl_loss  Instances       Size\n"
     ]
    },
    {
     "name": "stderr",
     "output_type": "stream",
     "text": [
      "     53/200         0G      1.581     0.9011       1.21          4        224: 100%|██████████| 113/113 [00:49<00:00,  2.28it/s]\n",
      "                 Class     Images  Instances      Box(P          R      mAP50  mAP50-95): 100%|██████████| 13/13 [00:05<00:00,  2.34it/s]"
     ]
    },
    {
     "name": "stdout",
     "output_type": "stream",
     "text": [
      "                   all        387        609      0.903      0.722      0.788      0.352\n"
     ]
    },
    {
     "name": "stderr",
     "output_type": "stream",
     "text": [
      "\n"
     ]
    },
    {
     "name": "stdout",
     "output_type": "stream",
     "text": [
      "\n",
      "      Epoch    GPU_mem   box_loss   cls_loss   dfl_loss  Instances       Size\n"
     ]
    },
    {
     "name": "stderr",
     "output_type": "stream",
     "text": [
      "     54/200         0G      1.647     0.9116      1.228         10        224: 100%|██████████| 113/113 [00:49<00:00,  2.28it/s]\n",
      "                 Class     Images  Instances      Box(P          R      mAP50  mAP50-95): 100%|██████████| 13/13 [00:05<00:00,  2.34it/s]"
     ]
    },
    {
     "name": "stdout",
     "output_type": "stream",
     "text": [
      "                   all        387        609       0.61      0.534      0.497      0.114\n"
     ]
    },
    {
     "name": "stderr",
     "output_type": "stream",
     "text": [
      "\n"
     ]
    },
    {
     "name": "stdout",
     "output_type": "stream",
     "text": [
      "\n",
      "      Epoch    GPU_mem   box_loss   cls_loss   dfl_loss  Instances       Size\n"
     ]
    },
    {
     "name": "stderr",
     "output_type": "stream",
     "text": [
      "     55/200         0G      1.572     0.8929       1.21          5        224: 100%|██████████| 113/113 [00:49<00:00,  2.29it/s]\n",
      "                 Class     Images  Instances      Box(P          R      mAP50  mAP50-95): 100%|██████████| 13/13 [00:05<00:00,  2.34it/s]"
     ]
    },
    {
     "name": "stdout",
     "output_type": "stream",
     "text": [
      "                   all        387        609      0.895      0.698      0.759      0.315\n"
     ]
    },
    {
     "name": "stderr",
     "output_type": "stream",
     "text": [
      "\n"
     ]
    },
    {
     "name": "stdout",
     "output_type": "stream",
     "text": [
      "\n",
      "      Epoch    GPU_mem   box_loss   cls_loss   dfl_loss  Instances       Size\n"
     ]
    },
    {
     "name": "stderr",
     "output_type": "stream",
     "text": [
      "     56/200         0G      1.584     0.8987      1.211          1        224: 100%|██████████| 113/113 [00:49<00:00,  2.29it/s]\n",
      "                 Class     Images  Instances      Box(P          R      mAP50  mAP50-95): 100%|██████████| 13/13 [00:05<00:00,  2.34it/s]"
     ]
    },
    {
     "name": "stdout",
     "output_type": "stream",
     "text": [
      "                   all        387        609      0.907      0.689      0.762       0.31\n"
     ]
    },
    {
     "name": "stderr",
     "output_type": "stream",
     "text": [
      "\n"
     ]
    },
    {
     "name": "stdout",
     "output_type": "stream",
     "text": [
      "\n",
      "      Epoch    GPU_mem   box_loss   cls_loss   dfl_loss  Instances       Size\n"
     ]
    },
    {
     "name": "stderr",
     "output_type": "stream",
     "text": [
      "     57/200         0G       1.61     0.8903      1.227          2        224: 100%|██████████| 113/113 [00:49<00:00,  2.29it/s]\n",
      "                 Class     Images  Instances      Box(P          R      mAP50  mAP50-95): 100%|██████████| 13/13 [00:05<00:00,  2.36it/s]"
     ]
    },
    {
     "name": "stdout",
     "output_type": "stream",
     "text": [
      "                   all        387        609      0.852      0.692      0.718      0.242\n"
     ]
    },
    {
     "name": "stderr",
     "output_type": "stream",
     "text": [
      "\n"
     ]
    },
    {
     "name": "stdout",
     "output_type": "stream",
     "text": [
      "\n",
      "      Epoch    GPU_mem   box_loss   cls_loss   dfl_loss  Instances       Size\n"
     ]
    },
    {
     "name": "stderr",
     "output_type": "stream",
     "text": [
      "     58/200         0G      1.565     0.8779      1.201          3        224: 100%|██████████| 113/113 [00:49<00:00,  2.29it/s]\n",
      "                 Class     Images  Instances      Box(P          R      mAP50  mAP50-95): 100%|██████████| 13/13 [00:05<00:00,  2.35it/s]"
     ]
    },
    {
     "name": "stdout",
     "output_type": "stream",
     "text": [
      "                   all        387        609      0.923      0.703      0.769        0.3\n"
     ]
    },
    {
     "name": "stderr",
     "output_type": "stream",
     "text": [
      "\n"
     ]
    },
    {
     "name": "stdout",
     "output_type": "stream",
     "text": [
      "\n",
      "      Epoch    GPU_mem   box_loss   cls_loss   dfl_loss  Instances       Size\n"
     ]
    },
    {
     "name": "stderr",
     "output_type": "stream",
     "text": [
      "     59/200         0G      1.572     0.8752      1.209          3        224: 100%|██████████| 113/113 [00:47<00:00,  2.38it/s]\n",
      "                 Class     Images  Instances      Box(P          R      mAP50  mAP50-95): 100%|██████████| 13/13 [00:05<00:00,  2.45it/s]"
     ]
    },
    {
     "name": "stdout",
     "output_type": "stream",
     "text": [
      "                   all        387        609      0.882      0.691      0.747       0.29\n"
     ]
    },
    {
     "name": "stderr",
     "output_type": "stream",
     "text": [
      "\n"
     ]
    },
    {
     "name": "stdout",
     "output_type": "stream",
     "text": [
      "\n",
      "      Epoch    GPU_mem   box_loss   cls_loss   dfl_loss  Instances       Size\n"
     ]
    },
    {
     "name": "stderr",
     "output_type": "stream",
     "text": [
      "     60/200         0G      1.576      0.877      1.206          3        224: 100%|██████████| 113/113 [00:47<00:00,  2.40it/s]\n",
      "                 Class     Images  Instances      Box(P          R      mAP50  mAP50-95): 100%|██████████| 13/13 [00:05<00:00,  2.43it/s]"
     ]
    },
    {
     "name": "stdout",
     "output_type": "stream",
     "text": [
      "                   all        387        609      0.919      0.718      0.793      0.367\n"
     ]
    },
    {
     "name": "stderr",
     "output_type": "stream",
     "text": [
      "\n"
     ]
    },
    {
     "name": "stdout",
     "output_type": "stream",
     "text": [
      "\n",
      "      Epoch    GPU_mem   box_loss   cls_loss   dfl_loss  Instances       Size\n"
     ]
    },
    {
     "name": "stderr",
     "output_type": "stream",
     "text": [
      "     61/200         0G      1.552     0.8814      1.202          1        224: 100%|██████████| 113/113 [00:47<00:00,  2.40it/s]\n",
      "                 Class     Images  Instances      Box(P          R      mAP50  mAP50-95): 100%|██████████| 13/13 [00:05<00:00,  2.44it/s]"
     ]
    },
    {
     "name": "stdout",
     "output_type": "stream",
     "text": [
      "                   all        387        609      0.858      0.675      0.703      0.234\n"
     ]
    },
    {
     "name": "stderr",
     "output_type": "stream",
     "text": [
      "\n"
     ]
    },
    {
     "name": "stdout",
     "output_type": "stream",
     "text": [
      "\n",
      "      Epoch    GPU_mem   box_loss   cls_loss   dfl_loss  Instances       Size\n"
     ]
    },
    {
     "name": "stderr",
     "output_type": "stream",
     "text": [
      "     62/200         0G       1.58     0.8593      1.202          6        224: 100%|██████████| 113/113 [00:47<00:00,  2.40it/s]\n",
      "                 Class     Images  Instances      Box(P          R      mAP50  mAP50-95): 100%|██████████| 13/13 [00:05<00:00,  2.45it/s]"
     ]
    },
    {
     "name": "stdout",
     "output_type": "stream",
     "text": [
      "                   all        387        609      0.887      0.678      0.749      0.267\n"
     ]
    },
    {
     "name": "stderr",
     "output_type": "stream",
     "text": [
      "\n"
     ]
    },
    {
     "name": "stdout",
     "output_type": "stream",
     "text": [
      "\n",
      "      Epoch    GPU_mem   box_loss   cls_loss   dfl_loss  Instances       Size\n"
     ]
    },
    {
     "name": "stderr",
     "output_type": "stream",
     "text": [
      "     63/200         0G       1.56     0.8708      1.198          7        224: 100%|██████████| 113/113 [00:47<00:00,  2.40it/s]\n",
      "                 Class     Images  Instances      Box(P          R      mAP50  mAP50-95): 100%|██████████| 13/13 [00:05<00:00,  2.45it/s]"
     ]
    },
    {
     "name": "stdout",
     "output_type": "stream",
     "text": [
      "                   all        387        609      0.917      0.728      0.794       0.36\n"
     ]
    },
    {
     "name": "stderr",
     "output_type": "stream",
     "text": [
      "\n"
     ]
    },
    {
     "name": "stdout",
     "output_type": "stream",
     "text": [
      "\n",
      "      Epoch    GPU_mem   box_loss   cls_loss   dfl_loss  Instances       Size\n"
     ]
    },
    {
     "name": "stderr",
     "output_type": "stream",
     "text": [
      "     64/200         0G      1.532     0.8524      1.183          3        224: 100%|██████████| 113/113 [00:46<00:00,  2.41it/s]\n",
      "                 Class     Images  Instances      Box(P          R      mAP50  mAP50-95): 100%|██████████| 13/13 [00:05<00:00,  2.44it/s]"
     ]
    },
    {
     "name": "stdout",
     "output_type": "stream",
     "text": [
      "                   all        387        609      0.913       0.71      0.783      0.302\n"
     ]
    },
    {
     "name": "stderr",
     "output_type": "stream",
     "text": [
      "\n"
     ]
    },
    {
     "name": "stdout",
     "output_type": "stream",
     "text": [
      "\n",
      "      Epoch    GPU_mem   box_loss   cls_loss   dfl_loss  Instances       Size\n"
     ]
    },
    {
     "name": "stderr",
     "output_type": "stream",
     "text": [
      "     65/200         0G      1.557     0.8539      1.198          4        224: 100%|██████████| 113/113 [00:49<00:00,  2.28it/s]\n",
      "                 Class     Images  Instances      Box(P          R      mAP50  mAP50-95): 100%|██████████| 13/13 [00:05<00:00,  2.34it/s]"
     ]
    },
    {
     "name": "stdout",
     "output_type": "stream",
     "text": [
      "                   all        387        609      0.923      0.713      0.788      0.319\n"
     ]
    },
    {
     "name": "stderr",
     "output_type": "stream",
     "text": [
      "\n"
     ]
    },
    {
     "name": "stdout",
     "output_type": "stream",
     "text": [
      "\n",
      "      Epoch    GPU_mem   box_loss   cls_loss   dfl_loss  Instances       Size\n"
     ]
    },
    {
     "name": "stderr",
     "output_type": "stream",
     "text": [
      "     66/200         0G      1.565     0.8867      1.204          4        224: 100%|██████████| 113/113 [00:49<00:00,  2.30it/s]\n",
      "                 Class     Images  Instances      Box(P          R      mAP50  mAP50-95): 100%|██████████| 13/13 [00:05<00:00,  2.35it/s]"
     ]
    },
    {
     "name": "stdout",
     "output_type": "stream",
     "text": [
      "                   all        387        609      0.823       0.68      0.697      0.214\n"
     ]
    },
    {
     "name": "stderr",
     "output_type": "stream",
     "text": [
      "\n"
     ]
    },
    {
     "name": "stdout",
     "output_type": "stream",
     "text": [
      "\n",
      "      Epoch    GPU_mem   box_loss   cls_loss   dfl_loss  Instances       Size\n"
     ]
    },
    {
     "name": "stderr",
     "output_type": "stream",
     "text": [
      "     67/200         0G      1.575     0.8665      1.209          1        224: 100%|██████████| 113/113 [00:49<00:00,  2.29it/s]\n",
      "                 Class     Images  Instances      Box(P          R      mAP50  mAP50-95): 100%|██████████| 13/13 [00:05<00:00,  2.36it/s]"
     ]
    },
    {
     "name": "stdout",
     "output_type": "stream",
     "text": [
      "                   all        387        609      0.902      0.696      0.773      0.314\n"
     ]
    },
    {
     "name": "stderr",
     "output_type": "stream",
     "text": [
      "\n"
     ]
    },
    {
     "name": "stdout",
     "output_type": "stream",
     "text": [
      "\n",
      "      Epoch    GPU_mem   box_loss   cls_loss   dfl_loss  Instances       Size\n"
     ]
    },
    {
     "name": "stderr",
     "output_type": "stream",
     "text": [
      "     68/200         0G      1.549     0.8657      1.197          4        224: 100%|██████████| 113/113 [00:49<00:00,  2.29it/s]\n",
      "                 Class     Images  Instances      Box(P          R      mAP50  mAP50-95): 100%|██████████| 13/13 [00:05<00:00,  2.32it/s]"
     ]
    },
    {
     "name": "stdout",
     "output_type": "stream",
     "text": [
      "                   all        387        609      0.903      0.719      0.772      0.294\n"
     ]
    },
    {
     "name": "stderr",
     "output_type": "stream",
     "text": [
      "\n"
     ]
    },
    {
     "name": "stdout",
     "output_type": "stream",
     "text": [
      "\n",
      "      Epoch    GPU_mem   box_loss   cls_loss   dfl_loss  Instances       Size\n"
     ]
    },
    {
     "name": "stderr",
     "output_type": "stream",
     "text": [
      "     69/200         0G      1.528     0.8515      1.181          4        224: 100%|██████████| 113/113 [00:49<00:00,  2.28it/s]\n",
      "                 Class     Images  Instances      Box(P          R      mAP50  mAP50-95): 100%|██████████| 13/13 [00:05<00:00,  2.34it/s]"
     ]
    },
    {
     "name": "stdout",
     "output_type": "stream",
     "text": [
      "                   all        387        609      0.885      0.708      0.755      0.279\n"
     ]
    },
    {
     "name": "stderr",
     "output_type": "stream",
     "text": [
      "\n"
     ]
    },
    {
     "name": "stdout",
     "output_type": "stream",
     "text": [
      "\n",
      "      Epoch    GPU_mem   box_loss   cls_loss   dfl_loss  Instances       Size\n"
     ]
    },
    {
     "name": "stderr",
     "output_type": "stream",
     "text": [
      "     70/200         0G      1.577     0.8562      1.206          5        224: 100%|██████████| 113/113 [00:49<00:00,  2.28it/s]\n",
      "                 Class     Images  Instances      Box(P          R      mAP50  mAP50-95): 100%|██████████| 13/13 [00:05<00:00,  2.35it/s]"
     ]
    },
    {
     "name": "stdout",
     "output_type": "stream",
     "text": [
      "                   all        387        609      0.858      0.664      0.715      0.219\n"
     ]
    },
    {
     "name": "stderr",
     "output_type": "stream",
     "text": [
      "\n"
     ]
    },
    {
     "name": "stdout",
     "output_type": "stream",
     "text": [
      "\n",
      "      Epoch    GPU_mem   box_loss   cls_loss   dfl_loss  Instances       Size\n"
     ]
    },
    {
     "name": "stderr",
     "output_type": "stream",
     "text": [
      "     71/200         0G      1.523     0.8307      1.176          4        224: 100%|██████████| 113/113 [00:49<00:00,  2.28it/s]\n",
      "                 Class     Images  Instances      Box(P          R      mAP50  mAP50-95): 100%|██████████| 13/13 [00:05<00:00,  2.34it/s]"
     ]
    },
    {
     "name": "stdout",
     "output_type": "stream",
     "text": [
      "                   all        387        609      0.912      0.722      0.789      0.332\n"
     ]
    },
    {
     "name": "stderr",
     "output_type": "stream",
     "text": [
      "\n"
     ]
    },
    {
     "name": "stdout",
     "output_type": "stream",
     "text": [
      "\n",
      "      Epoch    GPU_mem   box_loss   cls_loss   dfl_loss  Instances       Size\n"
     ]
    },
    {
     "name": "stderr",
     "output_type": "stream",
     "text": [
      "     72/200         0G      1.548     0.8555      1.195          8        224: 100%|██████████| 113/113 [00:49<00:00,  2.29it/s]\n",
      "                 Class     Images  Instances      Box(P          R      mAP50  mAP50-95): 100%|██████████| 13/13 [00:05<00:00,  2.34it/s]"
     ]
    },
    {
     "name": "stdout",
     "output_type": "stream",
     "text": [
      "                   all        387        609      0.918      0.741      0.805      0.345\n"
     ]
    },
    {
     "name": "stderr",
     "output_type": "stream",
     "text": [
      "\n"
     ]
    },
    {
     "name": "stdout",
     "output_type": "stream",
     "text": [
      "\n",
      "      Epoch    GPU_mem   box_loss   cls_loss   dfl_loss  Instances       Size\n"
     ]
    },
    {
     "name": "stderr",
     "output_type": "stream",
     "text": [
      "     73/200         0G      1.543     0.8551      1.199          8        224: 100%|██████████| 113/113 [00:49<00:00,  2.29it/s]\n",
      "                 Class     Images  Instances      Box(P          R      mAP50  mAP50-95): 100%|██████████| 13/13 [00:05<00:00,  2.36it/s]"
     ]
    },
    {
     "name": "stdout",
     "output_type": "stream",
     "text": [
      "                   all        387        609      0.898      0.738      0.795      0.339\n"
     ]
    },
    {
     "name": "stderr",
     "output_type": "stream",
     "text": [
      "\n"
     ]
    },
    {
     "name": "stdout",
     "output_type": "stream",
     "text": [
      "\n",
      "      Epoch    GPU_mem   box_loss   cls_loss   dfl_loss  Instances       Size\n"
     ]
    },
    {
     "name": "stderr",
     "output_type": "stream",
     "text": [
      "     74/200         0G      1.522      0.838      1.183          8        224: 100%|██████████| 113/113 [00:49<00:00,  2.30it/s]\n",
      "                 Class     Images  Instances      Box(P          R      mAP50  mAP50-95): 100%|██████████| 13/13 [00:05<00:00,  2.34it/s]"
     ]
    },
    {
     "name": "stdout",
     "output_type": "stream",
     "text": [
      "                   all        387        609      0.905      0.751      0.805      0.353\n"
     ]
    },
    {
     "name": "stderr",
     "output_type": "stream",
     "text": [
      "\n"
     ]
    },
    {
     "name": "stdout",
     "output_type": "stream",
     "text": [
      "\n",
      "      Epoch    GPU_mem   box_loss   cls_loss   dfl_loss  Instances       Size\n"
     ]
    },
    {
     "name": "stderr",
     "output_type": "stream",
     "text": [
      "     75/200         0G      1.498     0.8281      1.172          4        224: 100%|██████████| 113/113 [00:49<00:00,  2.29it/s]\n",
      "                 Class     Images  Instances      Box(P          R      mAP50  mAP50-95): 100%|██████████| 13/13 [00:05<00:00,  2.35it/s]"
     ]
    },
    {
     "name": "stdout",
     "output_type": "stream",
     "text": [
      "                   all        387        609      0.921      0.737      0.803      0.343\n"
     ]
    },
    {
     "name": "stderr",
     "output_type": "stream",
     "text": [
      "\n"
     ]
    },
    {
     "name": "stdout",
     "output_type": "stream",
     "text": [
      "\n",
      "      Epoch    GPU_mem   box_loss   cls_loss   dfl_loss  Instances       Size\n"
     ]
    },
    {
     "name": "stderr",
     "output_type": "stream",
     "text": [
      "     76/200         0G      1.498     0.8173      1.185          6        224: 100%|██████████| 113/113 [00:49<00:00,  2.29it/s]\n",
      "                 Class     Images  Instances      Box(P          R      mAP50  mAP50-95): 100%|██████████| 13/13 [00:05<00:00,  2.32it/s]"
     ]
    },
    {
     "name": "stdout",
     "output_type": "stream",
     "text": [
      "                   all        387        609      0.929      0.742      0.811      0.377\n"
     ]
    },
    {
     "name": "stderr",
     "output_type": "stream",
     "text": [
      "\n"
     ]
    },
    {
     "name": "stdout",
     "output_type": "stream",
     "text": [
      "\n",
      "      Epoch    GPU_mem   box_loss   cls_loss   dfl_loss  Instances       Size\n"
     ]
    },
    {
     "name": "stderr",
     "output_type": "stream",
     "text": [
      "     77/200         0G      1.502     0.8317      1.184          6        224: 100%|██████████| 113/113 [00:49<00:00,  2.29it/s]\n",
      "                 Class     Images  Instances      Box(P          R      mAP50  mAP50-95): 100%|██████████| 13/13 [00:05<00:00,  2.33it/s]"
     ]
    },
    {
     "name": "stdout",
     "output_type": "stream",
     "text": [
      "                   all        387        609      0.913      0.711      0.775        0.3\n"
     ]
    },
    {
     "name": "stderr",
     "output_type": "stream",
     "text": [
      "\n"
     ]
    },
    {
     "name": "stdout",
     "output_type": "stream",
     "text": [
      "\n",
      "      Epoch    GPU_mem   box_loss   cls_loss   dfl_loss  Instances       Size\n"
     ]
    },
    {
     "name": "stderr",
     "output_type": "stream",
     "text": [
      "     78/200         0G      1.502     0.8254      1.186          4        224: 100%|██████████| 113/113 [00:49<00:00,  2.29it/s]\n",
      "                 Class     Images  Instances      Box(P          R      mAP50  mAP50-95): 100%|██████████| 13/13 [00:05<00:00,  2.35it/s]"
     ]
    },
    {
     "name": "stdout",
     "output_type": "stream",
     "text": [
      "                   all        387        609      0.908      0.713      0.776      0.302\n"
     ]
    },
    {
     "name": "stderr",
     "output_type": "stream",
     "text": [
      "\n"
     ]
    },
    {
     "name": "stdout",
     "output_type": "stream",
     "text": [
      "\n",
      "      Epoch    GPU_mem   box_loss   cls_loss   dfl_loss  Instances       Size\n"
     ]
    },
    {
     "name": "stderr",
     "output_type": "stream",
     "text": [
      "     79/200         0G      1.495     0.8275      1.175          4        224: 100%|██████████| 113/113 [00:49<00:00,  2.29it/s]\n",
      "                 Class     Images  Instances      Box(P          R      mAP50  mAP50-95): 100%|██████████| 13/13 [00:05<00:00,  2.35it/s]"
     ]
    },
    {
     "name": "stdout",
     "output_type": "stream",
     "text": [
      "                   all        387        609      0.921      0.726      0.795      0.331\n"
     ]
    },
    {
     "name": "stderr",
     "output_type": "stream",
     "text": [
      "\n"
     ]
    },
    {
     "name": "stdout",
     "output_type": "stream",
     "text": [
      "\n",
      "      Epoch    GPU_mem   box_loss   cls_loss   dfl_loss  Instances       Size\n"
     ]
    },
    {
     "name": "stderr",
     "output_type": "stream",
     "text": [
      "     80/200         0G      1.503     0.8474       1.17          3        224: 100%|██████████| 113/113 [00:47<00:00,  2.39it/s]\n",
      "                 Class     Images  Instances      Box(P          R      mAP50  mAP50-95): 100%|██████████| 13/13 [00:05<00:00,  2.41it/s]"
     ]
    },
    {
     "name": "stdout",
     "output_type": "stream",
     "text": [
      "                   all        387        609      0.877      0.704      0.751      0.263\n"
     ]
    },
    {
     "name": "stderr",
     "output_type": "stream",
     "text": [
      "\n"
     ]
    },
    {
     "name": "stdout",
     "output_type": "stream",
     "text": [
      "\n",
      "      Epoch    GPU_mem   box_loss   cls_loss   dfl_loss  Instances       Size\n"
     ]
    },
    {
     "name": "stderr",
     "output_type": "stream",
     "text": [
      "     81/200         0G       1.47     0.7956      1.149          3        224: 100%|██████████| 113/113 [00:47<00:00,  2.40it/s]\n",
      "                 Class     Images  Instances      Box(P          R      mAP50  mAP50-95): 100%|██████████| 13/13 [00:05<00:00,  2.43it/s]"
     ]
    },
    {
     "name": "stdout",
     "output_type": "stream",
     "text": [
      "                   all        387        609      0.932      0.743      0.814      0.349\n"
     ]
    },
    {
     "name": "stderr",
     "output_type": "stream",
     "text": [
      "\n"
     ]
    },
    {
     "name": "stdout",
     "output_type": "stream",
     "text": [
      "\n",
      "      Epoch    GPU_mem   box_loss   cls_loss   dfl_loss  Instances       Size\n"
     ]
    },
    {
     "name": "stderr",
     "output_type": "stream",
     "text": [
      "     82/200         0G      1.475     0.8048      1.163          4        224: 100%|██████████| 113/113 [00:47<00:00,  2.39it/s]\n",
      "                 Class     Images  Instances      Box(P          R      mAP50  mAP50-95): 100%|██████████| 13/13 [00:05<00:00,  2.44it/s]"
     ]
    },
    {
     "name": "stdout",
     "output_type": "stream",
     "text": [
      "                   all        387        609      0.912      0.721      0.795      0.341\n"
     ]
    },
    {
     "name": "stderr",
     "output_type": "stream",
     "text": [
      "\n"
     ]
    },
    {
     "name": "stdout",
     "output_type": "stream",
     "text": [
      "\n",
      "      Epoch    GPU_mem   box_loss   cls_loss   dfl_loss  Instances       Size\n"
     ]
    },
    {
     "name": "stderr",
     "output_type": "stream",
     "text": [
      "     83/200         0G      1.484     0.8235      1.172          5        224: 100%|██████████| 113/113 [00:47<00:00,  2.38it/s]\n",
      "                 Class     Images  Instances      Box(P          R      mAP50  mAP50-95): 100%|██████████| 13/13 [00:05<00:00,  2.43it/s]"
     ]
    },
    {
     "name": "stdout",
     "output_type": "stream",
     "text": [
      "                   all        387        609      0.906      0.755      0.801      0.374\n"
     ]
    },
    {
     "name": "stderr",
     "output_type": "stream",
     "text": [
      "\n"
     ]
    },
    {
     "name": "stdout",
     "output_type": "stream",
     "text": [
      "\n",
      "      Epoch    GPU_mem   box_loss   cls_loss   dfl_loss  Instances       Size\n"
     ]
    },
    {
     "name": "stderr",
     "output_type": "stream",
     "text": [
      "     84/200         0G      1.503     0.8207      1.187          1        224: 100%|██████████| 113/113 [00:47<00:00,  2.38it/s]\n",
      "                 Class     Images  Instances      Box(P          R      mAP50  mAP50-95): 100%|██████████| 13/13 [00:05<00:00,  2.42it/s]"
     ]
    },
    {
     "name": "stdout",
     "output_type": "stream",
     "text": [
      "                   all        387        609      0.906      0.727       0.79      0.328\n"
     ]
    },
    {
     "name": "stderr",
     "output_type": "stream",
     "text": [
      "\n"
     ]
    },
    {
     "name": "stdout",
     "output_type": "stream",
     "text": [
      "\n",
      "      Epoch    GPU_mem   box_loss   cls_loss   dfl_loss  Instances       Size\n"
     ]
    },
    {
     "name": "stderr",
     "output_type": "stream",
     "text": [
      "     85/200         0G      1.479     0.8295      1.172          2        224: 100%|██████████| 113/113 [00:47<00:00,  2.38it/s]\n",
      "                 Class     Images  Instances      Box(P          R      mAP50  mAP50-95): 100%|██████████| 13/13 [00:05<00:00,  2.41it/s]"
     ]
    },
    {
     "name": "stdout",
     "output_type": "stream",
     "text": [
      "                   all        387        609      0.872      0.716       0.76      0.271\n"
     ]
    },
    {
     "name": "stderr",
     "output_type": "stream",
     "text": [
      "\n"
     ]
    },
    {
     "name": "stdout",
     "output_type": "stream",
     "text": [
      "\n",
      "      Epoch    GPU_mem   box_loss   cls_loss   dfl_loss  Instances       Size\n"
     ]
    },
    {
     "name": "stderr",
     "output_type": "stream",
     "text": [
      "     86/200         0G      1.453     0.8116       1.16          4        224: 100%|██████████| 113/113 [00:47<00:00,  2.38it/s]\n",
      "                 Class     Images  Instances      Box(P          R      mAP50  mAP50-95): 100%|██████████| 13/13 [00:05<00:00,  2.42it/s]"
     ]
    },
    {
     "name": "stdout",
     "output_type": "stream",
     "text": [
      "                   all        387        609      0.907      0.734      0.791      0.325\n"
     ]
    },
    {
     "name": "stderr",
     "output_type": "stream",
     "text": [
      "\n"
     ]
    },
    {
     "name": "stdout",
     "output_type": "stream",
     "text": [
      "\n",
      "      Epoch    GPU_mem   box_loss   cls_loss   dfl_loss  Instances       Size\n"
     ]
    },
    {
     "name": "stderr",
     "output_type": "stream",
     "text": [
      "     87/200         0G      1.476     0.8171      1.174          3        224: 100%|██████████| 113/113 [00:47<00:00,  2.38it/s]\n",
      "                 Class     Images  Instances      Box(P          R      mAP50  mAP50-95): 100%|██████████| 13/13 [00:05<00:00,  2.45it/s]"
     ]
    },
    {
     "name": "stdout",
     "output_type": "stream",
     "text": [
      "                   all        387        609      0.909      0.742      0.816      0.333\n"
     ]
    },
    {
     "name": "stderr",
     "output_type": "stream",
     "text": [
      "\n"
     ]
    },
    {
     "name": "stdout",
     "output_type": "stream",
     "text": [
      "\n",
      "      Epoch    GPU_mem   box_loss   cls_loss   dfl_loss  Instances       Size\n"
     ]
    },
    {
     "name": "stderr",
     "output_type": "stream",
     "text": [
      "     88/200         0G      1.468     0.8141       1.17          7        224: 100%|██████████| 113/113 [00:47<00:00,  2.39it/s]\n",
      "                 Class     Images  Instances      Box(P          R      mAP50  mAP50-95): 100%|██████████| 13/13 [00:05<00:00,  2.41it/s]"
     ]
    },
    {
     "name": "stdout",
     "output_type": "stream",
     "text": [
      "                   all        387        609      0.932      0.731      0.806      0.347\n"
     ]
    },
    {
     "name": "stderr",
     "output_type": "stream",
     "text": [
      "\n"
     ]
    },
    {
     "name": "stdout",
     "output_type": "stream",
     "text": [
      "\n",
      "      Epoch    GPU_mem   box_loss   cls_loss   dfl_loss  Instances       Size\n"
     ]
    },
    {
     "name": "stderr",
     "output_type": "stream",
     "text": [
      "     89/200         0G      1.452     0.8051       1.16          1        224: 100%|██████████| 113/113 [00:47<00:00,  2.40it/s]\n",
      "                 Class     Images  Instances      Box(P          R      mAP50  mAP50-95): 100%|██████████| 13/13 [00:05<00:00,  2.43it/s]"
     ]
    },
    {
     "name": "stdout",
     "output_type": "stream",
     "text": [
      "                   all        387        609      0.892       0.72      0.793      0.314\n"
     ]
    },
    {
     "name": "stderr",
     "output_type": "stream",
     "text": [
      "\n"
     ]
    },
    {
     "name": "stdout",
     "output_type": "stream",
     "text": [
      "\n",
      "      Epoch    GPU_mem   box_loss   cls_loss   dfl_loss  Instances       Size\n"
     ]
    },
    {
     "name": "stderr",
     "output_type": "stream",
     "text": [
      "     90/200         0G      1.463      0.791      1.164          7        224: 100%|██████████| 113/113 [00:47<00:00,  2.39it/s]\n",
      "                 Class     Images  Instances      Box(P          R      mAP50  mAP50-95): 100%|██████████| 13/13 [00:05<00:00,  2.44it/s]"
     ]
    },
    {
     "name": "stdout",
     "output_type": "stream",
     "text": [
      "                   all        387        609      0.891      0.745      0.801      0.336\n"
     ]
    },
    {
     "name": "stderr",
     "output_type": "stream",
     "text": [
      "\n"
     ]
    },
    {
     "name": "stdout",
     "output_type": "stream",
     "text": [
      "\n",
      "      Epoch    GPU_mem   box_loss   cls_loss   dfl_loss  Instances       Size\n"
     ]
    },
    {
     "name": "stderr",
     "output_type": "stream",
     "text": [
      "     91/200         0G      1.449     0.7944      1.156          1        224: 100%|██████████| 113/113 [00:48<00:00,  2.33it/s]\n",
      "                 Class     Images  Instances      Box(P          R      mAP50  mAP50-95): 100%|██████████| 13/13 [00:05<00:00,  2.34it/s]"
     ]
    },
    {
     "name": "stdout",
     "output_type": "stream",
     "text": [
      "                   all        387        609      0.886      0.729      0.791      0.304\n"
     ]
    },
    {
     "name": "stderr",
     "output_type": "stream",
     "text": [
      "\n"
     ]
    },
    {
     "name": "stdout",
     "output_type": "stream",
     "text": [
      "\n",
      "      Epoch    GPU_mem   box_loss   cls_loss   dfl_loss  Instances       Size\n"
     ]
    },
    {
     "name": "stderr",
     "output_type": "stream",
     "text": [
      "     92/200         0G      1.457     0.8049      1.167          5        224: 100%|██████████| 113/113 [00:49<00:00,  2.29it/s]\n",
      "                 Class     Images  Instances      Box(P          R      mAP50  mAP50-95): 100%|██████████| 13/13 [00:05<00:00,  2.34it/s]"
     ]
    },
    {
     "name": "stdout",
     "output_type": "stream",
     "text": [
      "                   all        387        609      0.894      0.724      0.786      0.293\n"
     ]
    },
    {
     "name": "stderr",
     "output_type": "stream",
     "text": [
      "\n"
     ]
    },
    {
     "name": "stdout",
     "output_type": "stream",
     "text": [
      "\n",
      "      Epoch    GPU_mem   box_loss   cls_loss   dfl_loss  Instances       Size\n"
     ]
    },
    {
     "name": "stderr",
     "output_type": "stream",
     "text": [
      "     93/200         0G      1.424     0.7745      1.151          5        224: 100%|██████████| 113/113 [00:49<00:00,  2.28it/s]\n",
      "                 Class     Images  Instances      Box(P          R      mAP50  mAP50-95): 100%|██████████| 13/13 [00:05<00:00,  2.33it/s]"
     ]
    },
    {
     "name": "stdout",
     "output_type": "stream",
     "text": [
      "                   all        387        609      0.898       0.75      0.797      0.331\n"
     ]
    },
    {
     "name": "stderr",
     "output_type": "stream",
     "text": [
      "\n"
     ]
    },
    {
     "name": "stdout",
     "output_type": "stream",
     "text": [
      "\n",
      "      Epoch    GPU_mem   box_loss   cls_loss   dfl_loss  Instances       Size\n"
     ]
    },
    {
     "name": "stderr",
     "output_type": "stream",
     "text": [
      "     94/200         0G      1.407     0.7727      1.145          6        224: 100%|██████████| 113/113 [00:49<00:00,  2.29it/s]\n",
      "                 Class     Images  Instances      Box(P          R      mAP50  mAP50-95): 100%|██████████| 13/13 [00:05<00:00,  2.33it/s]"
     ]
    },
    {
     "name": "stdout",
     "output_type": "stream",
     "text": [
      "                   all        387        609      0.858      0.712      0.758      0.273\n"
     ]
    },
    {
     "name": "stderr",
     "output_type": "stream",
     "text": [
      "\n"
     ]
    },
    {
     "name": "stdout",
     "output_type": "stream",
     "text": [
      "\n",
      "      Epoch    GPU_mem   box_loss   cls_loss   dfl_loss  Instances       Size\n"
     ]
    },
    {
     "name": "stderr",
     "output_type": "stream",
     "text": [
      "     95/200         0G      1.419     0.7703      1.147          6        224: 100%|██████████| 113/113 [00:49<00:00,  2.30it/s]\n",
      "                 Class     Images  Instances      Box(P          R      mAP50  mAP50-95): 100%|██████████| 13/13 [00:05<00:00,  2.36it/s]"
     ]
    },
    {
     "name": "stdout",
     "output_type": "stream",
     "text": [
      "                   all        387        609      0.884      0.739      0.786      0.294\n"
     ]
    },
    {
     "name": "stderr",
     "output_type": "stream",
     "text": [
      "\n"
     ]
    },
    {
     "name": "stdout",
     "output_type": "stream",
     "text": [
      "\n",
      "      Epoch    GPU_mem   box_loss   cls_loss   dfl_loss  Instances       Size\n"
     ]
    },
    {
     "name": "stderr",
     "output_type": "stream",
     "text": [
      "     96/200         0G       1.47     0.7916      1.164         14        224: 100%|██████████| 113/113 [00:49<00:00,  2.28it/s]\n",
      "                 Class     Images  Instances      Box(P          R      mAP50  mAP50-95): 100%|██████████| 13/13 [00:05<00:00,  2.33it/s]"
     ]
    },
    {
     "name": "stdout",
     "output_type": "stream",
     "text": [
      "                   all        387        609       0.93      0.752      0.815      0.411\n"
     ]
    },
    {
     "name": "stderr",
     "output_type": "stream",
     "text": [
      "\n"
     ]
    },
    {
     "name": "stdout",
     "output_type": "stream",
     "text": [
      "\n",
      "      Epoch    GPU_mem   box_loss   cls_loss   dfl_loss  Instances       Size\n"
     ]
    },
    {
     "name": "stderr",
     "output_type": "stream",
     "text": [
      "     97/200         0G      1.449     0.7855       1.16          6        224: 100%|██████████| 113/113 [00:49<00:00,  2.28it/s]\n",
      "                 Class     Images  Instances      Box(P          R      mAP50  mAP50-95): 100%|██████████| 13/13 [00:05<00:00,  2.34it/s]"
     ]
    },
    {
     "name": "stdout",
     "output_type": "stream",
     "text": [
      "                   all        387        609      0.903      0.729        0.8      0.323\n"
     ]
    },
    {
     "name": "stderr",
     "output_type": "stream",
     "text": [
      "\n"
     ]
    },
    {
     "name": "stdout",
     "output_type": "stream",
     "text": [
      "\n",
      "      Epoch    GPU_mem   box_loss   cls_loss   dfl_loss  Instances       Size\n"
     ]
    },
    {
     "name": "stderr",
     "output_type": "stream",
     "text": [
      "     98/200         0G      1.435     0.7906       1.15          9        224: 100%|██████████| 113/113 [00:49<00:00,  2.26it/s]\n",
      "                 Class     Images  Instances      Box(P          R      mAP50  mAP50-95): 100%|██████████| 13/13 [00:05<00:00,  2.34it/s]"
     ]
    },
    {
     "name": "stdout",
     "output_type": "stream",
     "text": [
      "                   all        387        609       0.87      0.728      0.771      0.273\n"
     ]
    },
    {
     "name": "stderr",
     "output_type": "stream",
     "text": [
      "\n"
     ]
    },
    {
     "name": "stdout",
     "output_type": "stream",
     "text": [
      "\n",
      "      Epoch    GPU_mem   box_loss   cls_loss   dfl_loss  Instances       Size\n"
     ]
    },
    {
     "name": "stderr",
     "output_type": "stream",
     "text": [
      "     99/200         0G      1.429     0.7805      1.157          3        224: 100%|██████████| 113/113 [00:49<00:00,  2.29it/s]\n",
      "                 Class     Images  Instances      Box(P          R      mAP50  mAP50-95): 100%|██████████| 13/13 [00:05<00:00,  2.35it/s]"
     ]
    },
    {
     "name": "stdout",
     "output_type": "stream",
     "text": [
      "                   all        387        609      0.919      0.731      0.802      0.335\n"
     ]
    },
    {
     "name": "stderr",
     "output_type": "stream",
     "text": [
      "\n"
     ]
    },
    {
     "name": "stdout",
     "output_type": "stream",
     "text": [
      "\n",
      "      Epoch    GPU_mem   box_loss   cls_loss   dfl_loss  Instances       Size\n"
     ]
    },
    {
     "name": "stderr",
     "output_type": "stream",
     "text": [
      "    100/200         0G      1.421     0.7704      1.152          2        224: 100%|██████████| 113/113 [00:49<00:00,  2.27it/s]\n",
      "                 Class     Images  Instances      Box(P          R      mAP50  mAP50-95): 100%|██████████| 13/13 [00:05<00:00,  2.34it/s]"
     ]
    },
    {
     "name": "stdout",
     "output_type": "stream",
     "text": [
      "                   all        387        609      0.916      0.734      0.809       0.35\n"
     ]
    },
    {
     "name": "stderr",
     "output_type": "stream",
     "text": [
      "\n"
     ]
    },
    {
     "name": "stdout",
     "output_type": "stream",
     "text": [
      "\n",
      "      Epoch    GPU_mem   box_loss   cls_loss   dfl_loss  Instances       Size\n"
     ]
    },
    {
     "name": "stderr",
     "output_type": "stream",
     "text": [
      "    101/200         0G      1.414      0.751      1.142          5        224: 100%|██████████| 113/113 [00:49<00:00,  2.29it/s]\n",
      "                 Class     Images  Instances      Box(P          R      mAP50  mAP50-95): 100%|██████████| 13/13 [00:05<00:00,  2.35it/s]"
     ]
    },
    {
     "name": "stdout",
     "output_type": "stream",
     "text": [
      "                   all        387        609      0.867      0.727      0.763      0.302\n"
     ]
    },
    {
     "name": "stderr",
     "output_type": "stream",
     "text": [
      "\n"
     ]
    },
    {
     "name": "stdout",
     "output_type": "stream",
     "text": [
      "\n",
      "      Epoch    GPU_mem   box_loss   cls_loss   dfl_loss  Instances       Size\n"
     ]
    },
    {
     "name": "stderr",
     "output_type": "stream",
     "text": [
      "    102/200         0G      1.389     0.7538      1.127          8        224: 100%|██████████| 113/113 [00:49<00:00,  2.27it/s]\n",
      "                 Class     Images  Instances      Box(P          R      mAP50  mAP50-95): 100%|██████████| 13/13 [00:05<00:00,  2.33it/s]"
     ]
    },
    {
     "name": "stdout",
     "output_type": "stream",
     "text": [
      "                   all        387        609      0.887      0.734      0.778      0.296\n"
     ]
    },
    {
     "name": "stderr",
     "output_type": "stream",
     "text": [
      "\n"
     ]
    },
    {
     "name": "stdout",
     "output_type": "stream",
     "text": [
      "\n",
      "      Epoch    GPU_mem   box_loss   cls_loss   dfl_loss  Instances       Size\n"
     ]
    },
    {
     "name": "stderr",
     "output_type": "stream",
     "text": [
      "    103/200         0G      1.393     0.7741       1.13          0        224: 100%|██████████| 113/113 [00:49<00:00,  2.28it/s]\n",
      "                 Class     Images  Instances      Box(P          R      mAP50  mAP50-95): 100%|██████████| 13/13 [00:05<00:00,  2.34it/s]"
     ]
    },
    {
     "name": "stdout",
     "output_type": "stream",
     "text": [
      "                   all        387        609      0.917      0.742      0.814      0.326\n"
     ]
    },
    {
     "name": "stderr",
     "output_type": "stream",
     "text": [
      "\n"
     ]
    },
    {
     "name": "stdout",
     "output_type": "stream",
     "text": [
      "\n",
      "      Epoch    GPU_mem   box_loss   cls_loss   dfl_loss  Instances       Size\n"
     ]
    },
    {
     "name": "stderr",
     "output_type": "stream",
     "text": [
      "    104/200         0G      1.397     0.7685      1.138          2        224: 100%|██████████| 113/113 [00:49<00:00,  2.28it/s]\n",
      "                 Class     Images  Instances      Box(P          R      mAP50  mAP50-95): 100%|██████████| 13/13 [00:05<00:00,  2.34it/s]"
     ]
    },
    {
     "name": "stdout",
     "output_type": "stream",
     "text": [
      "                   all        387        609      0.938      0.773      0.833      0.415\n"
     ]
    },
    {
     "name": "stderr",
     "output_type": "stream",
     "text": [
      "\n"
     ]
    },
    {
     "name": "stdout",
     "output_type": "stream",
     "text": [
      "\n",
      "      Epoch    GPU_mem   box_loss   cls_loss   dfl_loss  Instances       Size\n"
     ]
    },
    {
     "name": "stderr",
     "output_type": "stream",
     "text": [
      "    105/200         0G      1.403     0.7634      1.142          3        224: 100%|██████████| 113/113 [00:49<00:00,  2.28it/s]\n",
      "                 Class     Images  Instances      Box(P          R      mAP50  mAP50-95): 100%|██████████| 13/13 [00:05<00:00,  2.35it/s]"
     ]
    },
    {
     "name": "stdout",
     "output_type": "stream",
     "text": [
      "                   all        387        609      0.931      0.749      0.823      0.361\n"
     ]
    },
    {
     "name": "stderr",
     "output_type": "stream",
     "text": [
      "\n"
     ]
    },
    {
     "name": "stdout",
     "output_type": "stream",
     "text": [
      "\n",
      "      Epoch    GPU_mem   box_loss   cls_loss   dfl_loss  Instances       Size\n"
     ]
    },
    {
     "name": "stderr",
     "output_type": "stream",
     "text": [
      "    106/200         0G      1.395     0.7493      1.133          3        224: 100%|██████████| 113/113 [00:49<00:00,  2.29it/s]\n",
      "                 Class     Images  Instances      Box(P          R      mAP50  mAP50-95): 100%|██████████| 13/13 [00:05<00:00,  2.35it/s]"
     ]
    },
    {
     "name": "stdout",
     "output_type": "stream",
     "text": [
      "                   all        387        609      0.926      0.777      0.818      0.376\n"
     ]
    },
    {
     "name": "stderr",
     "output_type": "stream",
     "text": [
      "\n"
     ]
    },
    {
     "name": "stdout",
     "output_type": "stream",
     "text": [
      "\n",
      "      Epoch    GPU_mem   box_loss   cls_loss   dfl_loss  Instances       Size\n"
     ]
    },
    {
     "name": "stderr",
     "output_type": "stream",
     "text": [
      "    107/200         0G      1.378     0.7602      1.129          3        224: 100%|██████████| 113/113 [00:49<00:00,  2.29it/s]\n",
      "                 Class     Images  Instances      Box(P          R      mAP50  mAP50-95): 100%|██████████| 13/13 [00:05<00:00,  2.32it/s]"
     ]
    },
    {
     "name": "stdout",
     "output_type": "stream",
     "text": [
      "                   all        387        609      0.913      0.755      0.807      0.327\n"
     ]
    },
    {
     "name": "stderr",
     "output_type": "stream",
     "text": [
      "\n"
     ]
    },
    {
     "name": "stdout",
     "output_type": "stream",
     "text": [
      "\n",
      "      Epoch    GPU_mem   box_loss   cls_loss   dfl_loss  Instances       Size\n"
     ]
    },
    {
     "name": "stderr",
     "output_type": "stream",
     "text": [
      "    108/200         0G       1.37     0.7472      1.121          5        224: 100%|██████████| 113/113 [00:49<00:00,  2.29it/s]\n",
      "                 Class     Images  Instances      Box(P          R      mAP50  mAP50-95): 100%|██████████| 13/13 [00:05<00:00,  2.35it/s]"
     ]
    },
    {
     "name": "stdout",
     "output_type": "stream",
     "text": [
      "                   all        387        609      0.901      0.759      0.806      0.321\n"
     ]
    },
    {
     "name": "stderr",
     "output_type": "stream",
     "text": [
      "\n"
     ]
    },
    {
     "name": "stdout",
     "output_type": "stream",
     "text": [
      "\n",
      "      Epoch    GPU_mem   box_loss   cls_loss   dfl_loss  Instances       Size\n"
     ]
    },
    {
     "name": "stderr",
     "output_type": "stream",
     "text": [
      "    109/200         0G      1.378      0.748      1.122          3        224: 100%|██████████| 113/113 [00:49<00:00,  2.29it/s]\n",
      "                 Class     Images  Instances      Box(P          R      mAP50  mAP50-95): 100%|██████████| 13/13 [00:05<00:00,  2.34it/s]"
     ]
    },
    {
     "name": "stdout",
     "output_type": "stream",
     "text": [
      "                   all        387        609       0.91      0.743      0.806      0.334\n"
     ]
    },
    {
     "name": "stderr",
     "output_type": "stream",
     "text": [
      "\n"
     ]
    },
    {
     "name": "stdout",
     "output_type": "stream",
     "text": [
      "\n",
      "      Epoch    GPU_mem   box_loss   cls_loss   dfl_loss  Instances       Size\n"
     ]
    },
    {
     "name": "stderr",
     "output_type": "stream",
     "text": [
      "    110/200         0G      1.388     0.7549      1.131          4        224: 100%|██████████| 113/113 [00:49<00:00,  2.29it/s]\n",
      "                 Class     Images  Instances      Box(P          R      mAP50  mAP50-95): 100%|██████████| 13/13 [00:05<00:00,  2.33it/s]"
     ]
    },
    {
     "name": "stdout",
     "output_type": "stream",
     "text": [
      "                   all        387        609      0.923       0.75      0.812      0.342\n"
     ]
    },
    {
     "name": "stderr",
     "output_type": "stream",
     "text": [
      "\n"
     ]
    },
    {
     "name": "stdout",
     "output_type": "stream",
     "text": [
      "\n",
      "      Epoch    GPU_mem   box_loss   cls_loss   dfl_loss  Instances       Size\n"
     ]
    },
    {
     "name": "stderr",
     "output_type": "stream",
     "text": [
      "    111/200         0G      1.389     0.7695      1.136          3        224: 100%|██████████| 113/113 [00:49<00:00,  2.29it/s]\n",
      "                 Class     Images  Instances      Box(P          R      mAP50  mAP50-95): 100%|██████████| 13/13 [00:05<00:00,  2.34it/s]"
     ]
    },
    {
     "name": "stdout",
     "output_type": "stream",
     "text": [
      "                   all        387        609      0.906       0.77      0.819      0.343\n"
     ]
    },
    {
     "name": "stderr",
     "output_type": "stream",
     "text": [
      "\n"
     ]
    },
    {
     "name": "stdout",
     "output_type": "stream",
     "text": [
      "\n",
      "      Epoch    GPU_mem   box_loss   cls_loss   dfl_loss  Instances       Size\n"
     ]
    },
    {
     "name": "stderr",
     "output_type": "stream",
     "text": [
      "    112/200         0G      1.354     0.7343      1.119          5        224: 100%|██████████| 113/113 [00:49<00:00,  2.28it/s]\n",
      "                 Class     Images  Instances      Box(P          R      mAP50  mAP50-95): 100%|██████████| 13/13 [00:05<00:00,  2.34it/s]"
     ]
    },
    {
     "name": "stdout",
     "output_type": "stream",
     "text": [
      "                   all        387        609      0.926      0.718      0.801      0.305\n"
     ]
    },
    {
     "name": "stderr",
     "output_type": "stream",
     "text": [
      "\n"
     ]
    },
    {
     "name": "stdout",
     "output_type": "stream",
     "text": [
      "\n",
      "      Epoch    GPU_mem   box_loss   cls_loss   dfl_loss  Instances       Size\n"
     ]
    },
    {
     "name": "stderr",
     "output_type": "stream",
     "text": [
      "    113/200         0G      1.371     0.7398      1.124          4        224: 100%|██████████| 113/113 [00:49<00:00,  2.29it/s]\n",
      "                 Class     Images  Instances      Box(P          R      mAP50  mAP50-95): 100%|██████████| 13/13 [00:05<00:00,  2.34it/s]"
     ]
    },
    {
     "name": "stdout",
     "output_type": "stream",
     "text": [
      "                   all        387        609      0.904      0.745      0.807      0.355\n"
     ]
    },
    {
     "name": "stderr",
     "output_type": "stream",
     "text": [
      "\n"
     ]
    },
    {
     "name": "stdout",
     "output_type": "stream",
     "text": [
      "\n",
      "      Epoch    GPU_mem   box_loss   cls_loss   dfl_loss  Instances       Size\n"
     ]
    },
    {
     "name": "stderr",
     "output_type": "stream",
     "text": [
      "    114/200         0G      1.368     0.7489      1.128          6        224: 100%|██████████| 113/113 [00:47<00:00,  2.36it/s]\n",
      "                 Class     Images  Instances      Box(P          R      mAP50  mAP50-95): 100%|██████████| 13/13 [00:05<00:00,  2.44it/s]"
     ]
    },
    {
     "name": "stdout",
     "output_type": "stream",
     "text": [
      "                   all        387        609      0.908      0.742      0.807      0.323\n"
     ]
    },
    {
     "name": "stderr",
     "output_type": "stream",
     "text": [
      "\n"
     ]
    },
    {
     "name": "stdout",
     "output_type": "stream",
     "text": [
      "\n",
      "      Epoch    GPU_mem   box_loss   cls_loss   dfl_loss  Instances       Size\n"
     ]
    },
    {
     "name": "stderr",
     "output_type": "stream",
     "text": [
      "    115/200         0G      1.361     0.7434      1.121          3        224: 100%|██████████| 113/113 [00:47<00:00,  2.39it/s]\n",
      "                 Class     Images  Instances      Box(P          R      mAP50  mAP50-95): 100%|██████████| 13/13 [00:05<00:00,  2.43it/s]"
     ]
    },
    {
     "name": "stdout",
     "output_type": "stream",
     "text": [
      "                   all        387        609      0.926      0.749      0.815      0.373\n"
     ]
    },
    {
     "name": "stderr",
     "output_type": "stream",
     "text": [
      "\n"
     ]
    },
    {
     "name": "stdout",
     "output_type": "stream",
     "text": [
      "\n",
      "      Epoch    GPU_mem   box_loss   cls_loss   dfl_loss  Instances       Size\n"
     ]
    },
    {
     "name": "stderr",
     "output_type": "stream",
     "text": [
      "    116/200         0G      1.367     0.7504      1.124          3        224: 100%|██████████| 113/113 [00:47<00:00,  2.38it/s]\n",
      "                 Class     Images  Instances      Box(P          R      mAP50  mAP50-95): 100%|██████████| 13/13 [00:05<00:00,  2.42it/s]"
     ]
    },
    {
     "name": "stdout",
     "output_type": "stream",
     "text": [
      "                   all        387        609      0.903      0.764      0.814      0.384\n"
     ]
    },
    {
     "name": "stderr",
     "output_type": "stream",
     "text": [
      "\n"
     ]
    },
    {
     "name": "stdout",
     "output_type": "stream",
     "text": [
      "\n",
      "      Epoch    GPU_mem   box_loss   cls_loss   dfl_loss  Instances       Size\n"
     ]
    },
    {
     "name": "stderr",
     "output_type": "stream",
     "text": [
      "    117/200         0G       1.34     0.7298      1.113          3        224: 100%|██████████| 113/113 [00:47<00:00,  2.38it/s]\n",
      "                 Class     Images  Instances      Box(P          R      mAP50  mAP50-95): 100%|██████████| 13/13 [00:05<00:00,  2.43it/s]"
     ]
    },
    {
     "name": "stdout",
     "output_type": "stream",
     "text": [
      "                   all        387        609      0.911      0.754      0.813      0.362\n"
     ]
    },
    {
     "name": "stderr",
     "output_type": "stream",
     "text": [
      "\n"
     ]
    },
    {
     "name": "stdout",
     "output_type": "stream",
     "text": [
      "\n",
      "      Epoch    GPU_mem   box_loss   cls_loss   dfl_loss  Instances       Size\n"
     ]
    },
    {
     "name": "stderr",
     "output_type": "stream",
     "text": [
      "    118/200         0G       1.34     0.7318      1.117          8        224: 100%|██████████| 113/113 [00:47<00:00,  2.39it/s]\n",
      "                 Class     Images  Instances      Box(P          R      mAP50  mAP50-95): 100%|██████████| 13/13 [00:05<00:00,  2.42it/s]"
     ]
    },
    {
     "name": "stdout",
     "output_type": "stream",
     "text": [
      "                   all        387        609      0.907      0.749      0.807       0.35\n"
     ]
    },
    {
     "name": "stderr",
     "output_type": "stream",
     "text": [
      "\n"
     ]
    },
    {
     "name": "stdout",
     "output_type": "stream",
     "text": [
      "\n",
      "      Epoch    GPU_mem   box_loss   cls_loss   dfl_loss  Instances       Size\n"
     ]
    },
    {
     "name": "stderr",
     "output_type": "stream",
     "text": [
      "    119/200         0G      1.348     0.7276      1.114          2        224: 100%|██████████| 113/113 [00:47<00:00,  2.39it/s]\n",
      "                 Class     Images  Instances      Box(P          R      mAP50  mAP50-95): 100%|██████████| 13/13 [00:05<00:00,  2.41it/s]"
     ]
    },
    {
     "name": "stdout",
     "output_type": "stream",
     "text": [
      "                   all        387        609      0.877      0.726      0.779      0.267\n"
     ]
    },
    {
     "name": "stderr",
     "output_type": "stream",
     "text": [
      "\n"
     ]
    },
    {
     "name": "stdout",
     "output_type": "stream",
     "text": [
      "\n",
      "      Epoch    GPU_mem   box_loss   cls_loss   dfl_loss  Instances       Size\n"
     ]
    },
    {
     "name": "stderr",
     "output_type": "stream",
     "text": [
      "    120/200         0G      1.335     0.7149       1.11          4        224: 100%|██████████| 113/113 [00:47<00:00,  2.38it/s]\n",
      "                 Class     Images  Instances      Box(P          R      mAP50  mAP50-95): 100%|██████████| 13/13 [00:05<00:00,  2.41it/s]"
     ]
    },
    {
     "name": "stdout",
     "output_type": "stream",
     "text": [
      "                   all        387        609      0.902      0.745      0.807      0.336\n"
     ]
    },
    {
     "name": "stderr",
     "output_type": "stream",
     "text": [
      "\n"
     ]
    },
    {
     "name": "stdout",
     "output_type": "stream",
     "text": [
      "\n",
      "      Epoch    GPU_mem   box_loss   cls_loss   dfl_loss  Instances       Size\n"
     ]
    },
    {
     "name": "stderr",
     "output_type": "stream",
     "text": [
      "    121/200         0G      1.315     0.7142      1.101          3        224: 100%|██████████| 113/113 [00:47<00:00,  2.38it/s]\n",
      "                 Class     Images  Instances      Box(P          R      mAP50  mAP50-95): 100%|██████████| 13/13 [00:05<00:00,  2.43it/s]"
     ]
    },
    {
     "name": "stdout",
     "output_type": "stream",
     "text": [
      "                   all        387        609      0.925      0.744      0.814      0.326\n"
     ]
    },
    {
     "name": "stderr",
     "output_type": "stream",
     "text": [
      "\n"
     ]
    },
    {
     "name": "stdout",
     "output_type": "stream",
     "text": [
      "\n",
      "      Epoch    GPU_mem   box_loss   cls_loss   dfl_loss  Instances       Size\n"
     ]
    },
    {
     "name": "stderr",
     "output_type": "stream",
     "text": [
      "    122/200         0G      1.329     0.7219      1.115          2        224: 100%|██████████| 113/113 [00:47<00:00,  2.38it/s]\n",
      "                 Class     Images  Instances      Box(P          R      mAP50  mAP50-95): 100%|██████████| 13/13 [00:05<00:00,  2.42it/s]"
     ]
    },
    {
     "name": "stdout",
     "output_type": "stream",
     "text": [
      "                   all        387        609      0.929       0.75      0.824      0.365\n"
     ]
    },
    {
     "name": "stderr",
     "output_type": "stream",
     "text": [
      "\n"
     ]
    },
    {
     "name": "stdout",
     "output_type": "stream",
     "text": [
      "\n",
      "      Epoch    GPU_mem   box_loss   cls_loss   dfl_loss  Instances       Size\n"
     ]
    },
    {
     "name": "stderr",
     "output_type": "stream",
     "text": [
      "    123/200         0G      1.363     0.7305      1.124          8        224: 100%|██████████| 113/113 [00:47<00:00,  2.39it/s]\n",
      "                 Class     Images  Instances      Box(P          R      mAP50  mAP50-95): 100%|██████████| 13/13 [00:05<00:00,  2.44it/s]"
     ]
    },
    {
     "name": "stdout",
     "output_type": "stream",
     "text": [
      "                   all        387        609      0.907      0.754      0.804      0.316\n"
     ]
    },
    {
     "name": "stderr",
     "output_type": "stream",
     "text": [
      "\n"
     ]
    },
    {
     "name": "stdout",
     "output_type": "stream",
     "text": [
      "\n",
      "      Epoch    GPU_mem   box_loss   cls_loss   dfl_loss  Instances       Size\n"
     ]
    },
    {
     "name": "stderr",
     "output_type": "stream",
     "text": [
      "    124/200         0G      1.332     0.7383       1.11          6        224: 100%|██████████| 113/113 [00:48<00:00,  2.32it/s]\n",
      "                 Class     Images  Instances      Box(P          R      mAP50  mAP50-95): 100%|██████████| 13/13 [00:05<00:00,  2.34it/s]"
     ]
    },
    {
     "name": "stdout",
     "output_type": "stream",
     "text": [
      "                   all        387        609      0.903      0.757      0.811      0.347\n"
     ]
    },
    {
     "name": "stderr",
     "output_type": "stream",
     "text": [
      "\n"
     ]
    },
    {
     "name": "stdout",
     "output_type": "stream",
     "text": [
      "\n",
      "      Epoch    GPU_mem   box_loss   cls_loss   dfl_loss  Instances       Size\n"
     ]
    },
    {
     "name": "stderr",
     "output_type": "stream",
     "text": [
      "    125/200         0G      1.334     0.7313      1.117         11        224: 100%|██████████| 113/113 [00:49<00:00,  2.29it/s]\n",
      "                 Class     Images  Instances      Box(P          R      mAP50  mAP50-95): 100%|██████████| 13/13 [00:05<00:00,  2.35it/s]"
     ]
    },
    {
     "name": "stdout",
     "output_type": "stream",
     "text": [
      "                   all        387        609      0.884      0.739      0.786      0.291\n"
     ]
    },
    {
     "name": "stderr",
     "output_type": "stream",
     "text": [
      "\n"
     ]
    },
    {
     "name": "stdout",
     "output_type": "stream",
     "text": [
      "\n",
      "      Epoch    GPU_mem   box_loss   cls_loss   dfl_loss  Instances       Size\n"
     ]
    },
    {
     "name": "stderr",
     "output_type": "stream",
     "text": [
      "    126/200         0G      1.327     0.7198      1.117          2        224: 100%|██████████| 113/113 [00:49<00:00,  2.29it/s]\n",
      "                 Class     Images  Instances      Box(P          R      mAP50  mAP50-95): 100%|██████████| 13/13 [00:05<00:00,  2.35it/s]"
     ]
    },
    {
     "name": "stdout",
     "output_type": "stream",
     "text": [
      "                   all        387        609      0.911      0.745      0.797      0.331\n"
     ]
    },
    {
     "name": "stderr",
     "output_type": "stream",
     "text": [
      "\n"
     ]
    },
    {
     "name": "stdout",
     "output_type": "stream",
     "text": [
      "\n",
      "      Epoch    GPU_mem   box_loss   cls_loss   dfl_loss  Instances       Size\n"
     ]
    },
    {
     "name": "stderr",
     "output_type": "stream",
     "text": [
      "    127/200         0G        1.3     0.7158      1.102          2        224: 100%|██████████| 113/113 [00:49<00:00,  2.29it/s]\n",
      "                 Class     Images  Instances      Box(P          R      mAP50  mAP50-95): 100%|██████████| 13/13 [00:05<00:00,  2.36it/s]"
     ]
    },
    {
     "name": "stdout",
     "output_type": "stream",
     "text": [
      "                   all        387        609      0.916      0.754      0.814      0.328\n"
     ]
    },
    {
     "name": "stderr",
     "output_type": "stream",
     "text": [
      "\n"
     ]
    },
    {
     "name": "stdout",
     "output_type": "stream",
     "text": [
      "\n",
      "      Epoch    GPU_mem   box_loss   cls_loss   dfl_loss  Instances       Size\n"
     ]
    },
    {
     "name": "stderr",
     "output_type": "stream",
     "text": [
      "    128/200         0G       1.32     0.7125       1.11          5        224: 100%|██████████| 113/113 [00:49<00:00,  2.30it/s]\n",
      "                 Class     Images  Instances      Box(P          R      mAP50  mAP50-95): 100%|██████████| 13/13 [00:05<00:00,  2.33it/s]"
     ]
    },
    {
     "name": "stdout",
     "output_type": "stream",
     "text": [
      "                   all        387        609      0.902       0.77      0.812      0.342\n"
     ]
    },
    {
     "name": "stderr",
     "output_type": "stream",
     "text": [
      "\n"
     ]
    },
    {
     "name": "stdout",
     "output_type": "stream",
     "text": [
      "\n",
      "      Epoch    GPU_mem   box_loss   cls_loss   dfl_loss  Instances       Size\n"
     ]
    },
    {
     "name": "stderr",
     "output_type": "stream",
     "text": [
      "    129/200         0G      1.312     0.7098      1.107          3        224: 100%|██████████| 113/113 [00:49<00:00,  2.30it/s]\n",
      "                 Class     Images  Instances      Box(P          R      mAP50  mAP50-95): 100%|██████████| 13/13 [00:05<00:00,  2.34it/s]"
     ]
    },
    {
     "name": "stdout",
     "output_type": "stream",
     "text": [
      "                   all        387        609      0.919      0.764      0.818       0.36\n"
     ]
    },
    {
     "name": "stderr",
     "output_type": "stream",
     "text": [
      "\n"
     ]
    },
    {
     "name": "stdout",
     "output_type": "stream",
     "text": [
      "\n",
      "      Epoch    GPU_mem   box_loss   cls_loss   dfl_loss  Instances       Size\n"
     ]
    },
    {
     "name": "stderr",
     "output_type": "stream",
     "text": [
      "    130/200         0G      1.311     0.7021      1.099          5        224: 100%|██████████| 113/113 [00:49<00:00,  2.30it/s]\n",
      "                 Class     Images  Instances      Box(P          R      mAP50  mAP50-95): 100%|██████████| 13/13 [00:05<00:00,  2.34it/s]"
     ]
    },
    {
     "name": "stdout",
     "output_type": "stream",
     "text": [
      "                   all        387        609       0.93      0.765      0.827      0.383\n"
     ]
    },
    {
     "name": "stderr",
     "output_type": "stream",
     "text": [
      "\n"
     ]
    },
    {
     "name": "stdout",
     "output_type": "stream",
     "text": [
      "\n",
      "      Epoch    GPU_mem   box_loss   cls_loss   dfl_loss  Instances       Size\n"
     ]
    },
    {
     "name": "stderr",
     "output_type": "stream",
     "text": [
      "    131/200         0G      1.309     0.7126      1.097          8        224: 100%|██████████| 113/113 [00:49<00:00,  2.29it/s]\n",
      "                 Class     Images  Instances      Box(P          R      mAP50  mAP50-95): 100%|██████████| 13/13 [00:05<00:00,  2.36it/s]"
     ]
    },
    {
     "name": "stdout",
     "output_type": "stream",
     "text": [
      "                   all        387        609      0.926      0.761      0.826        0.4\n"
     ]
    },
    {
     "name": "stderr",
     "output_type": "stream",
     "text": [
      "\n"
     ]
    },
    {
     "name": "stdout",
     "output_type": "stream",
     "text": [
      "\n",
      "      Epoch    GPU_mem   box_loss   cls_loss   dfl_loss  Instances       Size\n"
     ]
    },
    {
     "name": "stderr",
     "output_type": "stream",
     "text": [
      "    132/200         0G      1.305     0.6987      1.104          4        224: 100%|██████████| 113/113 [00:49<00:00,  2.27it/s]\n",
      "                 Class     Images  Instances      Box(P          R      mAP50  mAP50-95): 100%|██████████| 13/13 [00:05<00:00,  2.34it/s]"
     ]
    },
    {
     "name": "stdout",
     "output_type": "stream",
     "text": [
      "                   all        387        609      0.937      0.738      0.813       0.35\n"
     ]
    },
    {
     "name": "stderr",
     "output_type": "stream",
     "text": [
      "\n"
     ]
    },
    {
     "name": "stdout",
     "output_type": "stream",
     "text": [
      "\n",
      "      Epoch    GPU_mem   box_loss   cls_loss   dfl_loss  Instances       Size\n"
     ]
    },
    {
     "name": "stderr",
     "output_type": "stream",
     "text": [
      "    133/200         0G      1.337     0.7228      1.121          2        224: 100%|██████████| 113/113 [00:48<00:00,  2.33it/s]\n",
      "                 Class     Images  Instances      Box(P          R      mAP50  mAP50-95): 100%|██████████| 13/13 [00:05<00:00,  2.44it/s]"
     ]
    },
    {
     "name": "stdout",
     "output_type": "stream",
     "text": [
      "                   all        387        609      0.918      0.749      0.821      0.363\n"
     ]
    },
    {
     "name": "stderr",
     "output_type": "stream",
     "text": [
      "\n"
     ]
    },
    {
     "name": "stdout",
     "output_type": "stream",
     "text": [
      "\n",
      "      Epoch    GPU_mem   box_loss   cls_loss   dfl_loss  Instances       Size\n"
     ]
    },
    {
     "name": "stderr",
     "output_type": "stream",
     "text": [
      "    134/200         0G      1.314     0.6925       1.11          2        224: 100%|██████████| 113/113 [00:47<00:00,  2.40it/s]\n",
      "                 Class     Images  Instances      Box(P          R      mAP50  mAP50-95): 100%|██████████| 13/13 [00:05<00:00,  2.44it/s]"
     ]
    },
    {
     "name": "stdout",
     "output_type": "stream",
     "text": [
      "                   all        387        609      0.909      0.754      0.819      0.334\n"
     ]
    },
    {
     "name": "stderr",
     "output_type": "stream",
     "text": [
      "\n"
     ]
    },
    {
     "name": "stdout",
     "output_type": "stream",
     "text": [
      "\n",
      "      Epoch    GPU_mem   box_loss   cls_loss   dfl_loss  Instances       Size\n"
     ]
    },
    {
     "name": "stderr",
     "output_type": "stream",
     "text": [
      "    135/200         0G      1.294     0.7166      1.096          3        224: 100%|██████████| 113/113 [00:47<00:00,  2.40it/s]\n",
      "                 Class     Images  Instances      Box(P          R      mAP50  mAP50-95): 100%|██████████| 13/13 [00:05<00:00,  2.44it/s]"
     ]
    },
    {
     "name": "stdout",
     "output_type": "stream",
     "text": [
      "                   all        387        609      0.904      0.745      0.809      0.328\n"
     ]
    },
    {
     "name": "stderr",
     "output_type": "stream",
     "text": [
      "\n"
     ]
    },
    {
     "name": "stdout",
     "output_type": "stream",
     "text": [
      "\n",
      "      Epoch    GPU_mem   box_loss   cls_loss   dfl_loss  Instances       Size\n"
     ]
    },
    {
     "name": "stderr",
     "output_type": "stream",
     "text": [
      "    136/200         0G      1.285     0.7032      1.095          2        224: 100%|██████████| 113/113 [00:47<00:00,  2.39it/s]\n",
      "                 Class     Images  Instances      Box(P          R      mAP50  mAP50-95): 100%|██████████| 13/13 [00:05<00:00,  2.42it/s]"
     ]
    },
    {
     "name": "stdout",
     "output_type": "stream",
     "text": [
      "                   all        387        609      0.924       0.76      0.834      0.363\n"
     ]
    },
    {
     "name": "stderr",
     "output_type": "stream",
     "text": [
      "\n"
     ]
    },
    {
     "name": "stdout",
     "output_type": "stream",
     "text": [
      "\n",
      "      Epoch    GPU_mem   box_loss   cls_loss   dfl_loss  Instances       Size\n"
     ]
    },
    {
     "name": "stderr",
     "output_type": "stream",
     "text": [
      "    137/200         0G      1.305     0.7084      1.105          2        224: 100%|██████████| 113/113 [00:47<00:00,  2.38it/s]\n",
      "                 Class     Images  Instances      Box(P          R      mAP50  mAP50-95): 100%|██████████| 13/13 [00:05<00:00,  2.42it/s]"
     ]
    },
    {
     "name": "stdout",
     "output_type": "stream",
     "text": [
      "                   all        387        609      0.935      0.753      0.824      0.388\n"
     ]
    },
    {
     "name": "stderr",
     "output_type": "stream",
     "text": [
      "\n"
     ]
    },
    {
     "name": "stdout",
     "output_type": "stream",
     "text": [
      "\n",
      "      Epoch    GPU_mem   box_loss   cls_loss   dfl_loss  Instances       Size\n"
     ]
    },
    {
     "name": "stderr",
     "output_type": "stream",
     "text": [
      "    138/200         0G      1.287     0.6955      1.091          8        224: 100%|██████████| 113/113 [00:47<00:00,  2.39it/s]\n",
      "                 Class     Images  Instances      Box(P          R      mAP50  mAP50-95): 100%|██████████| 13/13 [00:05<00:00,  2.43it/s]"
     ]
    },
    {
     "name": "stdout",
     "output_type": "stream",
     "text": [
      "                   all        387        609      0.945       0.76      0.825      0.384\n"
     ]
    },
    {
     "name": "stderr",
     "output_type": "stream",
     "text": [
      "\n"
     ]
    },
    {
     "name": "stdout",
     "output_type": "stream",
     "text": [
      "\n",
      "      Epoch    GPU_mem   box_loss   cls_loss   dfl_loss  Instances       Size\n"
     ]
    },
    {
     "name": "stderr",
     "output_type": "stream",
     "text": [
      "    139/200         0G      1.304     0.6988      1.091         10        224: 100%|██████████| 113/113 [00:47<00:00,  2.40it/s]\n",
      "                 Class     Images  Instances      Box(P          R      mAP50  mAP50-95): 100%|██████████| 13/13 [00:05<00:00,  2.46it/s]"
     ]
    },
    {
     "name": "stdout",
     "output_type": "stream",
     "text": [
      "                   all        387        609      0.909      0.734        0.8        0.3\n"
     ]
    },
    {
     "name": "stderr",
     "output_type": "stream",
     "text": [
      "\n"
     ]
    },
    {
     "name": "stdout",
     "output_type": "stream",
     "text": [
      "\n",
      "      Epoch    GPU_mem   box_loss   cls_loss   dfl_loss  Instances       Size\n"
     ]
    },
    {
     "name": "stderr",
     "output_type": "stream",
     "text": [
      "    140/200         0G      1.294     0.7083      1.099          6        224: 100%|██████████| 113/113 [00:46<00:00,  2.41it/s]\n",
      "                 Class     Images  Instances      Box(P          R      mAP50  mAP50-95): 100%|██████████| 13/13 [00:05<00:00,  2.44it/s]"
     ]
    },
    {
     "name": "stdout",
     "output_type": "stream",
     "text": [
      "                   all        387        609      0.922      0.745      0.818      0.364\n"
     ]
    },
    {
     "name": "stderr",
     "output_type": "stream",
     "text": [
      "\n"
     ]
    },
    {
     "name": "stdout",
     "output_type": "stream",
     "text": [
      "\n",
      "      Epoch    GPU_mem   box_loss   cls_loss   dfl_loss  Instances       Size\n"
     ]
    },
    {
     "name": "stderr",
     "output_type": "stream",
     "text": [
      "    141/200         0G      1.287     0.6942      1.092          5        224: 100%|██████████| 113/113 [00:47<00:00,  2.36it/s]\n",
      "                 Class     Images  Instances      Box(P          R      mAP50  mAP50-95): 100%|██████████| 13/13 [00:05<00:00,  2.35it/s]"
     ]
    },
    {
     "name": "stdout",
     "output_type": "stream",
     "text": [
      "                   all        387        609      0.914      0.762      0.822      0.348\n"
     ]
    },
    {
     "name": "stderr",
     "output_type": "stream",
     "text": [
      "\n"
     ]
    },
    {
     "name": "stdout",
     "output_type": "stream",
     "text": [
      "\n",
      "      Epoch    GPU_mem   box_loss   cls_loss   dfl_loss  Instances       Size\n"
     ]
    },
    {
     "name": "stderr",
     "output_type": "stream",
     "text": [
      "    142/200         0G      1.266     0.6893      1.076          7        224: 100%|██████████| 113/113 [00:47<00:00,  2.39it/s]\n",
      "                 Class     Images  Instances      Box(P          R      mAP50  mAP50-95): 100%|██████████| 13/13 [00:05<00:00,  2.45it/s]"
     ]
    },
    {
     "name": "stdout",
     "output_type": "stream",
     "text": [
      "                   all        387        609       0.92      0.758      0.821      0.361\n"
     ]
    },
    {
     "name": "stderr",
     "output_type": "stream",
     "text": [
      "\n"
     ]
    },
    {
     "name": "stdout",
     "output_type": "stream",
     "text": [
      "\n",
      "      Epoch    GPU_mem   box_loss   cls_loss   dfl_loss  Instances       Size\n"
     ]
    },
    {
     "name": "stderr",
     "output_type": "stream",
     "text": [
      "    143/200         0G      1.285     0.7016      1.084          4        224: 100%|██████████| 113/113 [00:46<00:00,  2.41it/s]\n",
      "                 Class     Images  Instances      Box(P          R      mAP50  mAP50-95): 100%|██████████| 13/13 [00:05<00:00,  2.44it/s]"
     ]
    },
    {
     "name": "stdout",
     "output_type": "stream",
     "text": [
      "                   all        387        609      0.918      0.771      0.831      0.378\n"
     ]
    },
    {
     "name": "stderr",
     "output_type": "stream",
     "text": [
      "\n"
     ]
    },
    {
     "name": "stdout",
     "output_type": "stream",
     "text": [
      "\n",
      "      Epoch    GPU_mem   box_loss   cls_loss   dfl_loss  Instances       Size\n"
     ]
    },
    {
     "name": "stderr",
     "output_type": "stream",
     "text": [
      "    144/200         0G      1.255     0.6965      1.082          4        224: 100%|██████████| 113/113 [00:47<00:00,  2.40it/s]\n",
      "                 Class     Images  Instances      Box(P          R      mAP50  mAP50-95): 100%|██████████| 13/13 [00:05<00:00,  2.44it/s]"
     ]
    },
    {
     "name": "stdout",
     "output_type": "stream",
     "text": [
      "                   all        387        609      0.934      0.764      0.826      0.358\n"
     ]
    },
    {
     "name": "stderr",
     "output_type": "stream",
     "text": [
      "\n"
     ]
    },
    {
     "name": "stdout",
     "output_type": "stream",
     "text": [
      "\n",
      "      Epoch    GPU_mem   box_loss   cls_loss   dfl_loss  Instances       Size\n"
     ]
    },
    {
     "name": "stderr",
     "output_type": "stream",
     "text": [
      "    145/200         0G       1.26     0.6886      1.075          3        224: 100%|██████████| 113/113 [00:47<00:00,  2.40it/s]\n",
      "                 Class     Images  Instances      Box(P          R      mAP50  mAP50-95): 100%|██████████| 13/13 [00:05<00:00,  2.45it/s]"
     ]
    },
    {
     "name": "stdout",
     "output_type": "stream",
     "text": [
      "                   all        387        609      0.929       0.75      0.822      0.332\n"
     ]
    },
    {
     "name": "stderr",
     "output_type": "stream",
     "text": [
      "\n"
     ]
    },
    {
     "name": "stdout",
     "output_type": "stream",
     "text": [
      "\n",
      "      Epoch    GPU_mem   box_loss   cls_loss   dfl_loss  Instances       Size\n"
     ]
    },
    {
     "name": "stderr",
     "output_type": "stream",
     "text": [
      "    146/200         0G      1.268     0.6872      1.087          7        224: 100%|██████████| 113/113 [00:47<00:00,  2.37it/s]\n",
      "                 Class     Images  Instances      Box(P          R      mAP50  mAP50-95): 100%|██████████| 13/13 [00:05<00:00,  2.34it/s]"
     ]
    },
    {
     "name": "stdout",
     "output_type": "stream",
     "text": [
      "                   all        387        609       0.93      0.759      0.825      0.374\n"
     ]
    },
    {
     "name": "stderr",
     "output_type": "stream",
     "text": [
      "\n"
     ]
    },
    {
     "name": "stdout",
     "output_type": "stream",
     "text": [
      "\n",
      "      Epoch    GPU_mem   box_loss   cls_loss   dfl_loss  Instances       Size\n"
     ]
    },
    {
     "name": "stderr",
     "output_type": "stream",
     "text": [
      "    147/200         0G      1.263     0.6919      1.087          7        224: 100%|██████████| 113/113 [00:49<00:00,  2.29it/s]\n",
      "                 Class     Images  Instances      Box(P          R      mAP50  mAP50-95): 100%|██████████| 13/13 [00:05<00:00,  2.35it/s]"
     ]
    },
    {
     "name": "stdout",
     "output_type": "stream",
     "text": [
      "                   all        387        609      0.924      0.754      0.821      0.358\n"
     ]
    },
    {
     "name": "stderr",
     "output_type": "stream",
     "text": [
      "\n"
     ]
    },
    {
     "name": "stdout",
     "output_type": "stream",
     "text": [
      "\n",
      "      Epoch    GPU_mem   box_loss   cls_loss   dfl_loss  Instances       Size\n"
     ]
    },
    {
     "name": "stderr",
     "output_type": "stream",
     "text": [
      "    148/200         0G      1.241     0.6772      1.072          2        224: 100%|██████████| 113/113 [00:49<00:00,  2.29it/s]\n",
      "                 Class     Images  Instances      Box(P          R      mAP50  mAP50-95): 100%|██████████| 13/13 [00:05<00:00,  2.34it/s]"
     ]
    },
    {
     "name": "stdout",
     "output_type": "stream",
     "text": [
      "                   all        387        609      0.936      0.744      0.825      0.364\n"
     ]
    },
    {
     "name": "stderr",
     "output_type": "stream",
     "text": [
      "\n"
     ]
    },
    {
     "name": "stdout",
     "output_type": "stream",
     "text": [
      "\n",
      "      Epoch    GPU_mem   box_loss   cls_loss   dfl_loss  Instances       Size\n"
     ]
    },
    {
     "name": "stderr",
     "output_type": "stream",
     "text": [
      "    149/200         0G      1.278     0.6986      1.086          7        224: 100%|██████████| 113/113 [00:49<00:00,  2.29it/s]\n",
      "                 Class     Images  Instances      Box(P          R      mAP50  mAP50-95): 100%|██████████| 13/13 [00:05<00:00,  2.35it/s]"
     ]
    },
    {
     "name": "stdout",
     "output_type": "stream",
     "text": [
      "                   all        387        609      0.925      0.747      0.825      0.354\n"
     ]
    },
    {
     "name": "stderr",
     "output_type": "stream",
     "text": [
      "\n"
     ]
    },
    {
     "name": "stdout",
     "output_type": "stream",
     "text": [
      "\n",
      "      Epoch    GPU_mem   box_loss   cls_loss   dfl_loss  Instances       Size\n"
     ]
    },
    {
     "name": "stderr",
     "output_type": "stream",
     "text": [
      "    150/200         0G      1.272     0.6845      1.089          4        224: 100%|██████████| 113/113 [00:49<00:00,  2.28it/s]\n",
      "                 Class     Images  Instances      Box(P          R      mAP50  mAP50-95): 100%|██████████| 13/13 [00:05<00:00,  2.33it/s]"
     ]
    },
    {
     "name": "stdout",
     "output_type": "stream",
     "text": [
      "                   all        387        609      0.915      0.757      0.829      0.395\n"
     ]
    },
    {
     "name": "stderr",
     "output_type": "stream",
     "text": [
      "\n"
     ]
    },
    {
     "name": "stdout",
     "output_type": "stream",
     "text": [
      "\n",
      "      Epoch    GPU_mem   box_loss   cls_loss   dfl_loss  Instances       Size\n"
     ]
    },
    {
     "name": "stderr",
     "output_type": "stream",
     "text": [
      "    151/200         0G      1.257     0.6838      1.085          3        224: 100%|██████████| 113/113 [00:49<00:00,  2.28it/s]\n",
      "                 Class     Images  Instances      Box(P          R      mAP50  mAP50-95): 100%|██████████| 13/13 [00:05<00:00,  2.34it/s]"
     ]
    },
    {
     "name": "stdout",
     "output_type": "stream",
     "text": [
      "                   all        387        609      0.925      0.752       0.83      0.361\n"
     ]
    },
    {
     "name": "stderr",
     "output_type": "stream",
     "text": [
      "\n"
     ]
    },
    {
     "name": "stdout",
     "output_type": "stream",
     "text": [
      "\n",
      "      Epoch    GPU_mem   box_loss   cls_loss   dfl_loss  Instances       Size\n"
     ]
    },
    {
     "name": "stderr",
     "output_type": "stream",
     "text": [
      "    152/200         0G      1.274     0.6936      1.087          9        224: 100%|██████████| 113/113 [00:49<00:00,  2.28it/s]\n",
      "                 Class     Images  Instances      Box(P          R      mAP50  mAP50-95): 100%|██████████| 13/13 [00:05<00:00,  2.33it/s]"
     ]
    },
    {
     "name": "stdout",
     "output_type": "stream",
     "text": [
      "                   all        387        609      0.927      0.768      0.827      0.388\n"
     ]
    },
    {
     "name": "stderr",
     "output_type": "stream",
     "text": [
      "\n"
     ]
    },
    {
     "name": "stdout",
     "output_type": "stream",
     "text": [
      "\n",
      "      Epoch    GPU_mem   box_loss   cls_loss   dfl_loss  Instances       Size\n"
     ]
    },
    {
     "name": "stderr",
     "output_type": "stream",
     "text": [
      "    153/200         0G      1.251     0.6841       1.09          7        224: 100%|██████████| 113/113 [00:49<00:00,  2.28it/s]\n",
      "                 Class     Images  Instances      Box(P          R      mAP50  mAP50-95): 100%|██████████| 13/13 [00:05<00:00,  2.34it/s]"
     ]
    },
    {
     "name": "stdout",
     "output_type": "stream",
     "text": [
      "                   all        387        609      0.928      0.762      0.821      0.395\n"
     ]
    },
    {
     "name": "stderr",
     "output_type": "stream",
     "text": [
      "\n"
     ]
    },
    {
     "name": "stdout",
     "output_type": "stream",
     "text": [
      "\n",
      "      Epoch    GPU_mem   box_loss   cls_loss   dfl_loss  Instances       Size\n"
     ]
    },
    {
     "name": "stderr",
     "output_type": "stream",
     "text": [
      "    154/200         0G      1.245     0.6787      1.074          5        224: 100%|██████████| 113/113 [00:49<00:00,  2.28it/s]\n",
      "                 Class     Images  Instances      Box(P          R      mAP50  mAP50-95): 100%|██████████| 13/13 [00:05<00:00,  2.35it/s]"
     ]
    },
    {
     "name": "stdout",
     "output_type": "stream",
     "text": [
      "                   all        387        609      0.929      0.773      0.828      0.391\n"
     ]
    },
    {
     "name": "stderr",
     "output_type": "stream",
     "text": [
      "\n"
     ]
    },
    {
     "name": "stdout",
     "output_type": "stream",
     "text": [
      "\n",
      "      Epoch    GPU_mem   box_loss   cls_loss   dfl_loss  Instances       Size\n"
     ]
    },
    {
     "name": "stderr",
     "output_type": "stream",
     "text": [
      "    155/200         0G      1.225     0.6705      1.067          1        224: 100%|██████████| 113/113 [00:49<00:00,  2.28it/s]\n",
      "                 Class     Images  Instances      Box(P          R      mAP50  mAP50-95): 100%|██████████| 13/13 [00:05<00:00,  2.35it/s]"
     ]
    },
    {
     "name": "stdout",
     "output_type": "stream",
     "text": [
      "                   all        387        609       0.92      0.759      0.813      0.345\n"
     ]
    },
    {
     "name": "stderr",
     "output_type": "stream",
     "text": [
      "\n"
     ]
    },
    {
     "name": "stdout",
     "output_type": "stream",
     "text": [
      "\n",
      "      Epoch    GPU_mem   box_loss   cls_loss   dfl_loss  Instances       Size\n"
     ]
    },
    {
     "name": "stderr",
     "output_type": "stream",
     "text": [
      "    156/200         0G      1.247     0.6752      1.072          5        224: 100%|██████████| 113/113 [00:49<00:00,  2.28it/s]\n",
      "                 Class     Images  Instances      Box(P          R      mAP50  mAP50-95): 100%|██████████| 13/13 [00:05<00:00,  2.34it/s]"
     ]
    },
    {
     "name": "stdout",
     "output_type": "stream",
     "text": [
      "                   all        387        609      0.913      0.762      0.818      0.356\n"
     ]
    },
    {
     "name": "stderr",
     "output_type": "stream",
     "text": [
      "\n"
     ]
    },
    {
     "name": "stdout",
     "output_type": "stream",
     "text": [
      "\n",
      "      Epoch    GPU_mem   box_loss   cls_loss   dfl_loss  Instances       Size\n"
     ]
    },
    {
     "name": "stderr",
     "output_type": "stream",
     "text": [
      "    157/200         0G      1.216     0.6761      1.069          5        224: 100%|██████████| 113/113 [00:48<00:00,  2.34it/s]\n",
      "                 Class     Images  Instances      Box(P          R      mAP50  mAP50-95): 100%|██████████| 13/13 [00:05<00:00,  2.44it/s]"
     ]
    },
    {
     "name": "stdout",
     "output_type": "stream",
     "text": [
      "                   all        387        609      0.933      0.757       0.82      0.383\n"
     ]
    },
    {
     "name": "stderr",
     "output_type": "stream",
     "text": [
      "\n"
     ]
    },
    {
     "name": "stdout",
     "output_type": "stream",
     "text": [
      "\n",
      "      Epoch    GPU_mem   box_loss   cls_loss   dfl_loss  Instances       Size\n"
     ]
    },
    {
     "name": "stderr",
     "output_type": "stream",
     "text": [
      "    158/200         0G      1.227      0.672      1.078          4        224: 100%|██████████| 113/113 [00:46<00:00,  2.41it/s]\n",
      "                 Class     Images  Instances      Box(P          R      mAP50  mAP50-95): 100%|██████████| 13/13 [00:05<00:00,  2.43it/s]"
     ]
    },
    {
     "name": "stdout",
     "output_type": "stream",
     "text": [
      "                   all        387        609      0.924      0.755      0.815      0.362\n"
     ]
    },
    {
     "name": "stderr",
     "output_type": "stream",
     "text": [
      "\n"
     ]
    },
    {
     "name": "stdout",
     "output_type": "stream",
     "text": [
      "\n",
      "      Epoch    GPU_mem   box_loss   cls_loss   dfl_loss  Instances       Size\n"
     ]
    },
    {
     "name": "stderr",
     "output_type": "stream",
     "text": [
      "    159/200         0G      1.225     0.6732      1.074          2        224: 100%|██████████| 113/113 [00:46<00:00,  2.41it/s]\n",
      "                 Class     Images  Instances      Box(P          R      mAP50  mAP50-95): 100%|██████████| 13/13 [00:05<00:00,  2.44it/s]"
     ]
    },
    {
     "name": "stdout",
     "output_type": "stream",
     "text": [
      "                   all        387        609      0.921       0.75      0.816      0.361\n"
     ]
    },
    {
     "name": "stderr",
     "output_type": "stream",
     "text": [
      "\n"
     ]
    },
    {
     "name": "stdout",
     "output_type": "stream",
     "text": [
      "\n",
      "      Epoch    GPU_mem   box_loss   cls_loss   dfl_loss  Instances       Size\n"
     ]
    },
    {
     "name": "stderr",
     "output_type": "stream",
     "text": [
      "    160/200         0G      1.225     0.6632      1.065          6        224: 100%|██████████| 113/113 [00:48<00:00,  2.33it/s]\n",
      "                 Class     Images  Instances      Box(P          R      mAP50  mAP50-95): 100%|██████████| 13/13 [00:05<00:00,  2.43it/s]"
     ]
    },
    {
     "name": "stdout",
     "output_type": "stream",
     "text": [
      "                   all        387        609      0.937      0.754      0.819       0.36\n"
     ]
    },
    {
     "name": "stderr",
     "output_type": "stream",
     "text": [
      "\n"
     ]
    },
    {
     "name": "stdout",
     "output_type": "stream",
     "text": [
      "\n",
      "      Epoch    GPU_mem   box_loss   cls_loss   dfl_loss  Instances       Size\n"
     ]
    },
    {
     "name": "stderr",
     "output_type": "stream",
     "text": [
      "    161/200         0G      1.227     0.6624      1.072          1        224: 100%|██████████| 113/113 [00:47<00:00,  2.40it/s]\n",
      "                 Class     Images  Instances      Box(P          R      mAP50  mAP50-95): 100%|██████████| 13/13 [00:05<00:00,  2.45it/s]"
     ]
    },
    {
     "name": "stdout",
     "output_type": "stream",
     "text": [
      "                   all        387        609      0.924      0.747      0.817      0.341\n"
     ]
    },
    {
     "name": "stderr",
     "output_type": "stream",
     "text": [
      "\n"
     ]
    },
    {
     "name": "stdout",
     "output_type": "stream",
     "text": [
      "\n",
      "      Epoch    GPU_mem   box_loss   cls_loss   dfl_loss  Instances       Size\n"
     ]
    },
    {
     "name": "stderr",
     "output_type": "stream",
     "text": [
      "    162/200         0G      1.229     0.6713      1.069          4        224: 100%|██████████| 113/113 [00:46<00:00,  2.40it/s]\n",
      "                 Class     Images  Instances      Box(P          R      mAP50  mAP50-95): 100%|██████████| 13/13 [00:05<00:00,  2.44it/s]"
     ]
    },
    {
     "name": "stdout",
     "output_type": "stream",
     "text": [
      "                   all        387        609      0.936      0.752      0.828      0.367\n"
     ]
    },
    {
     "name": "stderr",
     "output_type": "stream",
     "text": [
      "\n"
     ]
    },
    {
     "name": "stdout",
     "output_type": "stream",
     "text": [
      "\n",
      "      Epoch    GPU_mem   box_loss   cls_loss   dfl_loss  Instances       Size\n"
     ]
    },
    {
     "name": "stderr",
     "output_type": "stream",
     "text": [
      "    163/200         0G      1.249     0.6867      1.083          2        224: 100%|██████████| 113/113 [00:47<00:00,  2.40it/s]\n",
      "                 Class     Images  Instances      Box(P          R      mAP50  mAP50-95): 100%|██████████| 13/13 [00:05<00:00,  2.42it/s]"
     ]
    },
    {
     "name": "stdout",
     "output_type": "stream",
     "text": [
      "                   all        387        609       0.93      0.746       0.82      0.353\n"
     ]
    },
    {
     "name": "stderr",
     "output_type": "stream",
     "text": [
      "\n"
     ]
    },
    {
     "name": "stdout",
     "output_type": "stream",
     "text": [
      "\n",
      "      Epoch    GPU_mem   box_loss   cls_loss   dfl_loss  Instances       Size\n"
     ]
    },
    {
     "name": "stderr",
     "output_type": "stream",
     "text": [
      "    164/200         0G      1.221     0.6635      1.079          2        224: 100%|██████████| 113/113 [00:46<00:00,  2.41it/s]\n",
      "                 Class     Images  Instances      Box(P          R      mAP50  mAP50-95): 100%|██████████| 13/13 [00:05<00:00,  2.43it/s]"
     ]
    },
    {
     "name": "stdout",
     "output_type": "stream",
     "text": [
      "                   all        387        609      0.919      0.775       0.83      0.366\n"
     ]
    },
    {
     "name": "stderr",
     "output_type": "stream",
     "text": [
      "\n"
     ]
    },
    {
     "name": "stdout",
     "output_type": "stream",
     "text": [
      "\n",
      "      Epoch    GPU_mem   box_loss   cls_loss   dfl_loss  Instances       Size\n"
     ]
    },
    {
     "name": "stderr",
     "output_type": "stream",
     "text": [
      "    165/200         0G      1.208     0.6498      1.066          9        224: 100%|██████████| 113/113 [00:47<00:00,  2.40it/s]\n",
      "                 Class     Images  Instances      Box(P          R      mAP50  mAP50-95): 100%|██████████| 13/13 [00:05<00:00,  2.45it/s]"
     ]
    },
    {
     "name": "stdout",
     "output_type": "stream",
     "text": [
      "                   all        387        609      0.936      0.767      0.833      0.386\n"
     ]
    },
    {
     "name": "stderr",
     "output_type": "stream",
     "text": [
      "\n"
     ]
    },
    {
     "name": "stdout",
     "output_type": "stream",
     "text": [
      "\n",
      "      Epoch    GPU_mem   box_loss   cls_loss   dfl_loss  Instances       Size\n"
     ]
    },
    {
     "name": "stderr",
     "output_type": "stream",
     "text": [
      "    166/200         0G      1.208     0.6632      1.068          3        224: 100%|██████████| 113/113 [00:48<00:00,  2.32it/s]\n",
      "                 Class     Images  Instances      Box(P          R      mAP50  mAP50-95): 100%|██████████| 13/13 [00:05<00:00,  2.35it/s]"
     ]
    },
    {
     "name": "stdout",
     "output_type": "stream",
     "text": [
      "                   all        387        609       0.93      0.755      0.825      0.366\n"
     ]
    },
    {
     "name": "stderr",
     "output_type": "stream",
     "text": [
      "\n"
     ]
    },
    {
     "name": "stdout",
     "output_type": "stream",
     "text": [
      "\n",
      "      Epoch    GPU_mem   box_loss   cls_loss   dfl_loss  Instances       Size\n"
     ]
    },
    {
     "name": "stderr",
     "output_type": "stream",
     "text": [
      "    167/200         0G      1.203      0.669      1.066          7        224: 100%|██████████| 113/113 [00:49<00:00,  2.27it/s]\n",
      "                 Class     Images  Instances      Box(P          R      mAP50  mAP50-95): 100%|██████████| 13/13 [00:05<00:00,  2.36it/s]"
     ]
    },
    {
     "name": "stdout",
     "output_type": "stream",
     "text": [
      "                   all        387        609      0.935      0.756      0.824      0.378\n"
     ]
    },
    {
     "name": "stderr",
     "output_type": "stream",
     "text": [
      "\n"
     ]
    },
    {
     "name": "stdout",
     "output_type": "stream",
     "text": [
      "\n",
      "      Epoch    GPU_mem   box_loss   cls_loss   dfl_loss  Instances       Size\n"
     ]
    },
    {
     "name": "stderr",
     "output_type": "stream",
     "text": [
      "    168/200         0G      1.209     0.6646      1.062          6        224: 100%|██████████| 113/113 [00:48<00:00,  2.31it/s]\n",
      "                 Class     Images  Instances      Box(P          R      mAP50  mAP50-95): 100%|██████████| 13/13 [00:05<00:00,  2.42it/s]"
     ]
    },
    {
     "name": "stdout",
     "output_type": "stream",
     "text": [
      "                   all        387        609      0.943       0.76      0.828       0.37\n"
     ]
    },
    {
     "name": "stderr",
     "output_type": "stream",
     "text": [
      "\n"
     ]
    },
    {
     "name": "stdout",
     "output_type": "stream",
     "text": [
      "\n",
      "      Epoch    GPU_mem   box_loss   cls_loss   dfl_loss  Instances       Size\n"
     ]
    },
    {
     "name": "stderr",
     "output_type": "stream",
     "text": [
      "    169/200         0G      1.219     0.6633      1.069          3        224: 100%|██████████| 113/113 [00:46<00:00,  2.41it/s]\n",
      "                 Class     Images  Instances      Box(P          R      mAP50  mAP50-95): 100%|██████████| 13/13 [00:05<00:00,  2.42it/s]"
     ]
    },
    {
     "name": "stdout",
     "output_type": "stream",
     "text": [
      "                   all        387        609      0.936      0.766      0.828      0.364\n"
     ]
    },
    {
     "name": "stderr",
     "output_type": "stream",
     "text": [
      "\n"
     ]
    },
    {
     "name": "stdout",
     "output_type": "stream",
     "text": [
      "\n",
      "      Epoch    GPU_mem   box_loss   cls_loss   dfl_loss  Instances       Size\n"
     ]
    },
    {
     "name": "stderr",
     "output_type": "stream",
     "text": [
      "    170/200         0G        1.2     0.6479      1.054          6        224: 100%|██████████| 113/113 [00:47<00:00,  2.38it/s]\n",
      "                 Class     Images  Instances      Box(P          R      mAP50  mAP50-95): 100%|██████████| 13/13 [00:05<00:00,  2.43it/s]"
     ]
    },
    {
     "name": "stdout",
     "output_type": "stream",
     "text": [
      "                   all        387        609      0.936      0.766      0.831      0.392\n"
     ]
    },
    {
     "name": "stderr",
     "output_type": "stream",
     "text": [
      "\n"
     ]
    },
    {
     "name": "stdout",
     "output_type": "stream",
     "text": [
      "\n",
      "      Epoch    GPU_mem   box_loss   cls_loss   dfl_loss  Instances       Size\n"
     ]
    },
    {
     "name": "stderr",
     "output_type": "stream",
     "text": [
      "    171/200         0G      1.195     0.6592      1.061          4        224: 100%|██████████| 113/113 [00:47<00:00,  2.38it/s]\n",
      "                 Class     Images  Instances      Box(P          R      mAP50  mAP50-95): 100%|██████████| 13/13 [00:05<00:00,  2.42it/s]"
     ]
    },
    {
     "name": "stdout",
     "output_type": "stream",
     "text": [
      "                   all        387        609      0.927       0.77      0.839      0.383\n"
     ]
    },
    {
     "name": "stderr",
     "output_type": "stream",
     "text": [
      "\n"
     ]
    },
    {
     "name": "stdout",
     "output_type": "stream",
     "text": [
      "\n",
      "      Epoch    GPU_mem   box_loss   cls_loss   dfl_loss  Instances       Size\n"
     ]
    },
    {
     "name": "stderr",
     "output_type": "stream",
     "text": [
      "    172/200         0G      1.203     0.6624      1.055          2        224: 100%|██████████| 113/113 [00:47<00:00,  2.39it/s]\n",
      "                 Class     Images  Instances      Box(P          R      mAP50  mAP50-95): 100%|██████████| 13/13 [00:05<00:00,  2.43it/s]"
     ]
    },
    {
     "name": "stdout",
     "output_type": "stream",
     "text": [
      "                   all        387        609      0.932      0.767      0.835      0.393\n"
     ]
    },
    {
     "name": "stderr",
     "output_type": "stream",
     "text": [
      "\n"
     ]
    },
    {
     "name": "stdout",
     "output_type": "stream",
     "text": [
      "\n",
      "      Epoch    GPU_mem   box_loss   cls_loss   dfl_loss  Instances       Size\n"
     ]
    },
    {
     "name": "stderr",
     "output_type": "stream",
     "text": [
      "    173/200         0G      1.194     0.6551      1.065          9        224: 100%|██████████| 113/113 [00:46<00:00,  2.40it/s]\n",
      "                 Class     Images  Instances      Box(P          R      mAP50  mAP50-95): 100%|██████████| 13/13 [00:05<00:00,  2.44it/s]"
     ]
    },
    {
     "name": "stdout",
     "output_type": "stream",
     "text": [
      "                   all        387        609      0.931      0.767      0.838      0.386\n"
     ]
    },
    {
     "name": "stderr",
     "output_type": "stream",
     "text": [
      "\n"
     ]
    },
    {
     "name": "stdout",
     "output_type": "stream",
     "text": [
      "\n",
      "      Epoch    GPU_mem   box_loss   cls_loss   dfl_loss  Instances       Size\n"
     ]
    },
    {
     "name": "stderr",
     "output_type": "stream",
     "text": [
      "    174/200         0G       1.18     0.6459      1.063          3        224: 100%|██████████| 113/113 [00:47<00:00,  2.39it/s]\n",
      "                 Class     Images  Instances      Box(P          R      mAP50  mAP50-95): 100%|██████████| 13/13 [00:05<00:00,  2.44it/s]"
     ]
    },
    {
     "name": "stdout",
     "output_type": "stream",
     "text": [
      "                   all        387        609      0.923      0.765      0.837      0.378\n"
     ]
    },
    {
     "name": "stderr",
     "output_type": "stream",
     "text": [
      "\n"
     ]
    },
    {
     "name": "stdout",
     "output_type": "stream",
     "text": [
      "\n",
      "      Epoch    GPU_mem   box_loss   cls_loss   dfl_loss  Instances       Size\n"
     ]
    },
    {
     "name": "stderr",
     "output_type": "stream",
     "text": [
      "    175/200         0G      1.198     0.6638      1.055          1        224: 100%|██████████| 113/113 [00:46<00:00,  2.41it/s]\n",
      "                 Class     Images  Instances      Box(P          R      mAP50  mAP50-95): 100%|██████████| 13/13 [00:05<00:00,  2.44it/s]"
     ]
    },
    {
     "name": "stdout",
     "output_type": "stream",
     "text": [
      "                   all        387        609      0.929      0.773      0.838      0.394\n"
     ]
    },
    {
     "name": "stderr",
     "output_type": "stream",
     "text": [
      "\n"
     ]
    },
    {
     "name": "stdout",
     "output_type": "stream",
     "text": [
      "\n",
      "      Epoch    GPU_mem   box_loss   cls_loss   dfl_loss  Instances       Size\n"
     ]
    },
    {
     "name": "stderr",
     "output_type": "stream",
     "text": [
      "    176/200         0G      1.185      0.668      1.059          3        224: 100%|██████████| 113/113 [00:47<00:00,  2.40it/s]\n",
      "                 Class     Images  Instances      Box(P          R      mAP50  mAP50-95): 100%|██████████| 13/13 [00:05<00:00,  2.43it/s]"
     ]
    },
    {
     "name": "stdout",
     "output_type": "stream",
     "text": [
      "                   all        387        609      0.915      0.768      0.832      0.395\n"
     ]
    },
    {
     "name": "stderr",
     "output_type": "stream",
     "text": [
      "\n"
     ]
    },
    {
     "name": "stdout",
     "output_type": "stream",
     "text": [
      "\n",
      "      Epoch    GPU_mem   box_loss   cls_loss   dfl_loss  Instances       Size\n"
     ]
    },
    {
     "name": "stderr",
     "output_type": "stream",
     "text": [
      "    177/200         0G      1.184     0.6461      1.055          1        224: 100%|██████████| 113/113 [00:46<00:00,  2.40it/s]\n",
      "                 Class     Images  Instances      Box(P          R      mAP50  mAP50-95): 100%|██████████| 13/13 [00:05<00:00,  2.44it/s]"
     ]
    },
    {
     "name": "stdout",
     "output_type": "stream",
     "text": [
      "                   all        387        609      0.931      0.764      0.833       0.37\n"
     ]
    },
    {
     "name": "stderr",
     "output_type": "stream",
     "text": [
      "\n"
     ]
    },
    {
     "name": "stdout",
     "output_type": "stream",
     "text": [
      "\n",
      "      Epoch    GPU_mem   box_loss   cls_loss   dfl_loss  Instances       Size\n"
     ]
    },
    {
     "name": "stderr",
     "output_type": "stream",
     "text": [
      "    178/200         0G      1.192     0.6602      1.052          4        224: 100%|██████████| 113/113 [00:47<00:00,  2.40it/s]\n",
      "                 Class     Images  Instances      Box(P          R      mAP50  mAP50-95): 100%|██████████| 13/13 [00:05<00:00,  2.46it/s]"
     ]
    },
    {
     "name": "stdout",
     "output_type": "stream",
     "text": [
      "                   all        387        609      0.923      0.773      0.831      0.382\n"
     ]
    },
    {
     "name": "stderr",
     "output_type": "stream",
     "text": [
      "\n"
     ]
    },
    {
     "name": "stdout",
     "output_type": "stream",
     "text": [
      "\n",
      "      Epoch    GPU_mem   box_loss   cls_loss   dfl_loss  Instances       Size\n"
     ]
    },
    {
     "name": "stderr",
     "output_type": "stream",
     "text": [
      "    179/200         0G      1.168     0.6446      1.048          3        224: 100%|██████████| 113/113 [00:47<00:00,  2.40it/s]\n",
      "                 Class     Images  Instances      Box(P          R      mAP50  mAP50-95): 100%|██████████| 13/13 [00:05<00:00,  2.42it/s]"
     ]
    },
    {
     "name": "stdout",
     "output_type": "stream",
     "text": [
      "                   all        387        609      0.932      0.766      0.833      0.383\n"
     ]
    },
    {
     "name": "stderr",
     "output_type": "stream",
     "text": [
      "\n"
     ]
    },
    {
     "name": "stdout",
     "output_type": "stream",
     "text": [
      "\n",
      "      Epoch    GPU_mem   box_loss   cls_loss   dfl_loss  Instances       Size\n"
     ]
    },
    {
     "name": "stderr",
     "output_type": "stream",
     "text": [
      "    180/200         0G      1.187     0.6846       1.06          1        224: 100%|██████████| 113/113 [00:49<00:00,  2.30it/s]\n",
      "                 Class     Images  Instances      Box(P          R      mAP50  mAP50-95): 100%|██████████| 13/13 [00:05<00:00,  2.35it/s]"
     ]
    },
    {
     "name": "stdout",
     "output_type": "stream",
     "text": [
      "                   all        387        609      0.938       0.77      0.841      0.388\n"
     ]
    },
    {
     "name": "stderr",
     "output_type": "stream",
     "text": [
      "\n"
     ]
    },
    {
     "name": "stdout",
     "output_type": "stream",
     "text": [
      "\n",
      "      Epoch    GPU_mem   box_loss   cls_loss   dfl_loss  Instances       Size\n"
     ]
    },
    {
     "name": "stderr",
     "output_type": "stream",
     "text": [
      "    181/200         0G      1.194     0.6558      1.063          8        224: 100%|██████████| 113/113 [00:49<00:00,  2.27it/s]\n",
      "                 Class     Images  Instances      Box(P          R      mAP50  mAP50-95): 100%|██████████| 13/13 [00:05<00:00,  2.35it/s]"
     ]
    },
    {
     "name": "stdout",
     "output_type": "stream",
     "text": [
      "                   all        387        609      0.929      0.753       0.83      0.372\n"
     ]
    },
    {
     "name": "stderr",
     "output_type": "stream",
     "text": [
      "\n"
     ]
    },
    {
     "name": "stdout",
     "output_type": "stream",
     "text": [
      "\n",
      "      Epoch    GPU_mem   box_loss   cls_loss   dfl_loss  Instances       Size\n"
     ]
    },
    {
     "name": "stderr",
     "output_type": "stream",
     "text": [
      "    182/200         0G      1.188     0.6535      1.065          5        224: 100%|██████████| 113/113 [00:49<00:00,  2.29it/s]\n",
      "                 Class     Images  Instances      Box(P          R      mAP50  mAP50-95): 100%|██████████| 13/13 [00:05<00:00,  2.36it/s]"
     ]
    },
    {
     "name": "stdout",
     "output_type": "stream",
     "text": [
      "                   all        387        609      0.941       0.76      0.837      0.375\n"
     ]
    },
    {
     "name": "stderr",
     "output_type": "stream",
     "text": [
      "\n"
     ]
    },
    {
     "name": "stdout",
     "output_type": "stream",
     "text": [
      "\n",
      "      Epoch    GPU_mem   box_loss   cls_loss   dfl_loss  Instances       Size\n"
     ]
    },
    {
     "name": "stderr",
     "output_type": "stream",
     "text": [
      "    183/200         0G      1.196     0.6538      1.064          4        224: 100%|██████████| 113/113 [00:49<00:00,  2.29it/s]\n",
      "                 Class     Images  Instances      Box(P          R      mAP50  mAP50-95): 100%|██████████| 13/13 [00:05<00:00,  2.34it/s]"
     ]
    },
    {
     "name": "stdout",
     "output_type": "stream",
     "text": [
      "                   all        387        609       0.94      0.771      0.839      0.395\n"
     ]
    },
    {
     "name": "stderr",
     "output_type": "stream",
     "text": [
      "\n"
     ]
    },
    {
     "name": "stdout",
     "output_type": "stream",
     "text": [
      "\n",
      "      Epoch    GPU_mem   box_loss   cls_loss   dfl_loss  Instances       Size\n"
     ]
    },
    {
     "name": "stderr",
     "output_type": "stream",
     "text": [
      "    184/200         0G      1.175     0.6467      1.058          2        224: 100%|██████████| 113/113 [00:49<00:00,  2.28it/s]\n",
      "                 Class     Images  Instances      Box(P          R      mAP50  mAP50-95): 100%|██████████| 13/13 [00:05<00:00,  2.34it/s]"
     ]
    },
    {
     "name": "stdout",
     "output_type": "stream",
     "text": [
      "                   all        387        609      0.945      0.767      0.838       0.39\n"
     ]
    },
    {
     "name": "stderr",
     "output_type": "stream",
     "text": [
      "\n"
     ]
    },
    {
     "name": "stdout",
     "output_type": "stream",
     "text": [
      "\n",
      "      Epoch    GPU_mem   box_loss   cls_loss   dfl_loss  Instances       Size\n"
     ]
    },
    {
     "name": "stderr",
     "output_type": "stream",
     "text": [
      "    185/200         0G      1.148     0.6332      1.044          5        224: 100%|██████████| 113/113 [00:49<00:00,  2.28it/s]\n",
      "                 Class     Images  Instances      Box(P          R      mAP50  mAP50-95): 100%|██████████| 13/13 [00:05<00:00,  2.32it/s]"
     ]
    },
    {
     "name": "stdout",
     "output_type": "stream",
     "text": [
      "                   all        387        609      0.939      0.762      0.836      0.384\n"
     ]
    },
    {
     "name": "stderr",
     "output_type": "stream",
     "text": [
      "\n"
     ]
    },
    {
     "name": "stdout",
     "output_type": "stream",
     "text": [
      "\n",
      "      Epoch    GPU_mem   box_loss   cls_loss   dfl_loss  Instances       Size\n"
     ]
    },
    {
     "name": "stderr",
     "output_type": "stream",
     "text": [
      "    186/200         0G      1.174      0.636      1.054          5        224: 100%|██████████| 113/113 [00:49<00:00,  2.27it/s]\n",
      "                 Class     Images  Instances      Box(P          R      mAP50  mAP50-95): 100%|██████████| 13/13 [00:05<00:00,  2.33it/s]"
     ]
    },
    {
     "name": "stdout",
     "output_type": "stream",
     "text": [
      "                   all        387        609      0.938      0.765      0.842      0.397\n"
     ]
    },
    {
     "name": "stderr",
     "output_type": "stream",
     "text": [
      "\n"
     ]
    },
    {
     "name": "stdout",
     "output_type": "stream",
     "text": [
      "\n",
      "      Epoch    GPU_mem   box_loss   cls_loss   dfl_loss  Instances       Size\n"
     ]
    },
    {
     "name": "stderr",
     "output_type": "stream",
     "text": [
      "    187/200         0G      1.186     0.6447      1.048          5        224: 100%|██████████| 113/113 [00:49<00:00,  2.28it/s]\n",
      "                 Class     Images  Instances      Box(P          R      mAP50  mAP50-95): 100%|██████████| 13/13 [00:05<00:00,  2.35it/s]"
     ]
    },
    {
     "name": "stdout",
     "output_type": "stream",
     "text": [
      "                   all        387        609      0.925      0.767      0.841      0.388\n"
     ]
    },
    {
     "name": "stderr",
     "output_type": "stream",
     "text": [
      "\n"
     ]
    },
    {
     "name": "stdout",
     "output_type": "stream",
     "text": [
      "\n",
      "      Epoch    GPU_mem   box_loss   cls_loss   dfl_loss  Instances       Size\n"
     ]
    },
    {
     "name": "stderr",
     "output_type": "stream",
     "text": [
      "    188/200         0G      1.152     0.6398      1.053          2        224: 100%|██████████| 113/113 [00:49<00:00,  2.28it/s]\n",
      "                 Class     Images  Instances      Box(P          R      mAP50  mAP50-95): 100%|██████████| 13/13 [00:05<00:00,  2.34it/s]"
     ]
    },
    {
     "name": "stdout",
     "output_type": "stream",
     "text": [
      "                   all        387        609      0.927      0.764      0.835      0.381\n"
     ]
    },
    {
     "name": "stderr",
     "output_type": "stream",
     "text": [
      "\n"
     ]
    },
    {
     "name": "stdout",
     "output_type": "stream",
     "text": [
      "\n",
      "      Epoch    GPU_mem   box_loss   cls_loss   dfl_loss  Instances       Size\n"
     ]
    },
    {
     "name": "stderr",
     "output_type": "stream",
     "text": [
      "    189/200         0G      1.164     0.6352      1.042          5        224: 100%|██████████| 113/113 [00:49<00:00,  2.28it/s]\n",
      "                 Class     Images  Instances      Box(P          R      mAP50  mAP50-95): 100%|██████████| 13/13 [00:05<00:00,  2.33it/s]"
     ]
    },
    {
     "name": "stdout",
     "output_type": "stream",
     "text": [
      "                   all        387        609       0.93      0.767      0.834      0.376\n"
     ]
    },
    {
     "name": "stderr",
     "output_type": "stream",
     "text": [
      "\n"
     ]
    },
    {
     "name": "stdout",
     "output_type": "stream",
     "text": [
      "\n",
      "      Epoch    GPU_mem   box_loss   cls_loss   dfl_loss  Instances       Size\n"
     ]
    },
    {
     "name": "stderr",
     "output_type": "stream",
     "text": [
      "    190/200         0G      1.159      0.636      1.043          7        224: 100%|██████████| 113/113 [00:49<00:00,  2.29it/s]\n",
      "                 Class     Images  Instances      Box(P          R      mAP50  mAP50-95): 100%|██████████| 13/13 [00:05<00:00,  2.34it/s]"
     ]
    },
    {
     "name": "stdout",
     "output_type": "stream",
     "text": [
      "                   all        387        609      0.932      0.771      0.838      0.383\n"
     ]
    },
    {
     "name": "stderr",
     "output_type": "stream",
     "text": [
      "\n"
     ]
    },
    {
     "name": "stdout",
     "output_type": "stream",
     "text": [
      "Closing dataloader mosaic\n",
      "\n",
      "      Epoch    GPU_mem   box_loss   cls_loss   dfl_loss  Instances       Size\n"
     ]
    },
    {
     "name": "stderr",
     "output_type": "stream",
     "text": [
      "    191/200         0G      1.127     0.6106      1.077          2        224: 100%|██████████| 113/113 [00:48<00:00,  2.32it/s]\n",
      "                 Class     Images  Instances      Box(P          R      mAP50  mAP50-95): 100%|██████████| 13/13 [00:05<00:00,  2.34it/s]"
     ]
    },
    {
     "name": "stdout",
     "output_type": "stream",
     "text": [
      "                   all        387        609      0.939      0.762      0.839      0.429\n"
     ]
    },
    {
     "name": "stderr",
     "output_type": "stream",
     "text": [
      "\n"
     ]
    },
    {
     "name": "stdout",
     "output_type": "stream",
     "text": [
      "\n",
      "      Epoch    GPU_mem   box_loss   cls_loss   dfl_loss  Instances       Size\n"
     ]
    },
    {
     "name": "stderr",
     "output_type": "stream",
     "text": [
      "    192/200         0G      1.043     0.5622      1.043          2        224: 100%|██████████| 113/113 [00:48<00:00,  2.33it/s]\n",
      "                 Class     Images  Instances      Box(P          R      mAP50  mAP50-95): 100%|██████████| 13/13 [00:05<00:00,  2.34it/s]"
     ]
    },
    {
     "name": "stdout",
     "output_type": "stream",
     "text": [
      "                   all        387        609      0.947      0.763      0.842      0.442\n"
     ]
    },
    {
     "name": "stderr",
     "output_type": "stream",
     "text": [
      "\n"
     ]
    },
    {
     "name": "stdout",
     "output_type": "stream",
     "text": [
      "\n",
      "      Epoch    GPU_mem   box_loss   cls_loss   dfl_loss  Instances       Size\n"
     ]
    },
    {
     "name": "stderr",
     "output_type": "stream",
     "text": [
      "    193/200         0G      1.064     0.5746      1.046          1        224: 100%|██████████| 113/113 [00:48<00:00,  2.32it/s]\n",
      "                 Class     Images  Instances      Box(P          R      mAP50  mAP50-95): 100%|██████████| 13/13 [00:05<00:00,  2.35it/s]"
     ]
    },
    {
     "name": "stdout",
     "output_type": "stream",
     "text": [
      "                   all        387        609      0.948      0.773      0.846      0.436\n"
     ]
    },
    {
     "name": "stderr",
     "output_type": "stream",
     "text": [
      "\n"
     ]
    },
    {
     "name": "stdout",
     "output_type": "stream",
     "text": [
      "\n",
      "      Epoch    GPU_mem   box_loss   cls_loss   dfl_loss  Instances       Size\n"
     ]
    },
    {
     "name": "stderr",
     "output_type": "stream",
     "text": [
      "    194/200         0G      1.064     0.5782      1.049          1        224: 100%|██████████| 113/113 [00:48<00:00,  2.32it/s]\n",
      "                 Class     Images  Instances      Box(P          R      mAP50  mAP50-95): 100%|██████████| 13/13 [00:05<00:00,  2.35it/s]"
     ]
    },
    {
     "name": "stdout",
     "output_type": "stream",
     "text": [
      "                   all        387        609      0.959      0.773      0.847      0.442\n"
     ]
    },
    {
     "name": "stderr",
     "output_type": "stream",
     "text": [
      "\n"
     ]
    },
    {
     "name": "stdout",
     "output_type": "stream",
     "text": [
      "\n",
      "      Epoch    GPU_mem   box_loss   cls_loss   dfl_loss  Instances       Size\n"
     ]
    },
    {
     "name": "stderr",
     "output_type": "stream",
     "text": [
      "    195/200         0G      1.051     0.5681      1.046          2        224: 100%|██████████| 113/113 [00:48<00:00,  2.33it/s]\n",
      "                 Class     Images  Instances      Box(P          R      mAP50  mAP50-95): 100%|██████████| 13/13 [00:05<00:00,  2.35it/s]"
     ]
    },
    {
     "name": "stdout",
     "output_type": "stream",
     "text": [
      "                   all        387        609      0.957      0.772       0.85      0.443\n"
     ]
    },
    {
     "name": "stderr",
     "output_type": "stream",
     "text": [
      "\n"
     ]
    },
    {
     "name": "stdout",
     "output_type": "stream",
     "text": [
      "\n",
      "      Epoch    GPU_mem   box_loss   cls_loss   dfl_loss  Instances       Size\n"
     ]
    },
    {
     "name": "stderr",
     "output_type": "stream",
     "text": [
      "    196/200         0G      1.058     0.5632      1.046          3        224: 100%|██████████| 113/113 [00:48<00:00,  2.33it/s]\n",
      "                 Class     Images  Instances      Box(P          R      mAP50  mAP50-95): 100%|██████████| 13/13 [00:05<00:00,  2.35it/s]"
     ]
    },
    {
     "name": "stdout",
     "output_type": "stream",
     "text": [
      "                   all        387        609      0.951      0.768       0.85      0.458\n"
     ]
    },
    {
     "name": "stderr",
     "output_type": "stream",
     "text": [
      "\n"
     ]
    },
    {
     "name": "stdout",
     "output_type": "stream",
     "text": [
      "\n",
      "      Epoch    GPU_mem   box_loss   cls_loss   dfl_loss  Instances       Size\n"
     ]
    },
    {
     "name": "stderr",
     "output_type": "stream",
     "text": [
      "    197/200         0G      1.057     0.5665      1.056          2        224: 100%|██████████| 113/113 [00:48<00:00,  2.32it/s]\n",
      "                 Class     Images  Instances      Box(P          R      mAP50  mAP50-95): 100%|██████████| 13/13 [00:05<00:00,  2.36it/s]"
     ]
    },
    {
     "name": "stdout",
     "output_type": "stream",
     "text": [
      "                   all        387        609      0.945      0.769      0.853      0.457\n"
     ]
    },
    {
     "name": "stderr",
     "output_type": "stream",
     "text": [
      "\n"
     ]
    },
    {
     "name": "stdout",
     "output_type": "stream",
     "text": [
      "\n",
      "      Epoch    GPU_mem   box_loss   cls_loss   dfl_loss  Instances       Size\n"
     ]
    },
    {
     "name": "stderr",
     "output_type": "stream",
     "text": [
      "    198/200         0G      1.042     0.5664      1.041          2        224: 100%|██████████| 113/113 [00:48<00:00,  2.32it/s]\n",
      "                 Class     Images  Instances      Box(P          R      mAP50  mAP50-95): 100%|██████████| 13/13 [00:05<00:00,  2.33it/s]"
     ]
    },
    {
     "name": "stdout",
     "output_type": "stream",
     "text": [
      "                   all        387        609       0.95       0.77      0.852      0.465\n"
     ]
    },
    {
     "name": "stderr",
     "output_type": "stream",
     "text": [
      "\n"
     ]
    },
    {
     "name": "stdout",
     "output_type": "stream",
     "text": [
      "\n",
      "      Epoch    GPU_mem   box_loss   cls_loss   dfl_loss  Instances       Size\n"
     ]
    },
    {
     "name": "stderr",
     "output_type": "stream",
     "text": [
      "    199/200         0G      1.053     0.5763       1.05          2        224: 100%|██████████| 113/113 [00:48<00:00,  2.32it/s]\n",
      "                 Class     Images  Instances      Box(P          R      mAP50  mAP50-95): 100%|██████████| 13/13 [00:05<00:00,  2.35it/s]"
     ]
    },
    {
     "name": "stdout",
     "output_type": "stream",
     "text": [
      "                   all        387        609      0.947      0.772      0.848      0.455\n"
     ]
    },
    {
     "name": "stderr",
     "output_type": "stream",
     "text": [
      "\n"
     ]
    },
    {
     "name": "stdout",
     "output_type": "stream",
     "text": [
      "\n",
      "      Epoch    GPU_mem   box_loss   cls_loss   dfl_loss  Instances       Size\n"
     ]
    },
    {
     "name": "stderr",
     "output_type": "stream",
     "text": [
      "    200/200         0G      1.029     0.5534      1.032          3        224: 100%|██████████| 113/113 [00:49<00:00,  2.30it/s]\n",
      "                 Class     Images  Instances      Box(P          R      mAP50  mAP50-95): 100%|██████████| 13/13 [00:05<00:00,  2.31it/s]"
     ]
    },
    {
     "name": "stdout",
     "output_type": "stream",
     "text": [
      "                   all        387        609       0.95      0.775      0.855      0.463\n"
     ]
    },
    {
     "name": "stderr",
     "output_type": "stream",
     "text": [
      "\n"
     ]
    },
    {
     "name": "stdout",
     "output_type": "stream",
     "text": [
      "\n",
      "200 epochs completed in 3.021 hours.\n",
      "Optimizer stripped from runs\\detect\\train7\\weights\\last.pt, 6.2MB\n",
      "Optimizer stripped from runs\\detect\\train7\\weights\\best.pt, 6.2MB\n",
      "\n",
      "Validating runs\\detect\\train7\\weights\\best.pt...\n",
      "Ultralytics YOLOv8.2.6  Python-3.12.0 torch-2.3.0+cpu CPU (11th Gen Intel Core(TM) i5-11600K 3.90GHz)\n",
      "YOLOv8n summary (fused): 168 layers, 3005843 parameters, 0 gradients, 8.1 GFLOPs\n"
     ]
    },
    {
     "name": "stderr",
     "output_type": "stream",
     "text": [
      "                 Class     Images  Instances      Box(P          R      mAP50  mAP50-95): 100%|██████████| 13/13 [00:04<00:00,  2.80it/s]\n"
     ]
    },
    {
     "name": "stdout",
     "output_type": "stream",
     "text": [
      "                   all        387        609      0.949       0.77      0.852      0.466\n",
      "Speed: 0.2ms preprocess, 9.6ms inference, 0.0ms loss, 0.2ms postprocess per image\n",
      "Results saved to \u001b[1mruns\\detect\\train7\u001b[0m\n"
     ]
    }
   ],
   "source": [
    "from ultralytics import YOLO\n",
    "\n",
    "# Load a model\n",
    "model = YOLO(\"yolov8n.yaml\")  # build a new model from scratch\n",
    "\n",
    "# Use the model\n",
    "#results = model.train(data=\"config.yaml\", epochs=1, imgsz=224)  # train the model\n",
    "#results = model.train(data=\"config.yaml\", epochs=10, imgsz=224)  # train the model\n",
    "results = model.train(data=\"config.yaml\", epochs=200, imgsz=224)  # train the model"
   ]
  },
  {
   "cell_type": "markdown",
   "metadata": {},
   "source": [
    "## **Hacemos la prediccion de prueba**\n",
    "**Obtenemos varios resultados**\n",
    "- Conf --> Contiene el accuracy en un array de tensor (lo convertiremos a un array de numpy)\n",
    "- xyxy, xywh, xyxyn, xywhn --> Las bbox correspondientes de prediccion\n"
   ]
  },
  {
   "cell_type": "code",
   "execution_count": 3,
   "metadata": {},
   "outputs": [
    {
     "name": "stdout",
     "output_type": "stream",
     "text": [
      "\n",
      "0: 224x224 (no detections), 24.3ms\n",
      "Speed: 0.5ms preprocess, 24.3ms inference, 0.5ms postprocess per image at shape (1, 3, 224, 224)\n"
     ]
    }
   ],
   "source": [
    "import tensorflow as tf\n",
    "import numpy as np\n",
    "\n",
    "def is_tensor_empty(tensor):\n",
    "    # Obtener la forma (shape) del tensor\n",
    "    shape = tf.shape(tensor)\n",
    "    \n",
    "    # Verificar si todas las dimensiones son cero\n",
    "    is_empty = tf.reduce_all(tf.equal(shape, 0))\n",
    "    \n",
    "    return is_empty\n",
    "\n",
    "model = YOLO(\"yolo_swiming_pool_10epoch.pt\")\n",
    "results = model(['test1.jpg'])\n",
    "\n",
    "accuracys = []\n",
    "for result in results:\n",
    "    boxes = result.boxes  # Boxes object for bounding box outputs\n",
    "    # if is_tensor_empty(boxes):\n",
    "    #     print(\"ESTOY VASIOOOOOOOOOOOOOOO\")\n",
    "    # masks = result.masks  # Masks object for segmentation masks outputs\n",
    "    # keypoints = result.keypoints  # Keypoints object for pose outputs\n",
    "    # probs = result.probs  # Probs object for classification outputs\n",
    "    # obb = result.obb  # Oriented boxes object for OBB outputs\n",
    "    # result.show()  # display to screen\n",
    "    # result.save(filename='result100.jpg')  # save to disk\n",
    "\n",
    "for box in boxes:\n",
    "    print(box)\n",
    "    numpy_array = tf.concat(box.conf, axis=0).numpy()\n",
    "    print(numpy_array)"
   ]
  },
  {
   "cell_type": "markdown",
   "metadata": {},
   "source": [
    "## **Hacemos la prediccion  para todas las imagenes de test**\n",
    "**Primero  lo haremos con un entrenamiento de 1 epoch**"
   ]
  },
  {
   "cell_type": "code",
   "execution_count": 88,
   "metadata": {},
   "outputs": [
    {
     "name": "stdout",
     "output_type": "stream",
     "text": [
      "\n",
      "0: 224x224 (no detections), 34.2ms\n",
      "Speed: 0.5ms preprocess, 34.2ms inference, 0.5ms postprocess per image at shape (1, 3, 224, 224)\n",
      "\n",
      "0: 224x224 (no detections), 26.3ms\n",
      "Speed: 0.5ms preprocess, 26.3ms inference, 0.5ms postprocess per image at shape (1, 3, 224, 224)\n",
      "\n",
      "0: 224x224 (no detections), 24.3ms\n",
      "Speed: 0.5ms preprocess, 24.3ms inference, 0.5ms postprocess per image at shape (1, 3, 224, 224)\n",
      "\n",
      "0: 224x224 (no detections), 27.8ms\n",
      "Speed: 0.5ms preprocess, 27.8ms inference, 0.5ms postprocess per image at shape (1, 3, 224, 224)\n",
      "\n",
      "0: 224x224 (no detections), 25.8ms\n",
      "Speed: 0.0ms preprocess, 25.8ms inference, 0.5ms postprocess per image at shape (1, 3, 224, 224)\n",
      "\n",
      "0: 224x224 (no detections), 25.8ms\n",
      "Speed: 0.0ms preprocess, 25.8ms inference, 0.5ms postprocess per image at shape (1, 3, 224, 224)\n",
      "\n",
      "0: 224x224 (no detections), 29.3ms\n",
      "Speed: 0.5ms preprocess, 29.3ms inference, 0.5ms postprocess per image at shape (1, 3, 224, 224)\n",
      "\n",
      "0: 224x224 (no detections), 29.8ms\n",
      "Speed: 0.5ms preprocess, 29.8ms inference, 0.5ms postprocess per image at shape (1, 3, 224, 224)\n",
      "\n",
      "0: 224x224 (no detections), 27.3ms\n",
      "Speed: 0.5ms preprocess, 27.3ms inference, 0.0ms postprocess per image at shape (1, 3, 224, 224)\n",
      "\n",
      "0: 224x224 (no detections), 26.8ms\n",
      "Speed: 0.5ms preprocess, 26.8ms inference, 0.5ms postprocess per image at shape (1, 3, 224, 224)\n",
      "\n",
      "0: 224x224 (no detections), 27.3ms\n",
      "Speed: 0.0ms preprocess, 27.3ms inference, 0.0ms postprocess per image at shape (1, 3, 224, 224)\n",
      "\n",
      "0: 224x224 (no detections), 27.3ms\n",
      "Speed: 0.5ms preprocess, 27.3ms inference, 0.0ms postprocess per image at shape (1, 3, 224, 224)\n",
      "\n",
      "0: 224x224 (no detections), 27.3ms\n",
      "Speed: 0.0ms preprocess, 27.3ms inference, 0.5ms postprocess per image at shape (1, 3, 224, 224)\n",
      "\n",
      "0: 224x224 (no detections), 26.8ms\n",
      "Speed: 0.5ms preprocess, 26.8ms inference, 0.5ms postprocess per image at shape (1, 3, 224, 224)\n",
      "\n",
      "0: 224x224 (no detections), 25.3ms\n",
      "Speed: 0.5ms preprocess, 25.3ms inference, 0.0ms postprocess per image at shape (1, 3, 224, 224)\n",
      "\n",
      "0: 224x224 (no detections), 25.3ms\n",
      "Speed: 0.5ms preprocess, 25.3ms inference, 0.5ms postprocess per image at shape (1, 3, 224, 224)\n",
      "\n",
      "0: 224x224 (no detections), 27.3ms\n",
      "Speed: 0.0ms preprocess, 27.3ms inference, 0.5ms postprocess per image at shape (1, 3, 224, 224)\n",
      "\n",
      "0: 224x224 (no detections), 26.8ms\n",
      "Speed: 0.5ms preprocess, 26.8ms inference, 0.0ms postprocess per image at shape (1, 3, 224, 224)\n",
      "\n",
      "0: 224x224 (no detections), 26.3ms\n",
      "Speed: 0.0ms preprocess, 26.3ms inference, 0.5ms postprocess per image at shape (1, 3, 224, 224)\n",
      "\n",
      "0: 224x224 (no detections), 29.8ms\n",
      "Speed: 0.0ms preprocess, 29.8ms inference, 0.5ms postprocess per image at shape (1, 3, 224, 224)\n",
      "\n",
      "0: 224x224 (no detections), 31.2ms\n",
      "Speed: 0.0ms preprocess, 31.2ms inference, 0.5ms postprocess per image at shape (1, 3, 224, 224)\n",
      "\n",
      "0: 224x224 (no detections), 33.2ms\n",
      "Speed: 0.5ms preprocess, 33.2ms inference, 0.5ms postprocess per image at shape (1, 3, 224, 224)\n",
      "\n",
      "0: 224x224 (no detections), 31.7ms\n",
      "Speed: 0.5ms preprocess, 31.7ms inference, 0.5ms postprocess per image at shape (1, 3, 224, 224)\n",
      "\n",
      "0: 224x224 (no detections), 33.2ms\n",
      "Speed: 0.5ms preprocess, 33.2ms inference, 0.0ms postprocess per image at shape (1, 3, 224, 224)\n",
      "\n",
      "0: 224x224 (no detections), 30.8ms\n",
      "Speed: 0.5ms preprocess, 30.8ms inference, 0.5ms postprocess per image at shape (1, 3, 224, 224)\n",
      "\n",
      "0: 224x224 (no detections), 31.7ms\n",
      "Speed: 0.5ms preprocess, 31.7ms inference, 0.0ms postprocess per image at shape (1, 3, 224, 224)\n",
      "\n",
      "0: 224x224 (no detections), 28.3ms\n",
      "Speed: 0.5ms preprocess, 28.3ms inference, 0.5ms postprocess per image at shape (1, 3, 224, 224)\n",
      "\n",
      "0: 224x224 (no detections), 28.3ms\n",
      "Speed: 0.5ms preprocess, 28.3ms inference, 0.5ms postprocess per image at shape (1, 3, 224, 224)\n",
      "\n",
      "0: 224x224 (no detections), 24.3ms\n",
      "Speed: 0.0ms preprocess, 24.3ms inference, 0.5ms postprocess per image at shape (1, 3, 224, 224)\n",
      "\n",
      "0: 224x224 (no detections), 26.3ms\n",
      "Speed: 0.5ms preprocess, 26.3ms inference, 0.5ms postprocess per image at shape (1, 3, 224, 224)\n",
      "\n",
      "0: 224x224 1 pool, 26.8ms\n",
      "Speed: 0.5ms preprocess, 26.8ms inference, 1.0ms postprocess per image at shape (1, 3, 224, 224)\n"
     ]
    }
   ],
   "source": [
    "from pathlib import Path\n",
    "\n",
    "# Rutas de directorios\n",
    "input_dir = Path('DATABASE/ultralytics/images/test')\n",
    "output_dir_1_epoch = Path('DATABASE/predictions_ultralytics/1epoch_prediction')\n",
    "\n",
    "# Verificar si los directorios de salida existen, si no, crearlos\n",
    "output_dir_1_epoch.mkdir(parents=True, exist_ok=True)\n",
    "\n",
    "model_1_epoch = YOLO(\"yolo_swiming_pool_1epoch.pt\")\n",
    "image_files = list(input_dir.glob('*.*'))\n",
    "\n",
    "\n",
    "accuracys_1epoch = []\n",
    "for image_file in image_files:\n",
    "    filename = image_file.stem\n",
    "\n",
    "    output_path_1_epoch = output_dir_1_epoch / f\"{filename}.jpg\"\n",
    "\n",
    "    results_1_epoch = model_1_epoch([str(image_file)])\n",
    "\n",
    "    \n",
    "    \n",
    "    for result in results_1_epoch:\n",
    "        boxes = result.boxes\n",
    "        if len(boxes) > 0:\n",
    "            for box in boxes:\n",
    "                acc = tf.concat(box.conf, axis=0).numpy()\n",
    "                accuracys_1epoch = np.append(accuracys_1epoch, acc)\n",
    "        else:\n",
    "            acc = tf.concat(boxes.conf, axis=0).numpy()\n",
    "            accuracys_1epoch = np.append(accuracys_1epoch, acc)\n",
    "        result.save(filename=str(output_path_1_epoch))"
   ]
  },
  {
   "cell_type": "markdown",
   "metadata": {},
   "source": [
    "**Ahora con 10 epoch**"
   ]
  },
  {
   "cell_type": "code",
   "execution_count": 76,
   "metadata": {},
   "outputs": [
    {
     "name": "stdout",
     "output_type": "stream",
     "text": [
      "\n",
      "0: 224x224 (no detections), 26.8ms\n",
      "Speed: 1.0ms preprocess, 26.8ms inference, 0.5ms postprocess per image at shape (1, 3, 224, 224)\n",
      "\n",
      "0: 224x224 (no detections), 25.8ms\n",
      "Speed: 0.5ms preprocess, 25.8ms inference, 0.5ms postprocess per image at shape (1, 3, 224, 224)\n",
      "\n",
      "0: 224x224 1 pool, 26.3ms\n",
      "Speed: 0.5ms preprocess, 26.3ms inference, 1.0ms postprocess per image at shape (1, 3, 224, 224)\n",
      "\n",
      "0: 224x224 (no detections), 25.8ms\n",
      "Speed: 0.5ms preprocess, 25.8ms inference, 0.5ms postprocess per image at shape (1, 3, 224, 224)\n",
      "\n",
      "0: 224x224 (no detections), 25.3ms\n",
      "Speed: 0.5ms preprocess, 25.3ms inference, 0.5ms postprocess per image at shape (1, 3, 224, 224)\n",
      "\n",
      "0: 224x224 (no detections), 25.3ms\n",
      "Speed: 0.5ms preprocess, 25.3ms inference, 0.5ms postprocess per image at shape (1, 3, 224, 224)\n",
      "\n",
      "0: 224x224 (no detections), 24.8ms\n",
      "Speed: 0.0ms preprocess, 24.8ms inference, 0.0ms postprocess per image at shape (1, 3, 224, 224)\n",
      "\n",
      "0: 224x224 (no detections), 25.3ms\n",
      "Speed: 0.5ms preprocess, 25.3ms inference, 0.5ms postprocess per image at shape (1, 3, 224, 224)\n",
      "\n",
      "0: 224x224 (no detections), 25.3ms\n",
      "Speed: 0.5ms preprocess, 25.3ms inference, 0.5ms postprocess per image at shape (1, 3, 224, 224)\n",
      "\n",
      "0: 224x224 1 pool, 27.8ms\n",
      "Speed: 0.0ms preprocess, 27.8ms inference, 0.5ms postprocess per image at shape (1, 3, 224, 224)\n",
      "\n",
      "0: 224x224 (no detections), 25.8ms\n",
      "Speed: 0.0ms preprocess, 25.8ms inference, 0.5ms postprocess per image at shape (1, 3, 224, 224)\n",
      "\n",
      "0: 224x224 (no detections), 23.8ms\n",
      "Speed: 0.0ms preprocess, 23.8ms inference, 0.5ms postprocess per image at shape (1, 3, 224, 224)\n",
      "\n",
      "0: 224x224 1 pool, 22.8ms\n",
      "Speed: 0.5ms preprocess, 22.8ms inference, 0.5ms postprocess per image at shape (1, 3, 224, 224)\n",
      "\n",
      "0: 224x224 1 pool, 26.3ms\n",
      "Speed: 0.5ms preprocess, 26.3ms inference, 0.5ms postprocess per image at shape (1, 3, 224, 224)\n",
      "\n",
      "0: 224x224 1 pool, 24.3ms\n",
      "Speed: 0.5ms preprocess, 24.3ms inference, 0.5ms postprocess per image at shape (1, 3, 224, 224)\n",
      "\n",
      "0: 224x224 (no detections), 23.8ms\n",
      "Speed: 0.5ms preprocess, 23.8ms inference, 0.5ms postprocess per image at shape (1, 3, 224, 224)\n",
      "\n",
      "0: 224x224 (no detections), 24.8ms\n",
      "Speed: 0.0ms preprocess, 24.8ms inference, 0.0ms postprocess per image at shape (1, 3, 224, 224)\n",
      "\n",
      "0: 224x224 (no detections), 26.8ms\n",
      "Speed: 0.5ms preprocess, 26.8ms inference, 0.5ms postprocess per image at shape (1, 3, 224, 224)\n",
      "\n",
      "0: 224x224 (no detections), 26.8ms\n",
      "Speed: 0.5ms preprocess, 26.8ms inference, 0.5ms postprocess per image at shape (1, 3, 224, 224)\n",
      "\n",
      "0: 224x224 (no detections), 25.8ms\n",
      "Speed: 0.5ms preprocess, 25.8ms inference, 0.0ms postprocess per image at shape (1, 3, 224, 224)\n",
      "\n",
      "0: 224x224 (no detections), 25.8ms\n",
      "Speed: 0.0ms preprocess, 25.8ms inference, 0.0ms postprocess per image at shape (1, 3, 224, 224)\n",
      "\n",
      "0: 224x224 (no detections), 26.3ms\n",
      "Speed: 0.5ms preprocess, 26.3ms inference, 0.5ms postprocess per image at shape (1, 3, 224, 224)\n",
      "\n",
      "0: 224x224 (no detections), 26.3ms\n",
      "Speed: 0.0ms preprocess, 26.3ms inference, 0.0ms postprocess per image at shape (1, 3, 224, 224)\n",
      "\n",
      "0: 224x224 (no detections), 26.3ms\n",
      "Speed: 0.5ms preprocess, 26.3ms inference, 0.5ms postprocess per image at shape (1, 3, 224, 224)\n",
      "\n",
      "0: 224x224 (no detections), 24.8ms\n",
      "Speed: 0.5ms preprocess, 24.8ms inference, 0.5ms postprocess per image at shape (1, 3, 224, 224)\n",
      "\n",
      "0: 224x224 (no detections), 23.8ms\n",
      "Speed: 0.5ms preprocess, 23.8ms inference, 0.5ms postprocess per image at shape (1, 3, 224, 224)\n",
      "\n",
      "0: 224x224 (no detections), 25.3ms\n",
      "Speed: 0.5ms preprocess, 25.3ms inference, 0.5ms postprocess per image at shape (1, 3, 224, 224)\n",
      "\n",
      "0: 224x224 1 pool, 26.3ms\n",
      "Speed: 0.5ms preprocess, 26.3ms inference, 0.5ms postprocess per image at shape (1, 3, 224, 224)\n",
      "\n",
      "0: 224x224 (no detections), 24.3ms\n",
      "Speed: 0.5ms preprocess, 24.3ms inference, 0.0ms postprocess per image at shape (1, 3, 224, 224)\n",
      "\n",
      "0: 224x224 (no detections), 22.3ms\n",
      "Speed: 0.0ms preprocess, 22.3ms inference, 0.5ms postprocess per image at shape (1, 3, 224, 224)\n",
      "\n",
      "0: 224x224 2 pools, 24.3ms\n",
      "Speed: 0.0ms preprocess, 24.3ms inference, 0.5ms postprocess per image at shape (1, 3, 224, 224)\n",
      "\n",
      "0: 224x224 (no detections), 23.3ms\n",
      "Speed: 0.5ms preprocess, 23.3ms inference, 0.5ms postprocess per image at shape (1, 3, 224, 224)\n",
      "\n",
      "0: 224x224 1 pool, 23.8ms\n",
      "Speed: 0.0ms preprocess, 23.8ms inference, 0.5ms postprocess per image at shape (1, 3, 224, 224)\n",
      "\n",
      "0: 224x224 2 pools, 26.8ms\n",
      "Speed: 0.5ms preprocess, 26.8ms inference, 1.0ms postprocess per image at shape (1, 3, 224, 224)\n",
      "\n",
      "0: 224x224 1 pool, 27.8ms\n",
      "Speed: 0.5ms preprocess, 27.8ms inference, 1.0ms postprocess per image at shape (1, 3, 224, 224)\n",
      "\n",
      "0: 224x224 1 pool, 28.3ms\n",
      "Speed: 0.5ms preprocess, 28.3ms inference, 0.5ms postprocess per image at shape (1, 3, 224, 224)\n",
      "\n",
      "0: 224x224 (no detections), 25.8ms\n",
      "Speed: 0.5ms preprocess, 25.8ms inference, 0.5ms postprocess per image at shape (1, 3, 224, 224)\n",
      "\n",
      "0: 224x224 (no detections), 26.3ms\n",
      "Speed: 0.5ms preprocess, 26.3ms inference, 0.5ms postprocess per image at shape (1, 3, 224, 224)\n",
      "\n",
      "0: 224x224 (no detections), 24.8ms\n",
      "Speed: 0.0ms preprocess, 24.8ms inference, 0.5ms postprocess per image at shape (1, 3, 224, 224)\n",
      "\n",
      "0: 224x224 (no detections), 27.8ms\n",
      "Speed: 0.5ms preprocess, 27.8ms inference, 0.5ms postprocess per image at shape (1, 3, 224, 224)\n",
      "\n",
      "0: 224x224 (no detections), 28.3ms\n",
      "Speed: 0.5ms preprocess, 28.3ms inference, 1.0ms postprocess per image at shape (1, 3, 224, 224)\n",
      "\n",
      "0: 224x224 1 pool, 26.3ms\n",
      "Speed: 0.5ms preprocess, 26.3ms inference, 1.0ms postprocess per image at shape (1, 3, 224, 224)\n",
      "\n",
      "0: 224x224 (no detections), 28.8ms\n",
      "Speed: 0.5ms preprocess, 28.8ms inference, 0.0ms postprocess per image at shape (1, 3, 224, 224)\n",
      "\n",
      "0: 224x224 (no detections), 29.8ms\n",
      "Speed: 0.5ms preprocess, 29.8ms inference, 0.0ms postprocess per image at shape (1, 3, 224, 224)\n",
      "\n",
      "0: 224x224 1 pool, 27.3ms\n",
      "Speed: 0.5ms preprocess, 27.3ms inference, 0.5ms postprocess per image at shape (1, 3, 224, 224)\n",
      "\n",
      "0: 224x224 (no detections), 27.8ms\n",
      "Speed: 0.0ms preprocess, 27.8ms inference, 0.5ms postprocess per image at shape (1, 3, 224, 224)\n",
      "\n",
      "0: 224x224 (no detections), 24.3ms\n",
      "Speed: 0.0ms preprocess, 24.3ms inference, 0.5ms postprocess per image at shape (1, 3, 224, 224)\n",
      "\n",
      "0: 224x224 (no detections), 36.7ms\n",
      "Speed: 0.5ms preprocess, 36.7ms inference, 0.0ms postprocess per image at shape (1, 3, 224, 224)\n",
      "\n",
      "0: 224x224 2 pools, 28.3ms\n",
      "Speed: 0.0ms preprocess, 28.3ms inference, 1.0ms postprocess per image at shape (1, 3, 224, 224)\n",
      "\n",
      "0: 224x224 (no detections), 29.8ms\n",
      "Speed: 0.5ms preprocess, 29.8ms inference, 0.0ms postprocess per image at shape (1, 3, 224, 224)\n",
      "\n",
      "0: 224x224 (no detections), 24.3ms\n",
      "Speed: 0.0ms preprocess, 24.3ms inference, 0.5ms postprocess per image at shape (1, 3, 224, 224)\n",
      "\n",
      "0: 224x224 3 pools, 24.3ms\n",
      "Speed: 0.5ms preprocess, 24.3ms inference, 0.5ms postprocess per image at shape (1, 3, 224, 224)\n",
      "\n",
      "0: 224x224 1 pool, 24.3ms\n",
      "Speed: 0.5ms preprocess, 24.3ms inference, 0.5ms postprocess per image at shape (1, 3, 224, 224)\n",
      "\n",
      "0: 224x224 1 pool, 27.8ms\n",
      "Speed: 0.5ms preprocess, 27.8ms inference, 0.5ms postprocess per image at shape (1, 3, 224, 224)\n",
      "\n",
      "0: 224x224 (no detections), 23.3ms\n",
      "Speed: 0.0ms preprocess, 23.3ms inference, 0.5ms postprocess per image at shape (1, 3, 224, 224)\n",
      "\n",
      "0: 224x224 1 pool, 24.8ms\n",
      "Speed: 0.5ms preprocess, 24.8ms inference, 0.5ms postprocess per image at shape (1, 3, 224, 224)\n",
      "\n",
      "0: 224x224 (no detections), 27.8ms\n",
      "Speed: 0.0ms preprocess, 27.8ms inference, 0.0ms postprocess per image at shape (1, 3, 224, 224)\n",
      "\n",
      "0: 224x224 1 pool, 26.3ms\n",
      "Speed: 0.5ms preprocess, 26.3ms inference, 0.5ms postprocess per image at shape (1, 3, 224, 224)\n",
      "\n",
      "0: 224x224 1 pool, 24.8ms\n",
      "Speed: 0.5ms preprocess, 24.8ms inference, 0.5ms postprocess per image at shape (1, 3, 224, 224)\n",
      "\n",
      "0: 224x224 1 pool, 23.3ms\n",
      "Speed: 0.0ms preprocess, 23.3ms inference, 0.5ms postprocess per image at shape (1, 3, 224, 224)\n",
      "\n",
      "0: 224x224 1 pool, 25.3ms\n",
      "Speed: 0.0ms preprocess, 25.3ms inference, 1.0ms postprocess per image at shape (1, 3, 224, 224)\n",
      "\n",
      "0: 224x224 1 pool, 27.8ms\n",
      "Speed: 0.0ms preprocess, 27.8ms inference, 0.5ms postprocess per image at shape (1, 3, 224, 224)\n",
      "\n",
      "0: 224x224 1 pool, 27.8ms\n",
      "Speed: 0.5ms preprocess, 27.8ms inference, 0.5ms postprocess per image at shape (1, 3, 224, 224)\n",
      "\n",
      "0: 224x224 1 pool, 25.3ms\n",
      "Speed: 0.5ms preprocess, 25.3ms inference, 1.0ms postprocess per image at shape (1, 3, 224, 224)\n",
      "\n",
      "0: 224x224 2 pools, 25.8ms\n",
      "Speed: 0.0ms preprocess, 25.8ms inference, 0.5ms postprocess per image at shape (1, 3, 224, 224)\n",
      "\n",
      "0: 224x224 1 pool, 24.8ms\n",
      "Speed: 0.5ms preprocess, 24.8ms inference, 0.5ms postprocess per image at shape (1, 3, 224, 224)\n",
      "\n",
      "0: 224x224 1 pool, 24.3ms\n",
      "Speed: 0.5ms preprocess, 24.3ms inference, 0.5ms postprocess per image at shape (1, 3, 224, 224)\n",
      "\n",
      "0: 224x224 2 pools, 23.8ms\n",
      "Speed: 0.5ms preprocess, 23.8ms inference, 0.5ms postprocess per image at shape (1, 3, 224, 224)\n",
      "\n",
      "0: 224x224 (no detections), 24.3ms\n",
      "Speed: 0.0ms preprocess, 24.3ms inference, 0.0ms postprocess per image at shape (1, 3, 224, 224)\n",
      "\n",
      "0: 224x224 1 pool, 21.8ms\n",
      "Speed: 0.5ms preprocess, 21.8ms inference, 1.0ms postprocess per image at shape (1, 3, 224, 224)\n",
      "\n",
      "0: 224x224 2 pools, 23.3ms\n",
      "Speed: 0.0ms preprocess, 23.3ms inference, 0.5ms postprocess per image at shape (1, 3, 224, 224)\n",
      "\n",
      "0: 224x224 2 pools, 23.3ms\n",
      "Speed: 0.5ms preprocess, 23.3ms inference, 0.5ms postprocess per image at shape (1, 3, 224, 224)\n",
      "\n",
      "0: 224x224 1 pool, 24.8ms\n",
      "Speed: 0.5ms preprocess, 24.8ms inference, 0.5ms postprocess per image at shape (1, 3, 224, 224)\n",
      "\n",
      "0: 224x224 (no detections), 24.8ms\n",
      "Speed: 0.5ms preprocess, 24.8ms inference, 0.5ms postprocess per image at shape (1, 3, 224, 224)\n",
      "\n",
      "0: 224x224 (no detections), 23.8ms\n",
      "Speed: 0.0ms preprocess, 23.8ms inference, 0.5ms postprocess per image at shape (1, 3, 224, 224)\n",
      "\n",
      "0: 224x224 1 pool, 26.8ms\n",
      "Speed: 0.5ms preprocess, 26.8ms inference, 0.5ms postprocess per image at shape (1, 3, 224, 224)\n",
      "\n",
      "0: 224x224 (no detections), 25.3ms\n",
      "Speed: 0.5ms preprocess, 25.3ms inference, 0.5ms postprocess per image at shape (1, 3, 224, 224)\n",
      "\n",
      "0: 224x224 (no detections), 23.3ms\n",
      "Speed: 0.5ms preprocess, 23.3ms inference, 0.0ms postprocess per image at shape (1, 3, 224, 224)\n",
      "\n",
      "0: 224x224 (no detections), 23.3ms\n",
      "Speed: 0.5ms preprocess, 23.3ms inference, 0.5ms postprocess per image at shape (1, 3, 224, 224)\n",
      "\n",
      "0: 224x224 (no detections), 30.8ms\n",
      "Speed: 0.5ms preprocess, 30.8ms inference, 0.5ms postprocess per image at shape (1, 3, 224, 224)\n",
      "\n",
      "0: 224x224 2 pools, 23.3ms\n",
      "Speed: 0.5ms preprocess, 23.3ms inference, 0.5ms postprocess per image at shape (1, 3, 224, 224)\n",
      "\n",
      "0: 224x224 1 pool, 25.3ms\n",
      "Speed: 0.5ms preprocess, 25.3ms inference, 0.5ms postprocess per image at shape (1, 3, 224, 224)\n",
      "\n",
      "0: 224x224 (no detections), 23.8ms\n",
      "Speed: 0.5ms preprocess, 23.8ms inference, 0.0ms postprocess per image at shape (1, 3, 224, 224)\n",
      "\n",
      "0: 224x224 1 pool, 26.3ms\n",
      "Speed: 0.0ms preprocess, 26.3ms inference, 0.5ms postprocess per image at shape (1, 3, 224, 224)\n",
      "\n",
      "0: 224x224 1 pool, 22.3ms\n",
      "Speed: 0.5ms preprocess, 22.3ms inference, 0.5ms postprocess per image at shape (1, 3, 224, 224)\n",
      "\n",
      "0: 224x224 (no detections), 24.8ms\n",
      "Speed: 0.5ms preprocess, 24.8ms inference, 0.0ms postprocess per image at shape (1, 3, 224, 224)\n",
      "\n",
      "0: 224x224 1 pool, 24.8ms\n",
      "Speed: 0.0ms preprocess, 24.8ms inference, 0.5ms postprocess per image at shape (1, 3, 224, 224)\n",
      "\n",
      "0: 224x224 (no detections), 24.3ms\n",
      "Speed: 0.5ms preprocess, 24.3ms inference, 0.0ms postprocess per image at shape (1, 3, 224, 224)\n",
      "\n",
      "0: 224x224 1 pool, 23.8ms\n",
      "Speed: 0.0ms preprocess, 23.8ms inference, 0.5ms postprocess per image at shape (1, 3, 224, 224)\n",
      "\n",
      "0: 224x224 1 pool, 65.0ms\n",
      "Speed: 0.5ms preprocess, 65.0ms inference, 0.5ms postprocess per image at shape (1, 3, 224, 224)\n",
      "\n",
      "0: 224x224 (no detections), 27.8ms\n",
      "Speed: 0.5ms preprocess, 27.8ms inference, 0.5ms postprocess per image at shape (1, 3, 224, 224)\n",
      "\n",
      "0: 224x224 1 pool, 24.3ms\n",
      "Speed: 0.5ms preprocess, 24.3ms inference, 0.5ms postprocess per image at shape (1, 3, 224, 224)\n",
      "\n",
      "0: 224x224 (no detections), 24.3ms\n",
      "Speed: 0.5ms preprocess, 24.3ms inference, 0.5ms postprocess per image at shape (1, 3, 224, 224)\n",
      "\n",
      "0: 224x224 1 pool, 25.3ms\n",
      "Speed: 0.5ms preprocess, 25.3ms inference, 0.5ms postprocess per image at shape (1, 3, 224, 224)\n",
      "\n",
      "0: 224x224 2 pools, 26.3ms\n",
      "Speed: 0.0ms preprocess, 26.3ms inference, 0.5ms postprocess per image at shape (1, 3, 224, 224)\n",
      "\n",
      "0: 224x224 1 pool, 24.8ms\n",
      "Speed: 0.5ms preprocess, 24.8ms inference, 0.5ms postprocess per image at shape (1, 3, 224, 224)\n",
      "\n",
      "0: 224x224 2 pools, 21.3ms\n",
      "Speed: 0.5ms preprocess, 21.3ms inference, 1.0ms postprocess per image at shape (1, 3, 224, 224)\n",
      "\n",
      "0: 224x224 1 pool, 23.8ms\n",
      "Speed: 0.0ms preprocess, 23.8ms inference, 0.5ms postprocess per image at shape (1, 3, 224, 224)\n",
      "\n",
      "0: 224x224 1 pool, 23.8ms\n",
      "Speed: 0.0ms preprocess, 23.8ms inference, 0.5ms postprocess per image at shape (1, 3, 224, 224)\n",
      "\n",
      "0: 224x224 1 pool, 23.3ms\n",
      "Speed: 0.5ms preprocess, 23.3ms inference, 0.5ms postprocess per image at shape (1, 3, 224, 224)\n",
      "\n",
      "0: 224x224 1 pool, 24.3ms\n",
      "Speed: 0.5ms preprocess, 24.3ms inference, 0.5ms postprocess per image at shape (1, 3, 224, 224)\n",
      "\n",
      "0: 224x224 (no detections), 23.3ms\n",
      "Speed: 0.0ms preprocess, 23.3ms inference, 0.0ms postprocess per image at shape (1, 3, 224, 224)\n",
      "\n",
      "0: 224x224 (no detections), 23.8ms\n",
      "Speed: 0.5ms preprocess, 23.8ms inference, 0.5ms postprocess per image at shape (1, 3, 224, 224)\n",
      "\n",
      "0: 224x224 (no detections), 23.3ms\n",
      "Speed: 0.5ms preprocess, 23.3ms inference, 0.5ms postprocess per image at shape (1, 3, 224, 224)\n",
      "\n",
      "0: 224x224 (no detections), 23.8ms\n",
      "Speed: 0.5ms preprocess, 23.8ms inference, 0.0ms postprocess per image at shape (1, 3, 224, 224)\n",
      "\n",
      "0: 224x224 1 pool, 24.3ms\n",
      "Speed: 0.5ms preprocess, 24.3ms inference, 0.5ms postprocess per image at shape (1, 3, 224, 224)\n",
      "\n",
      "0: 224x224 1 pool, 23.3ms\n",
      "Speed: 0.5ms preprocess, 23.3ms inference, 0.5ms postprocess per image at shape (1, 3, 224, 224)\n",
      "\n",
      "0: 224x224 (no detections), 24.3ms\n",
      "Speed: 0.5ms preprocess, 24.3ms inference, 0.5ms postprocess per image at shape (1, 3, 224, 224)\n",
      "\n",
      "0: 224x224 (no detections), 23.3ms\n",
      "Speed: 0.0ms preprocess, 23.3ms inference, 0.5ms postprocess per image at shape (1, 3, 224, 224)\n",
      "\n",
      "0: 224x224 (no detections), 25.8ms\n",
      "Speed: 0.5ms preprocess, 25.8ms inference, 0.5ms postprocess per image at shape (1, 3, 224, 224)\n",
      "\n",
      "0: 224x224 1 pool, 21.3ms\n",
      "Speed: 0.5ms preprocess, 21.3ms inference, 0.5ms postprocess per image at shape (1, 3, 224, 224)\n",
      "\n",
      "0: 224x224 (no detections), 23.8ms\n",
      "Speed: 0.5ms preprocess, 23.8ms inference, 0.5ms postprocess per image at shape (1, 3, 224, 224)\n",
      "\n",
      "0: 224x224 (no detections), 23.8ms\n",
      "Speed: 0.5ms preprocess, 23.8ms inference, 0.5ms postprocess per image at shape (1, 3, 224, 224)\n",
      "\n",
      "0: 224x224 (no detections), 25.8ms\n",
      "Speed: 0.0ms preprocess, 25.8ms inference, 0.5ms postprocess per image at shape (1, 3, 224, 224)\n",
      "\n",
      "0: 224x224 1 pool, 25.3ms\n",
      "Speed: 0.5ms preprocess, 25.3ms inference, 0.5ms postprocess per image at shape (1, 3, 224, 224)\n",
      "\n",
      "0: 224x224 2 pools, 25.8ms\n",
      "Speed: 0.5ms preprocess, 25.8ms inference, 1.0ms postprocess per image at shape (1, 3, 224, 224)\n",
      "\n",
      "0: 224x224 (no detections), 23.8ms\n",
      "Speed: 0.0ms preprocess, 23.8ms inference, 0.5ms postprocess per image at shape (1, 3, 224, 224)\n",
      "\n",
      "0: 224x224 1 pool, 29.3ms\n",
      "Speed: 0.0ms preprocess, 29.3ms inference, 1.0ms postprocess per image at shape (1, 3, 224, 224)\n",
      "\n",
      "0: 224x224 1 pool, 23.3ms\n",
      "Speed: 0.5ms preprocess, 23.3ms inference, 1.0ms postprocess per image at shape (1, 3, 224, 224)\n",
      "\n",
      "0: 224x224 (no detections), 22.8ms\n",
      "Speed: 0.5ms preprocess, 22.8ms inference, 0.5ms postprocess per image at shape (1, 3, 224, 224)\n",
      "\n",
      "0: 224x224 1 pool, 24.8ms\n",
      "Speed: 0.5ms preprocess, 24.8ms inference, 0.5ms postprocess per image at shape (1, 3, 224, 224)\n",
      "\n",
      "0: 224x224 (no detections), 25.3ms\n",
      "Speed: 0.5ms preprocess, 25.3ms inference, 0.5ms postprocess per image at shape (1, 3, 224, 224)\n",
      "\n",
      "0: 224x224 (no detections), 24.8ms\n",
      "Speed: 0.5ms preprocess, 24.8ms inference, 0.0ms postprocess per image at shape (1, 3, 224, 224)\n",
      "\n",
      "0: 224x224 (no detections), 23.8ms\n",
      "Speed: 0.5ms preprocess, 23.8ms inference, 0.5ms postprocess per image at shape (1, 3, 224, 224)\n",
      "\n",
      "0: 224x224 (no detections), 28.8ms\n",
      "Speed: 0.0ms preprocess, 28.8ms inference, 0.5ms postprocess per image at shape (1, 3, 224, 224)\n",
      "\n",
      "0: 224x224 (no detections), 28.8ms\n",
      "Speed: 0.5ms preprocess, 28.8ms inference, 0.5ms postprocess per image at shape (1, 3, 224, 224)\n",
      "\n",
      "0: 224x224 (no detections), 25.3ms\n",
      "Speed: 0.5ms preprocess, 25.3ms inference, 0.0ms postprocess per image at shape (1, 3, 224, 224)\n",
      "\n",
      "0: 224x224 (no detections), 41.7ms\n",
      "Speed: 0.5ms preprocess, 41.7ms inference, 0.5ms postprocess per image at shape (1, 3, 224, 224)\n",
      "\n",
      "0: 224x224 (no detections), 30.8ms\n",
      "Speed: 1.0ms preprocess, 30.8ms inference, 0.5ms postprocess per image at shape (1, 3, 224, 224)\n",
      "\n",
      "0: 224x224 (no detections), 29.3ms\n",
      "Speed: 0.5ms preprocess, 29.3ms inference, 0.5ms postprocess per image at shape (1, 3, 224, 224)\n",
      "\n",
      "0: 224x224 (no detections), 25.8ms\n",
      "Speed: 1.0ms preprocess, 25.8ms inference, 1.0ms postprocess per image at shape (1, 3, 224, 224)\n",
      "\n",
      "0: 224x224 (no detections), 24.3ms\n",
      "Speed: 0.5ms preprocess, 24.3ms inference, 0.5ms postprocess per image at shape (1, 3, 224, 224)\n",
      "\n",
      "0: 224x224 (no detections), 24.3ms\n",
      "Speed: 0.0ms preprocess, 24.3ms inference, 0.5ms postprocess per image at shape (1, 3, 224, 224)\n",
      "\n",
      "0: 224x224 1 pool, 26.3ms\n",
      "Speed: 0.5ms preprocess, 26.3ms inference, 0.5ms postprocess per image at shape (1, 3, 224, 224)\n",
      "\n",
      "0: 224x224 (no detections), 23.3ms\n",
      "Speed: 0.5ms preprocess, 23.3ms inference, 0.5ms postprocess per image at shape (1, 3, 224, 224)\n",
      "\n",
      "0: 224x224 1 pool, 25.8ms\n",
      "Speed: 0.5ms preprocess, 25.8ms inference, 0.5ms postprocess per image at shape (1, 3, 224, 224)\n",
      "\n",
      "0: 224x224 1 pool, 22.8ms\n",
      "Speed: 0.0ms preprocess, 22.8ms inference, 0.5ms postprocess per image at shape (1, 3, 224, 224)\n",
      "\n",
      "0: 224x224 1 pool, 24.3ms\n",
      "Speed: 0.5ms preprocess, 24.3ms inference, 0.5ms postprocess per image at shape (1, 3, 224, 224)\n",
      "\n",
      "0: 224x224 2 pools, 22.8ms\n",
      "Speed: 0.5ms preprocess, 22.8ms inference, 0.5ms postprocess per image at shape (1, 3, 224, 224)\n",
      "\n",
      "0: 224x224 (no detections), 23.3ms\n",
      "Speed: 0.5ms preprocess, 23.3ms inference, 0.0ms postprocess per image at shape (1, 3, 224, 224)\n",
      "\n",
      "0: 224x224 (no detections), 25.8ms\n",
      "Speed: 0.5ms preprocess, 25.8ms inference, 0.0ms postprocess per image at shape (1, 3, 224, 224)\n",
      "\n",
      "0: 224x224 (no detections), 23.3ms\n",
      "Speed: 0.0ms preprocess, 23.3ms inference, 0.5ms postprocess per image at shape (1, 3, 224, 224)\n",
      "\n",
      "0: 224x224 (no detections), 26.3ms\n",
      "Speed: 0.0ms preprocess, 26.3ms inference, 0.5ms postprocess per image at shape (1, 3, 224, 224)\n",
      "\n",
      "0: 224x224 2 pools, 24.8ms\n",
      "Speed: 0.0ms preprocess, 24.8ms inference, 0.5ms postprocess per image at shape (1, 3, 224, 224)\n",
      "\n",
      "0: 224x224 1 pool, 24.8ms\n",
      "Speed: 0.5ms preprocess, 24.8ms inference, 1.0ms postprocess per image at shape (1, 3, 224, 224)\n",
      "\n",
      "0: 224x224 (no detections), 23.8ms\n",
      "Speed: 0.0ms preprocess, 23.8ms inference, 0.5ms postprocess per image at shape (1, 3, 224, 224)\n",
      "\n",
      "0: 224x224 2 pools, 27.3ms\n",
      "Speed: 0.5ms preprocess, 27.3ms inference, 0.5ms postprocess per image at shape (1, 3, 224, 224)\n",
      "\n",
      "0: 224x224 1 pool, 23.8ms\n",
      "Speed: 0.5ms preprocess, 23.8ms inference, 1.0ms postprocess per image at shape (1, 3, 224, 224)\n",
      "\n",
      "0: 224x224 (no detections), 28.3ms\n",
      "Speed: 0.5ms preprocess, 28.3ms inference, 0.5ms postprocess per image at shape (1, 3, 224, 224)\n",
      "\n",
      "0: 224x224 (no detections), 26.3ms\n",
      "Speed: 0.5ms preprocess, 26.3ms inference, 0.5ms postprocess per image at shape (1, 3, 224, 224)\n",
      "\n",
      "0: 224x224 (no detections), 24.8ms\n",
      "Speed: 0.5ms preprocess, 24.8ms inference, 0.5ms postprocess per image at shape (1, 3, 224, 224)\n",
      "\n",
      "0: 224x224 (no detections), 24.3ms\n",
      "Speed: 0.5ms preprocess, 24.3ms inference, 0.0ms postprocess per image at shape (1, 3, 224, 224)\n",
      "\n",
      "0: 224x224 (no detections), 26.8ms\n",
      "Speed: 0.5ms preprocess, 26.8ms inference, 0.5ms postprocess per image at shape (1, 3, 224, 224)\n",
      "\n",
      "0: 224x224 (no detections), 26.3ms\n",
      "Speed: 0.5ms preprocess, 26.3ms inference, 0.5ms postprocess per image at shape (1, 3, 224, 224)\n",
      "\n",
      "0: 224x224 (no detections), 25.3ms\n",
      "Speed: 0.5ms preprocess, 25.3ms inference, 0.5ms postprocess per image at shape (1, 3, 224, 224)\n",
      "\n",
      "0: 224x224 (no detections), 29.8ms\n",
      "Speed: 0.5ms preprocess, 29.8ms inference, 0.5ms postprocess per image at shape (1, 3, 224, 224)\n",
      "\n",
      "0: 224x224 (no detections), 30.3ms\n",
      "Speed: 0.0ms preprocess, 30.3ms inference, 0.5ms postprocess per image at shape (1, 3, 224, 224)\n",
      "\n",
      "0: 224x224 (no detections), 29.8ms\n",
      "Speed: 0.0ms preprocess, 29.8ms inference, 0.5ms postprocess per image at shape (1, 3, 224, 224)\n",
      "\n",
      "0: 224x224 (no detections), 34.7ms\n",
      "Speed: 0.5ms preprocess, 34.7ms inference, 0.0ms postprocess per image at shape (1, 3, 224, 224)\n",
      "\n",
      "0: 224x224 (no detections), 33.2ms\n",
      "Speed: 0.5ms preprocess, 33.2ms inference, 0.5ms postprocess per image at shape (1, 3, 224, 224)\n",
      "\n",
      "0: 224x224 1 pool, 22.8ms\n",
      "Speed: 0.0ms preprocess, 22.8ms inference, 0.5ms postprocess per image at shape (1, 3, 224, 224)\n",
      "\n",
      "0: 224x224 1 pool, 22.3ms\n",
      "Speed: 0.5ms preprocess, 22.3ms inference, 0.5ms postprocess per image at shape (1, 3, 224, 224)\n",
      "\n",
      "0: 224x224 (no detections), 22.8ms\n",
      "Speed: 0.5ms preprocess, 22.8ms inference, 0.5ms postprocess per image at shape (1, 3, 224, 224)\n",
      "\n",
      "0: 224x224 (no detections), 23.3ms\n",
      "Speed: 0.5ms preprocess, 23.3ms inference, 0.5ms postprocess per image at shape (1, 3, 224, 224)\n",
      "\n",
      "0: 224x224 (no detections), 25.3ms\n",
      "Speed: 0.5ms preprocess, 25.3ms inference, 0.0ms postprocess per image at shape (1, 3, 224, 224)\n",
      "\n",
      "0: 224x224 1 pool, 23.3ms\n",
      "Speed: 0.0ms preprocess, 23.3ms inference, 0.5ms postprocess per image at shape (1, 3, 224, 224)\n",
      "\n",
      "0: 224x224 (no detections), 23.8ms\n",
      "Speed: 0.5ms preprocess, 23.8ms inference, 0.5ms postprocess per image at shape (1, 3, 224, 224)\n",
      "\n",
      "0: 224x224 1 pool, 23.3ms\n",
      "Speed: 0.5ms preprocess, 23.3ms inference, 0.5ms postprocess per image at shape (1, 3, 224, 224)\n",
      "\n",
      "0: 224x224 (no detections), 23.3ms\n",
      "Speed: 0.5ms preprocess, 23.3ms inference, 0.0ms postprocess per image at shape (1, 3, 224, 224)\n",
      "\n",
      "0: 224x224 1 pool, 23.3ms\n",
      "Speed: 0.5ms preprocess, 23.3ms inference, 1.0ms postprocess per image at shape (1, 3, 224, 224)\n",
      "\n",
      "0: 224x224 3 pools, 23.3ms\n",
      "Speed: 0.5ms preprocess, 23.3ms inference, 1.0ms postprocess per image at shape (1, 3, 224, 224)\n",
      "\n",
      "0: 224x224 3 pools, 22.8ms\n",
      "Speed: 0.0ms preprocess, 22.8ms inference, 0.5ms postprocess per image at shape (1, 3, 224, 224)\n",
      "\n",
      "0: 224x224 1 pool, 23.3ms\n",
      "Speed: 0.5ms preprocess, 23.3ms inference, 1.0ms postprocess per image at shape (1, 3, 224, 224)\n",
      "\n",
      "0: 224x224 1 pool, 23.8ms\n",
      "Speed: 0.0ms preprocess, 23.8ms inference, 0.5ms postprocess per image at shape (1, 3, 224, 224)\n",
      "\n",
      "0: 224x224 2 pools, 24.8ms\n",
      "Speed: 0.5ms preprocess, 24.8ms inference, 1.0ms postprocess per image at shape (1, 3, 224, 224)\n",
      "\n",
      "0: 224x224 1 pool, 28.8ms\n",
      "Speed: 0.0ms preprocess, 28.8ms inference, 0.5ms postprocess per image at shape (1, 3, 224, 224)\n",
      "\n",
      "0: 224x224 1 pool, 25.3ms\n",
      "Speed: 0.5ms preprocess, 25.3ms inference, 1.0ms postprocess per image at shape (1, 3, 224, 224)\n",
      "\n",
      "0: 224x224 1 pool, 24.8ms\n",
      "Speed: 0.0ms preprocess, 24.8ms inference, 0.5ms postprocess per image at shape (1, 3, 224, 224)\n",
      "\n",
      "0: 224x224 1 pool, 22.3ms\n",
      "Speed: 0.5ms preprocess, 22.3ms inference, 1.0ms postprocess per image at shape (1, 3, 224, 224)\n",
      "\n",
      "0: 224x224 (no detections), 27.3ms\n",
      "Speed: 0.5ms preprocess, 27.3ms inference, 0.5ms postprocess per image at shape (1, 3, 224, 224)\n",
      "\n",
      "0: 224x224 1 pool, 23.3ms\n",
      "Speed: 0.5ms preprocess, 23.3ms inference, 0.5ms postprocess per image at shape (1, 3, 224, 224)\n",
      "\n",
      "0: 224x224 (no detections), 23.3ms\n",
      "Speed: 0.5ms preprocess, 23.3ms inference, 0.5ms postprocess per image at shape (1, 3, 224, 224)\n",
      "\n",
      "0: 224x224 (no detections), 22.3ms\n",
      "Speed: 0.5ms preprocess, 22.3ms inference, 0.5ms postprocess per image at shape (1, 3, 224, 224)\n",
      "\n",
      "0: 224x224 (no detections), 23.8ms\n",
      "Speed: 0.5ms preprocess, 23.8ms inference, 0.5ms postprocess per image at shape (1, 3, 224, 224)\n",
      "\n",
      "0: 224x224 (no detections), 24.8ms\n",
      "Speed: 0.5ms preprocess, 24.8ms inference, 0.5ms postprocess per image at shape (1, 3, 224, 224)\n",
      "\n",
      "0: 224x224 (no detections), 26.3ms\n",
      "Speed: 0.5ms preprocess, 26.3ms inference, 0.5ms postprocess per image at shape (1, 3, 224, 224)\n",
      "\n",
      "0: 224x224 1 pool, 24.8ms\n",
      "Speed: 0.5ms preprocess, 24.8ms inference, 0.5ms postprocess per image at shape (1, 3, 224, 224)\n",
      "\n",
      "0: 224x224 1 pool, 26.3ms\n",
      "Speed: 0.0ms preprocess, 26.3ms inference, 0.5ms postprocess per image at shape (1, 3, 224, 224)\n",
      "\n",
      "0: 224x224 1 pool, 27.3ms\n",
      "Speed: 0.0ms preprocess, 27.3ms inference, 0.5ms postprocess per image at shape (1, 3, 224, 224)\n",
      "\n",
      "0: 224x224 1 pool, 26.3ms\n",
      "Speed: 0.5ms preprocess, 26.3ms inference, 1.0ms postprocess per image at shape (1, 3, 224, 224)\n",
      "\n",
      "0: 224x224 1 pool, 24.8ms\n",
      "Speed: 0.5ms preprocess, 24.8ms inference, 1.0ms postprocess per image at shape (1, 3, 224, 224)\n",
      "\n",
      "0: 224x224 2 pools, 24.3ms\n",
      "Speed: 0.0ms preprocess, 24.3ms inference, 0.5ms postprocess per image at shape (1, 3, 224, 224)\n",
      "\n",
      "0: 224x224 (no detections), 23.3ms\n",
      "Speed: 0.5ms preprocess, 23.3ms inference, 0.5ms postprocess per image at shape (1, 3, 224, 224)\n",
      "\n",
      "0: 224x224 2 pools, 23.8ms\n",
      "Speed: 0.0ms preprocess, 23.8ms inference, 0.5ms postprocess per image at shape (1, 3, 224, 224)\n",
      "\n",
      "0: 224x224 2 pools, 24.3ms\n",
      "Speed: 0.0ms preprocess, 24.3ms inference, 0.5ms postprocess per image at shape (1, 3, 224, 224)\n",
      "\n",
      "0: 224x224 (no detections), 23.3ms\n",
      "Speed: 0.0ms preprocess, 23.3ms inference, 0.5ms postprocess per image at shape (1, 3, 224, 224)\n",
      "\n",
      "0: 224x224 1 pool, 23.8ms\n",
      "Speed: 0.5ms preprocess, 23.8ms inference, 0.5ms postprocess per image at shape (1, 3, 224, 224)\n",
      "\n",
      "0: 224x224 (no detections), 25.3ms\n",
      "Speed: 0.5ms preprocess, 25.3ms inference, 0.5ms postprocess per image at shape (1, 3, 224, 224)\n",
      "\n",
      "0: 224x224 (no detections), 24.8ms\n",
      "Speed: 0.0ms preprocess, 24.8ms inference, 0.5ms postprocess per image at shape (1, 3, 224, 224)\n",
      "\n",
      "0: 224x224 2 pools, 23.3ms\n",
      "Speed: 0.5ms preprocess, 23.3ms inference, 0.5ms postprocess per image at shape (1, 3, 224, 224)\n",
      "\n",
      "0: 224x224 (no detections), 23.3ms\n",
      "Speed: 0.5ms preprocess, 23.3ms inference, 0.0ms postprocess per image at shape (1, 3, 224, 224)\n",
      "\n",
      "0: 224x224 (no detections), 23.8ms\n",
      "Speed: 0.5ms preprocess, 23.8ms inference, 0.0ms postprocess per image at shape (1, 3, 224, 224)\n",
      "\n",
      "0: 224x224 3 pools, 24.3ms\n",
      "Speed: 0.5ms preprocess, 24.3ms inference, 0.5ms postprocess per image at shape (1, 3, 224, 224)\n",
      "\n",
      "0: 224x224 (no detections), 24.3ms\n",
      "Speed: 0.5ms preprocess, 24.3ms inference, 0.0ms postprocess per image at shape (1, 3, 224, 224)\n",
      "\n",
      "0: 224x224 (no detections), 23.3ms\n",
      "Speed: 0.5ms preprocess, 23.3ms inference, 0.5ms postprocess per image at shape (1, 3, 224, 224)\n",
      "\n",
      "0: 224x224 (no detections), 24.3ms\n",
      "Speed: 0.0ms preprocess, 24.3ms inference, 0.0ms postprocess per image at shape (1, 3, 224, 224)\n",
      "\n",
      "0: 224x224 (no detections), 24.3ms\n",
      "Speed: 0.5ms preprocess, 24.3ms inference, 0.5ms postprocess per image at shape (1, 3, 224, 224)\n",
      "\n",
      "0: 224x224 (no detections), 25.8ms\n",
      "Speed: 0.5ms preprocess, 25.8ms inference, 0.5ms postprocess per image at shape (1, 3, 224, 224)\n",
      "\n",
      "0: 224x224 (no detections), 23.8ms\n",
      "Speed: 0.0ms preprocess, 23.8ms inference, 0.5ms postprocess per image at shape (1, 3, 224, 224)\n",
      "\n",
      "0: 224x224 (no detections), 22.3ms\n",
      "Speed: 0.5ms preprocess, 22.3ms inference, 1.0ms postprocess per image at shape (1, 3, 224, 224)\n",
      "\n",
      "0: 224x224 (no detections), 26.3ms\n",
      "Speed: 0.5ms preprocess, 26.3ms inference, 0.5ms postprocess per image at shape (1, 3, 224, 224)\n",
      "\n",
      "0: 224x224 1 pool, 23.3ms\n",
      "Speed: 0.0ms preprocess, 23.3ms inference, 1.0ms postprocess per image at shape (1, 3, 224, 224)\n",
      "\n",
      "0: 224x224 (no detections), 23.8ms\n",
      "Speed: 0.0ms preprocess, 23.8ms inference, 0.5ms postprocess per image at shape (1, 3, 224, 224)\n",
      "\n",
      "0: 224x224 1 pool, 23.8ms\n",
      "Speed: 0.0ms preprocess, 23.8ms inference, 0.5ms postprocess per image at shape (1, 3, 224, 224)\n",
      "\n",
      "0: 224x224 1 pool, 24.8ms\n",
      "Speed: 0.0ms preprocess, 24.8ms inference, 0.5ms postprocess per image at shape (1, 3, 224, 224)\n",
      "\n",
      "0: 224x224 1 pool, 23.8ms\n",
      "Speed: 0.5ms preprocess, 23.8ms inference, 0.5ms postprocess per image at shape (1, 3, 224, 224)\n",
      "\n",
      "0: 224x224 1 pool, 25.3ms\n",
      "Speed: 0.0ms preprocess, 25.3ms inference, 0.5ms postprocess per image at shape (1, 3, 224, 224)\n",
      "\n",
      "0: 224x224 1 pool, 23.8ms\n",
      "Speed: 0.0ms preprocess, 23.8ms inference, 1.0ms postprocess per image at shape (1, 3, 224, 224)\n",
      "\n",
      "0: 224x224 1 pool, 23.3ms\n",
      "Speed: 0.5ms preprocess, 23.3ms inference, 0.5ms postprocess per image at shape (1, 3, 224, 224)\n",
      "\n",
      "0: 224x224 (no detections), 23.8ms\n",
      "Speed: 0.5ms preprocess, 23.8ms inference, 0.5ms postprocess per image at shape (1, 3, 224, 224)\n",
      "\n",
      "0: 224x224 1 pool, 25.3ms\n",
      "Speed: 0.5ms preprocess, 25.3ms inference, 0.5ms postprocess per image at shape (1, 3, 224, 224)\n",
      "\n",
      "0: 224x224 1 pool, 23.8ms\n",
      "Speed: 0.5ms preprocess, 23.8ms inference, 1.0ms postprocess per image at shape (1, 3, 224, 224)\n",
      "\n",
      "0: 224x224 1 pool, 23.8ms\n",
      "Speed: 0.5ms preprocess, 23.8ms inference, 0.5ms postprocess per image at shape (1, 3, 224, 224)\n",
      "\n",
      "0: 224x224 1 pool, 22.3ms\n",
      "Speed: 0.5ms preprocess, 22.3ms inference, 1.0ms postprocess per image at shape (1, 3, 224, 224)\n",
      "\n",
      "0: 224x224 (no detections), 31.2ms\n",
      "Speed: 0.0ms preprocess, 31.2ms inference, 0.5ms postprocess per image at shape (1, 3, 224, 224)\n",
      "\n",
      "0: 224x224 (no detections), 24.8ms\n",
      "Speed: 0.5ms preprocess, 24.8ms inference, 1.0ms postprocess per image at shape (1, 3, 224, 224)\n",
      "\n",
      "0: 224x224 1 pool, 23.3ms\n",
      "Speed: 0.0ms preprocess, 23.3ms inference, 0.5ms postprocess per image at shape (1, 3, 224, 224)\n",
      "\n",
      "0: 224x224 1 pool, 22.3ms\n",
      "Speed: 0.0ms preprocess, 22.3ms inference, 1.0ms postprocess per image at shape (1, 3, 224, 224)\n",
      "\n",
      "0: 224x224 (no detections), 22.8ms\n",
      "Speed: 0.5ms preprocess, 22.8ms inference, 0.5ms postprocess per image at shape (1, 3, 224, 224)\n",
      "\n",
      "0: 224x224 (no detections), 23.8ms\n",
      "Speed: 0.5ms preprocess, 23.8ms inference, 0.0ms postprocess per image at shape (1, 3, 224, 224)\n",
      "\n",
      "0: 224x224 1 pool, 24.3ms\n",
      "Speed: 0.5ms preprocess, 24.3ms inference, 0.5ms postprocess per image at shape (1, 3, 224, 224)\n",
      "\n",
      "0: 224x224 (no detections), 26.3ms\n",
      "Speed: 0.5ms preprocess, 26.3ms inference, 0.0ms postprocess per image at shape (1, 3, 224, 224)\n",
      "\n",
      "0: 224x224 (no detections), 22.8ms\n",
      "Speed: 0.0ms preprocess, 22.8ms inference, 0.0ms postprocess per image at shape (1, 3, 224, 224)\n",
      "\n",
      "0: 224x224 (no detections), 22.8ms\n",
      "Speed: 0.5ms preprocess, 22.8ms inference, 0.5ms postprocess per image at shape (1, 3, 224, 224)\n",
      "\n",
      "0: 224x224 (no detections), 26.3ms\n",
      "Speed: 0.5ms preprocess, 26.3ms inference, 0.5ms postprocess per image at shape (1, 3, 224, 224)\n",
      "\n",
      "0: 224x224 4 pools, 23.8ms\n",
      "Speed: 0.0ms preprocess, 23.8ms inference, 0.5ms postprocess per image at shape (1, 3, 224, 224)\n",
      "\n",
      "0: 224x224 (no detections), 24.8ms\n",
      "Speed: 0.5ms preprocess, 24.8ms inference, 0.5ms postprocess per image at shape (1, 3, 224, 224)\n",
      "\n",
      "0: 224x224 (no detections), 24.3ms\n",
      "Speed: 0.0ms preprocess, 24.3ms inference, 0.5ms postprocess per image at shape (1, 3, 224, 224)\n",
      "\n",
      "0: 224x224 3 pools, 22.8ms\n",
      "Speed: 0.5ms preprocess, 22.8ms inference, 1.0ms postprocess per image at shape (1, 3, 224, 224)\n",
      "\n",
      "0: 224x224 (no detections), 24.3ms\n",
      "Speed: 0.5ms preprocess, 24.3ms inference, 0.5ms postprocess per image at shape (1, 3, 224, 224)\n",
      "\n",
      "0: 224x224 1 pool, 27.8ms\n",
      "Speed: 0.0ms preprocess, 27.8ms inference, 0.5ms postprocess per image at shape (1, 3, 224, 224)\n",
      "\n",
      "0: 224x224 1 pool, 23.3ms\n",
      "Speed: 0.5ms preprocess, 23.3ms inference, 0.5ms postprocess per image at shape (1, 3, 224, 224)\n",
      "\n",
      "0: 224x224 1 pool, 29.8ms\n",
      "Speed: 0.5ms preprocess, 29.8ms inference, 1.0ms postprocess per image at shape (1, 3, 224, 224)\n",
      "\n",
      "0: 224x224 1 pool, 32.7ms\n",
      "Speed: 1.0ms preprocess, 32.7ms inference, 0.5ms postprocess per image at shape (1, 3, 224, 224)\n",
      "\n",
      "0: 224x224 (no detections), 36.7ms\n",
      "Speed: 0.5ms preprocess, 36.7ms inference, 0.0ms postprocess per image at shape (1, 3, 224, 224)\n",
      "\n",
      "0: 224x224 (no detections), 32.2ms\n",
      "Speed: 0.5ms preprocess, 32.2ms inference, 0.5ms postprocess per image at shape (1, 3, 224, 224)\n",
      "\n",
      "0: 224x224 (no detections), 30.3ms\n",
      "Speed: 0.5ms preprocess, 30.3ms inference, 0.5ms postprocess per image at shape (1, 3, 224, 224)\n",
      "\n",
      "0: 224x224 (no detections), 25.3ms\n",
      "Speed: 0.0ms preprocess, 25.3ms inference, 0.5ms postprocess per image at shape (1, 3, 224, 224)\n",
      "\n",
      "0: 224x224 (no detections), 25.8ms\n",
      "Speed: 0.5ms preprocess, 25.8ms inference, 0.5ms postprocess per image at shape (1, 3, 224, 224)\n",
      "\n",
      "0: 224x224 (no detections), 25.8ms\n",
      "Speed: 0.0ms preprocess, 25.8ms inference, 0.0ms postprocess per image at shape (1, 3, 224, 224)\n",
      "\n",
      "0: 224x224 (no detections), 24.3ms\n",
      "Speed: 0.5ms preprocess, 24.3ms inference, 0.5ms postprocess per image at shape (1, 3, 224, 224)\n",
      "\n",
      "0: 224x224 (no detections), 25.8ms\n",
      "Speed: 0.0ms preprocess, 25.8ms inference, 0.5ms postprocess per image at shape (1, 3, 224, 224)\n",
      "\n",
      "0: 224x224 (no detections), 35.2ms\n",
      "Speed: 0.5ms preprocess, 35.2ms inference, 0.5ms postprocess per image at shape (1, 3, 224, 224)\n",
      "\n",
      "0: 224x224 1 pool, 27.3ms\n",
      "Speed: 1.0ms preprocess, 27.3ms inference, 0.5ms postprocess per image at shape (1, 3, 224, 224)\n",
      "\n",
      "0: 224x224 (no detections), 25.3ms\n",
      "Speed: 0.5ms preprocess, 25.3ms inference, 0.0ms postprocess per image at shape (1, 3, 224, 224)\n",
      "\n",
      "0: 224x224 1 pool, 25.8ms\n",
      "Speed: 0.5ms preprocess, 25.8ms inference, 0.5ms postprocess per image at shape (1, 3, 224, 224)\n",
      "\n",
      "0: 224x224 1 pool, 27.8ms\n",
      "Speed: 0.5ms preprocess, 27.8ms inference, 1.0ms postprocess per image at shape (1, 3, 224, 224)\n",
      "\n",
      "0: 224x224 (no detections), 25.8ms\n",
      "Speed: 0.5ms preprocess, 25.8ms inference, 0.5ms postprocess per image at shape (1, 3, 224, 224)\n",
      "\n",
      "0: 224x224 3 pools, 28.3ms\n",
      "Speed: 0.0ms preprocess, 28.3ms inference, 1.0ms postprocess per image at shape (1, 3, 224, 224)\n",
      "\n",
      "0: 224x224 2 pools, 25.8ms\n",
      "Speed: 0.5ms preprocess, 25.8ms inference, 1.0ms postprocess per image at shape (1, 3, 224, 224)\n",
      "\n",
      "0: 224x224 (no detections), 26.8ms\n",
      "Speed: 0.5ms preprocess, 26.8ms inference, 0.0ms postprocess per image at shape (1, 3, 224, 224)\n",
      "\n",
      "0: 224x224 (no detections), 26.8ms\n",
      "Speed: 0.5ms preprocess, 26.8ms inference, 0.5ms postprocess per image at shape (1, 3, 224, 224)\n",
      "\n",
      "0: 224x224 4 pools, 29.3ms\n",
      "Speed: 0.0ms preprocess, 29.3ms inference, 0.5ms postprocess per image at shape (1, 3, 224, 224)\n",
      "\n",
      "0: 224x224 3 pools, 27.3ms\n",
      "Speed: 0.5ms preprocess, 27.3ms inference, 1.0ms postprocess per image at shape (1, 3, 224, 224)\n",
      "\n",
      "0: 224x224 (no detections), 30.3ms\n",
      "Speed: 0.5ms preprocess, 30.3ms inference, 0.5ms postprocess per image at shape (1, 3, 224, 224)\n",
      "\n",
      "0: 224x224 (no detections), 30.8ms\n",
      "Speed: 0.5ms preprocess, 30.8ms inference, 0.0ms postprocess per image at shape (1, 3, 224, 224)\n",
      "\n",
      "0: 224x224 1 pool, 25.3ms\n",
      "Speed: 0.5ms preprocess, 25.3ms inference, 0.5ms postprocess per image at shape (1, 3, 224, 224)\n",
      "\n",
      "0: 224x224 2 pools, 25.8ms\n",
      "Speed: 0.5ms preprocess, 25.8ms inference, 1.0ms postprocess per image at shape (1, 3, 224, 224)\n",
      "\n",
      "0: 224x224 (no detections), 25.8ms\n",
      "Speed: 0.5ms preprocess, 25.8ms inference, 0.5ms postprocess per image at shape (1, 3, 224, 224)\n",
      "\n",
      "0: 224x224 (no detections), 35.2ms\n",
      "Speed: 0.5ms preprocess, 35.2ms inference, 0.5ms postprocess per image at shape (1, 3, 224, 224)\n",
      "\n",
      "0: 224x224 2 pools, 33.7ms\n",
      "Speed: 0.0ms preprocess, 33.7ms inference, 1.0ms postprocess per image at shape (1, 3, 224, 224)\n",
      "\n",
      "0: 224x224 2 pools, 36.2ms\n",
      "Speed: 0.5ms preprocess, 36.2ms inference, 0.5ms postprocess per image at shape (1, 3, 224, 224)\n",
      "\n",
      "0: 224x224 (no detections), 28.8ms\n",
      "Speed: 1.0ms preprocess, 28.8ms inference, 0.5ms postprocess per image at shape (1, 3, 224, 224)\n",
      "\n",
      "0: 224x224 1 pool, 26.8ms\n",
      "Speed: 0.5ms preprocess, 26.8ms inference, 0.5ms postprocess per image at shape (1, 3, 224, 224)\n",
      "\n",
      "0: 224x224 1 pool, 30.8ms\n",
      "Speed: 0.0ms preprocess, 30.8ms inference, 1.0ms postprocess per image at shape (1, 3, 224, 224)\n",
      "\n",
      "0: 224x224 (no detections), 30.3ms\n",
      "Speed: 0.5ms preprocess, 30.3ms inference, 0.0ms postprocess per image at shape (1, 3, 224, 224)\n",
      "\n",
      "0: 224x224 1 pool, 28.3ms\n",
      "Speed: 0.0ms preprocess, 28.3ms inference, 0.5ms postprocess per image at shape (1, 3, 224, 224)\n",
      "\n",
      "0: 224x224 (no detections), 23.8ms\n",
      "Speed: 0.5ms preprocess, 23.8ms inference, 0.5ms postprocess per image at shape (1, 3, 224, 224)\n",
      "\n",
      "0: 224x224 (no detections), 22.3ms\n",
      "Speed: 0.5ms preprocess, 22.3ms inference, 0.5ms postprocess per image at shape (1, 3, 224, 224)\n",
      "\n",
      "0: 224x224 (no detections), 25.3ms\n",
      "Speed: 0.5ms preprocess, 25.3ms inference, 0.5ms postprocess per image at shape (1, 3, 224, 224)\n",
      "\n",
      "0: 224x224 (no detections), 23.3ms\n",
      "Speed: 0.0ms preprocess, 23.3ms inference, 0.5ms postprocess per image at shape (1, 3, 224, 224)\n",
      "\n",
      "0: 224x224 (no detections), 70.4ms\n",
      "Speed: 0.5ms preprocess, 70.4ms inference, 0.5ms postprocess per image at shape (1, 3, 224, 224)\n",
      "\n",
      "0: 224x224 (no detections), 27.3ms\n",
      "Speed: 0.5ms preprocess, 27.3ms inference, 0.5ms postprocess per image at shape (1, 3, 224, 224)\n",
      "\n",
      "0: 224x224 4 pools, 23.8ms\n",
      "Speed: 0.5ms preprocess, 23.8ms inference, 0.5ms postprocess per image at shape (1, 3, 224, 224)\n",
      "\n",
      "0: 224x224 (no detections), 28.3ms\n",
      "Speed: 0.0ms preprocess, 28.3ms inference, 0.0ms postprocess per image at shape (1, 3, 224, 224)\n",
      "\n",
      "0: 224x224 2 pools, 23.3ms\n",
      "Speed: 0.5ms preprocess, 23.3ms inference, 0.5ms postprocess per image at shape (1, 3, 224, 224)\n",
      "\n",
      "0: 224x224 3 pools, 23.3ms\n",
      "Speed: 0.0ms preprocess, 23.3ms inference, 0.5ms postprocess per image at shape (1, 3, 224, 224)\n",
      "\n",
      "0: 224x224 (no detections), 22.8ms\n",
      "Speed: 0.0ms preprocess, 22.8ms inference, 0.0ms postprocess per image at shape (1, 3, 224, 224)\n",
      "\n",
      "0: 224x224 2 pools, 26.3ms\n",
      "Speed: 0.5ms preprocess, 26.3ms inference, 1.0ms postprocess per image at shape (1, 3, 224, 224)\n",
      "\n",
      "0: 224x224 (no detections), 22.8ms\n",
      "Speed: 0.5ms preprocess, 22.8ms inference, 0.0ms postprocess per image at shape (1, 3, 224, 224)\n",
      "\n",
      "0: 224x224 (no detections), 22.8ms\n",
      "Speed: 0.5ms preprocess, 22.8ms inference, 0.5ms postprocess per image at shape (1, 3, 224, 224)\n",
      "\n",
      "0: 224x224 (no detections), 23.8ms\n",
      "Speed: 0.0ms preprocess, 23.8ms inference, 0.5ms postprocess per image at shape (1, 3, 224, 224)\n",
      "\n",
      "0: 224x224 (no detections), 27.8ms\n",
      "Speed: 0.5ms preprocess, 27.8ms inference, 0.5ms postprocess per image at shape (1, 3, 224, 224)\n",
      "\n",
      "0: 224x224 1 pool, 23.8ms\n",
      "Speed: 0.0ms preprocess, 23.8ms inference, 0.5ms postprocess per image at shape (1, 3, 224, 224)\n",
      "\n",
      "0: 224x224 (no detections), 27.3ms\n",
      "Speed: 0.0ms preprocess, 27.3ms inference, 0.5ms postprocess per image at shape (1, 3, 224, 224)\n",
      "\n",
      "0: 224x224 2 pools, 21.8ms\n",
      "Speed: 0.0ms preprocess, 21.8ms inference, 1.0ms postprocess per image at shape (1, 3, 224, 224)\n",
      "\n",
      "0: 224x224 1 pool, 23.8ms\n",
      "Speed: 0.5ms preprocess, 23.8ms inference, 0.5ms postprocess per image at shape (1, 3, 224, 224)\n",
      "\n",
      "0: 224x224 (no detections), 21.8ms\n",
      "Speed: 0.5ms preprocess, 21.8ms inference, 0.5ms postprocess per image at shape (1, 3, 224, 224)\n",
      "\n",
      "0: 224x224 (no detections), 25.3ms\n",
      "Speed: 0.5ms preprocess, 25.3ms inference, 0.5ms postprocess per image at shape (1, 3, 224, 224)\n",
      "\n",
      "0: 224x224 (no detections), 21.3ms\n",
      "Speed: 0.0ms preprocess, 21.3ms inference, 0.5ms postprocess per image at shape (1, 3, 224, 224)\n",
      "\n",
      "0: 224x224 (no detections), 24.3ms\n",
      "Speed: 0.5ms preprocess, 24.3ms inference, 0.5ms postprocess per image at shape (1, 3, 224, 224)\n",
      "\n",
      "0: 224x224 (no detections), 23.3ms\n",
      "Speed: 0.5ms preprocess, 23.3ms inference, 0.5ms postprocess per image at shape (1, 3, 224, 224)\n",
      "\n",
      "0: 224x224 (no detections), 21.3ms\n",
      "Speed: 0.0ms preprocess, 21.3ms inference, 0.5ms postprocess per image at shape (1, 3, 224, 224)\n",
      "\n",
      "0: 224x224 (no detections), 20.8ms\n",
      "Speed: 0.5ms preprocess, 20.8ms inference, 0.5ms postprocess per image at shape (1, 3, 224, 224)\n",
      "\n",
      "0: 224x224 (no detections), 21.8ms\n",
      "Speed: 0.0ms preprocess, 21.8ms inference, 0.5ms postprocess per image at shape (1, 3, 224, 224)\n",
      "\n",
      "0: 224x224 (no detections), 21.8ms\n",
      "Speed: 0.5ms preprocess, 21.8ms inference, 0.5ms postprocess per image at shape (1, 3, 224, 224)\n",
      "\n",
      "0: 224x224 (no detections), 22.3ms\n",
      "Speed: 0.5ms preprocess, 22.3ms inference, 0.5ms postprocess per image at shape (1, 3, 224, 224)\n",
      "\n",
      "0: 224x224 (no detections), 21.8ms\n",
      "Speed: 0.5ms preprocess, 21.8ms inference, 0.5ms postprocess per image at shape (1, 3, 224, 224)\n",
      "\n",
      "0: 224x224 (no detections), 21.3ms\n",
      "Speed: 0.5ms preprocess, 21.3ms inference, 0.5ms postprocess per image at shape (1, 3, 224, 224)\n",
      "\n",
      "0: 224x224 (no detections), 20.8ms\n",
      "Speed: 0.0ms preprocess, 20.8ms inference, 0.0ms postprocess per image at shape (1, 3, 224, 224)\n",
      "\n",
      "0: 224x224 (no detections), 24.8ms\n",
      "Speed: 0.0ms preprocess, 24.8ms inference, 0.5ms postprocess per image at shape (1, 3, 224, 224)\n",
      "\n",
      "0: 224x224 (no detections), 23.3ms\n",
      "Speed: 0.0ms preprocess, 23.3ms inference, 0.5ms postprocess per image at shape (1, 3, 224, 224)\n",
      "\n",
      "0: 224x224 (no detections), 20.8ms\n",
      "Speed: 0.5ms preprocess, 20.8ms inference, 0.0ms postprocess per image at shape (1, 3, 224, 224)\n",
      "\n",
      "0: 224x224 (no detections), 21.3ms\n",
      "Speed: 0.5ms preprocess, 21.3ms inference, 0.5ms postprocess per image at shape (1, 3, 224, 224)\n",
      "\n",
      "0: 224x224 (no detections), 21.8ms\n",
      "Speed: 0.0ms preprocess, 21.8ms inference, 0.5ms postprocess per image at shape (1, 3, 224, 224)\n",
      "\n",
      "0: 224x224 (no detections), 22.3ms\n",
      "Speed: 0.0ms preprocess, 22.3ms inference, 0.0ms postprocess per image at shape (1, 3, 224, 224)\n",
      "\n",
      "0: 224x224 (no detections), 21.8ms\n",
      "Speed: 0.0ms preprocess, 21.8ms inference, 0.5ms postprocess per image at shape (1, 3, 224, 224)\n",
      "\n",
      "0: 224x224 (no detections), 23.8ms\n",
      "Speed: 0.5ms preprocess, 23.8ms inference, 0.5ms postprocess per image at shape (1, 3, 224, 224)\n",
      "\n",
      "0: 224x224 (no detections), 23.3ms\n",
      "Speed: 0.0ms preprocess, 23.3ms inference, 0.5ms postprocess per image at shape (1, 3, 224, 224)\n",
      "\n",
      "0: 224x224 (no detections), 22.3ms\n",
      "Speed: 0.5ms preprocess, 22.3ms inference, 0.5ms postprocess per image at shape (1, 3, 224, 224)\n",
      "\n",
      "0: 224x224 (no detections), 27.8ms\n",
      "Speed: 0.5ms preprocess, 27.8ms inference, 0.0ms postprocess per image at shape (1, 3, 224, 224)\n",
      "\n",
      "0: 224x224 (no detections), 23.3ms\n",
      "Speed: 0.5ms preprocess, 23.3ms inference, 0.0ms postprocess per image at shape (1, 3, 224, 224)\n",
      "\n",
      "0: 224x224 (no detections), 20.8ms\n",
      "Speed: 0.5ms preprocess, 20.8ms inference, 0.0ms postprocess per image at shape (1, 3, 224, 224)\n",
      "\n",
      "0: 224x224 (no detections), 21.8ms\n",
      "Speed: 0.0ms preprocess, 21.8ms inference, 0.5ms postprocess per image at shape (1, 3, 224, 224)\n",
      "\n",
      "0: 224x224 (no detections), 21.3ms\n",
      "Speed: 0.0ms preprocess, 21.3ms inference, 0.5ms postprocess per image at shape (1, 3, 224, 224)\n",
      "\n",
      "0: 224x224 (no detections), 20.3ms\n",
      "Speed: 0.5ms preprocess, 20.3ms inference, 0.5ms postprocess per image at shape (1, 3, 224, 224)\n",
      "\n",
      "0: 224x224 (no detections), 22.3ms\n",
      "Speed: 0.5ms preprocess, 22.3ms inference, 0.5ms postprocess per image at shape (1, 3, 224, 224)\n",
      "\n",
      "0: 224x224 (no detections), 22.3ms\n",
      "Speed: 0.5ms preprocess, 22.3ms inference, 0.0ms postprocess per image at shape (1, 3, 224, 224)\n",
      "\n",
      "0: 224x224 (no detections), 23.8ms\n",
      "Speed: 0.5ms preprocess, 23.8ms inference, 0.5ms postprocess per image at shape (1, 3, 224, 224)\n",
      "\n",
      "0: 224x224 (no detections), 21.3ms\n",
      "Speed: 0.0ms preprocess, 21.3ms inference, 0.0ms postprocess per image at shape (1, 3, 224, 224)\n",
      "\n",
      "0: 224x224 (no detections), 22.3ms\n",
      "Speed: 0.5ms preprocess, 22.3ms inference, 0.0ms postprocess per image at shape (1, 3, 224, 224)\n",
      "\n",
      "0: 224x224 (no detections), 22.8ms\n",
      "Speed: 0.0ms preprocess, 22.8ms inference, 0.0ms postprocess per image at shape (1, 3, 224, 224)\n",
      "\n",
      "0: 224x224 (no detections), 26.8ms\n",
      "Speed: 0.5ms preprocess, 26.8ms inference, 0.5ms postprocess per image at shape (1, 3, 224, 224)\n",
      "\n",
      "0: 224x224 (no detections), 21.8ms\n",
      "Speed: 0.5ms preprocess, 21.8ms inference, 0.0ms postprocess per image at shape (1, 3, 224, 224)\n",
      "\n",
      "0: 224x224 (no detections), 24.8ms\n",
      "Speed: 0.0ms preprocess, 24.8ms inference, 0.5ms postprocess per image at shape (1, 3, 224, 224)\n",
      "\n",
      "0: 224x224 (no detections), 23.8ms\n",
      "Speed: 0.5ms preprocess, 23.8ms inference, 0.5ms postprocess per image at shape (1, 3, 224, 224)\n",
      "\n",
      "0: 224x224 (no detections), 25.3ms\n",
      "Speed: 0.5ms preprocess, 25.3ms inference, 0.5ms postprocess per image at shape (1, 3, 224, 224)\n",
      "\n",
      "0: 224x224 (no detections), 24.8ms\n",
      "Speed: 0.5ms preprocess, 24.8ms inference, 0.0ms postprocess per image at shape (1, 3, 224, 224)\n",
      "\n",
      "0: 224x224 (no detections), 23.8ms\n",
      "Speed: 0.5ms preprocess, 23.8ms inference, 0.5ms postprocess per image at shape (1, 3, 224, 224)\n",
      "\n",
      "0: 224x224 (no detections), 23.3ms\n",
      "Speed: 0.0ms preprocess, 23.3ms inference, 1.0ms postprocess per image at shape (1, 3, 224, 224)\n",
      "\n",
      "0: 224x224 (no detections), 23.8ms\n",
      "Speed: 0.5ms preprocess, 23.8ms inference, 0.5ms postprocess per image at shape (1, 3, 224, 224)\n",
      "\n",
      "0: 224x224 (no detections), 23.8ms\n",
      "Speed: 0.5ms preprocess, 23.8ms inference, 0.5ms postprocess per image at shape (1, 3, 224, 224)\n",
      "\n",
      "0: 224x224 (no detections), 22.3ms\n",
      "Speed: 0.5ms preprocess, 22.3ms inference, 0.0ms postprocess per image at shape (1, 3, 224, 224)\n",
      "\n",
      "0: 224x224 (no detections), 22.8ms\n",
      "Speed: 0.5ms preprocess, 22.8ms inference, 0.0ms postprocess per image at shape (1, 3, 224, 224)\n",
      "\n",
      "0: 224x224 (no detections), 27.8ms\n",
      "Speed: 0.5ms preprocess, 27.8ms inference, 0.0ms postprocess per image at shape (1, 3, 224, 224)\n",
      "\n",
      "0: 224x224 (no detections), 24.3ms\n",
      "Speed: 0.5ms preprocess, 24.3ms inference, 0.0ms postprocess per image at shape (1, 3, 224, 224)\n",
      "\n",
      "0: 224x224 (no detections), 22.8ms\n",
      "Speed: 0.0ms preprocess, 22.8ms inference, 0.5ms postprocess per image at shape (1, 3, 224, 224)\n",
      "\n",
      "0: 224x224 (no detections), 22.3ms\n",
      "Speed: 0.0ms preprocess, 22.3ms inference, 0.5ms postprocess per image at shape (1, 3, 224, 224)\n",
      "\n",
      "0: 224x224 (no detections), 22.3ms\n",
      "Speed: 0.5ms preprocess, 22.3ms inference, 0.0ms postprocess per image at shape (1, 3, 224, 224)\n",
      "\n",
      "0: 224x224 (no detections), 21.8ms\n",
      "Speed: 0.0ms preprocess, 21.8ms inference, 0.5ms postprocess per image at shape (1, 3, 224, 224)\n",
      "\n",
      "0: 224x224 (no detections), 20.8ms\n",
      "Speed: 0.0ms preprocess, 20.8ms inference, 0.5ms postprocess per image at shape (1, 3, 224, 224)\n",
      "\n",
      "0: 224x224 1 pool, 21.3ms\n",
      "Speed: 0.5ms preprocess, 21.3ms inference, 0.5ms postprocess per image at shape (1, 3, 224, 224)\n",
      "\n",
      "0: 224x224 (no detections), 22.8ms\n",
      "Speed: 0.0ms preprocess, 22.8ms inference, 0.0ms postprocess per image at shape (1, 3, 224, 224)\n",
      "\n",
      "0: 224x224 (no detections), 22.8ms\n",
      "Speed: 0.0ms preprocess, 22.8ms inference, 0.5ms postprocess per image at shape (1, 3, 224, 224)\n",
      "\n",
      "0: 224x224 1 pool, 22.8ms\n",
      "Speed: 0.0ms preprocess, 22.8ms inference, 0.5ms postprocess per image at shape (1, 3, 224, 224)\n",
      "\n",
      "0: 224x224 (no detections), 23.8ms\n",
      "Speed: 0.5ms preprocess, 23.8ms inference, 0.5ms postprocess per image at shape (1, 3, 224, 224)\n",
      "\n",
      "0: 224x224 (no detections), 21.8ms\n",
      "Speed: 0.0ms preprocess, 21.8ms inference, 0.0ms postprocess per image at shape (1, 3, 224, 224)\n",
      "\n",
      "0: 224x224 (no detections), 21.8ms\n",
      "Speed: 0.5ms preprocess, 21.8ms inference, 0.5ms postprocess per image at shape (1, 3, 224, 224)\n",
      "\n",
      "0: 224x224 (no detections), 52.1ms\n",
      "Speed: 1.0ms preprocess, 52.1ms inference, 0.5ms postprocess per image at shape (1, 3, 224, 224)\n",
      "\n",
      "0: 224x224 (no detections), 26.3ms\n",
      "Speed: 0.5ms preprocess, 26.3ms inference, 0.5ms postprocess per image at shape (1, 3, 224, 224)\n",
      "\n",
      "0: 224x224 (no detections), 24.3ms\n",
      "Speed: 0.0ms preprocess, 24.3ms inference, 0.5ms postprocess per image at shape (1, 3, 224, 224)\n",
      "\n",
      "0: 224x224 (no detections), 20.8ms\n",
      "Speed: 0.5ms preprocess, 20.8ms inference, 0.0ms postprocess per image at shape (1, 3, 224, 224)\n",
      "\n",
      "0: 224x224 (no detections), 22.8ms\n",
      "Speed: 0.5ms preprocess, 22.8ms inference, 0.5ms postprocess per image at shape (1, 3, 224, 224)\n",
      "\n",
      "0: 224x224 (no detections), 20.3ms\n",
      "Speed: 0.0ms preprocess, 20.3ms inference, 0.0ms postprocess per image at shape (1, 3, 224, 224)\n",
      "\n",
      "0: 224x224 (no detections), 20.3ms\n",
      "Speed: 0.0ms preprocess, 20.3ms inference, 0.5ms postprocess per image at shape (1, 3, 224, 224)\n",
      "\n",
      "0: 224x224 (no detections), 22.3ms\n",
      "Speed: 0.5ms preprocess, 22.3ms inference, 0.5ms postprocess per image at shape (1, 3, 224, 224)\n",
      "\n",
      "0: 224x224 1 pool, 21.8ms\n",
      "Speed: 0.5ms preprocess, 21.8ms inference, 0.5ms postprocess per image at shape (1, 3, 224, 224)\n",
      "\n",
      "0: 224x224 1 pool, 21.3ms\n",
      "Speed: 0.5ms preprocess, 21.3ms inference, 0.5ms postprocess per image at shape (1, 3, 224, 224)\n",
      "\n",
      "0: 224x224 (no detections), 25.8ms\n",
      "Speed: 0.0ms preprocess, 25.8ms inference, 0.5ms postprocess per image at shape (1, 3, 224, 224)\n",
      "\n",
      "0: 224x224 (no detections), 21.3ms\n",
      "Speed: 0.5ms preprocess, 21.3ms inference, 0.5ms postprocess per image at shape (1, 3, 224, 224)\n",
      "\n",
      "0: 224x224 (no detections), 20.8ms\n",
      "Speed: 0.0ms preprocess, 20.8ms inference, 0.0ms postprocess per image at shape (1, 3, 224, 224)\n",
      "\n",
      "0: 224x224 (no detections), 24.3ms\n",
      "Speed: 0.5ms preprocess, 24.3ms inference, 0.5ms postprocess per image at shape (1, 3, 224, 224)\n",
      "\n",
      "0: 224x224 (no detections), 21.8ms\n",
      "Speed: 0.5ms preprocess, 21.8ms inference, 0.5ms postprocess per image at shape (1, 3, 224, 224)\n",
      "\n",
      "0: 224x224 (no detections), 22.3ms\n",
      "Speed: 0.5ms preprocess, 22.3ms inference, 0.5ms postprocess per image at shape (1, 3, 224, 224)\n",
      "\n",
      "0: 224x224 (no detections), 24.3ms\n",
      "Speed: 0.5ms preprocess, 24.3ms inference, 0.5ms postprocess per image at shape (1, 3, 224, 224)\n",
      "\n",
      "0: 224x224 (no detections), 23.8ms\n",
      "Speed: 0.0ms preprocess, 23.8ms inference, 0.5ms postprocess per image at shape (1, 3, 224, 224)\n",
      "\n",
      "0: 224x224 (no detections), 23.3ms\n",
      "Speed: 0.0ms preprocess, 23.3ms inference, 0.5ms postprocess per image at shape (1, 3, 224, 224)\n",
      "\n",
      "0: 224x224 (no detections), 23.3ms\n",
      "Speed: 0.5ms preprocess, 23.3ms inference, 0.5ms postprocess per image at shape (1, 3, 224, 224)\n",
      "\n",
      "0: 224x224 1 pool, 22.3ms\n",
      "Speed: 0.5ms preprocess, 22.3ms inference, 0.5ms postprocess per image at shape (1, 3, 224, 224)\n",
      "\n",
      "0: 224x224 1 pool, 26.3ms\n",
      "Speed: 0.0ms preprocess, 26.3ms inference, 0.5ms postprocess per image at shape (1, 3, 224, 224)\n",
      "\n",
      "0: 224x224 1 pool, 22.8ms\n",
      "Speed: 0.0ms preprocess, 22.8ms inference, 0.5ms postprocess per image at shape (1, 3, 224, 224)\n",
      "\n",
      "0: 224x224 2 pools, 24.3ms\n",
      "Speed: 0.0ms preprocess, 24.3ms inference, 0.5ms postprocess per image at shape (1, 3, 224, 224)\n",
      "\n",
      "0: 224x224 (no detections), 24.8ms\n",
      "Speed: 0.5ms preprocess, 24.8ms inference, 0.5ms postprocess per image at shape (1, 3, 224, 224)\n",
      "\n",
      "0: 224x224 1 pool, 21.8ms\n",
      "Speed: 0.0ms preprocess, 21.8ms inference, 0.5ms postprocess per image at shape (1, 3, 224, 224)\n",
      "\n",
      "0: 224x224 (no detections), 22.3ms\n",
      "Speed: 0.5ms preprocess, 22.3ms inference, 0.5ms postprocess per image at shape (1, 3, 224, 224)\n",
      "\n",
      "0: 224x224 (no detections), 24.3ms\n",
      "Speed: 0.0ms preprocess, 24.3ms inference, 0.5ms postprocess per image at shape (1, 3, 224, 224)\n",
      "\n",
      "0: 224x224 1 pool, 23.3ms\n",
      "Speed: 0.0ms preprocess, 23.3ms inference, 0.5ms postprocess per image at shape (1, 3, 224, 224)\n",
      "\n",
      "0: 224x224 (no detections), 22.3ms\n",
      "Speed: 0.5ms preprocess, 22.3ms inference, 0.5ms postprocess per image at shape (1, 3, 224, 224)\n",
      "\n",
      "0: 224x224 (no detections), 23.3ms\n",
      "Speed: 0.5ms preprocess, 23.3ms inference, 0.5ms postprocess per image at shape (1, 3, 224, 224)\n",
      "\n",
      "0: 224x224 (no detections), 22.3ms\n",
      "Speed: 0.5ms preprocess, 22.3ms inference, 0.0ms postprocess per image at shape (1, 3, 224, 224)\n",
      "\n",
      "0: 224x224 (no detections), 22.3ms\n",
      "Speed: 0.5ms preprocess, 22.3ms inference, 0.5ms postprocess per image at shape (1, 3, 224, 224)\n",
      "\n",
      "0: 224x224 (no detections), 23.3ms\n",
      "Speed: 0.5ms preprocess, 23.3ms inference, 0.0ms postprocess per image at shape (1, 3, 224, 224)\n",
      "\n",
      "0: 224x224 (no detections), 29.8ms\n",
      "Speed: 0.0ms preprocess, 29.8ms inference, 0.0ms postprocess per image at shape (1, 3, 224, 224)\n",
      "\n",
      "0: 224x224 (no detections), 24.3ms\n",
      "Speed: 0.0ms preprocess, 24.3ms inference, 0.5ms postprocess per image at shape (1, 3, 224, 224)\n",
      "\n",
      "0: 224x224 (no detections), 22.3ms\n",
      "Speed: 0.5ms preprocess, 22.3ms inference, 0.0ms postprocess per image at shape (1, 3, 224, 224)\n",
      "\n",
      "0: 224x224 (no detections), 27.3ms\n",
      "Speed: 0.5ms preprocess, 27.3ms inference, 0.5ms postprocess per image at shape (1, 3, 224, 224)\n",
      "\n",
      "0: 224x224 (no detections), 24.3ms\n",
      "Speed: 0.0ms preprocess, 24.3ms inference, 0.0ms postprocess per image at shape (1, 3, 224, 224)\n",
      "\n",
      "0: 224x224 (no detections), 21.3ms\n",
      "Speed: 0.0ms preprocess, 21.3ms inference, 0.5ms postprocess per image at shape (1, 3, 224, 224)\n",
      "\n",
      "0: 224x224 (no detections), 20.8ms\n",
      "Speed: 0.0ms preprocess, 20.8ms inference, 0.5ms postprocess per image at shape (1, 3, 224, 224)\n",
      "\n",
      "0: 224x224 (no detections), 20.8ms\n",
      "Speed: 0.5ms preprocess, 20.8ms inference, 0.0ms postprocess per image at shape (1, 3, 224, 224)\n",
      "\n",
      "0: 224x224 (no detections), 20.8ms\n",
      "Speed: 0.5ms preprocess, 20.8ms inference, 0.5ms postprocess per image at shape (1, 3, 224, 224)\n",
      "\n",
      "0: 224x224 (no detections), 22.8ms\n",
      "Speed: 0.0ms preprocess, 22.8ms inference, 0.0ms postprocess per image at shape (1, 3, 224, 224)\n",
      "\n",
      "0: 224x224 (no detections), 21.8ms\n",
      "Speed: 0.0ms preprocess, 21.8ms inference, 0.0ms postprocess per image at shape (1, 3, 224, 224)\n",
      "\n",
      "0: 224x224 (no detections), 22.3ms\n",
      "Speed: 0.0ms preprocess, 22.3ms inference, 0.0ms postprocess per image at shape (1, 3, 224, 224)\n",
      "\n",
      "0: 224x224 (no detections), 21.8ms\n",
      "Speed: 0.0ms preprocess, 21.8ms inference, 0.0ms postprocess per image at shape (1, 3, 224, 224)\n",
      "\n",
      "0: 224x224 (no detections), 20.8ms\n",
      "Speed: 0.5ms preprocess, 20.8ms inference, 0.0ms postprocess per image at shape (1, 3, 224, 224)\n",
      "\n",
      "0: 224x224 (no detections), 22.8ms\n",
      "Speed: 0.0ms preprocess, 22.8ms inference, 0.5ms postprocess per image at shape (1, 3, 224, 224)\n",
      "\n",
      "0: 224x224 (no detections), 21.8ms\n",
      "Speed: 0.0ms preprocess, 21.8ms inference, 0.5ms postprocess per image at shape (1, 3, 224, 224)\n",
      "\n",
      "0: 224x224 (no detections), 21.8ms\n",
      "Speed: 0.5ms preprocess, 21.8ms inference, 0.5ms postprocess per image at shape (1, 3, 224, 224)\n",
      "\n",
      "0: 224x224 (no detections), 23.8ms\n",
      "Speed: 0.0ms preprocess, 23.8ms inference, 0.5ms postprocess per image at shape (1, 3, 224, 224)\n",
      "\n",
      "0: 224x224 1 pool, 22.8ms\n",
      "Speed: 0.5ms preprocess, 22.8ms inference, 1.0ms postprocess per image at shape (1, 3, 224, 224)\n",
      "\n",
      "0: 224x224 1 pool, 21.8ms\n",
      "Speed: 0.0ms preprocess, 21.8ms inference, 1.0ms postprocess per image at shape (1, 3, 224, 224)\n",
      "\n",
      "0: 224x224 1 pool, 21.8ms\n",
      "Speed: 0.5ms preprocess, 21.8ms inference, 0.5ms postprocess per image at shape (1, 3, 224, 224)\n",
      "\n",
      "0: 224x224 1 pool, 21.8ms\n",
      "Speed: 0.5ms preprocess, 21.8ms inference, 1.0ms postprocess per image at shape (1, 3, 224, 224)\n",
      "\n",
      "0: 224x224 (no detections), 21.8ms\n",
      "Speed: 0.0ms preprocess, 21.8ms inference, 0.0ms postprocess per image at shape (1, 3, 224, 224)\n",
      "\n",
      "0: 224x224 1 pool, 21.8ms\n",
      "Speed: 0.0ms preprocess, 21.8ms inference, 0.5ms postprocess per image at shape (1, 3, 224, 224)\n",
      "\n",
      "0: 224x224 (no detections), 22.8ms\n",
      "Speed: 0.5ms preprocess, 22.8ms inference, 0.0ms postprocess per image at shape (1, 3, 224, 224)\n",
      "\n",
      "0: 224x224 1 pool, 22.8ms\n",
      "Speed: 0.0ms preprocess, 22.8ms inference, 0.5ms postprocess per image at shape (1, 3, 224, 224)\n",
      "\n",
      "0: 224x224 1 pool, 21.3ms\n",
      "Speed: 0.5ms preprocess, 21.3ms inference, 1.0ms postprocess per image at shape (1, 3, 224, 224)\n",
      "\n",
      "0: 224x224 (no detections), 20.8ms\n",
      "Speed: 0.5ms preprocess, 20.8ms inference, 0.0ms postprocess per image at shape (1, 3, 224, 224)\n",
      "\n",
      "0: 224x224 1 pool, 22.8ms\n",
      "Speed: 0.0ms preprocess, 22.8ms inference, 0.5ms postprocess per image at shape (1, 3, 224, 224)\n",
      "\n",
      "0: 224x224 (no detections), 20.8ms\n",
      "Speed: 0.5ms preprocess, 20.8ms inference, 0.5ms postprocess per image at shape (1, 3, 224, 224)\n",
      "\n",
      "0: 224x224 (no detections), 21.8ms\n",
      "Speed: 0.0ms preprocess, 21.8ms inference, 0.5ms postprocess per image at shape (1, 3, 224, 224)\n",
      "\n",
      "0: 224x224 (no detections), 22.8ms\n",
      "Speed: 0.0ms preprocess, 22.8ms inference, 0.0ms postprocess per image at shape (1, 3, 224, 224)\n",
      "\n",
      "0: 224x224 (no detections), 21.3ms\n",
      "Speed: 0.0ms preprocess, 21.3ms inference, 0.5ms postprocess per image at shape (1, 3, 224, 224)\n",
      "\n",
      "0: 224x224 (no detections), 22.3ms\n",
      "Speed: 0.0ms preprocess, 22.3ms inference, 0.0ms postprocess per image at shape (1, 3, 224, 224)\n",
      "\n",
      "0: 224x224 (no detections), 28.3ms\n",
      "Speed: 0.5ms preprocess, 28.3ms inference, 0.5ms postprocess per image at shape (1, 3, 224, 224)\n",
      "\n",
      "0: 224x224 (no detections), 22.3ms\n",
      "Speed: 0.0ms preprocess, 22.3ms inference, 0.5ms postprocess per image at shape (1, 3, 224, 224)\n",
      "\n",
      "0: 224x224 (no detections), 20.3ms\n",
      "Speed: 0.5ms preprocess, 20.3ms inference, 0.0ms postprocess per image at shape (1, 3, 224, 224)\n",
      "\n",
      "0: 224x224 (no detections), 21.8ms\n",
      "Speed: 0.5ms preprocess, 21.8ms inference, 0.0ms postprocess per image at shape (1, 3, 224, 224)\n",
      "\n",
      "0: 224x224 (no detections), 22.8ms\n",
      "Speed: 0.0ms preprocess, 22.8ms inference, 0.5ms postprocess per image at shape (1, 3, 224, 224)\n",
      "\n",
      "0: 224x224 (no detections), 22.8ms\n",
      "Speed: 0.5ms preprocess, 22.8ms inference, 0.5ms postprocess per image at shape (1, 3, 224, 224)\n",
      "\n",
      "0: 224x224 (no detections), 20.3ms\n",
      "Speed: 0.0ms preprocess, 20.3ms inference, 0.5ms postprocess per image at shape (1, 3, 224, 224)\n",
      "\n",
      "0: 224x224 (no detections), 22.3ms\n",
      "Speed: 0.0ms preprocess, 22.3ms inference, 0.0ms postprocess per image at shape (1, 3, 224, 224)\n",
      "\n",
      "0: 224x224 1 pool, 20.8ms\n",
      "Speed: 0.0ms preprocess, 20.8ms inference, 0.5ms postprocess per image at shape (1, 3, 224, 224)\n",
      "\n",
      "0: 224x224 3 pools, 22.8ms\n",
      "Speed: 0.0ms preprocess, 22.8ms inference, 0.5ms postprocess per image at shape (1, 3, 224, 224)\n",
      "\n",
      "0: 224x224 1 pool, 21.8ms\n",
      "Speed: 0.5ms preprocess, 21.8ms inference, 0.5ms postprocess per image at shape (1, 3, 224, 224)\n",
      "\n",
      "0: 224x224 3 pools, 22.3ms\n",
      "Speed: 0.0ms preprocess, 22.3ms inference, 1.0ms postprocess per image at shape (1, 3, 224, 224)\n",
      "\n",
      "0: 224x224 3 pools, 21.3ms\n",
      "Speed: 0.5ms preprocess, 21.3ms inference, 0.5ms postprocess per image at shape (1, 3, 224, 224)\n",
      "\n",
      "0: 224x224 1 pool, 21.3ms\n",
      "Speed: 0.5ms preprocess, 21.3ms inference, 0.5ms postprocess per image at shape (1, 3, 224, 224)\n",
      "\n",
      "0: 224x224 3 pools, 20.3ms\n",
      "Speed: 0.5ms preprocess, 20.3ms inference, 0.5ms postprocess per image at shape (1, 3, 224, 224)\n",
      "\n",
      "0: 224x224 1 pool, 21.3ms\n",
      "Speed: 0.0ms preprocess, 21.3ms inference, 1.0ms postprocess per image at shape (1, 3, 224, 224)\n",
      "\n",
      "0: 224x224 (no detections), 24.3ms\n",
      "Speed: 0.0ms preprocess, 24.3ms inference, 0.0ms postprocess per image at shape (1, 3, 224, 224)\n",
      "\n",
      "0: 224x224 (no detections), 22.3ms\n",
      "Speed: 0.0ms preprocess, 22.3ms inference, 0.5ms postprocess per image at shape (1, 3, 224, 224)\n",
      "\n",
      "0: 224x224 (no detections), 21.3ms\n",
      "Speed: 0.5ms preprocess, 21.3ms inference, 0.5ms postprocess per image at shape (1, 3, 224, 224)\n",
      "\n",
      "0: 224x224 (no detections), 54.6ms\n",
      "Speed: 0.5ms preprocess, 54.6ms inference, 0.0ms postprocess per image at shape (1, 3, 224, 224)\n",
      "\n",
      "0: 224x224 (no detections), 28.3ms\n",
      "Speed: 0.5ms preprocess, 28.3ms inference, 0.0ms postprocess per image at shape (1, 3, 224, 224)\n",
      "\n",
      "0: 224x224 (no detections), 22.3ms\n",
      "Speed: 0.5ms preprocess, 22.3ms inference, 0.0ms postprocess per image at shape (1, 3, 224, 224)\n",
      "\n",
      "0: 224x224 (no detections), 21.3ms\n",
      "Speed: 0.5ms preprocess, 21.3ms inference, 0.5ms postprocess per image at shape (1, 3, 224, 224)\n",
      "\n",
      "0: 224x224 (no detections), 21.8ms\n",
      "Speed: 0.0ms preprocess, 21.8ms inference, 0.0ms postprocess per image at shape (1, 3, 224, 224)\n",
      "\n",
      "0: 224x224 (no detections), 21.8ms\n",
      "Speed: 0.0ms preprocess, 21.8ms inference, 0.0ms postprocess per image at shape (1, 3, 224, 224)\n",
      "\n",
      "0: 224x224 1 pool, 22.3ms\n",
      "Speed: 0.5ms preprocess, 22.3ms inference, 0.5ms postprocess per image at shape (1, 3, 224, 224)\n",
      "\n",
      "0: 224x224 (no detections), 21.3ms\n",
      "Speed: 0.5ms preprocess, 21.3ms inference, 0.5ms postprocess per image at shape (1, 3, 224, 224)\n",
      "\n",
      "0: 224x224 1 pool, 22.3ms\n",
      "Speed: 0.5ms preprocess, 22.3ms inference, 0.5ms postprocess per image at shape (1, 3, 224, 224)\n",
      "\n",
      "0: 224x224 1 pool, 20.8ms\n",
      "Speed: 0.0ms preprocess, 20.8ms inference, 0.5ms postprocess per image at shape (1, 3, 224, 224)\n",
      "\n",
      "0: 224x224 (no detections), 20.8ms\n",
      "Speed: 0.5ms preprocess, 20.8ms inference, 0.5ms postprocess per image at shape (1, 3, 224, 224)\n",
      "\n",
      "0: 224x224 1 pool, 22.8ms\n",
      "Speed: 0.0ms preprocess, 22.8ms inference, 1.0ms postprocess per image at shape (1, 3, 224, 224)\n",
      "\n",
      "0: 224x224 (no detections), 22.3ms\n",
      "Speed: 0.5ms preprocess, 22.3ms inference, 0.0ms postprocess per image at shape (1, 3, 224, 224)\n",
      "\n",
      "0: 224x224 (no detections), 28.8ms\n",
      "Speed: 0.5ms preprocess, 28.8ms inference, 0.5ms postprocess per image at shape (1, 3, 224, 224)\n",
      "\n",
      "0: 224x224 (no detections), 22.3ms\n",
      "Speed: 0.0ms preprocess, 22.3ms inference, 0.5ms postprocess per image at shape (1, 3, 224, 224)\n",
      "\n",
      "0: 224x224 (no detections), 20.8ms\n",
      "Speed: 0.0ms preprocess, 20.8ms inference, 0.5ms postprocess per image at shape (1, 3, 224, 224)\n",
      "\n",
      "0: 224x224 (no detections), 20.3ms\n",
      "Speed: 0.0ms preprocess, 20.3ms inference, 0.5ms postprocess per image at shape (1, 3, 224, 224)\n",
      "\n",
      "0: 224x224 1 pool, 21.3ms\n",
      "Speed: 0.5ms preprocess, 21.3ms inference, 0.5ms postprocess per image at shape (1, 3, 224, 224)\n",
      "\n",
      "0: 224x224 1 pool, 22.3ms\n",
      "Speed: 0.5ms preprocess, 22.3ms inference, 0.5ms postprocess per image at shape (1, 3, 224, 224)\n",
      "\n",
      "0: 224x224 1 pool, 22.8ms\n",
      "Speed: 0.0ms preprocess, 22.8ms inference, 0.5ms postprocess per image at shape (1, 3, 224, 224)\n",
      "\n",
      "0: 224x224 1 pool, 23.3ms\n",
      "Speed: 0.0ms preprocess, 23.3ms inference, 1.0ms postprocess per image at shape (1, 3, 224, 224)\n",
      "\n",
      "0: 224x224 (no detections), 23.8ms\n",
      "Speed: 0.5ms preprocess, 23.8ms inference, 0.5ms postprocess per image at shape (1, 3, 224, 224)\n",
      "\n",
      "0: 224x224 (no detections), 23.8ms\n",
      "Speed: 0.5ms preprocess, 23.8ms inference, 0.0ms postprocess per image at shape (1, 3, 224, 224)\n",
      "\n",
      "0: 224x224 (no detections), 22.8ms\n",
      "Speed: 0.5ms preprocess, 22.8ms inference, 0.5ms postprocess per image at shape (1, 3, 224, 224)\n",
      "\n",
      "0: 224x224 (no detections), 21.3ms\n",
      "Speed: 0.5ms preprocess, 21.3ms inference, 0.5ms postprocess per image at shape (1, 3, 224, 224)\n",
      "\n",
      "0: 224x224 1 pool, 22.8ms\n",
      "Speed: 0.5ms preprocess, 22.8ms inference, 0.5ms postprocess per image at shape (1, 3, 224, 224)\n",
      "\n",
      "0: 224x224 1 pool, 22.3ms\n",
      "Speed: 0.5ms preprocess, 22.3ms inference, 0.5ms postprocess per image at shape (1, 3, 224, 224)\n",
      "\n",
      "0: 224x224 (no detections), 22.3ms\n",
      "Speed: 0.0ms preprocess, 22.3ms inference, 0.0ms postprocess per image at shape (1, 3, 224, 224)\n",
      "\n",
      "0: 224x224 (no detections), 21.3ms\n",
      "Speed: 0.0ms preprocess, 21.3ms inference, 0.5ms postprocess per image at shape (1, 3, 224, 224)\n",
      "\n",
      "0: 224x224 1 pool, 21.8ms\n",
      "Speed: 0.5ms preprocess, 21.8ms inference, 0.5ms postprocess per image at shape (1, 3, 224, 224)\n",
      "\n",
      "0: 224x224 1 pool, 21.3ms\n",
      "Speed: 0.0ms preprocess, 21.3ms inference, 1.0ms postprocess per image at shape (1, 3, 224, 224)\n",
      "\n",
      "0: 224x224 1 pool, 24.3ms\n",
      "Speed: 0.5ms preprocess, 24.3ms inference, 0.5ms postprocess per image at shape (1, 3, 224, 224)\n",
      "\n",
      "0: 224x224 1 pool, 21.3ms\n",
      "Speed: 0.5ms preprocess, 21.3ms inference, 0.5ms postprocess per image at shape (1, 3, 224, 224)\n",
      "\n",
      "0: 224x224 (no detections), 25.3ms\n",
      "Speed: 0.0ms preprocess, 25.3ms inference, 0.5ms postprocess per image at shape (1, 3, 224, 224)\n",
      "\n",
      "0: 224x224 (no detections), 24.8ms\n",
      "Speed: 0.5ms preprocess, 24.8ms inference, 0.0ms postprocess per image at shape (1, 3, 224, 224)\n",
      "\n",
      "0: 224x224 (no detections), 23.8ms\n",
      "Speed: 0.0ms preprocess, 23.8ms inference, 0.5ms postprocess per image at shape (1, 3, 224, 224)\n",
      "\n",
      "0: 224x224 (no detections), 21.8ms\n",
      "Speed: 0.5ms preprocess, 21.8ms inference, 0.5ms postprocess per image at shape (1, 3, 224, 224)\n",
      "\n",
      "0: 224x224 (no detections), 22.8ms\n",
      "Speed: 0.5ms preprocess, 22.8ms inference, 0.5ms postprocess per image at shape (1, 3, 224, 224)\n",
      "\n",
      "0: 224x224 (no detections), 22.8ms\n",
      "Speed: 0.0ms preprocess, 22.8ms inference, 0.5ms postprocess per image at shape (1, 3, 224, 224)\n",
      "\n",
      "0: 224x224 (no detections), 34.2ms\n",
      "Speed: 0.5ms preprocess, 34.2ms inference, 0.0ms postprocess per image at shape (1, 3, 224, 224)\n",
      "\n",
      "0: 224x224 (no detections), 31.7ms\n",
      "Speed: 0.0ms preprocess, 31.7ms inference, 0.0ms postprocess per image at shape (1, 3, 224, 224)\n",
      "\n",
      "0: 224x224 (no detections), 35.2ms\n",
      "Speed: 0.0ms preprocess, 35.2ms inference, 0.5ms postprocess per image at shape (1, 3, 224, 224)\n",
      "\n",
      "0: 224x224 (no detections), 23.8ms\n",
      "Speed: 0.5ms preprocess, 23.8ms inference, 0.0ms postprocess per image at shape (1, 3, 224, 224)\n",
      "\n",
      "0: 224x224 (no detections), 24.3ms\n",
      "Speed: 0.5ms preprocess, 24.3ms inference, 0.5ms postprocess per image at shape (1, 3, 224, 224)\n",
      "\n",
      "0: 224x224 (no detections), 25.3ms\n",
      "Speed: 0.5ms preprocess, 25.3ms inference, 0.5ms postprocess per image at shape (1, 3, 224, 224)\n",
      "\n",
      "0: 224x224 (no detections), 23.3ms\n",
      "Speed: 0.5ms preprocess, 23.3ms inference, 0.5ms postprocess per image at shape (1, 3, 224, 224)\n",
      "\n",
      "0: 224x224 (no detections), 25.8ms\n",
      "Speed: 0.5ms preprocess, 25.8ms inference, 0.0ms postprocess per image at shape (1, 3, 224, 224)\n",
      "\n",
      "0: 224x224 (no detections), 22.8ms\n",
      "Speed: 0.5ms preprocess, 22.8ms inference, 0.0ms postprocess per image at shape (1, 3, 224, 224)\n",
      "\n",
      "0: 224x224 (no detections), 23.3ms\n",
      "Speed: 0.5ms preprocess, 23.3ms inference, 0.5ms postprocess per image at shape (1, 3, 224, 224)\n",
      "\n",
      "0: 224x224 (no detections), 22.3ms\n",
      "Speed: 0.5ms preprocess, 22.3ms inference, 0.5ms postprocess per image at shape (1, 3, 224, 224)\n",
      "\n",
      "0: 224x224 (no detections), 22.3ms\n",
      "Speed: 0.5ms preprocess, 22.3ms inference, 0.5ms postprocess per image at shape (1, 3, 224, 224)\n",
      "\n",
      "0: 224x224 (no detections), 21.8ms\n",
      "Speed: 0.5ms preprocess, 21.8ms inference, 0.0ms postprocess per image at shape (1, 3, 224, 224)\n",
      "\n",
      "0: 224x224 (no detections), 21.3ms\n",
      "Speed: 0.0ms preprocess, 21.3ms inference, 0.0ms postprocess per image at shape (1, 3, 224, 224)\n",
      "\n",
      "0: 224x224 (no detections), 22.3ms\n",
      "Speed: 0.5ms preprocess, 22.3ms inference, 0.5ms postprocess per image at shape (1, 3, 224, 224)\n",
      "\n",
      "0: 224x224 (no detections), 22.8ms\n",
      "Speed: 0.5ms preprocess, 22.8ms inference, 0.5ms postprocess per image at shape (1, 3, 224, 224)\n",
      "\n",
      "0: 224x224 (no detections), 23.3ms\n",
      "Speed: 0.5ms preprocess, 23.3ms inference, 0.0ms postprocess per image at shape (1, 3, 224, 224)\n",
      "\n",
      "0: 224x224 (no detections), 22.3ms\n",
      "Speed: 0.5ms preprocess, 22.3ms inference, 0.5ms postprocess per image at shape (1, 3, 224, 224)\n",
      "\n",
      "0: 224x224 (no detections), 23.8ms\n",
      "Speed: 0.5ms preprocess, 23.8ms inference, 0.5ms postprocess per image at shape (1, 3, 224, 224)\n",
      "\n",
      "0: 224x224 (no detections), 23.3ms\n",
      "Speed: 0.5ms preprocess, 23.3ms inference, 0.5ms postprocess per image at shape (1, 3, 224, 224)\n",
      "\n",
      "0: 224x224 (no detections), 24.3ms\n",
      "Speed: 0.5ms preprocess, 24.3ms inference, 0.0ms postprocess per image at shape (1, 3, 224, 224)\n",
      "\n",
      "0: 224x224 (no detections), 24.8ms\n",
      "Speed: 0.0ms preprocess, 24.8ms inference, 0.5ms postprocess per image at shape (1, 3, 224, 224)\n",
      "\n",
      "0: 224x224 (no detections), 23.3ms\n",
      "Speed: 0.5ms preprocess, 23.3ms inference, 0.5ms postprocess per image at shape (1, 3, 224, 224)\n",
      "\n",
      "0: 224x224 (no detections), 23.3ms\n",
      "Speed: 0.5ms preprocess, 23.3ms inference, 1.0ms postprocess per image at shape (1, 3, 224, 224)\n",
      "\n",
      "0: 224x224 (no detections), 23.8ms\n",
      "Speed: 0.5ms preprocess, 23.8ms inference, 0.5ms postprocess per image at shape (1, 3, 224, 224)\n",
      "\n",
      "0: 224x224 (no detections), 23.8ms\n",
      "Speed: 0.5ms preprocess, 23.8ms inference, 0.5ms postprocess per image at shape (1, 3, 224, 224)\n",
      "\n",
      "0: 224x224 (no detections), 22.8ms\n",
      "Speed: 0.5ms preprocess, 22.8ms inference, 0.0ms postprocess per image at shape (1, 3, 224, 224)\n",
      "\n",
      "0: 224x224 (no detections), 24.3ms\n",
      "Speed: 0.0ms preprocess, 24.3ms inference, 0.5ms postprocess per image at shape (1, 3, 224, 224)\n",
      "\n",
      "0: 224x224 (no detections), 23.8ms\n",
      "Speed: 0.0ms preprocess, 23.8ms inference, 0.0ms postprocess per image at shape (1, 3, 224, 224)\n",
      "\n",
      "0: 224x224 (no detections), 27.8ms\n",
      "Speed: 0.5ms preprocess, 27.8ms inference, 0.0ms postprocess per image at shape (1, 3, 224, 224)\n",
      "\n",
      "0: 224x224 (no detections), 24.3ms\n",
      "Speed: 0.0ms preprocess, 24.3ms inference, 0.0ms postprocess per image at shape (1, 3, 224, 224)\n",
      "\n",
      "0: 224x224 (no detections), 21.8ms\n",
      "Speed: 0.0ms preprocess, 21.8ms inference, 0.5ms postprocess per image at shape (1, 3, 224, 224)\n",
      "\n",
      "0: 224x224 1 pool, 22.3ms\n",
      "Speed: 0.5ms preprocess, 22.3ms inference, 0.5ms postprocess per image at shape (1, 3, 224, 224)\n",
      "\n",
      "0: 224x224 (no detections), 23.3ms\n",
      "Speed: 0.5ms preprocess, 23.3ms inference, 0.5ms postprocess per image at shape (1, 3, 224, 224)\n",
      "\n",
      "0: 224x224 (no detections), 26.8ms\n",
      "Speed: 0.0ms preprocess, 26.8ms inference, 0.5ms postprocess per image at shape (1, 3, 224, 224)\n",
      "\n",
      "0: 224x224 (no detections), 23.8ms\n",
      "Speed: 0.5ms preprocess, 23.8ms inference, 0.5ms postprocess per image at shape (1, 3, 224, 224)\n",
      "\n",
      "0: 224x224 (no detections), 25.3ms\n",
      "Speed: 0.0ms preprocess, 25.3ms inference, 0.5ms postprocess per image at shape (1, 3, 224, 224)\n",
      "\n",
      "0: 224x224 (no detections), 21.8ms\n",
      "Speed: 0.0ms preprocess, 21.8ms inference, 0.0ms postprocess per image at shape (1, 3, 224, 224)\n",
      "\n",
      "0: 224x224 (no detections), 21.3ms\n",
      "Speed: 0.5ms preprocess, 21.3ms inference, 0.5ms postprocess per image at shape (1, 3, 224, 224)\n",
      "\n",
      "0: 224x224 1 pool, 20.8ms\n",
      "Speed: 0.0ms preprocess, 20.8ms inference, 0.5ms postprocess per image at shape (1, 3, 224, 224)\n",
      "\n",
      "0: 224x224 1 pool, 22.8ms\n",
      "Speed: 0.0ms preprocess, 22.8ms inference, 0.5ms postprocess per image at shape (1, 3, 224, 224)\n",
      "\n",
      "0: 224x224 (no detections), 22.8ms\n",
      "Speed: 0.0ms preprocess, 22.8ms inference, 0.5ms postprocess per image at shape (1, 3, 224, 224)\n",
      "\n",
      "0: 224x224 (no detections), 25.3ms\n",
      "Speed: 0.5ms preprocess, 25.3ms inference, 0.5ms postprocess per image at shape (1, 3, 224, 224)\n",
      "\n",
      "0: 224x224 2 pools, 21.3ms\n",
      "Speed: 0.5ms preprocess, 21.3ms inference, 0.5ms postprocess per image at shape (1, 3, 224, 224)\n",
      "\n",
      "0: 224x224 (no detections), 22.3ms\n",
      "Speed: 0.0ms preprocess, 22.3ms inference, 0.0ms postprocess per image at shape (1, 3, 224, 224)\n",
      "\n",
      "0: 224x224 (no detections), 21.3ms\n",
      "Speed: 0.0ms preprocess, 21.3ms inference, 0.0ms postprocess per image at shape (1, 3, 224, 224)\n",
      "\n",
      "0: 224x224 (no detections), 22.8ms\n",
      "Speed: 0.0ms preprocess, 22.8ms inference, 0.0ms postprocess per image at shape (1, 3, 224, 224)\n",
      "\n",
      "0: 224x224 (no detections), 21.8ms\n",
      "Speed: 0.5ms preprocess, 21.8ms inference, 0.5ms postprocess per image at shape (1, 3, 224, 224)\n",
      "\n",
      "0: 224x224 1 pool, 22.3ms\n",
      "Speed: 0.5ms preprocess, 22.3ms inference, 1.0ms postprocess per image at shape (1, 3, 224, 224)\n",
      "\n",
      "0: 224x224 (no detections), 22.8ms\n",
      "Speed: 0.0ms preprocess, 22.8ms inference, 0.0ms postprocess per image at shape (1, 3, 224, 224)\n",
      "\n",
      "0: 224x224 (no detections), 21.8ms\n",
      "Speed: 0.0ms preprocess, 21.8ms inference, 0.5ms postprocess per image at shape (1, 3, 224, 224)\n",
      "\n",
      "0: 224x224 1 pool, 23.3ms\n",
      "Speed: 0.0ms preprocess, 23.3ms inference, 0.5ms postprocess per image at shape (1, 3, 224, 224)\n",
      "\n",
      "0: 224x224 (no detections), 22.8ms\n",
      "Speed: 0.0ms preprocess, 22.8ms inference, 0.5ms postprocess per image at shape (1, 3, 224, 224)\n",
      "\n",
      "0: 224x224 (no detections), 24.3ms\n",
      "Speed: 0.0ms preprocess, 24.3ms inference, 0.5ms postprocess per image at shape (1, 3, 224, 224)\n",
      "\n",
      "0: 224x224 (no detections), 21.3ms\n",
      "Speed: 0.5ms preprocess, 21.3ms inference, 0.5ms postprocess per image at shape (1, 3, 224, 224)\n",
      "\n",
      "0: 224x224 (no detections), 22.8ms\n",
      "Speed: 0.0ms preprocess, 22.8ms inference, 0.0ms postprocess per image at shape (1, 3, 224, 224)\n",
      "\n",
      "0: 224x224 1 pool, 20.3ms\n",
      "Speed: 0.5ms preprocess, 20.3ms inference, 0.5ms postprocess per image at shape (1, 3, 224, 224)\n",
      "\n",
      "0: 224x224 (no detections), 22.8ms\n",
      "Speed: 0.5ms preprocess, 22.8ms inference, 0.5ms postprocess per image at shape (1, 3, 224, 224)\n",
      "\n",
      "0: 224x224 (no detections), 22.8ms\n",
      "Speed: 0.5ms preprocess, 22.8ms inference, 0.0ms postprocess per image at shape (1, 3, 224, 224)\n",
      "\n",
      "0: 224x224 1 pool, 22.3ms\n",
      "Speed: 0.0ms preprocess, 22.3ms inference, 0.5ms postprocess per image at shape (1, 3, 224, 224)\n",
      "\n",
      "0: 224x224 1 pool, 26.8ms\n",
      "Speed: 0.5ms preprocess, 26.8ms inference, 0.5ms postprocess per image at shape (1, 3, 224, 224)\n",
      "\n",
      "0: 224x224 (no detections), 22.3ms\n",
      "Speed: 0.5ms preprocess, 22.3ms inference, 0.0ms postprocess per image at shape (1, 3, 224, 224)\n",
      "\n",
      "0: 224x224 (no detections), 22.3ms\n",
      "Speed: 0.5ms preprocess, 22.3ms inference, 0.5ms postprocess per image at shape (1, 3, 224, 224)\n",
      "\n",
      "0: 224x224 1 pool, 20.8ms\n",
      "Speed: 0.5ms preprocess, 20.8ms inference, 0.5ms postprocess per image at shape (1, 3, 224, 224)\n",
      "\n",
      "0: 224x224 1 pool, 21.3ms\n",
      "Speed: 0.5ms preprocess, 21.3ms inference, 0.5ms postprocess per image at shape (1, 3, 224, 224)\n",
      "\n",
      "0: 224x224 (no detections), 22.3ms\n",
      "Speed: 0.5ms preprocess, 22.3ms inference, 0.0ms postprocess per image at shape (1, 3, 224, 224)\n",
      "\n",
      "0: 224x224 (no detections), 20.8ms\n",
      "Speed: 0.5ms preprocess, 20.8ms inference, 0.5ms postprocess per image at shape (1, 3, 224, 224)\n",
      "\n",
      "0: 224x224 (no detections), 21.3ms\n",
      "Speed: 0.5ms preprocess, 21.3ms inference, 0.5ms postprocess per image at shape (1, 3, 224, 224)\n",
      "\n",
      "0: 224x224 1 pool, 23.3ms\n",
      "Speed: 0.0ms preprocess, 23.3ms inference, 0.5ms postprocess per image at shape (1, 3, 224, 224)\n",
      "\n",
      "0: 224x224 (no detections), 21.3ms\n",
      "Speed: 0.5ms preprocess, 21.3ms inference, 0.5ms postprocess per image at shape (1, 3, 224, 224)\n",
      "\n",
      "0: 224x224 (no detections), 22.3ms\n",
      "Speed: 0.0ms preprocess, 22.3ms inference, 0.5ms postprocess per image at shape (1, 3, 224, 224)\n",
      "\n",
      "0: 224x224 (no detections), 22.3ms\n",
      "Speed: 0.5ms preprocess, 22.3ms inference, 0.0ms postprocess per image at shape (1, 3, 224, 224)\n",
      "\n",
      "0: 224x224 (no detections), 21.3ms\n",
      "Speed: 0.5ms preprocess, 21.3ms inference, 0.5ms postprocess per image at shape (1, 3, 224, 224)\n",
      "\n",
      "0: 224x224 (no detections), 21.3ms\n",
      "Speed: 0.5ms preprocess, 21.3ms inference, 0.0ms postprocess per image at shape (1, 3, 224, 224)\n",
      "\n",
      "0: 224x224 (no detections), 22.8ms\n",
      "Speed: 0.5ms preprocess, 22.8ms inference, 0.5ms postprocess per image at shape (1, 3, 224, 224)\n",
      "\n",
      "0: 224x224 (no detections), 21.3ms\n",
      "Speed: 0.5ms preprocess, 21.3ms inference, 0.5ms postprocess per image at shape (1, 3, 224, 224)\n",
      "\n",
      "0: 224x224 (no detections), 20.8ms\n",
      "Speed: 0.5ms preprocess, 20.8ms inference, 0.5ms postprocess per image at shape (1, 3, 224, 224)\n",
      "\n",
      "0: 224x224 (no detections), 20.8ms\n",
      "Speed: 0.5ms preprocess, 20.8ms inference, 0.0ms postprocess per image at shape (1, 3, 224, 224)\n",
      "\n",
      "0: 224x224 (no detections), 21.8ms\n",
      "Speed: 0.5ms preprocess, 21.8ms inference, 0.5ms postprocess per image at shape (1, 3, 224, 224)\n",
      "\n",
      "0: 224x224 (no detections), 20.8ms\n",
      "Speed: 0.5ms preprocess, 20.8ms inference, 0.0ms postprocess per image at shape (1, 3, 224, 224)\n",
      "\n",
      "0: 224x224 (no detections), 24.8ms\n",
      "Speed: 0.0ms preprocess, 24.8ms inference, 0.5ms postprocess per image at shape (1, 3, 224, 224)\n",
      "\n",
      "0: 224x224 (no detections), 21.3ms\n",
      "Speed: 0.5ms preprocess, 21.3ms inference, 0.5ms postprocess per image at shape (1, 3, 224, 224)\n",
      "\n",
      "0: 224x224 (no detections), 21.3ms\n",
      "Speed: 0.5ms preprocess, 21.3ms inference, 0.5ms postprocess per image at shape (1, 3, 224, 224)\n",
      "\n",
      "0: 224x224 (no detections), 22.3ms\n",
      "Speed: 0.0ms preprocess, 22.3ms inference, 0.5ms postprocess per image at shape (1, 3, 224, 224)\n",
      "\n",
      "0: 224x224 (no detections), 21.3ms\n",
      "Speed: 0.5ms preprocess, 21.3ms inference, 0.0ms postprocess per image at shape (1, 3, 224, 224)\n",
      "\n",
      "0: 224x224 (no detections), 20.3ms\n",
      "Speed: 0.5ms preprocess, 20.3ms inference, 0.5ms postprocess per image at shape (1, 3, 224, 224)\n",
      "\n",
      "0: 224x224 (no detections), 72.9ms\n",
      "Speed: 0.0ms preprocess, 72.9ms inference, 0.5ms postprocess per image at shape (1, 3, 224, 224)\n",
      "\n",
      "0: 224x224 (no detections), 21.3ms\n",
      "Speed: 0.5ms preprocess, 21.3ms inference, 0.0ms postprocess per image at shape (1, 3, 224, 224)\n",
      "\n",
      "0: 224x224 (no detections), 22.3ms\n",
      "Speed: 0.5ms preprocess, 22.3ms inference, 0.0ms postprocess per image at shape (1, 3, 224, 224)\n",
      "\n",
      "0: 224x224 (no detections), 21.3ms\n",
      "Speed: 0.5ms preprocess, 21.3ms inference, 0.5ms postprocess per image at shape (1, 3, 224, 224)\n",
      "\n",
      "0: 224x224 (no detections), 21.3ms\n",
      "Speed: 0.5ms preprocess, 21.3ms inference, 0.5ms postprocess per image at shape (1, 3, 224, 224)\n",
      "\n",
      "0: 224x224 (no detections), 21.3ms\n",
      "Speed: 0.0ms preprocess, 21.3ms inference, 0.0ms postprocess per image at shape (1, 3, 224, 224)\n",
      "\n",
      "0: 224x224 (no detections), 23.3ms\n",
      "Speed: 0.5ms preprocess, 23.3ms inference, 0.5ms postprocess per image at shape (1, 3, 224, 224)\n",
      "\n",
      "0: 224x224 (no detections), 21.3ms\n",
      "Speed: 0.5ms preprocess, 21.3ms inference, 0.0ms postprocess per image at shape (1, 3, 224, 224)\n",
      "\n",
      "0: 224x224 (no detections), 22.8ms\n",
      "Speed: 0.0ms preprocess, 22.8ms inference, 0.5ms postprocess per image at shape (1, 3, 224, 224)\n",
      "\n",
      "0: 224x224 (no detections), 23.3ms\n",
      "Speed: 0.0ms preprocess, 23.3ms inference, 0.0ms postprocess per image at shape (1, 3, 224, 224)\n",
      "\n",
      "0: 224x224 (no detections), 56.5ms\n",
      "Speed: 8.9ms preprocess, 56.5ms inference, 0.5ms postprocess per image at shape (1, 3, 224, 224)\n",
      "\n",
      "0: 224x224 (no detections), 22.8ms\n",
      "Speed: 0.5ms preprocess, 22.8ms inference, 0.0ms postprocess per image at shape (1, 3, 224, 224)\n",
      "\n",
      "0: 224x224 (no detections), 21.8ms\n",
      "Speed: 0.5ms preprocess, 21.8ms inference, 0.5ms postprocess per image at shape (1, 3, 224, 224)\n",
      "\n",
      "0: 224x224 (no detections), 22.3ms\n",
      "Speed: 0.0ms preprocess, 22.3ms inference, 0.0ms postprocess per image at shape (1, 3, 224, 224)\n",
      "\n",
      "0: 224x224 1 pool, 21.8ms\n",
      "Speed: 0.5ms preprocess, 21.8ms inference, 0.5ms postprocess per image at shape (1, 3, 224, 224)\n",
      "\n",
      "0: 224x224 (no detections), 20.3ms\n",
      "Speed: 0.5ms preprocess, 20.3ms inference, 0.5ms postprocess per image at shape (1, 3, 224, 224)\n",
      "\n",
      "0: 224x224 (no detections), 25.8ms\n",
      "Speed: 0.0ms preprocess, 25.8ms inference, 0.5ms postprocess per image at shape (1, 3, 224, 224)\n",
      "\n",
      "0: 224x224 2 pools, 21.8ms\n",
      "Speed: 0.5ms preprocess, 21.8ms inference, 0.5ms postprocess per image at shape (1, 3, 224, 224)\n",
      "\n",
      "0: 224x224 2 pools, 21.8ms\n",
      "Speed: 0.5ms preprocess, 21.8ms inference, 0.5ms postprocess per image at shape (1, 3, 224, 224)\n",
      "\n",
      "0: 224x224 (no detections), 23.3ms\n",
      "Speed: 0.5ms preprocess, 23.3ms inference, 0.0ms postprocess per image at shape (1, 3, 224, 224)\n",
      "\n",
      "0: 224x224 (no detections), 21.3ms\n",
      "Speed: 0.5ms preprocess, 21.3ms inference, 0.5ms postprocess per image at shape (1, 3, 224, 224)\n",
      "\n",
      "0: 224x224 (no detections), 21.8ms\n",
      "Speed: 0.5ms preprocess, 21.8ms inference, 0.0ms postprocess per image at shape (1, 3, 224, 224)\n",
      "\n",
      "0: 224x224 (no detections), 22.8ms\n",
      "Speed: 0.0ms preprocess, 22.8ms inference, 0.5ms postprocess per image at shape (1, 3, 224, 224)\n",
      "\n",
      "0: 224x224 (no detections), 20.8ms\n",
      "Speed: 0.5ms preprocess, 20.8ms inference, 0.0ms postprocess per image at shape (1, 3, 224, 224)\n",
      "\n",
      "0: 224x224 (no detections), 20.3ms\n",
      "Speed: 0.5ms preprocess, 20.3ms inference, 0.5ms postprocess per image at shape (1, 3, 224, 224)\n",
      "\n",
      "0: 224x224 (no detections), 21.8ms\n",
      "Speed: 0.0ms preprocess, 21.8ms inference, 0.5ms postprocess per image at shape (1, 3, 224, 224)\n",
      "\n",
      "0: 224x224 (no detections), 21.3ms\n",
      "Speed: 0.0ms preprocess, 21.3ms inference, 0.0ms postprocess per image at shape (1, 3, 224, 224)\n",
      "\n",
      "0: 224x224 (no detections), 23.8ms\n",
      "Speed: 0.5ms preprocess, 23.8ms inference, 0.5ms postprocess per image at shape (1, 3, 224, 224)\n",
      "\n",
      "0: 224x224 (no detections), 21.8ms\n",
      "Speed: 0.5ms preprocess, 21.8ms inference, 0.5ms postprocess per image at shape (1, 3, 224, 224)\n",
      "\n",
      "0: 224x224 (no detections), 21.8ms\n",
      "Speed: 0.5ms preprocess, 21.8ms inference, 0.5ms postprocess per image at shape (1, 3, 224, 224)\n",
      "\n",
      "0: 224x224 (no detections), 21.3ms\n",
      "Speed: 0.5ms preprocess, 21.3ms inference, 0.5ms postprocess per image at shape (1, 3, 224, 224)\n",
      "\n",
      "0: 224x224 1 pool, 20.8ms\n",
      "Speed: 0.5ms preprocess, 20.8ms inference, 0.5ms postprocess per image at shape (1, 3, 224, 224)\n",
      "\n",
      "0: 224x224 1 pool, 22.3ms\n",
      "Speed: 0.0ms preprocess, 22.3ms inference, 1.0ms postprocess per image at shape (1, 3, 224, 224)\n",
      "\n",
      "0: 224x224 1 pool, 21.3ms\n",
      "Speed: 0.5ms preprocess, 21.3ms inference, 0.5ms postprocess per image at shape (1, 3, 224, 224)\n",
      "\n",
      "0: 224x224 1 pool, 21.8ms\n",
      "Speed: 0.5ms preprocess, 21.8ms inference, 0.5ms postprocess per image at shape (1, 3, 224, 224)\n",
      "\n",
      "0: 224x224 (no detections), 21.8ms\n",
      "Speed: 0.0ms preprocess, 21.8ms inference, 0.0ms postprocess per image at shape (1, 3, 224, 224)\n",
      "\n",
      "0: 224x224 (no detections), 20.8ms\n",
      "Speed: 0.5ms preprocess, 20.8ms inference, 0.5ms postprocess per image at shape (1, 3, 224, 224)\n",
      "\n",
      "0: 224x224 (no detections), 22.3ms\n",
      "Speed: 0.0ms preprocess, 22.3ms inference, 0.5ms postprocess per image at shape (1, 3, 224, 224)\n",
      "\n",
      "0: 224x224 (no detections), 21.3ms\n",
      "Speed: 0.5ms preprocess, 21.3ms inference, 0.5ms postprocess per image at shape (1, 3, 224, 224)\n",
      "\n",
      "0: 224x224 (no detections), 38.2ms\n",
      "Speed: 0.5ms preprocess, 38.2ms inference, 0.5ms postprocess per image at shape (1, 3, 224, 224)\n",
      "\n",
      "0: 224x224 (no detections), 33.2ms\n",
      "Speed: 2.0ms preprocess, 33.2ms inference, 0.5ms postprocess per image at shape (1, 3, 224, 224)\n",
      "\n",
      "0: 224x224 (no detections), 25.8ms\n",
      "Speed: 0.5ms preprocess, 25.8ms inference, 0.5ms postprocess per image at shape (1, 3, 224, 224)\n",
      "\n",
      "0: 224x224 (no detections), 28.3ms\n",
      "Speed: 0.5ms preprocess, 28.3ms inference, 0.5ms postprocess per image at shape (1, 3, 224, 224)\n",
      "\n",
      "0: 224x224 1 pool, 22.3ms\n",
      "Speed: 0.0ms preprocess, 22.3ms inference, 0.5ms postprocess per image at shape (1, 3, 224, 224)\n",
      "\n",
      "0: 224x224 1 pool, 21.8ms\n",
      "Speed: 0.5ms preprocess, 21.8ms inference, 0.5ms postprocess per image at shape (1, 3, 224, 224)\n",
      "\n",
      "0: 224x224 (no detections), 22.3ms\n",
      "Speed: 0.5ms preprocess, 22.3ms inference, 0.0ms postprocess per image at shape (1, 3, 224, 224)\n",
      "\n",
      "0: 224x224 (no detections), 21.8ms\n",
      "Speed: 0.5ms preprocess, 21.8ms inference, 0.0ms postprocess per image at shape (1, 3, 224, 224)\n",
      "\n",
      "0: 224x224 2 pools, 22.3ms\n",
      "Speed: 0.5ms preprocess, 22.3ms inference, 0.5ms postprocess per image at shape (1, 3, 224, 224)\n",
      "\n",
      "0: 224x224 (no detections), 22.3ms\n",
      "Speed: 0.5ms preprocess, 22.3ms inference, 0.5ms postprocess per image at shape (1, 3, 224, 224)\n",
      "\n",
      "0: 224x224 1 pool, 22.8ms\n",
      "Speed: 0.0ms preprocess, 22.8ms inference, 0.5ms postprocess per image at shape (1, 3, 224, 224)\n",
      "\n",
      "0: 224x224 (no detections), 20.8ms\n",
      "Speed: 0.0ms preprocess, 20.8ms inference, 0.0ms postprocess per image at shape (1, 3, 224, 224)\n",
      "\n",
      "0: 224x224 (no detections), 21.3ms\n",
      "Speed: 0.5ms preprocess, 21.3ms inference, 0.5ms postprocess per image at shape (1, 3, 224, 224)\n",
      "\n",
      "0: 224x224 1 pool, 21.8ms\n",
      "Speed: 0.5ms preprocess, 21.8ms inference, 1.0ms postprocess per image at shape (1, 3, 224, 224)\n",
      "\n",
      "0: 224x224 (no detections), 22.3ms\n",
      "Speed: 0.5ms preprocess, 22.3ms inference, 0.5ms postprocess per image at shape (1, 3, 224, 224)\n",
      "\n",
      "0: 224x224 (no detections), 22.3ms\n",
      "Speed: 0.0ms preprocess, 22.3ms inference, 0.0ms postprocess per image at shape (1, 3, 224, 224)\n",
      "\n",
      "0: 224x224 1 pool, 24.8ms\n",
      "Speed: 0.0ms preprocess, 24.8ms inference, 0.5ms postprocess per image at shape (1, 3, 224, 224)\n",
      "\n",
      "0: 224x224 (no detections), 22.3ms\n",
      "Speed: 0.5ms preprocess, 22.3ms inference, 0.0ms postprocess per image at shape (1, 3, 224, 224)\n",
      "\n",
      "0: 224x224 (no detections), 22.8ms\n",
      "Speed: 0.5ms preprocess, 22.8ms inference, 0.5ms postprocess per image at shape (1, 3, 224, 224)\n",
      "\n",
      "0: 224x224 (no detections), 24.8ms\n",
      "Speed: 0.5ms preprocess, 24.8ms inference, 0.5ms postprocess per image at shape (1, 3, 224, 224)\n",
      "\n",
      "0: 224x224 (no detections), 22.3ms\n",
      "Speed: 0.0ms preprocess, 22.3ms inference, 0.0ms postprocess per image at shape (1, 3, 224, 224)\n",
      "\n",
      "0: 224x224 1 pool, 23.8ms\n",
      "Speed: 0.5ms preprocess, 23.8ms inference, 1.0ms postprocess per image at shape (1, 3, 224, 224)\n",
      "\n",
      "0: 224x224 (no detections), 24.3ms\n",
      "Speed: 0.5ms preprocess, 24.3ms inference, 0.5ms postprocess per image at shape (1, 3, 224, 224)\n",
      "\n",
      "0: 224x224 (no detections), 21.8ms\n",
      "Speed: 0.5ms preprocess, 21.8ms inference, 0.5ms postprocess per image at shape (1, 3, 224, 224)\n",
      "\n",
      "0: 224x224 1 pool, 23.8ms\n",
      "Speed: 0.0ms preprocess, 23.8ms inference, 1.0ms postprocess per image at shape (1, 3, 224, 224)\n",
      "\n",
      "0: 224x224 1 pool, 23.8ms\n",
      "Speed: 0.5ms preprocess, 23.8ms inference, 0.5ms postprocess per image at shape (1, 3, 224, 224)\n",
      "\n",
      "0: 224x224 (no detections), 23.3ms\n",
      "Speed: 0.5ms preprocess, 23.3ms inference, 0.5ms postprocess per image at shape (1, 3, 224, 224)\n",
      "\n",
      "0: 224x224 (no detections), 23.3ms\n",
      "Speed: 0.5ms preprocess, 23.3ms inference, 0.0ms postprocess per image at shape (1, 3, 224, 224)\n",
      "\n",
      "0: 224x224 2 pools, 22.8ms\n",
      "Speed: 0.5ms preprocess, 22.8ms inference, 0.5ms postprocess per image at shape (1, 3, 224, 224)\n",
      "\n",
      "0: 224x224 2 pools, 23.8ms\n",
      "Speed: 0.5ms preprocess, 23.8ms inference, 0.5ms postprocess per image at shape (1, 3, 224, 224)\n",
      "\n",
      "0: 224x224 1 pool, 23.3ms\n",
      "Speed: 0.0ms preprocess, 23.3ms inference, 0.5ms postprocess per image at shape (1, 3, 224, 224)\n",
      "\n",
      "0: 224x224 1 pool, 22.8ms\n",
      "Speed: 0.5ms preprocess, 22.8ms inference, 0.5ms postprocess per image at shape (1, 3, 224, 224)\n",
      "\n",
      "0: 224x224 1 pool, 24.3ms\n",
      "Speed: 0.5ms preprocess, 24.3ms inference, 0.5ms postprocess per image at shape (1, 3, 224, 224)\n",
      "\n",
      "0: 224x224 2 pools, 22.3ms\n",
      "Speed: 0.0ms preprocess, 22.3ms inference, 0.5ms postprocess per image at shape (1, 3, 224, 224)\n",
      "\n",
      "0: 224x224 1 pool, 24.8ms\n",
      "Speed: 0.0ms preprocess, 24.8ms inference, 0.5ms postprocess per image at shape (1, 3, 224, 224)\n",
      "\n",
      "0: 224x224 1 pool, 24.3ms\n",
      "Speed: 0.5ms preprocess, 24.3ms inference, 0.5ms postprocess per image at shape (1, 3, 224, 224)\n",
      "\n",
      "0: 224x224 (no detections), 26.8ms\n",
      "Speed: 0.5ms preprocess, 26.8ms inference, 0.5ms postprocess per image at shape (1, 3, 224, 224)\n",
      "\n",
      "0: 224x224 (no detections), 23.3ms\n",
      "Speed: 0.5ms preprocess, 23.3ms inference, 0.5ms postprocess per image at shape (1, 3, 224, 224)\n",
      "\n",
      "0: 224x224 1 pool, 22.8ms\n",
      "Speed: 0.5ms preprocess, 22.8ms inference, 0.5ms postprocess per image at shape (1, 3, 224, 224)\n",
      "\n",
      "0: 224x224 1 pool, 24.8ms\n",
      "Speed: 0.5ms preprocess, 24.8ms inference, 0.5ms postprocess per image at shape (1, 3, 224, 224)\n",
      "\n",
      "0: 224x224 (no detections), 23.8ms\n",
      "Speed: 0.5ms preprocess, 23.8ms inference, 0.5ms postprocess per image at shape (1, 3, 224, 224)\n",
      "\n",
      "0: 224x224 (no detections), 21.8ms\n",
      "Speed: 0.0ms preprocess, 21.8ms inference, 0.0ms postprocess per image at shape (1, 3, 224, 224)\n",
      "\n",
      "0: 224x224 (no detections), 21.8ms\n",
      "Speed: 0.0ms preprocess, 21.8ms inference, 0.0ms postprocess per image at shape (1, 3, 224, 224)\n",
      "\n",
      "0: 224x224 (no detections), 20.8ms\n",
      "Speed: 0.0ms preprocess, 20.8ms inference, 0.5ms postprocess per image at shape (1, 3, 224, 224)\n",
      "\n",
      "0: 224x224 (no detections), 21.3ms\n",
      "Speed: 0.5ms preprocess, 21.3ms inference, 0.0ms postprocess per image at shape (1, 3, 224, 224)\n",
      "\n",
      "0: 224x224 (no detections), 21.8ms\n",
      "Speed: 0.0ms preprocess, 21.8ms inference, 0.0ms postprocess per image at shape (1, 3, 224, 224)\n",
      "\n",
      "0: 224x224 (no detections), 21.3ms\n",
      "Speed: 0.5ms preprocess, 21.3ms inference, 0.5ms postprocess per image at shape (1, 3, 224, 224)\n",
      "\n",
      "0: 224x224 (no detections), 22.3ms\n",
      "Speed: 0.0ms preprocess, 22.3ms inference, 0.5ms postprocess per image at shape (1, 3, 224, 224)\n",
      "\n",
      "0: 224x224 (no detections), 21.3ms\n",
      "Speed: 0.5ms preprocess, 21.3ms inference, 0.5ms postprocess per image at shape (1, 3, 224, 224)\n",
      "\n",
      "0: 224x224 (no detections), 21.8ms\n",
      "Speed: 0.0ms preprocess, 21.8ms inference, 0.0ms postprocess per image at shape (1, 3, 224, 224)\n",
      "\n",
      "0: 224x224 (no detections), 20.3ms\n",
      "Speed: 0.5ms preprocess, 20.3ms inference, 0.5ms postprocess per image at shape (1, 3, 224, 224)\n",
      "\n",
      "0: 224x224 (no detections), 24.8ms\n",
      "Speed: 0.0ms preprocess, 24.8ms inference, 0.5ms postprocess per image at shape (1, 3, 224, 224)\n",
      "\n",
      "0: 224x224 (no detections), 23.3ms\n",
      "Speed: 0.5ms preprocess, 23.3ms inference, 0.5ms postprocess per image at shape (1, 3, 224, 224)\n",
      "\n",
      "0: 224x224 (no detections), 22.8ms\n",
      "Speed: 0.5ms preprocess, 22.8ms inference, 0.5ms postprocess per image at shape (1, 3, 224, 224)\n",
      "\n",
      "0: 224x224 (no detections), 21.8ms\n",
      "Speed: 0.0ms preprocess, 21.8ms inference, 0.5ms postprocess per image at shape (1, 3, 224, 224)\n",
      "\n",
      "0: 224x224 (no detections), 22.8ms\n",
      "Speed: 0.5ms preprocess, 22.8ms inference, 0.0ms postprocess per image at shape (1, 3, 224, 224)\n",
      "\n",
      "0: 224x224 (no detections), 22.3ms\n",
      "Speed: 0.5ms preprocess, 22.3ms inference, 0.0ms postprocess per image at shape (1, 3, 224, 224)\n",
      "\n",
      "0: 224x224 (no detections), 21.3ms\n",
      "Speed: 0.0ms preprocess, 21.3ms inference, 0.5ms postprocess per image at shape (1, 3, 224, 224)\n",
      "\n",
      "0: 224x224 (no detections), 20.8ms\n",
      "Speed: 0.5ms preprocess, 20.8ms inference, 0.0ms postprocess per image at shape (1, 3, 224, 224)\n",
      "\n",
      "0: 224x224 (no detections), 20.8ms\n",
      "Speed: 0.5ms preprocess, 20.8ms inference, 0.5ms postprocess per image at shape (1, 3, 224, 224)\n",
      "\n",
      "0: 224x224 (no detections), 21.3ms\n",
      "Speed: 0.5ms preprocess, 21.3ms inference, 0.5ms postprocess per image at shape (1, 3, 224, 224)\n",
      "\n",
      "0: 224x224 (no detections), 22.3ms\n",
      "Speed: 0.5ms preprocess, 22.3ms inference, 0.5ms postprocess per image at shape (1, 3, 224, 224)\n",
      "\n",
      "0: 224x224 (no detections), 22.3ms\n",
      "Speed: 0.5ms preprocess, 22.3ms inference, 0.5ms postprocess per image at shape (1, 3, 224, 224)\n",
      "\n",
      "0: 224x224 (no detections), 27.3ms\n",
      "Speed: 0.0ms preprocess, 27.3ms inference, 0.5ms postprocess per image at shape (1, 3, 224, 224)\n",
      "\n",
      "0: 224x224 (no detections), 22.3ms\n",
      "Speed: 0.5ms preprocess, 22.3ms inference, 0.0ms postprocess per image at shape (1, 3, 224, 224)\n",
      "\n",
      "0: 224x224 1 pool, 21.8ms\n",
      "Speed: 0.5ms preprocess, 21.8ms inference, 0.5ms postprocess per image at shape (1, 3, 224, 224)\n",
      "\n",
      "0: 224x224 (no detections), 20.8ms\n",
      "Speed: 0.5ms preprocess, 20.8ms inference, 0.0ms postprocess per image at shape (1, 3, 224, 224)\n",
      "\n",
      "0: 224x224 (no detections), 20.3ms\n",
      "Speed: 0.5ms preprocess, 20.3ms inference, 0.5ms postprocess per image at shape (1, 3, 224, 224)\n",
      "\n",
      "0: 224x224 2 pools, 23.3ms\n",
      "Speed: 0.5ms preprocess, 23.3ms inference, 1.0ms postprocess per image at shape (1, 3, 224, 224)\n",
      "\n",
      "0: 224x224 2 pools, 21.8ms\n",
      "Speed: 0.0ms preprocess, 21.8ms inference, 1.0ms postprocess per image at shape (1, 3, 224, 224)\n",
      "\n",
      "0: 224x224 (no detections), 23.3ms\n",
      "Speed: 0.5ms preprocess, 23.3ms inference, 0.0ms postprocess per image at shape (1, 3, 224, 224)\n",
      "\n",
      "0: 224x224 (no detections), 25.3ms\n",
      "Speed: 0.5ms preprocess, 25.3ms inference, 0.5ms postprocess per image at shape (1, 3, 224, 224)\n",
      "\n",
      "0: 224x224 (no detections), 23.8ms\n",
      "Speed: 0.0ms preprocess, 23.8ms inference, 0.5ms postprocess per image at shape (1, 3, 224, 224)\n",
      "\n",
      "0: 224x224 (no detections), 23.8ms\n",
      "Speed: 0.0ms preprocess, 23.8ms inference, 0.5ms postprocess per image at shape (1, 3, 224, 224)\n",
      "\n",
      "0: 224x224 (no detections), 22.3ms\n",
      "Speed: 0.5ms preprocess, 22.3ms inference, 0.5ms postprocess per image at shape (1, 3, 224, 224)\n",
      "\n",
      "0: 224x224 (no detections), 22.3ms\n",
      "Speed: 0.0ms preprocess, 22.3ms inference, 0.5ms postprocess per image at shape (1, 3, 224, 224)\n",
      "\n",
      "0: 224x224 (no detections), 24.8ms\n",
      "Speed: 0.5ms preprocess, 24.8ms inference, 0.5ms postprocess per image at shape (1, 3, 224, 224)\n",
      "\n",
      "0: 224x224 (no detections), 21.3ms\n",
      "Speed: 0.5ms preprocess, 21.3ms inference, 0.5ms postprocess per image at shape (1, 3, 224, 224)\n",
      "\n",
      "0: 224x224 (no detections), 21.3ms\n",
      "Speed: 0.0ms preprocess, 21.3ms inference, 0.0ms postprocess per image at shape (1, 3, 224, 224)\n",
      "\n",
      "0: 224x224 (no detections), 21.3ms\n",
      "Speed: 0.0ms preprocess, 21.3ms inference, 0.5ms postprocess per image at shape (1, 3, 224, 224)\n",
      "\n",
      "0: 224x224 (no detections), 20.8ms\n",
      "Speed: 0.5ms preprocess, 20.8ms inference, 0.5ms postprocess per image at shape (1, 3, 224, 224)\n",
      "\n",
      "0: 224x224 (no detections), 20.8ms\n",
      "Speed: 0.5ms preprocess, 20.8ms inference, 0.5ms postprocess per image at shape (1, 3, 224, 224)\n",
      "\n",
      "0: 224x224 (no detections), 25.3ms\n",
      "Speed: 0.5ms preprocess, 25.3ms inference, 0.5ms postprocess per image at shape (1, 3, 224, 224)\n",
      "\n",
      "0: 224x224 (no detections), 23.3ms\n",
      "Speed: 0.0ms preprocess, 23.3ms inference, 0.5ms postprocess per image at shape (1, 3, 224, 224)\n",
      "\n",
      "0: 224x224 (no detections), 21.8ms\n",
      "Speed: 0.0ms preprocess, 21.8ms inference, 0.5ms postprocess per image at shape (1, 3, 224, 224)\n",
      "\n",
      "0: 224x224 (no detections), 22.3ms\n",
      "Speed: 0.5ms preprocess, 22.3ms inference, 0.0ms postprocess per image at shape (1, 3, 224, 224)\n",
      "\n",
      "0: 224x224 (no detections), 21.3ms\n",
      "Speed: 0.0ms preprocess, 21.3ms inference, 0.5ms postprocess per image at shape (1, 3, 224, 224)\n",
      "\n",
      "0: 224x224 (no detections), 21.3ms\n",
      "Speed: 0.0ms preprocess, 21.3ms inference, 0.5ms postprocess per image at shape (1, 3, 224, 224)\n",
      "\n",
      "0: 224x224 (no detections), 21.3ms\n",
      "Speed: 0.5ms preprocess, 21.3ms inference, 0.5ms postprocess per image at shape (1, 3, 224, 224)\n",
      "\n",
      "0: 224x224 (no detections), 21.3ms\n",
      "Speed: 0.5ms preprocess, 21.3ms inference, 0.5ms postprocess per image at shape (1, 3, 224, 224)\n",
      "\n",
      "0: 224x224 (no detections), 21.8ms\n",
      "Speed: 0.5ms preprocess, 21.8ms inference, 0.5ms postprocess per image at shape (1, 3, 224, 224)\n",
      "\n",
      "0: 224x224 2 pools, 23.3ms\n",
      "Speed: 0.5ms preprocess, 23.3ms inference, 0.5ms postprocess per image at shape (1, 3, 224, 224)\n",
      "\n",
      "0: 224x224 1 pool, 22.3ms\n",
      "Speed: 0.5ms preprocess, 22.3ms inference, 0.5ms postprocess per image at shape (1, 3, 224, 224)\n",
      "\n",
      "0: 224x224 (no detections), 21.3ms\n",
      "Speed: 0.5ms preprocess, 21.3ms inference, 0.0ms postprocess per image at shape (1, 3, 224, 224)\n",
      "\n",
      "0: 224x224 2 pools, 21.3ms\n",
      "Speed: 0.5ms preprocess, 21.3ms inference, 1.0ms postprocess per image at shape (1, 3, 224, 224)\n",
      "\n",
      "0: 224x224 2 pools, 21.8ms\n",
      "Speed: 0.5ms preprocess, 21.8ms inference, 1.0ms postprocess per image at shape (1, 3, 224, 224)\n",
      "\n",
      "0: 224x224 (no detections), 21.8ms\n",
      "Speed: 0.0ms preprocess, 21.8ms inference, 0.0ms postprocess per image at shape (1, 3, 224, 224)\n",
      "\n",
      "0: 224x224 (no detections), 22.3ms\n",
      "Speed: 0.0ms preprocess, 22.3ms inference, 0.0ms postprocess per image at shape (1, 3, 224, 224)\n",
      "\n",
      "0: 224x224 (no detections), 23.3ms\n",
      "Speed: 0.0ms preprocess, 23.3ms inference, 0.5ms postprocess per image at shape (1, 3, 224, 224)\n",
      "\n",
      "0: 224x224 (no detections), 20.8ms\n",
      "Speed: 0.5ms preprocess, 20.8ms inference, 1.0ms postprocess per image at shape (1, 3, 224, 224)\n",
      "\n",
      "0: 224x224 (no detections), 21.8ms\n",
      "Speed: 0.0ms preprocess, 21.8ms inference, 0.0ms postprocess per image at shape (1, 3, 224, 224)\n",
      "\n",
      "0: 224x224 (no detections), 55.6ms\n",
      "Speed: 0.5ms preprocess, 55.6ms inference, 0.5ms postprocess per image at shape (1, 3, 224, 224)\n",
      "\n",
      "0: 224x224 (no detections), 24.8ms\n",
      "Speed: 6.0ms preprocess, 24.8ms inference, 0.0ms postprocess per image at shape (1, 3, 224, 224)\n",
      "\n",
      "0: 224x224 (no detections), 21.8ms\n",
      "Speed: 0.0ms preprocess, 21.8ms inference, 0.5ms postprocess per image at shape (1, 3, 224, 224)\n",
      "\n",
      "0: 224x224 (no detections), 22.3ms\n",
      "Speed: 0.5ms preprocess, 22.3ms inference, 0.5ms postprocess per image at shape (1, 3, 224, 224)\n",
      "\n",
      "0: 224x224 (no detections), 20.8ms\n",
      "Speed: 0.5ms preprocess, 20.8ms inference, 0.5ms postprocess per image at shape (1, 3, 224, 224)\n",
      "\n",
      "0: 224x224 (no detections), 22.8ms\n",
      "Speed: 0.5ms preprocess, 22.8ms inference, 0.5ms postprocess per image at shape (1, 3, 224, 224)\n",
      "\n",
      "0: 224x224 (no detections), 24.8ms\n",
      "Speed: 0.5ms preprocess, 24.8ms inference, 0.5ms postprocess per image at shape (1, 3, 224, 224)\n",
      "\n",
      "0: 224x224 (no detections), 22.3ms\n",
      "Speed: 0.0ms preprocess, 22.3ms inference, 0.5ms postprocess per image at shape (1, 3, 224, 224)\n",
      "\n",
      "0: 224x224 (no detections), 21.8ms\n",
      "Speed: 0.5ms preprocess, 21.8ms inference, 0.5ms postprocess per image at shape (1, 3, 224, 224)\n",
      "\n",
      "0: 224x224 (no detections), 21.3ms\n",
      "Speed: 0.5ms preprocess, 21.3ms inference, 0.5ms postprocess per image at shape (1, 3, 224, 224)\n",
      "\n",
      "0: 224x224 (no detections), 23.3ms\n",
      "Speed: 0.0ms preprocess, 23.3ms inference, 0.5ms postprocess per image at shape (1, 3, 224, 224)\n",
      "\n",
      "0: 224x224 (no detections), 21.8ms\n",
      "Speed: 0.0ms preprocess, 21.8ms inference, 0.5ms postprocess per image at shape (1, 3, 224, 224)\n",
      "\n",
      "0: 224x224 (no detections), 22.8ms\n",
      "Speed: 0.5ms preprocess, 22.8ms inference, 0.5ms postprocess per image at shape (1, 3, 224, 224)\n",
      "\n",
      "0: 224x224 1 pool, 21.8ms\n",
      "Speed: 0.0ms preprocess, 21.8ms inference, 1.0ms postprocess per image at shape (1, 3, 224, 224)\n",
      "\n",
      "0: 224x224 (no detections), 21.8ms\n",
      "Speed: 0.0ms preprocess, 21.8ms inference, 0.5ms postprocess per image at shape (1, 3, 224, 224)\n",
      "\n",
      "0: 224x224 (no detections), 20.8ms\n",
      "Speed: 0.5ms preprocess, 20.8ms inference, 0.0ms postprocess per image at shape (1, 3, 224, 224)\n",
      "\n",
      "0: 224x224 (no detections), 21.8ms\n",
      "Speed: 0.5ms preprocess, 21.8ms inference, 0.5ms postprocess per image at shape (1, 3, 224, 224)\n",
      "\n",
      "0: 224x224 1 pool, 22.3ms\n",
      "Speed: 0.0ms preprocess, 22.3ms inference, 0.5ms postprocess per image at shape (1, 3, 224, 224)\n",
      "\n",
      "0: 224x224 (no detections), 23.8ms\n",
      "Speed: 0.0ms preprocess, 23.8ms inference, 0.5ms postprocess per image at shape (1, 3, 224, 224)\n",
      "\n",
      "0: 224x224 (no detections), 23.3ms\n",
      "Speed: 0.5ms preprocess, 23.3ms inference, 0.5ms postprocess per image at shape (1, 3, 224, 224)\n",
      "\n",
      "0: 224x224 (no detections), 21.8ms\n",
      "Speed: 0.5ms preprocess, 21.8ms inference, 0.5ms postprocess per image at shape (1, 3, 224, 224)\n",
      "\n",
      "0: 224x224 (no detections), 22.3ms\n",
      "Speed: 0.5ms preprocess, 22.3ms inference, 0.5ms postprocess per image at shape (1, 3, 224, 224)\n",
      "\n",
      "0: 224x224 (no detections), 26.8ms\n",
      "Speed: 0.5ms preprocess, 26.8ms inference, 0.5ms postprocess per image at shape (1, 3, 224, 224)\n",
      "\n",
      "0: 224x224 (no detections), 21.3ms\n",
      "Speed: 0.5ms preprocess, 21.3ms inference, 0.0ms postprocess per image at shape (1, 3, 224, 224)\n",
      "\n",
      "0: 224x224 (no detections), 21.8ms\n",
      "Speed: 0.5ms preprocess, 21.8ms inference, 0.5ms postprocess per image at shape (1, 3, 224, 224)\n",
      "\n",
      "0: 224x224 (no detections), 32.2ms\n",
      "Speed: 0.0ms preprocess, 32.2ms inference, 0.5ms postprocess per image at shape (1, 3, 224, 224)\n",
      "\n",
      "0: 224x224 (no detections), 32.2ms\n",
      "Speed: 0.5ms preprocess, 32.2ms inference, 0.5ms postprocess per image at shape (1, 3, 224, 224)\n",
      "\n",
      "0: 224x224 1 pool, 29.3ms\n",
      "Speed: 0.5ms preprocess, 29.3ms inference, 0.5ms postprocess per image at shape (1, 3, 224, 224)\n",
      "\n",
      "0: 224x224 1 pool, 24.8ms\n",
      "Speed: 0.5ms preprocess, 24.8ms inference, 0.5ms postprocess per image at shape (1, 3, 224, 224)\n",
      "\n",
      "0: 224x224 1 pool, 24.3ms\n",
      "Speed: 0.0ms preprocess, 24.3ms inference, 0.5ms postprocess per image at shape (1, 3, 224, 224)\n",
      "\n",
      "0: 224x224 (no detections), 22.8ms\n",
      "Speed: 0.0ms preprocess, 22.8ms inference, 0.5ms postprocess per image at shape (1, 3, 224, 224)\n",
      "\n",
      "0: 224x224 (no detections), 21.8ms\n",
      "Speed: 0.0ms preprocess, 21.8ms inference, 0.0ms postprocess per image at shape (1, 3, 224, 224)\n",
      "\n",
      "0: 224x224 (no detections), 21.3ms\n",
      "Speed: 0.5ms preprocess, 21.3ms inference, 0.5ms postprocess per image at shape (1, 3, 224, 224)\n",
      "\n",
      "0: 224x224 (no detections), 20.8ms\n",
      "Speed: 0.5ms preprocess, 20.8ms inference, 0.5ms postprocess per image at shape (1, 3, 224, 224)\n",
      "\n",
      "0: 224x224 (no detections), 23.3ms\n",
      "Speed: 0.0ms preprocess, 23.3ms inference, 0.5ms postprocess per image at shape (1, 3, 224, 224)\n",
      "\n",
      "0: 224x224 (no detections), 20.8ms\n",
      "Speed: 0.5ms preprocess, 20.8ms inference, 0.0ms postprocess per image at shape (1, 3, 224, 224)\n",
      "\n",
      "0: 224x224 (no detections), 21.3ms\n",
      "Speed: 0.5ms preprocess, 21.3ms inference, 0.5ms postprocess per image at shape (1, 3, 224, 224)\n",
      "\n",
      "0: 224x224 1 pool, 21.3ms\n",
      "Speed: 0.5ms preprocess, 21.3ms inference, 0.5ms postprocess per image at shape (1, 3, 224, 224)\n",
      "\n",
      "0: 224x224 (no detections), 22.8ms\n",
      "Speed: 0.5ms preprocess, 22.8ms inference, 0.5ms postprocess per image at shape (1, 3, 224, 224)\n",
      "\n",
      "0: 224x224 (no detections), 21.8ms\n",
      "Speed: 0.5ms preprocess, 21.8ms inference, 0.5ms postprocess per image at shape (1, 3, 224, 224)\n",
      "\n",
      "0: 224x224 (no detections), 22.8ms\n",
      "Speed: 0.5ms preprocess, 22.8ms inference, 0.0ms postprocess per image at shape (1, 3, 224, 224)\n",
      "\n",
      "0: 224x224 (no detections), 29.3ms\n",
      "Speed: 0.0ms preprocess, 29.3ms inference, 0.5ms postprocess per image at shape (1, 3, 224, 224)\n",
      "\n",
      "0: 224x224 (no detections), 23.3ms\n",
      "Speed: 0.5ms preprocess, 23.3ms inference, 0.5ms postprocess per image at shape (1, 3, 224, 224)\n",
      "\n",
      "0: 224x224 1 pool, 23.8ms\n",
      "Speed: 0.0ms preprocess, 23.8ms inference, 0.5ms postprocess per image at shape (1, 3, 224, 224)\n",
      "\n",
      "0: 224x224 1 pool, 23.3ms\n",
      "Speed: 0.5ms preprocess, 23.3ms inference, 0.5ms postprocess per image at shape (1, 3, 224, 224)\n",
      "\n",
      "0: 224x224 1 pool, 23.3ms\n",
      "Speed: 0.5ms preprocess, 23.3ms inference, 0.5ms postprocess per image at shape (1, 3, 224, 224)\n",
      "\n",
      "0: 224x224 1 pool, 24.8ms\n",
      "Speed: 0.5ms preprocess, 24.8ms inference, 0.5ms postprocess per image at shape (1, 3, 224, 224)\n",
      "\n",
      "0: 224x224 (no detections), 25.8ms\n",
      "Speed: 0.5ms preprocess, 25.8ms inference, 0.5ms postprocess per image at shape (1, 3, 224, 224)\n",
      "\n",
      "0: 224x224 (no detections), 21.3ms\n",
      "Speed: 0.0ms preprocess, 21.3ms inference, 0.0ms postprocess per image at shape (1, 3, 224, 224)\n",
      "\n",
      "0: 224x224 (no detections), 22.3ms\n",
      "Speed: 0.5ms preprocess, 22.3ms inference, 0.5ms postprocess per image at shape (1, 3, 224, 224)\n",
      "\n",
      "0: 224x224 1 pool, 27.3ms\n",
      "Speed: 0.5ms preprocess, 27.3ms inference, 1.0ms postprocess per image at shape (1, 3, 224, 224)\n",
      "\n",
      "0: 224x224 (no detections), 23.8ms\n",
      "Speed: 0.5ms preprocess, 23.8ms inference, 0.0ms postprocess per image at shape (1, 3, 224, 224)\n",
      "\n",
      "0: 224x224 (no detections), 23.3ms\n",
      "Speed: 0.5ms preprocess, 23.3ms inference, 0.0ms postprocess per image at shape (1, 3, 224, 224)\n",
      "\n",
      "0: 224x224 (no detections), 22.8ms\n",
      "Speed: 0.5ms preprocess, 22.8ms inference, 0.5ms postprocess per image at shape (1, 3, 224, 224)\n",
      "\n",
      "0: 224x224 (no detections), 22.8ms\n",
      "Speed: 0.5ms preprocess, 22.8ms inference, 0.5ms postprocess per image at shape (1, 3, 224, 224)\n",
      "\n",
      "0: 224x224 (no detections), 23.3ms\n",
      "Speed: 0.5ms preprocess, 23.3ms inference, 0.0ms postprocess per image at shape (1, 3, 224, 224)\n",
      "\n",
      "0: 224x224 (no detections), 22.8ms\n",
      "Speed: 0.0ms preprocess, 22.8ms inference, 0.5ms postprocess per image at shape (1, 3, 224, 224)\n",
      "\n",
      "0: 224x224 (no detections), 21.8ms\n",
      "Speed: 0.0ms preprocess, 21.8ms inference, 0.5ms postprocess per image at shape (1, 3, 224, 224)\n",
      "\n",
      "0: 224x224 (no detections), 22.3ms\n",
      "Speed: 0.5ms preprocess, 22.3ms inference, 0.0ms postprocess per image at shape (1, 3, 224, 224)\n",
      "\n",
      "0: 224x224 (no detections), 28.3ms\n",
      "Speed: 0.0ms preprocess, 28.3ms inference, 0.5ms postprocess per image at shape (1, 3, 224, 224)\n",
      "\n",
      "0: 224x224 (no detections), 31.2ms\n",
      "Speed: 0.0ms preprocess, 31.2ms inference, 0.0ms postprocess per image at shape (1, 3, 224, 224)\n",
      "\n",
      "0: 224x224 (no detections), 22.3ms\n",
      "Speed: 0.0ms preprocess, 22.3ms inference, 0.5ms postprocess per image at shape (1, 3, 224, 224)\n",
      "\n",
      "0: 224x224 (no detections), 22.8ms\n",
      "Speed: 0.5ms preprocess, 22.8ms inference, 0.5ms postprocess per image at shape (1, 3, 224, 224)\n",
      "\n",
      "0: 224x224 (no detections), 21.3ms\n",
      "Speed: 0.0ms preprocess, 21.3ms inference, 0.5ms postprocess per image at shape (1, 3, 224, 224)\n",
      "\n",
      "0: 224x224 (no detections), 23.3ms\n",
      "Speed: 0.0ms preprocess, 23.3ms inference, 0.5ms postprocess per image at shape (1, 3, 224, 224)\n",
      "\n",
      "0: 224x224 (no detections), 25.8ms\n",
      "Speed: 0.0ms preprocess, 25.8ms inference, 0.5ms postprocess per image at shape (1, 3, 224, 224)\n",
      "\n",
      "0: 224x224 (no detections), 22.3ms\n",
      "Speed: 0.0ms preprocess, 22.3ms inference, 0.5ms postprocess per image at shape (1, 3, 224, 224)\n",
      "\n",
      "0: 224x224 (no detections), 21.3ms\n",
      "Speed: 0.5ms preprocess, 21.3ms inference, 0.0ms postprocess per image at shape (1, 3, 224, 224)\n",
      "\n",
      "0: 224x224 (no detections), 22.8ms\n",
      "Speed: 0.5ms preprocess, 22.8ms inference, 0.0ms postprocess per image at shape (1, 3, 224, 224)\n",
      "\n",
      "0: 224x224 (no detections), 20.8ms\n",
      "Speed: 0.5ms preprocess, 20.8ms inference, 0.5ms postprocess per image at shape (1, 3, 224, 224)\n",
      "\n",
      "0: 224x224 1 pool, 23.8ms\n",
      "Speed: 0.5ms preprocess, 23.8ms inference, 1.0ms postprocess per image at shape (1, 3, 224, 224)\n",
      "\n",
      "0: 224x224 (no detections), 22.8ms\n",
      "Speed: 0.5ms preprocess, 22.8ms inference, 0.0ms postprocess per image at shape (1, 3, 224, 224)\n",
      "\n",
      "0: 224x224 (no detections), 24.8ms\n",
      "Speed: 0.5ms preprocess, 24.8ms inference, 0.5ms postprocess per image at shape (1, 3, 224, 224)\n",
      "\n",
      "0: 224x224 (no detections), 21.3ms\n",
      "Speed: 0.0ms preprocess, 21.3ms inference, 0.5ms postprocess per image at shape (1, 3, 224, 224)\n",
      "\n",
      "0: 224x224 1 pool, 21.8ms\n",
      "Speed: 0.0ms preprocess, 21.8ms inference, 0.5ms postprocess per image at shape (1, 3, 224, 224)\n",
      "\n",
      "0: 224x224 (no detections), 22.8ms\n",
      "Speed: 0.5ms preprocess, 22.8ms inference, 0.5ms postprocess per image at shape (1, 3, 224, 224)\n",
      "\n",
      "0: 224x224 (no detections), 24.3ms\n",
      "Speed: 0.5ms preprocess, 24.3ms inference, 0.0ms postprocess per image at shape (1, 3, 224, 224)\n",
      "\n",
      "0: 224x224 1 pool, 34.7ms\n",
      "Speed: 0.5ms preprocess, 34.7ms inference, 0.5ms postprocess per image at shape (1, 3, 224, 224)\n",
      "\n",
      "0: 224x224 1 pool, 23.3ms\n",
      "Speed: 0.5ms preprocess, 23.3ms inference, 0.5ms postprocess per image at shape (1, 3, 224, 224)\n",
      "\n",
      "0: 224x224 (no detections), 21.8ms\n",
      "Speed: 0.5ms preprocess, 21.8ms inference, 0.0ms postprocess per image at shape (1, 3, 224, 224)\n",
      "\n",
      "0: 224x224 (no detections), 20.8ms\n",
      "Speed: 0.5ms preprocess, 20.8ms inference, 0.5ms postprocess per image at shape (1, 3, 224, 224)\n",
      "\n",
      "0: 224x224 (no detections), 21.8ms\n",
      "Speed: 0.0ms preprocess, 21.8ms inference, 0.0ms postprocess per image at shape (1, 3, 224, 224)\n",
      "\n",
      "0: 224x224 (no detections), 22.8ms\n",
      "Speed: 0.5ms preprocess, 22.8ms inference, 0.5ms postprocess per image at shape (1, 3, 224, 224)\n",
      "\n",
      "0: 224x224 3 pools, 22.3ms\n",
      "Speed: 0.5ms preprocess, 22.3ms inference, 0.5ms postprocess per image at shape (1, 3, 224, 224)\n",
      "\n",
      "0: 224x224 3 pools, 21.3ms\n",
      "Speed: 0.5ms preprocess, 21.3ms inference, 0.5ms postprocess per image at shape (1, 3, 224, 224)\n",
      "\n",
      "0: 224x224 (no detections), 21.8ms\n",
      "Speed: 0.0ms preprocess, 21.8ms inference, 0.0ms postprocess per image at shape (1, 3, 224, 224)\n",
      "\n",
      "0: 224x224 (no detections), 22.8ms\n",
      "Speed: 0.0ms preprocess, 22.8ms inference, 0.5ms postprocess per image at shape (1, 3, 224, 224)\n",
      "\n",
      "0: 224x224 (no detections), 22.8ms\n",
      "Speed: 0.0ms preprocess, 22.8ms inference, 0.0ms postprocess per image at shape (1, 3, 224, 224)\n",
      "\n",
      "0: 224x224 (no detections), 21.3ms\n",
      "Speed: 0.5ms preprocess, 21.3ms inference, 0.0ms postprocess per image at shape (1, 3, 224, 224)\n",
      "\n",
      "0: 224x224 (no detections), 21.3ms\n",
      "Speed: 0.5ms preprocess, 21.3ms inference, 0.5ms postprocess per image at shape (1, 3, 224, 224)\n",
      "\n",
      "0: 224x224 (no detections), 20.8ms\n",
      "Speed: 0.5ms preprocess, 20.8ms inference, 0.5ms postprocess per image at shape (1, 3, 224, 224)\n",
      "\n",
      "0: 224x224 (no detections), 21.8ms\n",
      "Speed: 0.5ms preprocess, 21.8ms inference, 0.5ms postprocess per image at shape (1, 3, 224, 224)\n",
      "\n",
      "0: 224x224 (no detections), 21.8ms\n",
      "Speed: 0.5ms preprocess, 21.8ms inference, 0.5ms postprocess per image at shape (1, 3, 224, 224)\n",
      "\n",
      "0: 224x224 (no detections), 20.8ms\n",
      "Speed: 0.5ms preprocess, 20.8ms inference, 0.5ms postprocess per image at shape (1, 3, 224, 224)\n",
      "\n",
      "0: 224x224 (no detections), 21.8ms\n",
      "Speed: 0.0ms preprocess, 21.8ms inference, 0.5ms postprocess per image at shape (1, 3, 224, 224)\n",
      "\n",
      "0: 224x224 1 pool, 22.3ms\n",
      "Speed: 0.5ms preprocess, 22.3ms inference, 0.5ms postprocess per image at shape (1, 3, 224, 224)\n",
      "\n",
      "0: 224x224 1 pool, 21.3ms\n",
      "Speed: 0.0ms preprocess, 21.3ms inference, 0.5ms postprocess per image at shape (1, 3, 224, 224)\n",
      "\n",
      "0: 224x224 1 pool, 21.8ms\n",
      "Speed: 0.5ms preprocess, 21.8ms inference, 0.5ms postprocess per image at shape (1, 3, 224, 224)\n",
      "\n",
      "0: 224x224 1 pool, 21.8ms\n",
      "Speed: 0.0ms preprocess, 21.8ms inference, 0.5ms postprocess per image at shape (1, 3, 224, 224)\n",
      "\n",
      "0: 224x224 (no detections), 20.8ms\n",
      "Speed: 0.0ms preprocess, 20.8ms inference, 0.5ms postprocess per image at shape (1, 3, 224, 224)\n",
      "\n",
      "0: 224x224 (no detections), 21.8ms\n",
      "Speed: 0.5ms preprocess, 21.8ms inference, 0.5ms postprocess per image at shape (1, 3, 224, 224)\n",
      "\n",
      "0: 224x224 (no detections), 22.8ms\n",
      "Speed: 0.5ms preprocess, 22.8ms inference, 0.0ms postprocess per image at shape (1, 3, 224, 224)\n",
      "\n",
      "0: 224x224 (no detections), 22.3ms\n",
      "Speed: 0.0ms preprocess, 22.3ms inference, 0.0ms postprocess per image at shape (1, 3, 224, 224)\n",
      "\n",
      "0: 224x224 (no detections), 64.0ms\n",
      "Speed: 0.0ms preprocess, 64.0ms inference, 0.0ms postprocess per image at shape (1, 3, 224, 224)\n",
      "\n",
      "0: 224x224 (no detections), 27.3ms\n",
      "Speed: 0.5ms preprocess, 27.3ms inference, 0.5ms postprocess per image at shape (1, 3, 224, 224)\n",
      "\n",
      "0: 224x224 (no detections), 20.8ms\n",
      "Speed: 0.0ms preprocess, 20.8ms inference, 0.5ms postprocess per image at shape (1, 3, 224, 224)\n",
      "\n",
      "0: 224x224 (no detections), 22.3ms\n",
      "Speed: 0.0ms preprocess, 22.3ms inference, 0.5ms postprocess per image at shape (1, 3, 224, 224)\n",
      "\n",
      "0: 224x224 (no detections), 21.8ms\n",
      "Speed: 0.5ms preprocess, 21.8ms inference, 0.5ms postprocess per image at shape (1, 3, 224, 224)\n",
      "\n",
      "0: 224x224 (no detections), 20.8ms\n",
      "Speed: 0.0ms preprocess, 20.8ms inference, 0.5ms postprocess per image at shape (1, 3, 224, 224)\n",
      "\n",
      "0: 224x224 (no detections), 24.8ms\n",
      "Speed: 1.0ms preprocess, 24.8ms inference, 0.5ms postprocess per image at shape (1, 3, 224, 224)\n",
      "\n",
      "0: 224x224 (no detections), 21.8ms\n",
      "Speed: 0.5ms preprocess, 21.8ms inference, 0.5ms postprocess per image at shape (1, 3, 224, 224)\n",
      "\n",
      "0: 224x224 (no detections), 22.3ms\n",
      "Speed: 0.5ms preprocess, 22.3ms inference, 0.0ms postprocess per image at shape (1, 3, 224, 224)\n",
      "\n",
      "0: 224x224 (no detections), 21.3ms\n",
      "Speed: 0.0ms preprocess, 21.3ms inference, 0.0ms postprocess per image at shape (1, 3, 224, 224)\n",
      "\n",
      "0: 224x224 (no detections), 25.3ms\n",
      "Speed: 0.5ms preprocess, 25.3ms inference, 0.5ms postprocess per image at shape (1, 3, 224, 224)\n",
      "\n",
      "0: 224x224 (no detections), 21.8ms\n",
      "Speed: 0.0ms preprocess, 21.8ms inference, 0.5ms postprocess per image at shape (1, 3, 224, 224)\n",
      "\n",
      "0: 224x224 (no detections), 22.3ms\n",
      "Speed: 0.5ms preprocess, 22.3ms inference, 0.5ms postprocess per image at shape (1, 3, 224, 224)\n",
      "\n",
      "0: 224x224 (no detections), 22.3ms\n",
      "Speed: 0.5ms preprocess, 22.3ms inference, 0.5ms postprocess per image at shape (1, 3, 224, 224)\n",
      "\n",
      "0: 224x224 (no detections), 21.8ms\n",
      "Speed: 0.5ms preprocess, 21.8ms inference, 0.5ms postprocess per image at shape (1, 3, 224, 224)\n",
      "\n",
      "0: 224x224 (no detections), 22.8ms\n",
      "Speed: 0.5ms preprocess, 22.8ms inference, 0.5ms postprocess per image at shape (1, 3, 224, 224)\n",
      "\n",
      "0: 224x224 2 pools, 23.3ms\n",
      "Speed: 0.0ms preprocess, 23.3ms inference, 0.5ms postprocess per image at shape (1, 3, 224, 224)\n",
      "\n",
      "0: 224x224 1 pool, 22.3ms\n",
      "Speed: 0.0ms preprocess, 22.3ms inference, 0.5ms postprocess per image at shape (1, 3, 224, 224)\n",
      "\n",
      "0: 224x224 1 pool, 22.3ms\n",
      "Speed: 0.5ms preprocess, 22.3ms inference, 0.5ms postprocess per image at shape (1, 3, 224, 224)\n",
      "\n",
      "0: 224x224 1 pool, 21.3ms\n",
      "Speed: 0.5ms preprocess, 21.3ms inference, 0.5ms postprocess per image at shape (1, 3, 224, 224)\n",
      "\n",
      "0: 224x224 (no detections), 20.8ms\n",
      "Speed: 0.5ms preprocess, 20.8ms inference, 0.0ms postprocess per image at shape (1, 3, 224, 224)\n",
      "\n",
      "0: 224x224 1 pool, 22.3ms\n",
      "Speed: 0.0ms preprocess, 22.3ms inference, 0.5ms postprocess per image at shape (1, 3, 224, 224)\n",
      "\n",
      "0: 224x224 (no detections), 21.3ms\n",
      "Speed: 0.5ms preprocess, 21.3ms inference, 0.5ms postprocess per image at shape (1, 3, 224, 224)\n",
      "\n",
      "0: 224x224 1 pool, 21.3ms\n",
      "Speed: 0.0ms preprocess, 21.3ms inference, 0.5ms postprocess per image at shape (1, 3, 224, 224)\n",
      "\n",
      "0: 224x224 1 pool, 22.8ms\n",
      "Speed: 0.0ms preprocess, 22.8ms inference, 0.5ms postprocess per image at shape (1, 3, 224, 224)\n",
      "\n",
      "0: 224x224 (no detections), 30.3ms\n",
      "Speed: 0.0ms preprocess, 30.3ms inference, 0.5ms postprocess per image at shape (1, 3, 224, 224)\n",
      "\n",
      "0: 224x224 1 pool, 20.8ms\n",
      "Speed: 0.5ms preprocess, 20.8ms inference, 1.0ms postprocess per image at shape (1, 3, 224, 224)\n",
      "\n",
      "0: 224x224 (no detections), 21.3ms\n",
      "Speed: 0.5ms preprocess, 21.3ms inference, 0.0ms postprocess per image at shape (1, 3, 224, 224)\n",
      "\n",
      "0: 224x224 (no detections), 22.8ms\n",
      "Speed: 0.0ms preprocess, 22.8ms inference, 0.0ms postprocess per image at shape (1, 3, 224, 224)\n",
      "\n",
      "0: 224x224 (no detections), 22.8ms\n",
      "Speed: 0.0ms preprocess, 22.8ms inference, 0.5ms postprocess per image at shape (1, 3, 224, 224)\n",
      "\n",
      "0: 224x224 (no detections), 21.3ms\n",
      "Speed: 0.5ms preprocess, 21.3ms inference, 0.5ms postprocess per image at shape (1, 3, 224, 224)\n",
      "\n",
      "0: 224x224 (no detections), 23.3ms\n",
      "Speed: 0.0ms preprocess, 23.3ms inference, 0.5ms postprocess per image at shape (1, 3, 224, 224)\n",
      "\n",
      "0: 224x224 (no detections), 22.3ms\n",
      "Speed: 0.0ms preprocess, 22.3ms inference, 0.5ms postprocess per image at shape (1, 3, 224, 224)\n",
      "\n",
      "0: 224x224 (no detections), 20.8ms\n",
      "Speed: 0.5ms preprocess, 20.8ms inference, 0.5ms postprocess per image at shape (1, 3, 224, 224)\n",
      "\n",
      "0: 224x224 (no detections), 22.3ms\n",
      "Speed: 0.0ms preprocess, 22.3ms inference, 0.0ms postprocess per image at shape (1, 3, 224, 224)\n",
      "\n",
      "0: 224x224 (no detections), 21.3ms\n",
      "Speed: 0.5ms preprocess, 21.3ms inference, 0.5ms postprocess per image at shape (1, 3, 224, 224)\n",
      "\n",
      "0: 224x224 (no detections), 22.3ms\n",
      "Speed: 0.0ms preprocess, 22.3ms inference, 0.0ms postprocess per image at shape (1, 3, 224, 224)\n",
      "\n",
      "0: 224x224 (no detections), 22.8ms\n",
      "Speed: 0.0ms preprocess, 22.8ms inference, 0.5ms postprocess per image at shape (1, 3, 224, 224)\n",
      "\n",
      "0: 224x224 (no detections), 21.3ms\n",
      "Speed: 0.5ms preprocess, 21.3ms inference, 0.5ms postprocess per image at shape (1, 3, 224, 224)\n",
      "\n",
      "0: 224x224 (no detections), 20.8ms\n",
      "Speed: 0.0ms preprocess, 20.8ms inference, 0.5ms postprocess per image at shape (1, 3, 224, 224)\n",
      "\n",
      "0: 224x224 (no detections), 22.8ms\n",
      "Speed: 0.0ms preprocess, 22.8ms inference, 0.0ms postprocess per image at shape (1, 3, 224, 224)\n",
      "\n",
      "0: 224x224 (no detections), 20.3ms\n",
      "Speed: 0.5ms preprocess, 20.3ms inference, 0.5ms postprocess per image at shape (1, 3, 224, 224)\n",
      "\n",
      "0: 224x224 (no detections), 23.3ms\n",
      "Speed: 0.0ms preprocess, 23.3ms inference, 0.0ms postprocess per image at shape (1, 3, 224, 224)\n",
      "\n",
      "0: 224x224 (no detections), 25.8ms\n",
      "Speed: 0.5ms preprocess, 25.8ms inference, 0.5ms postprocess per image at shape (1, 3, 224, 224)\n",
      "\n",
      "0: 224x224 (no detections), 22.8ms\n",
      "Speed: 0.0ms preprocess, 22.8ms inference, 0.0ms postprocess per image at shape (1, 3, 224, 224)\n",
      "\n",
      "0: 224x224 (no detections), 20.8ms\n",
      "Speed: 0.5ms preprocess, 20.8ms inference, 0.5ms postprocess per image at shape (1, 3, 224, 224)\n",
      "\n",
      "0: 224x224 (no detections), 21.3ms\n",
      "Speed: 0.0ms preprocess, 21.3ms inference, 0.5ms postprocess per image at shape (1, 3, 224, 224)\n",
      "\n",
      "0: 224x224 (no detections), 20.8ms\n",
      "Speed: 0.0ms preprocess, 20.8ms inference, 0.5ms postprocess per image at shape (1, 3, 224, 224)\n",
      "\n",
      "0: 224x224 1 pool, 38.7ms\n",
      "Speed: 0.5ms preprocess, 38.7ms inference, 1.0ms postprocess per image at shape (1, 3, 224, 224)\n",
      "\n",
      "0: 224x224 1 pool, 31.7ms\n",
      "Speed: 0.5ms preprocess, 31.7ms inference, 1.0ms postprocess per image at shape (1, 3, 224, 224)\n",
      "\n",
      "0: 224x224 1 pool, 28.8ms\n",
      "Speed: 1.0ms preprocess, 28.8ms inference, 0.5ms postprocess per image at shape (1, 3, 224, 224)\n",
      "\n",
      "0: 224x224 1 pool, 27.3ms\n",
      "Speed: 0.5ms preprocess, 27.3ms inference, 0.5ms postprocess per image at shape (1, 3, 224, 224)\n",
      "\n",
      "0: 224x224 (no detections), 20.8ms\n",
      "Speed: 0.0ms preprocess, 20.8ms inference, 0.5ms postprocess per image at shape (1, 3, 224, 224)\n",
      "\n",
      "0: 224x224 (no detections), 21.3ms\n",
      "Speed: 0.5ms preprocess, 21.3ms inference, 0.0ms postprocess per image at shape (1, 3, 224, 224)\n",
      "\n",
      "0: 224x224 (no detections), 22.3ms\n",
      "Speed: 0.5ms preprocess, 22.3ms inference, 0.5ms postprocess per image at shape (1, 3, 224, 224)\n",
      "\n",
      "0: 224x224 (no detections), 20.8ms\n",
      "Speed: 0.5ms preprocess, 20.8ms inference, 0.5ms postprocess per image at shape (1, 3, 224, 224)\n",
      "\n",
      "0: 224x224 (no detections), 21.8ms\n",
      "Speed: 0.5ms preprocess, 21.8ms inference, 0.5ms postprocess per image at shape (1, 3, 224, 224)\n",
      "\n",
      "0: 224x224 (no detections), 21.8ms\n",
      "Speed: 0.0ms preprocess, 21.8ms inference, 0.0ms postprocess per image at shape (1, 3, 224, 224)\n",
      "\n",
      "0: 224x224 (no detections), 21.8ms\n",
      "Speed: 0.0ms preprocess, 21.8ms inference, 0.5ms postprocess per image at shape (1, 3, 224, 224)\n",
      "\n",
      "0: 224x224 (no detections), 25.3ms\n",
      "Speed: 0.5ms preprocess, 25.3ms inference, 0.5ms postprocess per image at shape (1, 3, 224, 224)\n",
      "\n",
      "0: 224x224 1 pool, 21.8ms\n",
      "Speed: 0.5ms preprocess, 21.8ms inference, 0.5ms postprocess per image at shape (1, 3, 224, 224)\n",
      "\n",
      "0: 224x224 1 pool, 21.3ms\n",
      "Speed: 0.5ms preprocess, 21.3ms inference, 0.5ms postprocess per image at shape (1, 3, 224, 224)\n",
      "\n",
      "0: 224x224 (no detections), 20.8ms\n",
      "Speed: 0.0ms preprocess, 20.8ms inference, 0.0ms postprocess per image at shape (1, 3, 224, 224)\n",
      "\n",
      "0: 224x224 1 pool, 22.3ms\n",
      "Speed: 0.5ms preprocess, 22.3ms inference, 0.5ms postprocess per image at shape (1, 3, 224, 224)\n",
      "\n",
      "0: 224x224 1 pool, 23.8ms\n",
      "Speed: 0.5ms preprocess, 23.8ms inference, 1.0ms postprocess per image at shape (1, 3, 224, 224)\n",
      "\n",
      "0: 224x224 (no detections), 22.8ms\n",
      "Speed: 0.5ms preprocess, 22.8ms inference, 0.5ms postprocess per image at shape (1, 3, 224, 224)\n",
      "\n",
      "0: 224x224 (no detections), 24.3ms\n",
      "Speed: 0.5ms preprocess, 24.3ms inference, 0.0ms postprocess per image at shape (1, 3, 224, 224)\n",
      "\n",
      "0: 224x224 (no detections), 22.3ms\n",
      "Speed: 0.0ms preprocess, 22.3ms inference, 0.5ms postprocess per image at shape (1, 3, 224, 224)\n",
      "\n",
      "0: 224x224 (no detections), 25.8ms\n",
      "Speed: 0.5ms preprocess, 25.8ms inference, 0.0ms postprocess per image at shape (1, 3, 224, 224)\n",
      "\n",
      "0: 224x224 (no detections), 73.4ms\n",
      "Speed: 0.5ms preprocess, 73.4ms inference, 0.5ms postprocess per image at shape (1, 3, 224, 224)\n",
      "\n",
      "0: 224x224 (no detections), 24.3ms\n",
      "Speed: 0.0ms preprocess, 24.3ms inference, 0.0ms postprocess per image at shape (1, 3, 224, 224)\n",
      "\n",
      "0: 224x224 (no detections), 23.3ms\n",
      "Speed: 0.0ms preprocess, 23.3ms inference, 0.5ms postprocess per image at shape (1, 3, 224, 224)\n",
      "\n",
      "0: 224x224 (no detections), 23.8ms\n",
      "Speed: 0.0ms preprocess, 23.8ms inference, 0.5ms postprocess per image at shape (1, 3, 224, 224)\n",
      "\n",
      "0: 224x224 (no detections), 24.3ms\n",
      "Speed: 0.5ms preprocess, 24.3ms inference, 0.5ms postprocess per image at shape (1, 3, 224, 224)\n",
      "\n",
      "0: 224x224 (no detections), 24.3ms\n",
      "Speed: 0.0ms preprocess, 24.3ms inference, 0.0ms postprocess per image at shape (1, 3, 224, 224)\n",
      "\n",
      "0: 224x224 (no detections), 28.8ms\n",
      "Speed: 0.5ms preprocess, 28.8ms inference, 0.5ms postprocess per image at shape (1, 3, 224, 224)\n",
      "\n",
      "0: 224x224 (no detections), 25.8ms\n",
      "Speed: 0.5ms preprocess, 25.8ms inference, 1.0ms postprocess per image at shape (1, 3, 224, 224)\n",
      "\n",
      "0: 224x224 (no detections), 24.3ms\n",
      "Speed: 0.5ms preprocess, 24.3ms inference, 0.5ms postprocess per image at shape (1, 3, 224, 224)\n",
      "\n",
      "0: 224x224 (no detections), 22.3ms\n",
      "Speed: 0.5ms preprocess, 22.3ms inference, 0.0ms postprocess per image at shape (1, 3, 224, 224)\n",
      "\n",
      "0: 224x224 (no detections), 22.3ms\n",
      "Speed: 0.5ms preprocess, 22.3ms inference, 0.5ms postprocess per image at shape (1, 3, 224, 224)\n",
      "\n",
      "0: 224x224 (no detections), 24.8ms\n",
      "Speed: 0.5ms preprocess, 24.8ms inference, 0.5ms postprocess per image at shape (1, 3, 224, 224)\n",
      "\n",
      "0: 224x224 (no detections), 27.3ms\n",
      "Speed: 0.0ms preprocess, 27.3ms inference, 0.5ms postprocess per image at shape (1, 3, 224, 224)\n",
      "\n",
      "0: 224x224 (no detections), 24.8ms\n",
      "Speed: 0.5ms preprocess, 24.8ms inference, 0.5ms postprocess per image at shape (1, 3, 224, 224)\n",
      "\n",
      "0: 224x224 (no detections), 24.3ms\n",
      "Speed: 0.0ms preprocess, 24.3ms inference, 0.5ms postprocess per image at shape (1, 3, 224, 224)\n",
      "\n",
      "0: 224x224 (no detections), 21.8ms\n",
      "Speed: 0.5ms preprocess, 21.8ms inference, 0.0ms postprocess per image at shape (1, 3, 224, 224)\n",
      "\n",
      "0: 224x224 (no detections), 21.3ms\n",
      "Speed: 0.5ms preprocess, 21.3ms inference, 0.0ms postprocess per image at shape (1, 3, 224, 224)\n",
      "\n",
      "0: 224x224 1 pool, 21.8ms\n",
      "Speed: 0.5ms preprocess, 21.8ms inference, 0.5ms postprocess per image at shape (1, 3, 224, 224)\n",
      "\n",
      "0: 224x224 (no detections), 21.3ms\n",
      "Speed: 0.5ms preprocess, 21.3ms inference, 0.5ms postprocess per image at shape (1, 3, 224, 224)\n",
      "\n",
      "0: 224x224 (no detections), 21.3ms\n",
      "Speed: 0.5ms preprocess, 21.3ms inference, 0.5ms postprocess per image at shape (1, 3, 224, 224)\n",
      "\n",
      "0: 224x224 1 pool, 21.8ms\n",
      "Speed: 0.0ms preprocess, 21.8ms inference, 0.5ms postprocess per image at shape (1, 3, 224, 224)\n",
      "\n",
      "0: 224x224 (no detections), 21.8ms\n",
      "Speed: 0.5ms preprocess, 21.8ms inference, 0.5ms postprocess per image at shape (1, 3, 224, 224)\n",
      "\n",
      "0: 224x224 (no detections), 27.3ms\n",
      "Speed: 0.0ms preprocess, 27.3ms inference, 0.0ms postprocess per image at shape (1, 3, 224, 224)\n",
      "\n",
      "0: 224x224 (no detections), 23.8ms\n",
      "Speed: 0.5ms preprocess, 23.8ms inference, 0.5ms postprocess per image at shape (1, 3, 224, 224)\n",
      "\n",
      "0: 224x224 (no detections), 23.3ms\n",
      "Speed: 0.0ms preprocess, 23.3ms inference, 0.0ms postprocess per image at shape (1, 3, 224, 224)\n",
      "\n",
      "0: 224x224 (no detections), 20.8ms\n",
      "Speed: 0.5ms preprocess, 20.8ms inference, 0.0ms postprocess per image at shape (1, 3, 224, 224)\n",
      "\n",
      "0: 224x224 (no detections), 23.3ms\n",
      "Speed: 0.0ms preprocess, 23.3ms inference, 0.0ms postprocess per image at shape (1, 3, 224, 224)\n",
      "\n",
      "0: 224x224 (no detections), 21.8ms\n",
      "Speed: 0.0ms preprocess, 21.8ms inference, 0.0ms postprocess per image at shape (1, 3, 224, 224)\n",
      "\n",
      "0: 224x224 (no detections), 21.3ms\n",
      "Speed: 0.5ms preprocess, 21.3ms inference, 0.0ms postprocess per image at shape (1, 3, 224, 224)\n",
      "\n",
      "0: 224x224 (no detections), 25.8ms\n",
      "Speed: 0.0ms preprocess, 25.8ms inference, 0.5ms postprocess per image at shape (1, 3, 224, 224)\n",
      "\n",
      "0: 224x224 (no detections), 23.8ms\n",
      "Speed: 0.5ms preprocess, 23.8ms inference, 0.0ms postprocess per image at shape (1, 3, 224, 224)\n",
      "\n",
      "0: 224x224 (no detections), 23.8ms\n",
      "Speed: 0.5ms preprocess, 23.8ms inference, 0.5ms postprocess per image at shape (1, 3, 224, 224)\n",
      "\n",
      "0: 224x224 (no detections), 21.3ms\n",
      "Speed: 0.5ms preprocess, 21.3ms inference, 0.5ms postprocess per image at shape (1, 3, 224, 224)\n",
      "\n",
      "0: 224x224 (no detections), 21.8ms\n",
      "Speed: 0.0ms preprocess, 21.8ms inference, 0.5ms postprocess per image at shape (1, 3, 224, 224)\n",
      "\n",
      "0: 224x224 (no detections), 22.3ms\n",
      "Speed: 0.5ms preprocess, 22.3ms inference, 0.0ms postprocess per image at shape (1, 3, 224, 224)\n",
      "\n",
      "0: 224x224 (no detections), 20.8ms\n",
      "Speed: 0.5ms preprocess, 20.8ms inference, 0.5ms postprocess per image at shape (1, 3, 224, 224)\n",
      "\n",
      "0: 224x224 (no detections), 21.8ms\n",
      "Speed: 0.5ms preprocess, 21.8ms inference, 0.5ms postprocess per image at shape (1, 3, 224, 224)\n",
      "\n",
      "0: 224x224 (no detections), 24.8ms\n",
      "Speed: 0.5ms preprocess, 24.8ms inference, 0.0ms postprocess per image at shape (1, 3, 224, 224)\n",
      "\n",
      "0: 224x224 (no detections), 21.3ms\n",
      "Speed: 0.0ms preprocess, 21.3ms inference, 0.5ms postprocess per image at shape (1, 3, 224, 224)\n",
      "\n",
      "0: 224x224 (no detections), 23.8ms\n",
      "Speed: 0.5ms preprocess, 23.8ms inference, 0.5ms postprocess per image at shape (1, 3, 224, 224)\n",
      "\n",
      "0: 224x224 (no detections), 21.8ms\n",
      "Speed: 0.5ms preprocess, 21.8ms inference, 0.5ms postprocess per image at shape (1, 3, 224, 224)\n",
      "\n",
      "0: 224x224 (no detections), 23.8ms\n",
      "Speed: 0.0ms preprocess, 23.8ms inference, 0.0ms postprocess per image at shape (1, 3, 224, 224)\n",
      "\n",
      "0: 224x224 (no detections), 21.8ms\n",
      "Speed: 0.5ms preprocess, 21.8ms inference, 0.5ms postprocess per image at shape (1, 3, 224, 224)\n",
      "\n",
      "0: 224x224 (no detections), 21.3ms\n",
      "Speed: 0.0ms preprocess, 21.3ms inference, 0.0ms postprocess per image at shape (1, 3, 224, 224)\n",
      "\n",
      "0: 224x224 (no detections), 22.8ms\n",
      "Speed: 0.5ms preprocess, 22.8ms inference, 0.0ms postprocess per image at shape (1, 3, 224, 224)\n",
      "\n",
      "0: 224x224 (no detections), 21.8ms\n",
      "Speed: 0.0ms preprocess, 21.8ms inference, 0.5ms postprocess per image at shape (1, 3, 224, 224)\n",
      "\n",
      "0: 224x224 (no detections), 21.8ms\n",
      "Speed: 0.0ms preprocess, 21.8ms inference, 0.5ms postprocess per image at shape (1, 3, 224, 224)\n",
      "\n",
      "0: 224x224 1 pool, 22.3ms\n",
      "Speed: 0.5ms preprocess, 22.3ms inference, 0.5ms postprocess per image at shape (1, 3, 224, 224)\n",
      "\n",
      "0: 224x224 1 pool, 21.3ms\n",
      "Speed: 0.5ms preprocess, 21.3ms inference, 0.5ms postprocess per image at shape (1, 3, 224, 224)\n",
      "\n",
      "0: 224x224 (no detections), 20.8ms\n",
      "Speed: 0.5ms preprocess, 20.8ms inference, 0.5ms postprocess per image at shape (1, 3, 224, 224)\n",
      "\n",
      "0: 224x224 (no detections), 22.3ms\n",
      "Speed: 0.5ms preprocess, 22.3ms inference, 0.0ms postprocess per image at shape (1, 3, 224, 224)\n",
      "\n",
      "0: 224x224 (no detections), 22.3ms\n",
      "Speed: 0.5ms preprocess, 22.3ms inference, 0.5ms postprocess per image at shape (1, 3, 224, 224)\n",
      "\n",
      "0: 224x224 (no detections), 21.8ms\n",
      "Speed: 0.5ms preprocess, 21.8ms inference, 0.5ms postprocess per image at shape (1, 3, 224, 224)\n",
      "\n",
      "0: 224x224 (no detections), 21.3ms\n",
      "Speed: 0.5ms preprocess, 21.3ms inference, 0.5ms postprocess per image at shape (1, 3, 224, 224)\n",
      "\n",
      "0: 224x224 (no detections), 20.3ms\n",
      "Speed: 0.0ms preprocess, 20.3ms inference, 0.5ms postprocess per image at shape (1, 3, 224, 224)\n",
      "\n",
      "0: 224x224 (no detections), 21.3ms\n",
      "Speed: 0.0ms preprocess, 21.3ms inference, 0.5ms postprocess per image at shape (1, 3, 224, 224)\n",
      "\n",
      "0: 224x224 (no detections), 21.3ms\n",
      "Speed: 0.5ms preprocess, 21.3ms inference, 0.5ms postprocess per image at shape (1, 3, 224, 224)\n",
      "\n",
      "0: 224x224 (no detections), 23.8ms\n",
      "Speed: 0.0ms preprocess, 23.8ms inference, 0.0ms postprocess per image at shape (1, 3, 224, 224)\n",
      "\n",
      "0: 224x224 (no detections), 22.3ms\n",
      "Speed: 0.5ms preprocess, 22.3ms inference, 0.5ms postprocess per image at shape (1, 3, 224, 224)\n",
      "\n",
      "0: 224x224 (no detections), 20.3ms\n",
      "Speed: 0.5ms preprocess, 20.3ms inference, 0.5ms postprocess per image at shape (1, 3, 224, 224)\n",
      "\n",
      "0: 224x224 (no detections), 22.8ms\n",
      "Speed: 0.0ms preprocess, 22.8ms inference, 0.5ms postprocess per image at shape (1, 3, 224, 224)\n",
      "\n",
      "0: 224x224 (no detections), 21.3ms\n",
      "Speed: 0.0ms preprocess, 21.3ms inference, 0.5ms postprocess per image at shape (1, 3, 224, 224)\n",
      "\n",
      "0: 224x224 (no detections), 21.3ms\n",
      "Speed: 0.0ms preprocess, 21.3ms inference, 0.0ms postprocess per image at shape (1, 3, 224, 224)\n",
      "\n",
      "0: 224x224 (no detections), 22.3ms\n",
      "Speed: 0.0ms preprocess, 22.3ms inference, 0.0ms postprocess per image at shape (1, 3, 224, 224)\n",
      "\n",
      "0: 224x224 (no detections), 21.8ms\n",
      "Speed: 0.5ms preprocess, 21.8ms inference, 0.5ms postprocess per image at shape (1, 3, 224, 224)\n",
      "\n",
      "0: 224x224 (no detections), 21.8ms\n",
      "Speed: 0.5ms preprocess, 21.8ms inference, 0.5ms postprocess per image at shape (1, 3, 224, 224)\n",
      "\n",
      "0: 224x224 (no detections), 23.3ms\n",
      "Speed: 0.5ms preprocess, 23.3ms inference, 0.5ms postprocess per image at shape (1, 3, 224, 224)\n",
      "\n",
      "0: 224x224 (no detections), 19.3ms\n",
      "Speed: 0.5ms preprocess, 19.3ms inference, 0.5ms postprocess per image at shape (1, 3, 224, 224)\n",
      "\n",
      "0: 224x224 (no detections), 58.5ms\n",
      "Speed: 9.4ms preprocess, 58.5ms inference, 0.5ms postprocess per image at shape (1, 3, 224, 224)\n",
      "\n",
      "0: 224x224 (no detections), 21.3ms\n",
      "Speed: 0.5ms preprocess, 21.3ms inference, 0.5ms postprocess per image at shape (1, 3, 224, 224)\n",
      "\n",
      "0: 224x224 (no detections), 21.8ms\n",
      "Speed: 0.5ms preprocess, 21.8ms inference, 0.0ms postprocess per image at shape (1, 3, 224, 224)\n",
      "\n",
      "0: 224x224 (no detections), 21.8ms\n",
      "Speed: 0.0ms preprocess, 21.8ms inference, 0.0ms postprocess per image at shape (1, 3, 224, 224)\n",
      "\n",
      "0: 224x224 (no detections), 21.8ms\n",
      "Speed: 0.5ms preprocess, 21.8ms inference, 0.5ms postprocess per image at shape (1, 3, 224, 224)\n",
      "\n",
      "0: 224x224 (no detections), 21.8ms\n",
      "Speed: 0.0ms preprocess, 21.8ms inference, 0.0ms postprocess per image at shape (1, 3, 224, 224)\n",
      "\n",
      "0: 224x224 (no detections), 23.3ms\n",
      "Speed: 0.5ms preprocess, 23.3ms inference, 0.0ms postprocess per image at shape (1, 3, 224, 224)\n",
      "\n",
      "0: 224x224 (no detections), 23.8ms\n",
      "Speed: 0.5ms preprocess, 23.8ms inference, 0.0ms postprocess per image at shape (1, 3, 224, 224)\n",
      "\n",
      "0: 224x224 (no detections), 22.3ms\n",
      "Speed: 0.5ms preprocess, 22.3ms inference, 0.5ms postprocess per image at shape (1, 3, 224, 224)\n",
      "\n",
      "0: 224x224 (no detections), 21.8ms\n",
      "Speed: 0.5ms preprocess, 21.8ms inference, 0.5ms postprocess per image at shape (1, 3, 224, 224)\n",
      "\n",
      "0: 224x224 (no detections), 21.3ms\n",
      "Speed: 0.5ms preprocess, 21.3ms inference, 0.0ms postprocess per image at shape (1, 3, 224, 224)\n",
      "\n",
      "0: 224x224 (no detections), 21.8ms\n",
      "Speed: 0.0ms preprocess, 21.8ms inference, 0.5ms postprocess per image at shape (1, 3, 224, 224)\n",
      "\n",
      "0: 224x224 (no detections), 20.8ms\n",
      "Speed: 0.5ms preprocess, 20.8ms inference, 0.5ms postprocess per image at shape (1, 3, 224, 224)\n",
      "\n",
      "0: 224x224 (no detections), 21.8ms\n",
      "Speed: 0.5ms preprocess, 21.8ms inference, 0.5ms postprocess per image at shape (1, 3, 224, 224)\n",
      "\n",
      "0: 224x224 (no detections), 21.8ms\n",
      "Speed: 0.5ms preprocess, 21.8ms inference, 0.5ms postprocess per image at shape (1, 3, 224, 224)\n",
      "\n",
      "0: 224x224 (no detections), 24.3ms\n",
      "Speed: 0.5ms preprocess, 24.3ms inference, 0.5ms postprocess per image at shape (1, 3, 224, 224)\n",
      "\n",
      "0: 224x224 (no detections), 21.3ms\n",
      "Speed: 0.5ms preprocess, 21.3ms inference, 0.5ms postprocess per image at shape (1, 3, 224, 224)\n",
      "\n",
      "0: 224x224 (no detections), 21.3ms\n",
      "Speed: 0.0ms preprocess, 21.3ms inference, 0.0ms postprocess per image at shape (1, 3, 224, 224)\n",
      "\n",
      "0: 224x224 (no detections), 22.8ms\n",
      "Speed: 0.0ms preprocess, 22.8ms inference, 0.0ms postprocess per image at shape (1, 3, 224, 224)\n",
      "\n",
      "0: 224x224 (no detections), 22.3ms\n",
      "Speed: 0.0ms preprocess, 22.3ms inference, 0.5ms postprocess per image at shape (1, 3, 224, 224)\n",
      "\n",
      "0: 224x224 (no detections), 21.8ms\n",
      "Speed: 0.5ms preprocess, 21.8ms inference, 0.5ms postprocess per image at shape (1, 3, 224, 224)\n",
      "\n",
      "0: 224x224 (no detections), 22.8ms\n",
      "Speed: 0.5ms preprocess, 22.8ms inference, 0.0ms postprocess per image at shape (1, 3, 224, 224)\n",
      "\n",
      "0: 224x224 (no detections), 22.8ms\n",
      "Speed: 0.0ms preprocess, 22.8ms inference, 0.0ms postprocess per image at shape (1, 3, 224, 224)\n",
      "\n",
      "0: 224x224 (no detections), 20.8ms\n",
      "Speed: 0.0ms preprocess, 20.8ms inference, 0.0ms postprocess per image at shape (1, 3, 224, 224)\n",
      "\n",
      "0: 224x224 (no detections), 22.8ms\n",
      "Speed: 0.0ms preprocess, 22.8ms inference, 0.5ms postprocess per image at shape (1, 3, 224, 224)\n",
      "\n",
      "0: 224x224 (no detections), 21.8ms\n",
      "Speed: 0.5ms preprocess, 21.8ms inference, 0.5ms postprocess per image at shape (1, 3, 224, 224)\n",
      "\n",
      "0: 224x224 (no detections), 22.8ms\n",
      "Speed: 0.0ms preprocess, 22.8ms inference, 0.5ms postprocess per image at shape (1, 3, 224, 224)\n",
      "\n",
      "0: 224x224 (no detections), 22.8ms\n",
      "Speed: 0.0ms preprocess, 22.8ms inference, 0.0ms postprocess per image at shape (1, 3, 224, 224)\n",
      "\n",
      "0: 224x224 (no detections), 27.8ms\n",
      "Speed: 0.5ms preprocess, 27.8ms inference, 0.5ms postprocess per image at shape (1, 3, 224, 224)\n",
      "\n",
      "0: 224x224 (no detections), 23.8ms\n",
      "Speed: 0.0ms preprocess, 23.8ms inference, 0.0ms postprocess per image at shape (1, 3, 224, 224)\n",
      "\n",
      "0: 224x224 (no detections), 21.8ms\n",
      "Speed: 0.0ms preprocess, 21.8ms inference, 0.0ms postprocess per image at shape (1, 3, 224, 224)\n",
      "\n",
      "0: 224x224 (no detections), 22.8ms\n",
      "Speed: 0.0ms preprocess, 22.8ms inference, 0.5ms postprocess per image at shape (1, 3, 224, 224)\n",
      "\n",
      "0: 224x224 (no detections), 21.8ms\n",
      "Speed: 0.5ms preprocess, 21.8ms inference, 0.5ms postprocess per image at shape (1, 3, 224, 224)\n",
      "\n",
      "0: 224x224 1 pool, 20.8ms\n",
      "Speed: 0.0ms preprocess, 20.8ms inference, 0.5ms postprocess per image at shape (1, 3, 224, 224)\n",
      "\n",
      "0: 224x224 (no detections), 86.8ms\n",
      "Speed: 0.5ms preprocess, 86.8ms inference, 0.5ms postprocess per image at shape (1, 3, 224, 224)\n",
      "\n",
      "0: 224x224 (no detections), 28.3ms\n",
      "Speed: 0.5ms preprocess, 28.3ms inference, 0.5ms postprocess per image at shape (1, 3, 224, 224)\n",
      "\n",
      "0: 224x224 1 pool, 28.8ms\n",
      "Speed: 0.0ms preprocess, 28.8ms inference, 0.5ms postprocess per image at shape (1, 3, 224, 224)\n",
      "\n",
      "0: 224x224 (no detections), 24.8ms\n",
      "Speed: 0.0ms preprocess, 24.8ms inference, 0.5ms postprocess per image at shape (1, 3, 224, 224)\n",
      "\n",
      "0: 224x224 (no detections), 23.8ms\n",
      "Speed: 0.0ms preprocess, 23.8ms inference, 0.0ms postprocess per image at shape (1, 3, 224, 224)\n",
      "\n",
      "0: 224x224 (no detections), 22.8ms\n",
      "Speed: 0.0ms preprocess, 22.8ms inference, 0.5ms postprocess per image at shape (1, 3, 224, 224)\n",
      "\n",
      "0: 224x224 (no detections), 22.8ms\n",
      "Speed: 0.5ms preprocess, 22.8ms inference, 0.5ms postprocess per image at shape (1, 3, 224, 224)\n",
      "\n",
      "0: 224x224 (no detections), 21.3ms\n",
      "Speed: 0.5ms preprocess, 21.3ms inference, 0.5ms postprocess per image at shape (1, 3, 224, 224)\n",
      "\n",
      "0: 224x224 (no detections), 23.3ms\n",
      "Speed: 0.5ms preprocess, 23.3ms inference, 0.5ms postprocess per image at shape (1, 3, 224, 224)\n",
      "\n",
      "0: 224x224 (no detections), 20.8ms\n",
      "Speed: 0.5ms preprocess, 20.8ms inference, 0.5ms postprocess per image at shape (1, 3, 224, 224)\n",
      "\n",
      "0: 224x224 (no detections), 23.3ms\n",
      "Speed: 2.5ms preprocess, 23.3ms inference, 0.5ms postprocess per image at shape (1, 3, 224, 224)\n",
      "\n",
      "0: 224x224 (no detections), 23.3ms\n",
      "Speed: 0.0ms preprocess, 23.3ms inference, 0.5ms postprocess per image at shape (1, 3, 224, 224)\n",
      "\n",
      "0: 224x224 (no detections), 22.3ms\n",
      "Speed: 0.5ms preprocess, 22.3ms inference, 0.5ms postprocess per image at shape (1, 3, 224, 224)\n",
      "\n",
      "0: 224x224 (no detections), 20.8ms\n",
      "Speed: 0.5ms preprocess, 20.8ms inference, 0.5ms postprocess per image at shape (1, 3, 224, 224)\n",
      "\n",
      "0: 224x224 (no detections), 21.3ms\n",
      "Speed: 0.0ms preprocess, 21.3ms inference, 0.0ms postprocess per image at shape (1, 3, 224, 224)\n",
      "\n",
      "0: 224x224 (no detections), 23.8ms\n",
      "Speed: 0.0ms preprocess, 23.8ms inference, 0.0ms postprocess per image at shape (1, 3, 224, 224)\n",
      "\n",
      "0: 224x224 (no detections), 22.3ms\n",
      "Speed: 0.5ms preprocess, 22.3ms inference, 0.0ms postprocess per image at shape (1, 3, 224, 224)\n",
      "\n",
      "0: 224x224 (no detections), 22.8ms\n",
      "Speed: 0.5ms preprocess, 22.8ms inference, 0.0ms postprocess per image at shape (1, 3, 224, 224)\n",
      "\n",
      "0: 224x224 (no detections), 23.3ms\n",
      "Speed: 0.0ms preprocess, 23.3ms inference, 0.0ms postprocess per image at shape (1, 3, 224, 224)\n",
      "\n",
      "0: 224x224 (no detections), 23.3ms\n",
      "Speed: 0.5ms preprocess, 23.3ms inference, 0.0ms postprocess per image at shape (1, 3, 224, 224)\n",
      "\n",
      "0: 224x224 (no detections), 21.8ms\n",
      "Speed: 0.5ms preprocess, 21.8ms inference, 0.0ms postprocess per image at shape (1, 3, 224, 224)\n",
      "\n",
      "0: 224x224 (no detections), 22.8ms\n",
      "Speed: 0.5ms preprocess, 22.8ms inference, 0.0ms postprocess per image at shape (1, 3, 224, 224)\n",
      "\n",
      "0: 224x224 (no detections), 23.3ms\n",
      "Speed: 0.0ms preprocess, 23.3ms inference, 0.5ms postprocess per image at shape (1, 3, 224, 224)\n",
      "\n",
      "0: 224x224 (no detections), 23.8ms\n",
      "Speed: 0.5ms preprocess, 23.8ms inference, 0.5ms postprocess per image at shape (1, 3, 224, 224)\n",
      "\n",
      "0: 224x224 (no detections), 23.3ms\n",
      "Speed: 0.5ms preprocess, 23.3ms inference, 0.5ms postprocess per image at shape (1, 3, 224, 224)\n",
      "\n",
      "0: 224x224 (no detections), 23.3ms\n",
      "Speed: 0.5ms preprocess, 23.3ms inference, 0.0ms postprocess per image at shape (1, 3, 224, 224)\n",
      "\n",
      "0: 224x224 (no detections), 24.3ms\n",
      "Speed: 0.5ms preprocess, 24.3ms inference, 0.5ms postprocess per image at shape (1, 3, 224, 224)\n",
      "\n",
      "0: 224x224 (no detections), 23.3ms\n",
      "Speed: 0.0ms preprocess, 23.3ms inference, 0.0ms postprocess per image at shape (1, 3, 224, 224)\n",
      "\n",
      "0: 224x224 (no detections), 22.8ms\n",
      "Speed: 0.5ms preprocess, 22.8ms inference, 0.5ms postprocess per image at shape (1, 3, 224, 224)\n",
      "\n",
      "0: 224x224 (no detections), 23.3ms\n",
      "Speed: 0.5ms preprocess, 23.3ms inference, 0.5ms postprocess per image at shape (1, 3, 224, 224)\n",
      "\n",
      "0: 224x224 1 pool, 23.3ms\n",
      "Speed: 0.5ms preprocess, 23.3ms inference, 0.5ms postprocess per image at shape (1, 3, 224, 224)\n",
      "\n",
      "0: 224x224 1 pool, 23.3ms\n",
      "Speed: 0.0ms preprocess, 23.3ms inference, 0.5ms postprocess per image at shape (1, 3, 224, 224)\n",
      "\n",
      "0: 224x224 1 pool, 21.8ms\n",
      "Speed: 0.0ms preprocess, 21.8ms inference, 0.5ms postprocess per image at shape (1, 3, 224, 224)\n",
      "\n",
      "0: 224x224 (no detections), 29.3ms\n",
      "Speed: 0.5ms preprocess, 29.3ms inference, 0.0ms postprocess per image at shape (1, 3, 224, 224)\n",
      "\n",
      "0: 224x224 (no detections), 24.3ms\n",
      "Speed: 0.0ms preprocess, 24.3ms inference, 0.0ms postprocess per image at shape (1, 3, 224, 224)\n",
      "\n",
      "0: 224x224 (no detections), 47.1ms\n",
      "Speed: 19.8ms preprocess, 47.1ms inference, 0.0ms postprocess per image at shape (1, 3, 224, 224)\n",
      "\n",
      "0: 224x224 (no detections), 21.3ms\n",
      "Speed: 0.5ms preprocess, 21.3ms inference, 0.5ms postprocess per image at shape (1, 3, 224, 224)\n",
      "\n",
      "0: 224x224 (no detections), 21.8ms\n",
      "Speed: 0.5ms preprocess, 21.8ms inference, 0.0ms postprocess per image at shape (1, 3, 224, 224)\n",
      "\n",
      "0: 224x224 (no detections), 24.3ms\n",
      "Speed: 0.0ms preprocess, 24.3ms inference, 0.5ms postprocess per image at shape (1, 3, 224, 224)\n",
      "\n",
      "0: 224x224 (no detections), 21.3ms\n",
      "Speed: 0.0ms preprocess, 21.3ms inference, 0.0ms postprocess per image at shape (1, 3, 224, 224)\n",
      "\n",
      "0: 224x224 (no detections), 22.8ms\n",
      "Speed: 0.5ms preprocess, 22.8ms inference, 0.5ms postprocess per image at shape (1, 3, 224, 224)\n",
      "\n",
      "0: 224x224 (no detections), 21.3ms\n",
      "Speed: 0.5ms preprocess, 21.3ms inference, 0.5ms postprocess per image at shape (1, 3, 224, 224)\n",
      "\n",
      "0: 224x224 (no detections), 22.8ms\n",
      "Speed: 0.0ms preprocess, 22.8ms inference, 0.0ms postprocess per image at shape (1, 3, 224, 224)\n",
      "\n",
      "0: 224x224 (no detections), 20.8ms\n",
      "Speed: 0.5ms preprocess, 20.8ms inference, 0.5ms postprocess per image at shape (1, 3, 224, 224)\n",
      "\n",
      "0: 224x224 1 pool, 21.8ms\n",
      "Speed: 0.5ms preprocess, 21.8ms inference, 0.5ms postprocess per image at shape (1, 3, 224, 224)\n",
      "\n",
      "0: 224x224 1 pool, 21.3ms\n",
      "Speed: 0.5ms preprocess, 21.3ms inference, 0.5ms postprocess per image at shape (1, 3, 224, 224)\n",
      "\n",
      "0: 224x224 (no detections), 20.8ms\n",
      "Speed: 0.5ms preprocess, 20.8ms inference, 0.5ms postprocess per image at shape (1, 3, 224, 224)\n",
      "\n",
      "0: 224x224 (no detections), 21.8ms\n",
      "Speed: 0.0ms preprocess, 21.8ms inference, 0.0ms postprocess per image at shape (1, 3, 224, 224)\n",
      "\n",
      "0: 224x224 (no detections), 25.3ms\n",
      "Speed: 0.0ms preprocess, 25.3ms inference, 0.5ms postprocess per image at shape (1, 3, 224, 224)\n",
      "\n",
      "0: 224x224 (no detections), 30.3ms\n",
      "Speed: 0.5ms preprocess, 30.3ms inference, 0.0ms postprocess per image at shape (1, 3, 224, 224)\n",
      "\n",
      "0: 224x224 (no detections), 24.3ms\n",
      "Speed: 0.5ms preprocess, 24.3ms inference, 0.5ms postprocess per image at shape (1, 3, 224, 224)\n",
      "\n",
      "0: 224x224 (no detections), 22.8ms\n",
      "Speed: 0.0ms preprocess, 22.8ms inference, 0.5ms postprocess per image at shape (1, 3, 224, 224)\n",
      "\n",
      "0: 224x224 (no detections), 21.8ms\n",
      "Speed: 0.5ms preprocess, 21.8ms inference, 0.5ms postprocess per image at shape (1, 3, 224, 224)\n",
      "\n",
      "0: 224x224 (no detections), 22.3ms\n",
      "Speed: 0.0ms preprocess, 22.3ms inference, 0.0ms postprocess per image at shape (1, 3, 224, 224)\n",
      "\n",
      "0: 224x224 (no detections), 22.3ms\n",
      "Speed: 0.0ms preprocess, 22.3ms inference, 0.5ms postprocess per image at shape (1, 3, 224, 224)\n",
      "\n",
      "0: 224x224 (no detections), 22.3ms\n",
      "Speed: 0.0ms preprocess, 22.3ms inference, 0.5ms postprocess per image at shape (1, 3, 224, 224)\n",
      "\n",
      "0: 224x224 (no detections), 22.3ms\n",
      "Speed: 0.0ms preprocess, 22.3ms inference, 0.5ms postprocess per image at shape (1, 3, 224, 224)\n",
      "\n",
      "0: 224x224 (no detections), 20.8ms\n",
      "Speed: 0.0ms preprocess, 20.8ms inference, 0.5ms postprocess per image at shape (1, 3, 224, 224)\n",
      "\n",
      "0: 224x224 (no detections), 21.3ms\n",
      "Speed: 0.5ms preprocess, 21.3ms inference, 0.0ms postprocess per image at shape (1, 3, 224, 224)\n",
      "\n",
      "0: 224x224 (no detections), 23.8ms\n",
      "Speed: 0.5ms preprocess, 23.8ms inference, 0.0ms postprocess per image at shape (1, 3, 224, 224)\n",
      "\n",
      "0: 224x224 (no detections), 21.3ms\n",
      "Speed: 0.0ms preprocess, 21.3ms inference, 0.5ms postprocess per image at shape (1, 3, 224, 224)\n",
      "\n",
      "0: 224x224 (no detections), 21.3ms\n",
      "Speed: 0.0ms preprocess, 21.3ms inference, 0.0ms postprocess per image at shape (1, 3, 224, 224)\n",
      "\n",
      "0: 224x224 (no detections), 25.8ms\n",
      "Speed: 0.0ms preprocess, 25.8ms inference, 0.5ms postprocess per image at shape (1, 3, 224, 224)\n",
      "\n",
      "0: 224x224 1 pool, 27.3ms\n",
      "Speed: 0.5ms preprocess, 27.3ms inference, 0.5ms postprocess per image at shape (1, 3, 224, 224)\n",
      "\n",
      "0: 224x224 (no detections), 23.3ms\n",
      "Speed: 0.5ms preprocess, 23.3ms inference, 0.5ms postprocess per image at shape (1, 3, 224, 224)\n",
      "\n",
      "0: 224x224 1 pool, 25.8ms\n",
      "Speed: 0.5ms preprocess, 25.8ms inference, 0.5ms postprocess per image at shape (1, 3, 224, 224)\n",
      "\n",
      "0: 224x224 1 pool, 25.8ms\n",
      "Speed: 0.0ms preprocess, 25.8ms inference, 0.5ms postprocess per image at shape (1, 3, 224, 224)\n",
      "\n",
      "0: 224x224 1 pool, 63.0ms\n",
      "Speed: 0.0ms preprocess, 63.0ms inference, 0.5ms postprocess per image at shape (1, 3, 224, 224)\n",
      "\n",
      "0: 224x224 1 pool, 28.8ms\n",
      "Speed: 1.5ms preprocess, 28.8ms inference, 1.0ms postprocess per image at shape (1, 3, 224, 224)\n",
      "\n",
      "0: 224x224 (no detections), 23.8ms\n",
      "Speed: 0.5ms preprocess, 23.8ms inference, 0.0ms postprocess per image at shape (1, 3, 224, 224)\n",
      "\n",
      "0: 224x224 (no detections), 23.3ms\n",
      "Speed: 0.5ms preprocess, 23.3ms inference, 0.5ms postprocess per image at shape (1, 3, 224, 224)\n",
      "\n",
      "0: 224x224 (no detections), 25.8ms\n",
      "Speed: 0.5ms preprocess, 25.8ms inference, 0.0ms postprocess per image at shape (1, 3, 224, 224)\n",
      "\n",
      "0: 224x224 (no detections), 21.8ms\n",
      "Speed: 0.5ms preprocess, 21.8ms inference, 0.5ms postprocess per image at shape (1, 3, 224, 224)\n",
      "\n",
      "0: 224x224 (no detections), 23.3ms\n",
      "Speed: 0.5ms preprocess, 23.3ms inference, 0.5ms postprocess per image at shape (1, 3, 224, 224)\n",
      "\n",
      "0: 224x224 (no detections), 22.8ms\n",
      "Speed: 0.0ms preprocess, 22.8ms inference, 0.5ms postprocess per image at shape (1, 3, 224, 224)\n",
      "\n",
      "0: 224x224 (no detections), 29.3ms\n",
      "Speed: 0.5ms preprocess, 29.3ms inference, 0.5ms postprocess per image at shape (1, 3, 224, 224)\n",
      "\n",
      "0: 224x224 (no detections), 20.3ms\n",
      "Speed: 0.5ms preprocess, 20.3ms inference, 0.5ms postprocess per image at shape (1, 3, 224, 224)\n",
      "\n",
      "0: 224x224 (no detections), 22.3ms\n",
      "Speed: 0.5ms preprocess, 22.3ms inference, 0.5ms postprocess per image at shape (1, 3, 224, 224)\n",
      "\n",
      "0: 224x224 (no detections), 21.8ms\n",
      "Speed: 0.5ms preprocess, 21.8ms inference, 0.5ms postprocess per image at shape (1, 3, 224, 224)\n",
      "\n",
      "0: 224x224 (no detections), 21.8ms\n",
      "Speed: 0.0ms preprocess, 21.8ms inference, 0.5ms postprocess per image at shape (1, 3, 224, 224)\n",
      "\n",
      "0: 224x224 (no detections), 21.8ms\n",
      "Speed: 0.0ms preprocess, 21.8ms inference, 0.0ms postprocess per image at shape (1, 3, 224, 224)\n",
      "\n",
      "0: 224x224 (no detections), 22.8ms\n",
      "Speed: 0.5ms preprocess, 22.8ms inference, 0.5ms postprocess per image at shape (1, 3, 224, 224)\n",
      "\n",
      "0: 224x224 (no detections), 22.3ms\n",
      "Speed: 0.5ms preprocess, 22.3ms inference, 0.5ms postprocess per image at shape (1, 3, 224, 224)\n",
      "\n",
      "0: 224x224 (no detections), 23.3ms\n",
      "Speed: 0.0ms preprocess, 23.3ms inference, 0.5ms postprocess per image at shape (1, 3, 224, 224)\n",
      "\n",
      "0: 224x224 (no detections), 22.3ms\n",
      "Speed: 0.5ms preprocess, 22.3ms inference, 0.5ms postprocess per image at shape (1, 3, 224, 224)\n",
      "\n",
      "0: 224x224 (no detections), 23.3ms\n",
      "Speed: 0.0ms preprocess, 23.3ms inference, 0.0ms postprocess per image at shape (1, 3, 224, 224)\n",
      "\n",
      "0: 224x224 (no detections), 23.3ms\n",
      "Speed: 0.5ms preprocess, 23.3ms inference, 0.5ms postprocess per image at shape (1, 3, 224, 224)\n",
      "\n",
      "0: 224x224 (no detections), 27.8ms\n",
      "Speed: 0.5ms preprocess, 27.8ms inference, 0.5ms postprocess per image at shape (1, 3, 224, 224)\n",
      "\n",
      "0: 224x224 (no detections), 23.8ms\n",
      "Speed: 0.5ms preprocess, 23.8ms inference, 0.5ms postprocess per image at shape (1, 3, 224, 224)\n",
      "\n",
      "0: 224x224 (no detections), 23.3ms\n",
      "Speed: 0.5ms preprocess, 23.3ms inference, 0.5ms postprocess per image at shape (1, 3, 224, 224)\n",
      "\n",
      "0: 224x224 1 pool, 23.3ms\n",
      "Speed: 0.5ms preprocess, 23.3ms inference, 0.5ms postprocess per image at shape (1, 3, 224, 224)\n",
      "\n",
      "0: 224x224 1 pool, 24.3ms\n",
      "Speed: 0.5ms preprocess, 24.3ms inference, 0.5ms postprocess per image at shape (1, 3, 224, 224)\n",
      "\n",
      "0: 224x224 (no detections), 23.3ms\n",
      "Speed: 0.0ms preprocess, 23.3ms inference, 0.0ms postprocess per image at shape (1, 3, 224, 224)\n",
      "\n",
      "0: 224x224 (no detections), 23.8ms\n",
      "Speed: 0.5ms preprocess, 23.8ms inference, 0.5ms postprocess per image at shape (1, 3, 224, 224)\n",
      "\n",
      "0: 224x224 (no detections), 22.8ms\n",
      "Speed: 0.5ms preprocess, 22.8ms inference, 0.5ms postprocess per image at shape (1, 3, 224, 224)\n",
      "\n",
      "0: 224x224 (no detections), 22.8ms\n",
      "Speed: 0.0ms preprocess, 22.8ms inference, 0.5ms postprocess per image at shape (1, 3, 224, 224)\n",
      "\n",
      "0: 224x224 (no detections), 23.3ms\n",
      "Speed: 0.5ms preprocess, 23.3ms inference, 0.5ms postprocess per image at shape (1, 3, 224, 224)\n",
      "\n",
      "0: 224x224 (no detections), 20.8ms\n",
      "Speed: 0.0ms preprocess, 20.8ms inference, 0.5ms postprocess per image at shape (1, 3, 224, 224)\n",
      "\n",
      "0: 224x224 1 pool, 20.3ms\n",
      "Speed: 0.5ms preprocess, 20.3ms inference, 0.5ms postprocess per image at shape (1, 3, 224, 224)\n",
      "\n",
      "0: 224x224 (no detections), 68.0ms\n",
      "Speed: 0.5ms preprocess, 68.0ms inference, 0.5ms postprocess per image at shape (1, 3, 224, 224)\n",
      "\n",
      "0: 224x224 (no detections), 24.8ms\n",
      "Speed: 1.0ms preprocess, 24.8ms inference, 0.0ms postprocess per image at shape (1, 3, 224, 224)\n",
      "\n",
      "0: 224x224 1 pool, 22.3ms\n",
      "Speed: 0.5ms preprocess, 22.3ms inference, 0.5ms postprocess per image at shape (1, 3, 224, 224)\n",
      "\n",
      "0: 224x224 1 pool, 23.3ms\n",
      "Speed: 0.5ms preprocess, 23.3ms inference, 1.0ms postprocess per image at shape (1, 3, 224, 224)\n",
      "\n",
      "0: 224x224 (no detections), 39.2ms\n",
      "Speed: 0.0ms preprocess, 39.2ms inference, 0.0ms postprocess per image at shape (1, 3, 224, 224)\n",
      "\n",
      "0: 224x224 (no detections), 29.8ms\n",
      "Speed: 0.5ms preprocess, 29.8ms inference, 0.5ms postprocess per image at shape (1, 3, 224, 224)\n",
      "\n",
      "0: 224x224 (no detections), 28.8ms\n",
      "Speed: 0.0ms preprocess, 28.8ms inference, 0.0ms postprocess per image at shape (1, 3, 224, 224)\n",
      "\n",
      "0: 224x224 (no detections), 27.3ms\n",
      "Speed: 0.5ms preprocess, 27.3ms inference, 0.0ms postprocess per image at shape (1, 3, 224, 224)\n",
      "\n",
      "0: 224x224 (no detections), 25.3ms\n",
      "Speed: 0.5ms preprocess, 25.3ms inference, 0.0ms postprocess per image at shape (1, 3, 224, 224)\n",
      "\n",
      "0: 224x224 (no detections), 22.8ms\n",
      "Speed: 0.5ms preprocess, 22.8ms inference, 0.5ms postprocess per image at shape (1, 3, 224, 224)\n",
      "\n",
      "0: 224x224 (no detections), 24.3ms\n",
      "Speed: 0.5ms preprocess, 24.3ms inference, 0.5ms postprocess per image at shape (1, 3, 224, 224)\n",
      "\n",
      "0: 224x224 (no detections), 23.8ms\n",
      "Speed: 0.5ms preprocess, 23.8ms inference, 0.5ms postprocess per image at shape (1, 3, 224, 224)\n",
      "\n",
      "0: 224x224 (no detections), 23.3ms\n",
      "Speed: 0.5ms preprocess, 23.3ms inference, 0.5ms postprocess per image at shape (1, 3, 224, 224)\n",
      "\n",
      "0: 224x224 (no detections), 24.8ms\n",
      "Speed: 0.0ms preprocess, 24.8ms inference, 0.0ms postprocess per image at shape (1, 3, 224, 224)\n",
      "\n",
      "0: 224x224 (no detections), 22.8ms\n",
      "Speed: 0.5ms preprocess, 22.8ms inference, 0.0ms postprocess per image at shape (1, 3, 224, 224)\n",
      "\n",
      "0: 224x224 (no detections), 24.3ms\n",
      "Speed: 0.0ms preprocess, 24.3ms inference, 0.5ms postprocess per image at shape (1, 3, 224, 224)\n",
      "\n",
      "0: 224x224 (no detections), 24.8ms\n",
      "Speed: 0.5ms preprocess, 24.8ms inference, 0.5ms postprocess per image at shape (1, 3, 224, 224)\n",
      "\n",
      "0: 224x224 1 pool, 23.8ms\n",
      "Speed: 0.5ms preprocess, 23.8ms inference, 0.5ms postprocess per image at shape (1, 3, 224, 224)\n",
      "\n",
      "0: 224x224 1 pool, 37.2ms\n",
      "Speed: 0.0ms preprocess, 37.2ms inference, 1.0ms postprocess per image at shape (1, 3, 224, 224)\n",
      "\n",
      "0: 224x224 2 pools, 40.7ms\n",
      "Speed: 4.5ms preprocess, 40.7ms inference, 1.0ms postprocess per image at shape (1, 3, 224, 224)\n",
      "\n",
      "0: 224x224 2 pools, 31.7ms\n",
      "Speed: 0.5ms preprocess, 31.7ms inference, 0.5ms postprocess per image at shape (1, 3, 224, 224)\n",
      "\n",
      "0: 224x224 (no detections), 28.3ms\n",
      "Speed: 0.5ms preprocess, 28.3ms inference, 0.0ms postprocess per image at shape (1, 3, 224, 224)\n",
      "\n",
      "0: 224x224 1 pool, 23.8ms\n",
      "Speed: 0.0ms preprocess, 23.8ms inference, 0.5ms postprocess per image at shape (1, 3, 224, 224)\n",
      "\n",
      "0: 224x224 (no detections), 22.3ms\n",
      "Speed: 0.5ms preprocess, 22.3ms inference, 0.5ms postprocess per image at shape (1, 3, 224, 224)\n",
      "\n",
      "0: 224x224 (no detections), 25.3ms\n",
      "Speed: 0.5ms preprocess, 25.3ms inference, 0.5ms postprocess per image at shape (1, 3, 224, 224)\n",
      "\n",
      "0: 224x224 (no detections), 22.8ms\n",
      "Speed: 0.5ms preprocess, 22.8ms inference, 0.5ms postprocess per image at shape (1, 3, 224, 224)\n",
      "\n",
      "0: 224x224 (no detections), 23.8ms\n",
      "Speed: 0.0ms preprocess, 23.8ms inference, 0.0ms postprocess per image at shape (1, 3, 224, 224)\n",
      "\n",
      "0: 224x224 (no detections), 24.8ms\n",
      "Speed: 0.5ms preprocess, 24.8ms inference, 0.5ms postprocess per image at shape (1, 3, 224, 224)\n",
      "\n",
      "0: 224x224 (no detections), 24.3ms\n",
      "Speed: 0.0ms preprocess, 24.3ms inference, 0.5ms postprocess per image at shape (1, 3, 224, 224)\n",
      "\n",
      "0: 224x224 (no detections), 23.8ms\n",
      "Speed: 0.0ms preprocess, 23.8ms inference, 0.5ms postprocess per image at shape (1, 3, 224, 224)\n",
      "\n",
      "0: 224x224 (no detections), 24.3ms\n",
      "Speed: 0.5ms preprocess, 24.3ms inference, 0.5ms postprocess per image at shape (1, 3, 224, 224)\n",
      "\n",
      "0: 224x224 (no detections), 28.3ms\n",
      "Speed: 0.5ms preprocess, 28.3ms inference, 0.0ms postprocess per image at shape (1, 3, 224, 224)\n",
      "\n",
      "0: 224x224 (no detections), 22.8ms\n",
      "Speed: 0.5ms preprocess, 22.8ms inference, 0.5ms postprocess per image at shape (1, 3, 224, 224)\n",
      "\n",
      "0: 224x224 (no detections), 69.4ms\n",
      "Speed: 0.0ms preprocess, 69.4ms inference, 0.5ms postprocess per image at shape (1, 3, 224, 224)\n",
      "\n",
      "0: 224x224 (no detections), 40.7ms\n",
      "Speed: 0.0ms preprocess, 40.7ms inference, 0.5ms postprocess per image at shape (1, 3, 224, 224)\n",
      "\n",
      "0: 224x224 (no detections), 26.3ms\n",
      "Speed: 0.5ms preprocess, 26.3ms inference, 0.5ms postprocess per image at shape (1, 3, 224, 224)\n",
      "\n",
      "0: 224x224 (no detections), 24.3ms\n",
      "Speed: 0.5ms preprocess, 24.3ms inference, 0.5ms postprocess per image at shape (1, 3, 224, 224)\n",
      "\n",
      "0: 224x224 (no detections), 24.3ms\n",
      "Speed: 0.5ms preprocess, 24.3ms inference, 0.5ms postprocess per image at shape (1, 3, 224, 224)\n",
      "\n",
      "0: 224x224 (no detections), 24.3ms\n",
      "Speed: 0.0ms preprocess, 24.3ms inference, 0.0ms postprocess per image at shape (1, 3, 224, 224)\n",
      "\n",
      "0: 224x224 1 pool, 25.3ms\n",
      "Speed: 0.0ms preprocess, 25.3ms inference, 0.5ms postprocess per image at shape (1, 3, 224, 224)\n",
      "\n",
      "0: 224x224 (no detections), 25.3ms\n",
      "Speed: 0.5ms preprocess, 25.3ms inference, 0.5ms postprocess per image at shape (1, 3, 224, 224)\n",
      "\n",
      "0: 224x224 (no detections), 26.3ms\n",
      "Speed: 0.5ms preprocess, 26.3ms inference, 0.5ms postprocess per image at shape (1, 3, 224, 224)\n",
      "\n",
      "0: 224x224 1 pool, 24.8ms\n",
      "Speed: 0.5ms preprocess, 24.8ms inference, 1.0ms postprocess per image at shape (1, 3, 224, 224)\n",
      "\n",
      "0: 224x224 (no detections), 32.7ms\n",
      "Speed: 0.5ms preprocess, 32.7ms inference, 0.5ms postprocess per image at shape (1, 3, 224, 224)\n",
      "\n",
      "0: 224x224 (no detections), 24.3ms\n",
      "Speed: 0.0ms preprocess, 24.3ms inference, 0.5ms postprocess per image at shape (1, 3, 224, 224)\n",
      "\n",
      "0: 224x224 (no detections), 27.8ms\n",
      "Speed: 0.5ms preprocess, 27.8ms inference, 0.0ms postprocess per image at shape (1, 3, 224, 224)\n",
      "\n",
      "0: 224x224 (no detections), 25.3ms\n",
      "Speed: 0.5ms preprocess, 25.3ms inference, 0.5ms postprocess per image at shape (1, 3, 224, 224)\n",
      "\n",
      "0: 224x224 (no detections), 30.8ms\n",
      "Speed: 0.5ms preprocess, 30.8ms inference, 0.5ms postprocess per image at shape (1, 3, 224, 224)\n",
      "\n",
      "0: 224x224 (no detections), 32.7ms\n",
      "Speed: 0.0ms preprocess, 32.7ms inference, 0.0ms postprocess per image at shape (1, 3, 224, 224)\n",
      "\n",
      "0: 224x224 (no detections), 22.3ms\n",
      "Speed: 0.5ms preprocess, 22.3ms inference, 0.5ms postprocess per image at shape (1, 3, 224, 224)\n",
      "\n",
      "0: 224x224 (no detections), 25.3ms\n",
      "Speed: 0.0ms preprocess, 25.3ms inference, 0.5ms postprocess per image at shape (1, 3, 224, 224)\n",
      "\n",
      "0: 224x224 (no detections), 24.8ms\n",
      "Speed: 0.0ms preprocess, 24.8ms inference, 0.0ms postprocess per image at shape (1, 3, 224, 224)\n",
      "\n",
      "0: 224x224 (no detections), 23.8ms\n",
      "Speed: 0.5ms preprocess, 23.8ms inference, 0.5ms postprocess per image at shape (1, 3, 224, 224)\n",
      "\n",
      "0: 224x224 (no detections), 23.8ms\n",
      "Speed: 0.0ms preprocess, 23.8ms inference, 0.0ms postprocess per image at shape (1, 3, 224, 224)\n",
      "\n",
      "0: 224x224 (no detections), 23.8ms\n",
      "Speed: 0.0ms preprocess, 23.8ms inference, 0.0ms postprocess per image at shape (1, 3, 224, 224)\n",
      "\n",
      "0: 224x224 (no detections), 24.8ms\n",
      "Speed: 0.5ms preprocess, 24.8ms inference, 0.5ms postprocess per image at shape (1, 3, 224, 224)\n",
      "\n",
      "0: 224x224 (no detections), 26.8ms\n",
      "Speed: 0.5ms preprocess, 26.8ms inference, 0.5ms postprocess per image at shape (1, 3, 224, 224)\n",
      "\n",
      "0: 224x224 (no detections), 29.8ms\n",
      "Speed: 0.0ms preprocess, 29.8ms inference, 0.0ms postprocess per image at shape (1, 3, 224, 224)\n",
      "\n",
      "0: 224x224 (no detections), 23.8ms\n",
      "Speed: 0.5ms preprocess, 23.8ms inference, 0.5ms postprocess per image at shape (1, 3, 224, 224)\n",
      "\n",
      "0: 224x224 (no detections), 25.8ms\n",
      "Speed: 0.5ms preprocess, 25.8ms inference, 0.5ms postprocess per image at shape (1, 3, 224, 224)\n",
      "\n",
      "0: 224x224 1 pool, 25.8ms\n",
      "Speed: 0.5ms preprocess, 25.8ms inference, 0.5ms postprocess per image at shape (1, 3, 224, 224)\n",
      "\n",
      "0: 224x224 (no detections), 22.8ms\n",
      "Speed: 0.5ms preprocess, 22.8ms inference, 0.5ms postprocess per image at shape (1, 3, 224, 224)\n",
      "\n",
      "0: 224x224 (no detections), 24.3ms\n",
      "Speed: 0.5ms preprocess, 24.3ms inference, 0.0ms postprocess per image at shape (1, 3, 224, 224)\n",
      "\n",
      "0: 224x224 (no detections), 23.8ms\n",
      "Speed: 0.5ms preprocess, 23.8ms inference, 0.0ms postprocess per image at shape (1, 3, 224, 224)\n",
      "\n",
      "0: 224x224 (no detections), 71.4ms\n",
      "Speed: 0.0ms preprocess, 71.4ms inference, 0.5ms postprocess per image at shape (1, 3, 224, 224)\n",
      "\n",
      "0: 224x224 (no detections), 29.8ms\n",
      "Speed: 1.0ms preprocess, 29.8ms inference, 0.5ms postprocess per image at shape (1, 3, 224, 224)\n",
      "\n",
      "0: 224x224 (no detections), 23.3ms\n",
      "Speed: 0.5ms preprocess, 23.3ms inference, 0.0ms postprocess per image at shape (1, 3, 224, 224)\n",
      "\n",
      "0: 224x224 (no detections), 21.8ms\n",
      "Speed: 0.5ms preprocess, 21.8ms inference, 0.5ms postprocess per image at shape (1, 3, 224, 224)\n",
      "\n",
      "0: 224x224 1 pool, 22.8ms\n",
      "Speed: 0.0ms preprocess, 22.8ms inference, 0.5ms postprocess per image at shape (1, 3, 224, 224)\n",
      "\n",
      "0: 224x224 1 pool, 22.8ms\n",
      "Speed: 0.5ms preprocess, 22.8ms inference, 0.5ms postprocess per image at shape (1, 3, 224, 224)\n",
      "\n",
      "0: 224x224 1 pool, 28.8ms\n",
      "Speed: 0.0ms preprocess, 28.8ms inference, 0.5ms postprocess per image at shape (1, 3, 224, 224)\n",
      "\n",
      "0: 224x224 1 pool, 22.8ms\n",
      "Speed: 0.5ms preprocess, 22.8ms inference, 1.0ms postprocess per image at shape (1, 3, 224, 224)\n",
      "\n",
      "0: 224x224 (no detections), 23.8ms\n",
      "Speed: 0.0ms preprocess, 23.8ms inference, 0.0ms postprocess per image at shape (1, 3, 224, 224)\n",
      "\n",
      "0: 224x224 (no detections), 24.8ms\n",
      "Speed: 0.0ms preprocess, 24.8ms inference, 0.0ms postprocess per image at shape (1, 3, 224, 224)\n",
      "\n",
      "0: 224x224 (no detections), 23.8ms\n",
      "Speed: 0.0ms preprocess, 23.8ms inference, 0.5ms postprocess per image at shape (1, 3, 224, 224)\n",
      "\n",
      "0: 224x224 1 pool, 23.3ms\n",
      "Speed: 0.0ms preprocess, 23.3ms inference, 0.5ms postprocess per image at shape (1, 3, 224, 224)\n",
      "\n",
      "0: 224x224 (no detections), 23.8ms\n",
      "Speed: 2.0ms preprocess, 23.8ms inference, 0.5ms postprocess per image at shape (1, 3, 224, 224)\n",
      "\n",
      "0: 224x224 (no detections), 23.8ms\n",
      "Speed: 0.5ms preprocess, 23.8ms inference, 0.5ms postprocess per image at shape (1, 3, 224, 224)\n",
      "\n",
      "0: 224x224 1 pool, 25.8ms\n",
      "Speed: 0.5ms preprocess, 25.8ms inference, 0.5ms postprocess per image at shape (1, 3, 224, 224)\n",
      "\n",
      "0: 224x224 (no detections), 22.8ms\n",
      "Speed: 0.0ms preprocess, 22.8ms inference, 0.5ms postprocess per image at shape (1, 3, 224, 224)\n",
      "\n",
      "0: 224x224 (no detections), 24.3ms\n",
      "Speed: 0.5ms preprocess, 24.3ms inference, 0.5ms postprocess per image at shape (1, 3, 224, 224)\n",
      "\n",
      "0: 224x224 (no detections), 22.3ms\n",
      "Speed: 0.5ms preprocess, 22.3ms inference, 0.5ms postprocess per image at shape (1, 3, 224, 224)\n",
      "\n",
      "0: 224x224 (no detections), 25.3ms\n",
      "Speed: 0.5ms preprocess, 25.3ms inference, 0.5ms postprocess per image at shape (1, 3, 224, 224)\n",
      "\n",
      "0: 224x224 (no detections), 23.8ms\n",
      "Speed: 0.0ms preprocess, 23.8ms inference, 0.5ms postprocess per image at shape (1, 3, 224, 224)\n",
      "\n",
      "0: 224x224 (no detections), 24.3ms\n",
      "Speed: 0.5ms preprocess, 24.3ms inference, 0.0ms postprocess per image at shape (1, 3, 224, 224)\n",
      "\n",
      "0: 224x224 (no detections), 22.8ms\n",
      "Speed: 0.5ms preprocess, 22.8ms inference, 0.0ms postprocess per image at shape (1, 3, 224, 224)\n",
      "\n",
      "0: 224x224 (no detections), 23.3ms\n",
      "Speed: 0.0ms preprocess, 23.3ms inference, 0.5ms postprocess per image at shape (1, 3, 224, 224)\n",
      "\n",
      "0: 224x224 1 pool, 23.3ms\n",
      "Speed: 0.0ms preprocess, 23.3ms inference, 0.5ms postprocess per image at shape (1, 3, 224, 224)\n",
      "\n",
      "0: 224x224 1 pool, 23.8ms\n",
      "Speed: 0.5ms preprocess, 23.8ms inference, 0.5ms postprocess per image at shape (1, 3, 224, 224)\n",
      "\n",
      "0: 224x224 (no detections), 24.3ms\n",
      "Speed: 0.5ms preprocess, 24.3ms inference, 0.5ms postprocess per image at shape (1, 3, 224, 224)\n",
      "\n",
      "0: 224x224 1 pool, 23.3ms\n",
      "Speed: 0.5ms preprocess, 23.3ms inference, 1.0ms postprocess per image at shape (1, 3, 224, 224)\n",
      "\n",
      "0: 224x224 (no detections), 23.3ms\n",
      "Speed: 0.5ms preprocess, 23.3ms inference, 0.0ms postprocess per image at shape (1, 3, 224, 224)\n",
      "\n",
      "0: 224x224 (no detections), 24.8ms\n",
      "Speed: 0.5ms preprocess, 24.8ms inference, 0.5ms postprocess per image at shape (1, 3, 224, 224)\n",
      "\n",
      "0: 224x224 (no detections), 22.3ms\n",
      "Speed: 0.0ms preprocess, 22.3ms inference, 0.5ms postprocess per image at shape (1, 3, 224, 224)\n",
      "\n",
      "0: 224x224 (no detections), 24.3ms\n",
      "Speed: 0.5ms preprocess, 24.3ms inference, 0.5ms postprocess per image at shape (1, 3, 224, 224)\n",
      "\n",
      "0: 224x224 (no detections), 27.8ms\n",
      "Speed: 0.5ms preprocess, 27.8ms inference, 0.5ms postprocess per image at shape (1, 3, 224, 224)\n",
      "\n",
      "0: 224x224 (no detections), 22.3ms\n",
      "Speed: 0.5ms preprocess, 22.3ms inference, 0.5ms postprocess per image at shape (1, 3, 224, 224)\n",
      "\n",
      "0: 224x224 (no detections), 81.3ms\n",
      "Speed: 0.0ms preprocess, 81.3ms inference, 0.5ms postprocess per image at shape (1, 3, 224, 224)\n",
      "\n",
      "0: 224x224 (no detections), 25.8ms\n",
      "Speed: 0.5ms preprocess, 25.8ms inference, 0.5ms postprocess per image at shape (1, 3, 224, 224)\n",
      "\n",
      "0: 224x224 1 pool, 22.8ms\n",
      "Speed: 0.5ms preprocess, 22.8ms inference, 1.0ms postprocess per image at shape (1, 3, 224, 224)\n",
      "\n",
      "0: 224x224 (no detections), 22.8ms\n",
      "Speed: 0.5ms preprocess, 22.8ms inference, 0.5ms postprocess per image at shape (1, 3, 224, 224)\n",
      "\n",
      "0: 224x224 1 pool, 23.3ms\n",
      "Speed: 0.5ms preprocess, 23.3ms inference, 0.5ms postprocess per image at shape (1, 3, 224, 224)\n",
      "\n",
      "0: 224x224 1 pool, 24.8ms\n",
      "Speed: 0.0ms preprocess, 24.8ms inference, 1.0ms postprocess per image at shape (1, 3, 224, 224)\n",
      "\n",
      "0: 224x224 (no detections), 23.8ms\n",
      "Speed: 0.0ms preprocess, 23.8ms inference, 1.0ms postprocess per image at shape (1, 3, 224, 224)\n",
      "\n",
      "0: 224x224 1 pool, 21.8ms\n",
      "Speed: 0.0ms preprocess, 21.8ms inference, 0.5ms postprocess per image at shape (1, 3, 224, 224)\n",
      "\n",
      "0: 224x224 (no detections), 22.3ms\n",
      "Speed: 0.5ms preprocess, 22.3ms inference, 0.5ms postprocess per image at shape (1, 3, 224, 224)\n",
      "\n",
      "0: 224x224 (no detections), 26.8ms\n",
      "Speed: 0.0ms preprocess, 26.8ms inference, 0.5ms postprocess per image at shape (1, 3, 224, 224)\n",
      "\n",
      "0: 224x224 (no detections), 23.3ms\n",
      "Speed: 0.5ms preprocess, 23.3ms inference, 0.5ms postprocess per image at shape (1, 3, 224, 224)\n",
      "\n",
      "0: 224x224 (no detections), 25.8ms\n",
      "Speed: 1.0ms preprocess, 25.8ms inference, 0.5ms postprocess per image at shape (1, 3, 224, 224)\n",
      "\n",
      "0: 224x224 (no detections), 23.8ms\n",
      "Speed: 0.0ms preprocess, 23.8ms inference, 0.5ms postprocess per image at shape (1, 3, 224, 224)\n",
      "\n",
      "0: 224x224 (no detections), 23.8ms\n",
      "Speed: 0.5ms preprocess, 23.8ms inference, 0.5ms postprocess per image at shape (1, 3, 224, 224)\n",
      "\n",
      "0: 224x224 (no detections), 22.8ms\n",
      "Speed: 0.0ms preprocess, 22.8ms inference, 0.5ms postprocess per image at shape (1, 3, 224, 224)\n",
      "\n",
      "0: 224x224 (no detections), 23.3ms\n",
      "Speed: 0.0ms preprocess, 23.3ms inference, 0.5ms postprocess per image at shape (1, 3, 224, 224)\n",
      "\n",
      "0: 224x224 (no detections), 24.8ms\n",
      "Speed: 0.5ms preprocess, 24.8ms inference, 1.0ms postprocess per image at shape (1, 3, 224, 224)\n",
      "\n",
      "0: 224x224 (no detections), 24.8ms\n",
      "Speed: 0.5ms preprocess, 24.8ms inference, 0.0ms postprocess per image at shape (1, 3, 224, 224)\n",
      "\n",
      "0: 224x224 (no detections), 24.8ms\n",
      "Speed: 0.0ms preprocess, 24.8ms inference, 0.5ms postprocess per image at shape (1, 3, 224, 224)\n",
      "\n",
      "0: 224x224 1 pool, 23.3ms\n",
      "Speed: 0.5ms preprocess, 23.3ms inference, 1.0ms postprocess per image at shape (1, 3, 224, 224)\n",
      "\n",
      "0: 224x224 1 pool, 22.3ms\n",
      "Speed: 0.0ms preprocess, 22.3ms inference, 1.0ms postprocess per image at shape (1, 3, 224, 224)\n",
      "\n",
      "0: 224x224 (no detections), 23.3ms\n",
      "Speed: 0.5ms preprocess, 23.3ms inference, 0.5ms postprocess per image at shape (1, 3, 224, 224)\n",
      "\n",
      "0: 224x224 (no detections), 23.8ms\n",
      "Speed: 0.0ms preprocess, 23.8ms inference, 0.5ms postprocess per image at shape (1, 3, 224, 224)\n",
      "\n",
      "0: 224x224 (no detections), 26.3ms\n",
      "Speed: 0.5ms preprocess, 26.3ms inference, 0.0ms postprocess per image at shape (1, 3, 224, 224)\n",
      "\n",
      "0: 224x224 1 pool, 24.8ms\n",
      "Speed: 0.5ms preprocess, 24.8ms inference, 0.5ms postprocess per image at shape (1, 3, 224, 224)\n",
      "\n",
      "0: 224x224 (no detections), 23.8ms\n",
      "Speed: 0.0ms preprocess, 23.8ms inference, 0.5ms postprocess per image at shape (1, 3, 224, 224)\n",
      "\n",
      "0: 224x224 (no detections), 23.8ms\n",
      "Speed: 0.0ms preprocess, 23.8ms inference, 0.5ms postprocess per image at shape (1, 3, 224, 224)\n",
      "\n",
      "0: 224x224 1 pool, 25.3ms\n",
      "Speed: 0.5ms preprocess, 25.3ms inference, 0.5ms postprocess per image at shape (1, 3, 224, 224)\n",
      "\n",
      "0: 224x224 (no detections), 27.3ms\n",
      "Speed: 0.0ms preprocess, 27.3ms inference, 0.0ms postprocess per image at shape (1, 3, 224, 224)\n",
      "\n",
      "0: 224x224 (no detections), 22.8ms\n",
      "Speed: 0.5ms preprocess, 22.8ms inference, 0.5ms postprocess per image at shape (1, 3, 224, 224)\n",
      "\n",
      "0: 224x224 (no detections), 22.8ms\n",
      "Speed: 0.5ms preprocess, 22.8ms inference, 0.5ms postprocess per image at shape (1, 3, 224, 224)\n",
      "\n",
      "0: 224x224 (no detections), 26.3ms\n",
      "Speed: 0.5ms preprocess, 26.3ms inference, 0.0ms postprocess per image at shape (1, 3, 224, 224)\n",
      "\n",
      "0: 224x224 (no detections), 24.3ms\n",
      "Speed: 0.5ms preprocess, 24.3ms inference, 0.5ms postprocess per image at shape (1, 3, 224, 224)\n",
      "\n",
      "0: 224x224 (no detections), 33.7ms\n",
      "Speed: 0.0ms preprocess, 33.7ms inference, 0.0ms postprocess per image at shape (1, 3, 224, 224)\n",
      "\n",
      "0: 224x224 (no detections), 101.2ms\n",
      "Speed: 0.5ms preprocess, 101.2ms inference, 0.5ms postprocess per image at shape (1, 3, 224, 224)\n",
      "\n",
      "0: 224x224 (no detections), 28.8ms\n",
      "Speed: 0.5ms preprocess, 28.8ms inference, 0.5ms postprocess per image at shape (1, 3, 224, 224)\n",
      "\n",
      "0: 224x224 (no detections), 22.8ms\n",
      "Speed: 0.5ms preprocess, 22.8ms inference, 0.5ms postprocess per image at shape (1, 3, 224, 224)\n",
      "\n",
      "0: 224x224 (no detections), 24.3ms\n",
      "Speed: 0.5ms preprocess, 24.3ms inference, 0.5ms postprocess per image at shape (1, 3, 224, 224)\n",
      "\n",
      "0: 224x224 (no detections), 23.3ms\n",
      "Speed: 0.5ms preprocess, 23.3ms inference, 0.0ms postprocess per image at shape (1, 3, 224, 224)\n",
      "\n",
      "0: 224x224 (no detections), 24.3ms\n",
      "Speed: 0.5ms preprocess, 24.3ms inference, 0.0ms postprocess per image at shape (1, 3, 224, 224)\n",
      "\n",
      "0: 224x224 (no detections), 23.8ms\n",
      "Speed: 0.5ms preprocess, 23.8ms inference, 0.5ms postprocess per image at shape (1, 3, 224, 224)\n",
      "\n",
      "0: 224x224 (no detections), 23.8ms\n",
      "Speed: 0.0ms preprocess, 23.8ms inference, 0.5ms postprocess per image at shape (1, 3, 224, 224)\n",
      "\n",
      "0: 224x224 (no detections), 23.8ms\n",
      "Speed: 0.5ms preprocess, 23.8ms inference, 0.5ms postprocess per image at shape (1, 3, 224, 224)\n",
      "\n",
      "0: 224x224 (no detections), 26.3ms\n",
      "Speed: 0.5ms preprocess, 26.3ms inference, 0.5ms postprocess per image at shape (1, 3, 224, 224)\n",
      "\n",
      "0: 224x224 (no detections), 28.3ms\n",
      "Speed: 0.5ms preprocess, 28.3ms inference, 1.5ms postprocess per image at shape (1, 3, 224, 224)\n",
      "\n",
      "0: 224x224 1 pool, 25.3ms\n",
      "Speed: 0.5ms preprocess, 25.3ms inference, 0.5ms postprocess per image at shape (1, 3, 224, 224)\n",
      "\n",
      "0: 224x224 (no detections), 23.8ms\n",
      "Speed: 0.5ms preprocess, 23.8ms inference, 0.5ms postprocess per image at shape (1, 3, 224, 224)\n",
      "\n",
      "0: 224x224 1 pool, 24.8ms\n",
      "Speed: 0.5ms preprocess, 24.8ms inference, 0.5ms postprocess per image at shape (1, 3, 224, 224)\n",
      "\n",
      "0: 224x224 (no detections), 25.3ms\n",
      "Speed: 0.0ms preprocess, 25.3ms inference, 0.5ms postprocess per image at shape (1, 3, 224, 224)\n",
      "\n",
      "0: 224x224 (no detections), 26.3ms\n",
      "Speed: 0.0ms preprocess, 26.3ms inference, 0.5ms postprocess per image at shape (1, 3, 224, 224)\n",
      "\n",
      "0: 224x224 1 pool, 24.8ms\n",
      "Speed: 0.5ms preprocess, 24.8ms inference, 1.0ms postprocess per image at shape (1, 3, 224, 224)\n",
      "\n",
      "0: 224x224 (no detections), 25.3ms\n",
      "Speed: 0.5ms preprocess, 25.3ms inference, 0.5ms postprocess per image at shape (1, 3, 224, 224)\n",
      "\n",
      "0: 224x224 2 pools, 25.3ms\n",
      "Speed: 0.0ms preprocess, 25.3ms inference, 0.5ms postprocess per image at shape (1, 3, 224, 224)\n",
      "\n",
      "0: 224x224 1 pool, 25.3ms\n",
      "Speed: 0.5ms preprocess, 25.3ms inference, 0.5ms postprocess per image at shape (1, 3, 224, 224)\n",
      "\n",
      "0: 224x224 (no detections), 24.8ms\n",
      "Speed: 0.5ms preprocess, 24.8ms inference, 0.5ms postprocess per image at shape (1, 3, 224, 224)\n",
      "\n",
      "0: 224x224 2 pools, 22.8ms\n",
      "Speed: 0.5ms preprocess, 22.8ms inference, 0.5ms postprocess per image at shape (1, 3, 224, 224)\n",
      "\n",
      "0: 224x224 (no detections), 34.2ms\n",
      "Speed: 0.0ms preprocess, 34.2ms inference, 0.5ms postprocess per image at shape (1, 3, 224, 224)\n",
      "\n",
      "0: 224x224 (no detections), 30.8ms\n",
      "Speed: 0.5ms preprocess, 30.8ms inference, 0.5ms postprocess per image at shape (1, 3, 224, 224)\n",
      "\n",
      "0: 224x224 1 pool, 30.3ms\n",
      "Speed: 0.5ms preprocess, 30.3ms inference, 1.0ms postprocess per image at shape (1, 3, 224, 224)\n",
      "\n",
      "0: 224x224 (no detections), 26.8ms\n",
      "Speed: 0.5ms preprocess, 26.8ms inference, 0.5ms postprocess per image at shape (1, 3, 224, 224)\n",
      "\n",
      "0: 224x224 1 pool, 39.7ms\n",
      "Speed: 0.5ms preprocess, 39.7ms inference, 1.0ms postprocess per image at shape (1, 3, 224, 224)\n",
      "\n",
      "0: 224x224 2 pools, 28.3ms\n",
      "Speed: 0.5ms preprocess, 28.3ms inference, 0.5ms postprocess per image at shape (1, 3, 224, 224)\n",
      "\n",
      "0: 224x224 1 pool, 23.3ms\n",
      "Speed: 0.5ms preprocess, 23.3ms inference, 0.5ms postprocess per image at shape (1, 3, 224, 224)\n",
      "\n",
      "0: 224x224 2 pools, 27.3ms\n",
      "Speed: 0.5ms preprocess, 27.3ms inference, 0.5ms postprocess per image at shape (1, 3, 224, 224)\n",
      "\n",
      "0: 224x224 1 pool, 25.8ms\n",
      "Speed: 0.5ms preprocess, 25.8ms inference, 0.5ms postprocess per image at shape (1, 3, 224, 224)\n",
      "\n",
      "0: 224x224 1 pool, 26.3ms\n",
      "Speed: 1.5ms preprocess, 26.3ms inference, 0.5ms postprocess per image at shape (1, 3, 224, 224)\n",
      "\n",
      "0: 224x224 (no detections), 25.3ms\n",
      "Speed: 0.5ms preprocess, 25.3ms inference, 0.5ms postprocess per image at shape (1, 3, 224, 224)\n",
      "\n",
      "0: 224x224 1 pool, 75.9ms\n",
      "Speed: 0.5ms preprocess, 75.9ms inference, 1.0ms postprocess per image at shape (1, 3, 224, 224)\n",
      "\n",
      "0: 224x224 (no detections), 28.3ms\n",
      "Speed: 0.5ms preprocess, 28.3ms inference, 0.5ms postprocess per image at shape (1, 3, 224, 224)\n",
      "\n",
      "0: 224x224 (no detections), 25.8ms\n",
      "Speed: 0.5ms preprocess, 25.8ms inference, 0.5ms postprocess per image at shape (1, 3, 224, 224)\n",
      "\n",
      "0: 224x224 (no detections), 23.8ms\n",
      "Speed: 0.0ms preprocess, 23.8ms inference, 0.5ms postprocess per image at shape (1, 3, 224, 224)\n",
      "\n",
      "0: 224x224 (no detections), 24.3ms\n",
      "Speed: 0.0ms preprocess, 24.3ms inference, 0.5ms postprocess per image at shape (1, 3, 224, 224)\n",
      "\n",
      "0: 224x224 (no detections), 24.3ms\n",
      "Speed: 0.5ms preprocess, 24.3ms inference, 0.5ms postprocess per image at shape (1, 3, 224, 224)\n",
      "\n",
      "0: 224x224 (no detections), 23.8ms\n",
      "Speed: 0.5ms preprocess, 23.8ms inference, 0.0ms postprocess per image at shape (1, 3, 224, 224)\n",
      "\n",
      "0: 224x224 (no detections), 29.8ms\n",
      "Speed: 0.5ms preprocess, 29.8ms inference, 0.5ms postprocess per image at shape (1, 3, 224, 224)\n",
      "\n",
      "0: 224x224 (no detections), 28.8ms\n",
      "Speed: 0.0ms preprocess, 28.8ms inference, 0.0ms postprocess per image at shape (1, 3, 224, 224)\n",
      "\n",
      "0: 224x224 (no detections), 23.3ms\n",
      "Speed: 0.5ms preprocess, 23.3ms inference, 0.5ms postprocess per image at shape (1, 3, 224, 224)\n",
      "\n",
      "0: 224x224 (no detections), 34.2ms\n",
      "Speed: 0.5ms preprocess, 34.2ms inference, 0.5ms postprocess per image at shape (1, 3, 224, 224)\n",
      "\n",
      "0: 224x224 (no detections), 28.3ms\n",
      "Speed: 0.5ms preprocess, 28.3ms inference, 0.0ms postprocess per image at shape (1, 3, 224, 224)\n",
      "\n",
      "0: 224x224 1 pool, 33.7ms\n",
      "Speed: 0.0ms preprocess, 33.7ms inference, 1.0ms postprocess per image at shape (1, 3, 224, 224)\n",
      "\n",
      "0: 224x224 (no detections), 22.8ms\n",
      "Speed: 0.5ms preprocess, 22.8ms inference, 0.5ms postprocess per image at shape (1, 3, 224, 224)\n",
      "\n",
      "0: 224x224 (no detections), 23.8ms\n",
      "Speed: 0.0ms preprocess, 23.8ms inference, 0.5ms postprocess per image at shape (1, 3, 224, 224)\n",
      "\n",
      "0: 224x224 1 pool, 23.8ms\n",
      "Speed: 0.5ms preprocess, 23.8ms inference, 1.0ms postprocess per image at shape (1, 3, 224, 224)\n",
      "\n",
      "0: 224x224 1 pool, 24.3ms\n",
      "Speed: 0.5ms preprocess, 24.3ms inference, 0.5ms postprocess per image at shape (1, 3, 224, 224)\n",
      "\n",
      "0: 224x224 (no detections), 23.3ms\n",
      "Speed: 0.5ms preprocess, 23.3ms inference, 0.5ms postprocess per image at shape (1, 3, 224, 224)\n",
      "\n",
      "0: 224x224 (no detections), 24.3ms\n",
      "Speed: 0.5ms preprocess, 24.3ms inference, 0.0ms postprocess per image at shape (1, 3, 224, 224)\n",
      "\n",
      "0: 224x224 (no detections), 22.8ms\n",
      "Speed: 0.5ms preprocess, 22.8ms inference, 0.5ms postprocess per image at shape (1, 3, 224, 224)\n",
      "\n",
      "0: 224x224 (no detections), 23.3ms\n",
      "Speed: 0.5ms preprocess, 23.3ms inference, 0.5ms postprocess per image at shape (1, 3, 224, 224)\n",
      "\n",
      "0: 224x224 (no detections), 23.8ms\n",
      "Speed: 0.0ms preprocess, 23.8ms inference, 0.5ms postprocess per image at shape (1, 3, 224, 224)\n",
      "\n",
      "0: 224x224 (no detections), 23.3ms\n",
      "Speed: 0.0ms preprocess, 23.3ms inference, 0.0ms postprocess per image at shape (1, 3, 224, 224)\n",
      "\n",
      "0: 224x224 (no detections), 30.3ms\n",
      "Speed: 0.5ms preprocess, 30.3ms inference, 0.5ms postprocess per image at shape (1, 3, 224, 224)\n",
      "\n",
      "0: 224x224 (no detections), 24.3ms\n",
      "Speed: 0.5ms preprocess, 24.3ms inference, 0.0ms postprocess per image at shape (1, 3, 224, 224)\n",
      "\n",
      "0: 224x224 (no detections), 25.3ms\n",
      "Speed: 0.5ms preprocess, 25.3ms inference, 0.5ms postprocess per image at shape (1, 3, 224, 224)\n",
      "\n",
      "0: 224x224 (no detections), 23.3ms\n",
      "Speed: 0.0ms preprocess, 23.3ms inference, 0.5ms postprocess per image at shape (1, 3, 224, 224)\n",
      "\n",
      "0: 224x224 (no detections), 24.3ms\n",
      "Speed: 0.0ms preprocess, 24.3ms inference, 0.0ms postprocess per image at shape (1, 3, 224, 224)\n",
      "\n",
      "0: 224x224 (no detections), 24.3ms\n",
      "Speed: 0.5ms preprocess, 24.3ms inference, 0.0ms postprocess per image at shape (1, 3, 224, 224)\n",
      "\n",
      "0: 224x224 (no detections), 24.3ms\n",
      "Speed: 0.5ms preprocess, 24.3ms inference, 0.5ms postprocess per image at shape (1, 3, 224, 224)\n",
      "\n",
      "0: 224x224 1 pool, 60.5ms\n",
      "Speed: 0.5ms preprocess, 60.5ms inference, 1.0ms postprocess per image at shape (1, 3, 224, 224)\n",
      "\n",
      "0: 224x224 (no detections), 29.3ms\n",
      "Speed: 0.5ms preprocess, 29.3ms inference, 0.0ms postprocess per image at shape (1, 3, 224, 224)\n",
      "\n",
      "0: 224x224 (no detections), 26.8ms\n",
      "Speed: 0.0ms preprocess, 26.8ms inference, 0.5ms postprocess per image at shape (1, 3, 224, 224)\n",
      "\n",
      "0: 224x224 (no detections), 24.3ms\n",
      "Speed: 0.5ms preprocess, 24.3ms inference, 0.5ms postprocess per image at shape (1, 3, 224, 224)\n",
      "\n",
      "0: 224x224 (no detections), 30.8ms\n",
      "Speed: 0.5ms preprocess, 30.8ms inference, 0.5ms postprocess per image at shape (1, 3, 224, 224)\n",
      "\n",
      "0: 224x224 2 pools, 22.3ms\n",
      "Speed: 0.0ms preprocess, 22.3ms inference, 0.5ms postprocess per image at shape (1, 3, 224, 224)\n",
      "\n",
      "0: 224x224 (no detections), 23.3ms\n",
      "Speed: 0.5ms preprocess, 23.3ms inference, 1.0ms postprocess per image at shape (1, 3, 224, 224)\n",
      "\n",
      "0: 224x224 1 pool, 23.3ms\n",
      "Speed: 0.0ms preprocess, 23.3ms inference, 0.5ms postprocess per image at shape (1, 3, 224, 224)\n",
      "\n",
      "0: 224x224 2 pools, 24.3ms\n",
      "Speed: 0.5ms preprocess, 24.3ms inference, 0.5ms postprocess per image at shape (1, 3, 224, 224)\n",
      "\n",
      "0: 224x224 (no detections), 23.8ms\n",
      "Speed: 0.5ms preprocess, 23.8ms inference, 0.0ms postprocess per image at shape (1, 3, 224, 224)\n",
      "\n",
      "0: 224x224 2 pools, 22.8ms\n",
      "Speed: 0.5ms preprocess, 22.8ms inference, 0.5ms postprocess per image at shape (1, 3, 224, 224)\n",
      "\n",
      "0: 224x224 1 pool, 24.3ms\n",
      "Speed: 0.5ms preprocess, 24.3ms inference, 1.0ms postprocess per image at shape (1, 3, 224, 224)\n",
      "\n",
      "0: 224x224 (no detections), 22.3ms\n",
      "Speed: 0.5ms preprocess, 22.3ms inference, 0.5ms postprocess per image at shape (1, 3, 224, 224)\n",
      "\n",
      "0: 224x224 1 pool, 23.3ms\n",
      "Speed: 0.5ms preprocess, 23.3ms inference, 0.5ms postprocess per image at shape (1, 3, 224, 224)\n",
      "\n",
      "0: 224x224 (no detections), 24.8ms\n",
      "Speed: 0.0ms preprocess, 24.8ms inference, 0.5ms postprocess per image at shape (1, 3, 224, 224)\n",
      "\n",
      "0: 224x224 1 pool, 29.3ms\n",
      "Speed: 0.5ms preprocess, 29.3ms inference, 0.5ms postprocess per image at shape (1, 3, 224, 224)\n",
      "\n",
      "0: 224x224 (no detections), 22.3ms\n",
      "Speed: 0.5ms preprocess, 22.3ms inference, 0.5ms postprocess per image at shape (1, 3, 224, 224)\n",
      "\n",
      "0: 224x224 (no detections), 22.8ms\n",
      "Speed: 0.5ms preprocess, 22.8ms inference, 0.5ms postprocess per image at shape (1, 3, 224, 224)\n",
      "\n",
      "0: 224x224 1 pool, 23.3ms\n",
      "Speed: 0.5ms preprocess, 23.3ms inference, 0.5ms postprocess per image at shape (1, 3, 224, 224)\n",
      "\n",
      "0: 224x224 (no detections), 26.8ms\n",
      "Speed: 0.5ms preprocess, 26.8ms inference, 0.0ms postprocess per image at shape (1, 3, 224, 224)\n",
      "\n",
      "0: 224x224 (no detections), 24.3ms\n",
      "Speed: 0.0ms preprocess, 24.3ms inference, 0.0ms postprocess per image at shape (1, 3, 224, 224)\n",
      "\n",
      "0: 224x224 (no detections), 23.3ms\n",
      "Speed: 0.0ms preprocess, 23.3ms inference, 0.5ms postprocess per image at shape (1, 3, 224, 224)\n",
      "\n",
      "0: 224x224 (no detections), 23.3ms\n",
      "Speed: 0.5ms preprocess, 23.3ms inference, 0.5ms postprocess per image at shape (1, 3, 224, 224)\n",
      "\n",
      "0: 224x224 (no detections), 25.3ms\n",
      "Speed: 0.5ms preprocess, 25.3ms inference, 0.5ms postprocess per image at shape (1, 3, 224, 224)\n",
      "\n",
      "0: 224x224 (no detections), 25.3ms\n",
      "Speed: 0.0ms preprocess, 25.3ms inference, 0.0ms postprocess per image at shape (1, 3, 224, 224)\n",
      "\n",
      "0: 224x224 (no detections), 24.8ms\n",
      "Speed: 0.0ms preprocess, 24.8ms inference, 0.5ms postprocess per image at shape (1, 3, 224, 224)\n",
      "\n",
      "0: 224x224 (no detections), 24.3ms\n",
      "Speed: 0.5ms preprocess, 24.3ms inference, 0.5ms postprocess per image at shape (1, 3, 224, 224)\n",
      "\n",
      "0: 224x224 (no detections), 26.8ms\n",
      "Speed: 0.5ms preprocess, 26.8ms inference, 0.0ms postprocess per image at shape (1, 3, 224, 224)\n",
      "\n",
      "0: 224x224 (no detections), 26.3ms\n",
      "Speed: 0.5ms preprocess, 26.3ms inference, 0.5ms postprocess per image at shape (1, 3, 224, 224)\n",
      "\n",
      "0: 224x224 (no detections), 22.8ms\n",
      "Speed: 0.0ms preprocess, 22.8ms inference, 0.5ms postprocess per image at shape (1, 3, 224, 224)\n",
      "\n",
      "0: 224x224 1 pool, 22.8ms\n",
      "Speed: 0.5ms preprocess, 22.8ms inference, 0.5ms postprocess per image at shape (1, 3, 224, 224)\n",
      "\n",
      "0: 224x224 (no detections), 67.5ms\n",
      "Speed: 0.5ms preprocess, 67.5ms inference, 0.5ms postprocess per image at shape (1, 3, 224, 224)\n",
      "\n",
      "0: 224x224 (no detections), 31.7ms\n",
      "Speed: 0.5ms preprocess, 31.7ms inference, 0.0ms postprocess per image at shape (1, 3, 224, 224)\n",
      "\n",
      "0: 224x224 1 pool, 25.3ms\n",
      "Speed: 0.0ms preprocess, 25.3ms inference, 0.5ms postprocess per image at shape (1, 3, 224, 224)\n",
      "\n",
      "0: 224x224 1 pool, 24.3ms\n",
      "Speed: 0.0ms preprocess, 24.3ms inference, 0.5ms postprocess per image at shape (1, 3, 224, 224)\n",
      "\n",
      "0: 224x224 (no detections), 23.3ms\n",
      "Speed: 0.5ms preprocess, 23.3ms inference, 0.5ms postprocess per image at shape (1, 3, 224, 224)\n",
      "\n",
      "0: 224x224 (no detections), 24.3ms\n",
      "Speed: 0.5ms preprocess, 24.3ms inference, 0.0ms postprocess per image at shape (1, 3, 224, 224)\n",
      "\n",
      "0: 224x224 (no detections), 30.3ms\n",
      "Speed: 0.5ms preprocess, 30.3ms inference, 0.0ms postprocess per image at shape (1, 3, 224, 224)\n",
      "\n",
      "0: 224x224 (no detections), 23.3ms\n",
      "Speed: 0.0ms preprocess, 23.3ms inference, 0.0ms postprocess per image at shape (1, 3, 224, 224)\n",
      "\n",
      "0: 224x224 (no detections), 23.3ms\n",
      "Speed: 0.5ms preprocess, 23.3ms inference, 0.5ms postprocess per image at shape (1, 3, 224, 224)\n",
      "\n",
      "0: 224x224 (no detections), 24.3ms\n",
      "Speed: 0.5ms preprocess, 24.3ms inference, 0.0ms postprocess per image at shape (1, 3, 224, 224)\n",
      "\n",
      "0: 224x224 (no detections), 23.8ms\n",
      "Speed: 0.0ms preprocess, 23.8ms inference, 0.5ms postprocess per image at shape (1, 3, 224, 224)\n",
      "\n",
      "0: 224x224 (no detections), 23.8ms\n",
      "Speed: 0.5ms preprocess, 23.8ms inference, 1.0ms postprocess per image at shape (1, 3, 224, 224)\n",
      "\n",
      "0: 224x224 1 pool, 23.8ms\n",
      "Speed: 0.0ms preprocess, 23.8ms inference, 0.5ms postprocess per image at shape (1, 3, 224, 224)\n",
      "\n",
      "0: 224x224 (no detections), 38.2ms\n",
      "Speed: 2.0ms preprocess, 38.2ms inference, 0.0ms postprocess per image at shape (1, 3, 224, 224)\n",
      "\n",
      "0: 224x224 1 pool, 28.3ms\n",
      "Speed: 0.5ms preprocess, 28.3ms inference, 1.0ms postprocess per image at shape (1, 3, 224, 224)\n",
      "\n",
      "0: 224x224 (no detections), 35.2ms\n",
      "Speed: 0.5ms preprocess, 35.2ms inference, 0.5ms postprocess per image at shape (1, 3, 224, 224)\n",
      "\n",
      "0: 224x224 (no detections), 30.3ms\n",
      "Speed: 0.0ms preprocess, 30.3ms inference, 0.5ms postprocess per image at shape (1, 3, 224, 224)\n",
      "\n",
      "0: 224x224 (no detections), 24.3ms\n",
      "Speed: 0.0ms preprocess, 24.3ms inference, 0.0ms postprocess per image at shape (1, 3, 224, 224)\n",
      "\n",
      "0: 224x224 (no detections), 24.8ms\n",
      "Speed: 0.0ms preprocess, 24.8ms inference, 0.5ms postprocess per image at shape (1, 3, 224, 224)\n",
      "\n",
      "0: 224x224 (no detections), 24.3ms\n",
      "Speed: 0.0ms preprocess, 24.3ms inference, 0.5ms postprocess per image at shape (1, 3, 224, 224)\n",
      "\n",
      "0: 224x224 1 pool, 23.3ms\n",
      "Speed: 0.0ms preprocess, 23.3ms inference, 0.5ms postprocess per image at shape (1, 3, 224, 224)\n",
      "\n",
      "0: 224x224 1 pool, 23.3ms\n",
      "Speed: 0.0ms preprocess, 23.3ms inference, 0.5ms postprocess per image at shape (1, 3, 224, 224)\n",
      "\n",
      "0: 224x224 (no detections), 24.3ms\n",
      "Speed: 0.5ms preprocess, 24.3ms inference, 0.5ms postprocess per image at shape (1, 3, 224, 224)\n",
      "\n",
      "0: 224x224 (no detections), 24.3ms\n",
      "Speed: 0.5ms preprocess, 24.3ms inference, 0.0ms postprocess per image at shape (1, 3, 224, 224)\n",
      "\n",
      "0: 224x224 (no detections), 22.3ms\n",
      "Speed: 0.5ms preprocess, 22.3ms inference, 0.5ms postprocess per image at shape (1, 3, 224, 224)\n",
      "\n",
      "0: 224x224 2 pools, 28.8ms\n",
      "Speed: 0.5ms preprocess, 28.8ms inference, 0.5ms postprocess per image at shape (1, 3, 224, 224)\n",
      "\n",
      "0: 224x224 (no detections), 38.7ms\n",
      "Speed: 5.0ms preprocess, 38.7ms inference, 0.0ms postprocess per image at shape (1, 3, 224, 224)\n",
      "\n",
      "0: 224x224 1 pool, 26.8ms\n",
      "Speed: 0.5ms preprocess, 26.8ms inference, 0.5ms postprocess per image at shape (1, 3, 224, 224)\n",
      "\n",
      "0: 224x224 2 pools, 26.3ms\n",
      "Speed: 0.0ms preprocess, 26.3ms inference, 1.0ms postprocess per image at shape (1, 3, 224, 224)\n",
      "\n",
      "0: 224x224 (no detections), 26.3ms\n",
      "Speed: 0.0ms preprocess, 26.3ms inference, 0.5ms postprocess per image at shape (1, 3, 224, 224)\n",
      "\n",
      "0: 224x224 1 pool, 28.3ms\n",
      "Speed: 0.0ms preprocess, 28.3ms inference, 0.5ms postprocess per image at shape (1, 3, 224, 224)\n",
      "\n",
      "0: 224x224 (no detections), 26.3ms\n",
      "Speed: 0.0ms preprocess, 26.3ms inference, 0.0ms postprocess per image at shape (1, 3, 224, 224)\n",
      "\n",
      "0: 224x224 (no detections), 24.8ms\n",
      "Speed: 0.5ms preprocess, 24.8ms inference, 0.5ms postprocess per image at shape (1, 3, 224, 224)\n",
      "\n",
      "0: 224x224 (no detections), 27.3ms\n",
      "Speed: 0.0ms preprocess, 27.3ms inference, 0.5ms postprocess per image at shape (1, 3, 224, 224)\n",
      "\n",
      "0: 224x224 (no detections), 25.3ms\n",
      "Speed: 0.0ms preprocess, 25.3ms inference, 0.5ms postprocess per image at shape (1, 3, 224, 224)\n",
      "\n",
      "0: 224x224 (no detections), 26.8ms\n",
      "Speed: 0.5ms preprocess, 26.8ms inference, 0.5ms postprocess per image at shape (1, 3, 224, 224)\n",
      "\n",
      "0: 224x224 (no detections), 29.8ms\n",
      "Speed: 0.5ms preprocess, 29.8ms inference, 0.0ms postprocess per image at shape (1, 3, 224, 224)\n",
      "\n",
      "0: 224x224 (no detections), 26.3ms\n",
      "Speed: 0.5ms preprocess, 26.3ms inference, 0.0ms postprocess per image at shape (1, 3, 224, 224)\n",
      "\n",
      "0: 224x224 (no detections), 26.8ms\n",
      "Speed: 0.0ms preprocess, 26.8ms inference, 0.5ms postprocess per image at shape (1, 3, 224, 224)\n",
      "\n",
      "0: 224x224 (no detections), 37.2ms\n",
      "Speed: 0.5ms preprocess, 37.2ms inference, 0.0ms postprocess per image at shape (1, 3, 224, 224)\n",
      "\n",
      "0: 224x224 (no detections), 26.3ms\n",
      "Speed: 0.0ms preprocess, 26.3ms inference, 0.5ms postprocess per image at shape (1, 3, 224, 224)\n",
      "\n",
      "0: 224x224 (no detections), 23.8ms\n",
      "Speed: 0.5ms preprocess, 23.8ms inference, 0.5ms postprocess per image at shape (1, 3, 224, 224)\n",
      "\n",
      "0: 224x224 (no detections), 22.3ms\n",
      "Speed: 0.5ms preprocess, 22.3ms inference, 0.5ms postprocess per image at shape (1, 3, 224, 224)\n",
      "\n",
      "0: 224x224 (no detections), 25.3ms\n",
      "Speed: 0.0ms preprocess, 25.3ms inference, 0.0ms postprocess per image at shape (1, 3, 224, 224)\n",
      "\n",
      "0: 224x224 1 pool, 23.8ms\n",
      "Speed: 0.0ms preprocess, 23.8ms inference, 1.0ms postprocess per image at shape (1, 3, 224, 224)\n",
      "\n",
      "0: 224x224 1 pool, 22.3ms\n",
      "Speed: 0.5ms preprocess, 22.3ms inference, 0.5ms postprocess per image at shape (1, 3, 224, 224)\n",
      "\n",
      "0: 224x224 1 pool, 25.8ms\n",
      "Speed: 0.5ms preprocess, 25.8ms inference, 1.0ms postprocess per image at shape (1, 3, 224, 224)\n",
      "\n",
      "0: 224x224 1 pool, 24.3ms\n",
      "Speed: 0.5ms preprocess, 24.3ms inference, 0.5ms postprocess per image at shape (1, 3, 224, 224)\n",
      "\n",
      "0: 224x224 (no detections), 23.8ms\n",
      "Speed: 0.5ms preprocess, 23.8ms inference, 0.0ms postprocess per image at shape (1, 3, 224, 224)\n",
      "\n",
      "0: 224x224 (no detections), 23.3ms\n",
      "Speed: 0.5ms preprocess, 23.3ms inference, 0.0ms postprocess per image at shape (1, 3, 224, 224)\n",
      "\n",
      "0: 224x224 (no detections), 24.3ms\n",
      "Speed: 0.5ms preprocess, 24.3ms inference, 0.5ms postprocess per image at shape (1, 3, 224, 224)\n",
      "\n",
      "0: 224x224 (no detections), 23.8ms\n",
      "Speed: 0.0ms preprocess, 23.8ms inference, 0.0ms postprocess per image at shape (1, 3, 224, 224)\n",
      "\n",
      "0: 224x224 (no detections), 68.9ms\n",
      "Speed: 0.5ms preprocess, 68.9ms inference, 0.5ms postprocess per image at shape (1, 3, 224, 224)\n",
      "\n",
      "0: 224x224 (no detections), 27.8ms\n",
      "Speed: 6.9ms preprocess, 27.8ms inference, 1.0ms postprocess per image at shape (1, 3, 224, 224)\n",
      "\n",
      "0: 224x224 (no detections), 24.8ms\n",
      "Speed: 0.5ms preprocess, 24.8ms inference, 0.5ms postprocess per image at shape (1, 3, 224, 224)\n",
      "\n",
      "0: 224x224 (no detections), 25.3ms\n",
      "Speed: 0.5ms preprocess, 25.3ms inference, 0.5ms postprocess per image at shape (1, 3, 224, 224)\n",
      "\n",
      "0: 224x224 (no detections), 22.8ms\n",
      "Speed: 0.5ms preprocess, 22.8ms inference, 0.0ms postprocess per image at shape (1, 3, 224, 224)\n",
      "\n",
      "0: 224x224 (no detections), 33.7ms\n",
      "Speed: 0.5ms preprocess, 33.7ms inference, 0.5ms postprocess per image at shape (1, 3, 224, 224)\n",
      "\n",
      "0: 224x224 (no detections), 26.3ms\n",
      "Speed: 0.5ms preprocess, 26.3ms inference, 0.5ms postprocess per image at shape (1, 3, 224, 224)\n",
      "\n",
      "0: 224x224 (no detections), 25.8ms\n",
      "Speed: 0.5ms preprocess, 25.8ms inference, 0.5ms postprocess per image at shape (1, 3, 224, 224)\n",
      "\n",
      "0: 224x224 (no detections), 24.8ms\n",
      "Speed: 0.5ms preprocess, 24.8ms inference, 0.0ms postprocess per image at shape (1, 3, 224, 224)\n",
      "\n",
      "0: 224x224 (no detections), 23.3ms\n",
      "Speed: 0.0ms preprocess, 23.3ms inference, 0.5ms postprocess per image at shape (1, 3, 224, 224)\n",
      "\n",
      "0: 224x224 (no detections), 24.3ms\n",
      "Speed: 0.5ms preprocess, 24.3ms inference, 0.5ms postprocess per image at shape (1, 3, 224, 224)\n",
      "\n",
      "0: 224x224 (no detections), 23.3ms\n",
      "Speed: 0.0ms preprocess, 23.3ms inference, 0.5ms postprocess per image at shape (1, 3, 224, 224)\n",
      "\n",
      "0: 224x224 (no detections), 23.3ms\n",
      "Speed: 0.0ms preprocess, 23.3ms inference, 0.5ms postprocess per image at shape (1, 3, 224, 224)\n",
      "\n",
      "0: 224x224 (no detections), 24.3ms\n",
      "Speed: 0.5ms preprocess, 24.3ms inference, 0.5ms postprocess per image at shape (1, 3, 224, 224)\n",
      "\n",
      "0: 224x224 (no detections), 30.3ms\n",
      "Speed: 0.5ms preprocess, 30.3ms inference, 0.5ms postprocess per image at shape (1, 3, 224, 224)\n",
      "\n",
      "0: 224x224 (no detections), 23.3ms\n",
      "Speed: 0.5ms preprocess, 23.3ms inference, 0.0ms postprocess per image at shape (1, 3, 224, 224)\n",
      "\n",
      "0: 224x224 (no detections), 22.8ms\n",
      "Speed: 0.5ms preprocess, 22.8ms inference, 0.5ms postprocess per image at shape (1, 3, 224, 224)\n",
      "\n",
      "0: 224x224 (no detections), 22.8ms\n",
      "Speed: 0.0ms preprocess, 22.8ms inference, 0.5ms postprocess per image at shape (1, 3, 224, 224)\n",
      "\n",
      "0: 224x224 (no detections), 22.8ms\n",
      "Speed: 0.0ms preprocess, 22.8ms inference, 0.5ms postprocess per image at shape (1, 3, 224, 224)\n",
      "\n",
      "0: 224x224 (no detections), 24.3ms\n",
      "Speed: 0.0ms preprocess, 24.3ms inference, 0.5ms postprocess per image at shape (1, 3, 224, 224)\n",
      "\n",
      "0: 224x224 1 pool, 24.8ms\n",
      "Speed: 0.5ms preprocess, 24.8ms inference, 0.5ms postprocess per image at shape (1, 3, 224, 224)\n",
      "\n",
      "0: 224x224 (no detections), 23.3ms\n",
      "Speed: 0.0ms preprocess, 23.3ms inference, 0.0ms postprocess per image at shape (1, 3, 224, 224)\n",
      "\n",
      "0: 224x224 (no detections), 22.8ms\n",
      "Speed: 0.5ms preprocess, 22.8ms inference, 0.5ms postprocess per image at shape (1, 3, 224, 224)\n",
      "\n",
      "0: 224x224 (no detections), 23.8ms\n",
      "Speed: 0.0ms preprocess, 23.8ms inference, 0.5ms postprocess per image at shape (1, 3, 224, 224)\n",
      "\n",
      "0: 224x224 (no detections), 24.8ms\n",
      "Speed: 0.5ms preprocess, 24.8ms inference, 0.5ms postprocess per image at shape (1, 3, 224, 224)\n",
      "\n",
      "0: 224x224 (no detections), 23.3ms\n",
      "Speed: 0.5ms preprocess, 23.3ms inference, 0.0ms postprocess per image at shape (1, 3, 224, 224)\n",
      "\n",
      "0: 224x224 (no detections), 22.8ms\n",
      "Speed: 0.5ms preprocess, 22.8ms inference, 0.5ms postprocess per image at shape (1, 3, 224, 224)\n",
      "\n",
      "0: 224x224 (no detections), 23.3ms\n",
      "Speed: 1.0ms preprocess, 23.3ms inference, 0.5ms postprocess per image at shape (1, 3, 224, 224)\n",
      "\n",
      "0: 224x224 (no detections), 22.3ms\n",
      "Speed: 0.5ms preprocess, 22.3ms inference, 0.5ms postprocess per image at shape (1, 3, 224, 224)\n",
      "\n",
      "0: 224x224 (no detections), 25.3ms\n",
      "Speed: 0.5ms preprocess, 25.3ms inference, 0.0ms postprocess per image at shape (1, 3, 224, 224)\n",
      "\n",
      "0: 224x224 (no detections), 64.5ms\n",
      "Speed: 0.5ms preprocess, 64.5ms inference, 0.5ms postprocess per image at shape (1, 3, 224, 224)\n",
      "\n",
      "0: 224x224 (no detections), 23.8ms\n",
      "Speed: 0.5ms preprocess, 23.8ms inference, 0.0ms postprocess per image at shape (1, 3, 224, 224)\n",
      "\n",
      "0: 224x224 (no detections), 24.8ms\n",
      "Speed: 0.5ms preprocess, 24.8ms inference, 0.5ms postprocess per image at shape (1, 3, 224, 224)\n",
      "\n",
      "0: 224x224 (no detections), 22.3ms\n",
      "Speed: 0.5ms preprocess, 22.3ms inference, 0.0ms postprocess per image at shape (1, 3, 224, 224)\n",
      "\n",
      "0: 224x224 (no detections), 23.8ms\n",
      "Speed: 0.5ms preprocess, 23.8ms inference, 0.5ms postprocess per image at shape (1, 3, 224, 224)\n",
      "\n",
      "0: 224x224 (no detections), 23.3ms\n",
      "Speed: 0.5ms preprocess, 23.3ms inference, 0.5ms postprocess per image at shape (1, 3, 224, 224)\n",
      "\n",
      "0: 224x224 (no detections), 23.8ms\n",
      "Speed: 0.5ms preprocess, 23.8ms inference, 0.5ms postprocess per image at shape (1, 3, 224, 224)\n",
      "\n",
      "0: 224x224 (no detections), 29.3ms\n",
      "Speed: 0.0ms preprocess, 29.3ms inference, 0.5ms postprocess per image at shape (1, 3, 224, 224)\n",
      "\n",
      "0: 224x224 (no detections), 22.8ms\n",
      "Speed: 0.5ms preprocess, 22.8ms inference, 0.5ms postprocess per image at shape (1, 3, 224, 224)\n",
      "\n",
      "0: 224x224 (no detections), 25.3ms\n",
      "Speed: 0.5ms preprocess, 25.3ms inference, 0.5ms postprocess per image at shape (1, 3, 224, 224)\n",
      "\n",
      "0: 224x224 (no detections), 25.8ms\n",
      "Speed: 0.5ms preprocess, 25.8ms inference, 0.5ms postprocess per image at shape (1, 3, 224, 224)\n",
      "\n",
      "0: 224x224 (no detections), 22.8ms\n",
      "Speed: 0.0ms preprocess, 22.8ms inference, 0.5ms postprocess per image at shape (1, 3, 224, 224)\n",
      "\n",
      "0: 224x224 (no detections), 28.3ms\n",
      "Speed: 0.5ms preprocess, 28.3ms inference, 0.5ms postprocess per image at shape (1, 3, 224, 224)\n",
      "\n",
      "0: 224x224 (no detections), 23.8ms\n",
      "Speed: 0.0ms preprocess, 23.8ms inference, 0.5ms postprocess per image at shape (1, 3, 224, 224)\n",
      "\n",
      "0: 224x224 (no detections), 24.8ms\n",
      "Speed: 0.0ms preprocess, 24.8ms inference, 0.0ms postprocess per image at shape (1, 3, 224, 224)\n",
      "\n",
      "0: 224x224 (no detections), 23.3ms\n",
      "Speed: 0.0ms preprocess, 23.3ms inference, 0.5ms postprocess per image at shape (1, 3, 224, 224)\n",
      "\n",
      "0: 224x224 (no detections), 24.3ms\n",
      "Speed: 0.0ms preprocess, 24.3ms inference, 0.5ms postprocess per image at shape (1, 3, 224, 224)\n",
      "\n",
      "0: 224x224 (no detections), 32.2ms\n",
      "Speed: 0.5ms preprocess, 32.2ms inference, 0.0ms postprocess per image at shape (1, 3, 224, 224)\n",
      "\n",
      "0: 224x224 (no detections), 23.8ms\n",
      "Speed: 0.5ms preprocess, 23.8ms inference, 0.5ms postprocess per image at shape (1, 3, 224, 224)\n",
      "\n",
      "0: 224x224 (no detections), 24.3ms\n",
      "Speed: 1.0ms preprocess, 24.3ms inference, 0.5ms postprocess per image at shape (1, 3, 224, 224)\n",
      "\n",
      "0: 224x224 (no detections), 23.8ms\n",
      "Speed: 0.5ms preprocess, 23.8ms inference, 0.0ms postprocess per image at shape (1, 3, 224, 224)\n",
      "\n",
      "0: 224x224 (no detections), 23.3ms\n",
      "Speed: 0.0ms preprocess, 23.3ms inference, 0.5ms postprocess per image at shape (1, 3, 224, 224)\n",
      "\n",
      "0: 224x224 (no detections), 23.3ms\n",
      "Speed: 0.0ms preprocess, 23.3ms inference, 0.5ms postprocess per image at shape (1, 3, 224, 224)\n",
      "\n",
      "0: 224x224 (no detections), 23.8ms\n",
      "Speed: 0.0ms preprocess, 23.8ms inference, 0.0ms postprocess per image at shape (1, 3, 224, 224)\n",
      "\n",
      "0: 224x224 (no detections), 35.7ms\n",
      "Speed: 0.0ms preprocess, 35.7ms inference, 0.5ms postprocess per image at shape (1, 3, 224, 224)\n",
      "\n",
      "0: 224x224 (no detections), 36.7ms\n",
      "Speed: 16.4ms preprocess, 36.7ms inference, 0.5ms postprocess per image at shape (1, 3, 224, 224)\n",
      "\n",
      "0: 224x224 (no detections), 23.3ms\n",
      "Speed: 0.5ms preprocess, 23.3ms inference, 0.0ms postprocess per image at shape (1, 3, 224, 224)\n",
      "\n",
      "0: 224x224 (no detections), 29.3ms\n",
      "Speed: 0.5ms preprocess, 29.3ms inference, 0.5ms postprocess per image at shape (1, 3, 224, 224)\n",
      "\n",
      "0: 224x224 (no detections), 24.3ms\n",
      "Speed: 0.0ms preprocess, 24.3ms inference, 0.5ms postprocess per image at shape (1, 3, 224, 224)\n",
      "\n",
      "0: 224x224 (no detections), 22.8ms\n",
      "Speed: 0.5ms preprocess, 22.8ms inference, 0.0ms postprocess per image at shape (1, 3, 224, 224)\n",
      "\n",
      "0: 224x224 (no detections), 25.8ms\n",
      "Speed: 0.5ms preprocess, 25.8ms inference, 0.5ms postprocess per image at shape (1, 3, 224, 224)\n",
      "\n",
      "0: 224x224 (no detections), 24.8ms\n",
      "Speed: 0.5ms preprocess, 24.8ms inference, 0.5ms postprocess per image at shape (1, 3, 224, 224)\n",
      "\n",
      "0: 224x224 (no detections), 25.8ms\n",
      "Speed: 0.5ms preprocess, 25.8ms inference, 0.5ms postprocess per image at shape (1, 3, 224, 224)\n",
      "\n",
      "0: 224x224 (no detections), 24.8ms\n",
      "Speed: 0.5ms preprocess, 24.8ms inference, 0.5ms postprocess per image at shape (1, 3, 224, 224)\n",
      "\n",
      "0: 224x224 (no detections), 23.8ms\n",
      "Speed: 0.5ms preprocess, 23.8ms inference, 0.0ms postprocess per image at shape (1, 3, 224, 224)\n",
      "\n",
      "0: 224x224 (no detections), 22.8ms\n",
      "Speed: 0.5ms preprocess, 22.8ms inference, 0.5ms postprocess per image at shape (1, 3, 224, 224)\n",
      "\n",
      "0: 224x224 (no detections), 24.8ms\n",
      "Speed: 0.5ms preprocess, 24.8ms inference, 0.0ms postprocess per image at shape (1, 3, 224, 224)\n",
      "\n",
      "0: 224x224 (no detections), 23.8ms\n",
      "Speed: 0.0ms preprocess, 23.8ms inference, 0.5ms postprocess per image at shape (1, 3, 224, 224)\n",
      "\n",
      "0: 224x224 (no detections), 28.8ms\n",
      "Speed: 0.5ms preprocess, 28.8ms inference, 0.5ms postprocess per image at shape (1, 3, 224, 224)\n",
      "\n",
      "0: 224x224 (no detections), 25.3ms\n",
      "Speed: 0.0ms preprocess, 25.3ms inference, 0.5ms postprocess per image at shape (1, 3, 224, 224)\n",
      "\n",
      "0: 224x224 (no detections), 43.6ms\n",
      "Speed: 0.5ms preprocess, 43.6ms inference, 0.5ms postprocess per image at shape (1, 3, 224, 224)\n",
      "\n",
      "0: 224x224 (no detections), 31.2ms\n",
      "Speed: 0.5ms preprocess, 31.2ms inference, 0.5ms postprocess per image at shape (1, 3, 224, 224)\n",
      "\n",
      "0: 224x224 1 pool, 25.3ms\n",
      "Speed: 0.5ms preprocess, 25.3ms inference, 1.0ms postprocess per image at shape (1, 3, 224, 224)\n",
      "\n",
      "0: 224x224 1 pool, 27.8ms\n",
      "Speed: 0.5ms preprocess, 27.8ms inference, 0.5ms postprocess per image at shape (1, 3, 224, 224)\n",
      "\n",
      "0: 224x224 2 pools, 25.3ms\n",
      "Speed: 0.0ms preprocess, 25.3ms inference, 1.0ms postprocess per image at shape (1, 3, 224, 224)\n",
      "\n",
      "0: 224x224 1 pool, 24.3ms\n",
      "Speed: 0.0ms preprocess, 24.3ms inference, 0.5ms postprocess per image at shape (1, 3, 224, 224)\n",
      "\n",
      "0: 224x224 (no detections), 23.3ms\n",
      "Speed: 0.5ms preprocess, 23.3ms inference, 0.5ms postprocess per image at shape (1, 3, 224, 224)\n",
      "\n",
      "0: 224x224 (no detections), 22.8ms\n",
      "Speed: 0.5ms preprocess, 22.8ms inference, 0.5ms postprocess per image at shape (1, 3, 224, 224)\n",
      "\n",
      "0: 224x224 (no detections), 29.8ms\n",
      "Speed: 0.5ms preprocess, 29.8ms inference, 0.5ms postprocess per image at shape (1, 3, 224, 224)\n",
      "\n",
      "0: 224x224 (no detections), 24.3ms\n",
      "Speed: 0.5ms preprocess, 24.3ms inference, 0.5ms postprocess per image at shape (1, 3, 224, 224)\n",
      "\n",
      "0: 224x224 (no detections), 74.4ms\n",
      "Speed: 0.5ms preprocess, 74.4ms inference, 0.5ms postprocess per image at shape (1, 3, 224, 224)\n",
      "\n",
      "0: 224x224 (no detections), 23.8ms\n",
      "Speed: 0.5ms preprocess, 23.8ms inference, 0.5ms postprocess per image at shape (1, 3, 224, 224)\n",
      "\n",
      "0: 224x224 (no detections), 24.3ms\n",
      "Speed: 0.5ms preprocess, 24.3ms inference, 0.5ms postprocess per image at shape (1, 3, 224, 224)\n",
      "\n",
      "0: 224x224 (no detections), 28.8ms\n",
      "Speed: 0.0ms preprocess, 28.8ms inference, 0.5ms postprocess per image at shape (1, 3, 224, 224)\n",
      "\n",
      "0: 224x224 (no detections), 26.3ms\n",
      "Speed: 0.0ms preprocess, 26.3ms inference, 0.5ms postprocess per image at shape (1, 3, 224, 224)\n",
      "\n",
      "0: 224x224 (no detections), 25.8ms\n",
      "Speed: 0.0ms preprocess, 25.8ms inference, 1.0ms postprocess per image at shape (1, 3, 224, 224)\n",
      "\n",
      "0: 224x224 (no detections), 24.8ms\n",
      "Speed: 0.5ms preprocess, 24.8ms inference, 0.5ms postprocess per image at shape (1, 3, 224, 224)\n",
      "\n",
      "0: 224x224 (no detections), 24.3ms\n",
      "Speed: 0.5ms preprocess, 24.3ms inference, 0.5ms postprocess per image at shape (1, 3, 224, 224)\n",
      "\n",
      "0: 224x224 (no detections), 26.3ms\n",
      "Speed: 0.5ms preprocess, 26.3ms inference, 0.5ms postprocess per image at shape (1, 3, 224, 224)\n",
      "\n",
      "0: 224x224 (no detections), 32.2ms\n",
      "Speed: 0.5ms preprocess, 32.2ms inference, 0.5ms postprocess per image at shape (1, 3, 224, 224)\n",
      "\n",
      "0: 224x224 (no detections), 26.8ms\n",
      "Speed: 0.5ms preprocess, 26.8ms inference, 0.5ms postprocess per image at shape (1, 3, 224, 224)\n",
      "\n",
      "0: 224x224 (no detections), 31.2ms\n",
      "Speed: 0.0ms preprocess, 31.2ms inference, 0.5ms postprocess per image at shape (1, 3, 224, 224)\n",
      "\n",
      "0: 224x224 (no detections), 24.8ms\n",
      "Speed: 0.5ms preprocess, 24.8ms inference, 0.0ms postprocess per image at shape (1, 3, 224, 224)\n",
      "\n",
      "0: 224x224 (no detections), 27.8ms\n",
      "Speed: 0.5ms preprocess, 27.8ms inference, 0.0ms postprocess per image at shape (1, 3, 224, 224)\n",
      "\n",
      "0: 224x224 (no detections), 26.3ms\n",
      "Speed: 0.0ms preprocess, 26.3ms inference, 0.5ms postprocess per image at shape (1, 3, 224, 224)\n",
      "\n",
      "0: 224x224 (no detections), 25.3ms\n",
      "Speed: 0.5ms preprocess, 25.3ms inference, 0.0ms postprocess per image at shape (1, 3, 224, 224)\n",
      "\n",
      "0: 224x224 (no detections), 29.8ms\n",
      "Speed: 0.5ms preprocess, 29.8ms inference, 0.5ms postprocess per image at shape (1, 3, 224, 224)\n",
      "\n",
      "0: 224x224 (no detections), 30.3ms\n",
      "Speed: 0.5ms preprocess, 30.3ms inference, 0.5ms postprocess per image at shape (1, 3, 224, 224)\n",
      "\n",
      "0: 224x224 (no detections), 25.8ms\n",
      "Speed: 0.0ms preprocess, 25.8ms inference, 0.5ms postprocess per image at shape (1, 3, 224, 224)\n",
      "\n",
      "0: 224x224 (no detections), 23.8ms\n",
      "Speed: 0.5ms preprocess, 23.8ms inference, 0.5ms postprocess per image at shape (1, 3, 224, 224)\n",
      "\n",
      "0: 224x224 (no detections), 29.8ms\n",
      "Speed: 0.5ms preprocess, 29.8ms inference, 0.5ms postprocess per image at shape (1, 3, 224, 224)\n",
      "\n",
      "0: 224x224 (no detections), 24.3ms\n",
      "Speed: 0.0ms preprocess, 24.3ms inference, 0.0ms postprocess per image at shape (1, 3, 224, 224)\n",
      "\n",
      "0: 224x224 (no detections), 23.8ms\n",
      "Speed: 0.5ms preprocess, 23.8ms inference, 0.5ms postprocess per image at shape (1, 3, 224, 224)\n",
      "\n",
      "0: 224x224 (no detections), 24.8ms\n",
      "Speed: 0.0ms preprocess, 24.8ms inference, 0.0ms postprocess per image at shape (1, 3, 224, 224)\n",
      "\n",
      "0: 224x224 (no detections), 23.3ms\n",
      "Speed: 0.5ms preprocess, 23.3ms inference, 0.5ms postprocess per image at shape (1, 3, 224, 224)\n",
      "\n",
      "0: 224x224 (no detections), 23.3ms\n",
      "Speed: 0.5ms preprocess, 23.3ms inference, 0.0ms postprocess per image at shape (1, 3, 224, 224)\n",
      "\n",
      "0: 224x224 (no detections), 25.8ms\n",
      "Speed: 0.0ms preprocess, 25.8ms inference, 0.0ms postprocess per image at shape (1, 3, 224, 224)\n",
      "\n",
      "0: 224x224 (no detections), 70.4ms\n",
      "Speed: 0.5ms preprocess, 70.4ms inference, 0.5ms postprocess per image at shape (1, 3, 224, 224)\n",
      "\n",
      "0: 224x224 (no detections), 23.3ms\n",
      "Speed: 0.5ms preprocess, 23.3ms inference, 0.5ms postprocess per image at shape (1, 3, 224, 224)\n",
      "\n",
      "0: 224x224 (no detections), 25.8ms\n",
      "Speed: 0.0ms preprocess, 25.8ms inference, 0.5ms postprocess per image at shape (1, 3, 224, 224)\n",
      "\n",
      "0: 224x224 (no detections), 29.3ms\n",
      "Speed: 0.0ms preprocess, 29.3ms inference, 0.5ms postprocess per image at shape (1, 3, 224, 224)\n",
      "\n",
      "0: 224x224 (no detections), 24.3ms\n",
      "Speed: 0.0ms preprocess, 24.3ms inference, 0.5ms postprocess per image at shape (1, 3, 224, 224)\n",
      "\n",
      "0: 224x224 (no detections), 24.8ms\n",
      "Speed: 0.5ms preprocess, 24.8ms inference, 0.5ms postprocess per image at shape (1, 3, 224, 224)\n",
      "\n",
      "0: 224x224 (no detections), 23.8ms\n",
      "Speed: 0.0ms preprocess, 23.8ms inference, 0.5ms postprocess per image at shape (1, 3, 224, 224)\n",
      "\n",
      "0: 224x224 (no detections), 24.3ms\n",
      "Speed: 0.5ms preprocess, 24.3ms inference, 0.5ms postprocess per image at shape (1, 3, 224, 224)\n",
      "\n",
      "0: 224x224 (no detections), 22.8ms\n",
      "Speed: 0.5ms preprocess, 22.8ms inference, 0.5ms postprocess per image at shape (1, 3, 224, 224)\n",
      "\n",
      "0: 224x224 (no detections), 23.8ms\n",
      "Speed: 0.5ms preprocess, 23.8ms inference, 0.5ms postprocess per image at shape (1, 3, 224, 224)\n",
      "\n",
      "0: 224x224 (no detections), 23.3ms\n",
      "Speed: 0.5ms preprocess, 23.3ms inference, 0.0ms postprocess per image at shape (1, 3, 224, 224)\n",
      "\n",
      "0: 224x224 (no detections), 24.8ms\n",
      "Speed: 0.0ms preprocess, 24.8ms inference, 0.0ms postprocess per image at shape (1, 3, 224, 224)\n",
      "\n",
      "0: 224x224 1 pool, 22.8ms\n",
      "Speed: 0.5ms preprocess, 22.8ms inference, 0.5ms postprocess per image at shape (1, 3, 224, 224)\n",
      "\n",
      "0: 224x224 (no detections), 22.8ms\n",
      "Speed: 0.5ms preprocess, 22.8ms inference, 0.5ms postprocess per image at shape (1, 3, 224, 224)\n",
      "\n",
      "0: 224x224 (no detections), 25.8ms\n",
      "Speed: 0.5ms preprocess, 25.8ms inference, 0.5ms postprocess per image at shape (1, 3, 224, 224)\n",
      "\n",
      "0: 224x224 (no detections), 22.3ms\n",
      "Speed: 0.5ms preprocess, 22.3ms inference, 0.0ms postprocess per image at shape (1, 3, 224, 224)\n",
      "\n",
      "0: 224x224 (no detections), 24.3ms\n",
      "Speed: 0.0ms preprocess, 24.3ms inference, 0.5ms postprocess per image at shape (1, 3, 224, 224)\n",
      "\n",
      "0: 224x224 (no detections), 23.8ms\n",
      "Speed: 0.0ms preprocess, 23.8ms inference, 0.5ms postprocess per image at shape (1, 3, 224, 224)\n",
      "\n",
      "0: 224x224 (no detections), 23.8ms\n",
      "Speed: 0.0ms preprocess, 23.8ms inference, 0.5ms postprocess per image at shape (1, 3, 224, 224)\n",
      "\n",
      "0: 224x224 (no detections), 25.3ms\n",
      "Speed: 0.5ms preprocess, 25.3ms inference, 0.5ms postprocess per image at shape (1, 3, 224, 224)\n",
      "\n",
      "0: 224x224 (no detections), 23.3ms\n",
      "Speed: 0.5ms preprocess, 23.3ms inference, 0.5ms postprocess per image at shape (1, 3, 224, 224)\n",
      "\n",
      "0: 224x224 (no detections), 23.3ms\n",
      "Speed: 0.5ms preprocess, 23.3ms inference, 0.5ms postprocess per image at shape (1, 3, 224, 224)\n",
      "\n",
      "0: 224x224 (no detections), 29.8ms\n",
      "Speed: 0.5ms preprocess, 29.8ms inference, 0.5ms postprocess per image at shape (1, 3, 224, 224)\n",
      "\n",
      "0: 224x224 (no detections), 23.8ms\n",
      "Speed: 0.0ms preprocess, 23.8ms inference, 0.5ms postprocess per image at shape (1, 3, 224, 224)\n",
      "\n",
      "0: 224x224 (no detections), 66.5ms\n",
      "Speed: 0.0ms preprocess, 66.5ms inference, 0.5ms postprocess per image at shape (1, 3, 224, 224)\n",
      "\n",
      "0: 224x224 (no detections), 31.2ms\n",
      "Speed: 0.5ms preprocess, 31.2ms inference, 0.5ms postprocess per image at shape (1, 3, 224, 224)\n",
      "\n",
      "0: 224x224 (no detections), 25.3ms\n",
      "Speed: 0.5ms preprocess, 25.3ms inference, 0.5ms postprocess per image at shape (1, 3, 224, 224)\n",
      "\n",
      "0: 224x224 (no detections), 22.8ms\n",
      "Speed: 0.5ms preprocess, 22.8ms inference, 0.5ms postprocess per image at shape (1, 3, 224, 224)\n",
      "\n",
      "0: 224x224 (no detections), 23.8ms\n",
      "Speed: 0.5ms preprocess, 23.8ms inference, 0.5ms postprocess per image at shape (1, 3, 224, 224)\n",
      "\n",
      "0: 224x224 (no detections), 24.3ms\n",
      "Speed: 0.5ms preprocess, 24.3ms inference, 0.5ms postprocess per image at shape (1, 3, 224, 224)\n",
      "\n",
      "0: 224x224 (no detections), 23.3ms\n",
      "Speed: 0.5ms preprocess, 23.3ms inference, 0.5ms postprocess per image at shape (1, 3, 224, 224)\n",
      "\n",
      "0: 224x224 (no detections), 30.3ms\n",
      "Speed: 0.0ms preprocess, 30.3ms inference, 0.5ms postprocess per image at shape (1, 3, 224, 224)\n",
      "\n",
      "0: 224x224 (no detections), 24.3ms\n",
      "Speed: 0.0ms preprocess, 24.3ms inference, 0.5ms postprocess per image at shape (1, 3, 224, 224)\n",
      "\n",
      "0: 224x224 (no detections), 23.8ms\n",
      "Speed: 0.5ms preprocess, 23.8ms inference, 0.5ms postprocess per image at shape (1, 3, 224, 224)\n",
      "\n",
      "0: 224x224 (no detections), 23.3ms\n",
      "Speed: 0.5ms preprocess, 23.3ms inference, 0.0ms postprocess per image at shape (1, 3, 224, 224)\n",
      "\n",
      "0: 224x224 (no detections), 24.3ms\n",
      "Speed: 0.5ms preprocess, 24.3ms inference, 0.0ms postprocess per image at shape (1, 3, 224, 224)\n",
      "\n",
      "0: 224x224 (no detections), 22.8ms\n",
      "Speed: 0.5ms preprocess, 22.8ms inference, 0.5ms postprocess per image at shape (1, 3, 224, 224)\n",
      "\n",
      "0: 224x224 (no detections), 24.3ms\n",
      "Speed: 0.5ms preprocess, 24.3ms inference, 0.5ms postprocess per image at shape (1, 3, 224, 224)\n",
      "\n",
      "0: 224x224 (no detections), 23.8ms\n",
      "Speed: 0.0ms preprocess, 23.8ms inference, 0.5ms postprocess per image at shape (1, 3, 224, 224)\n",
      "\n",
      "0: 224x224 (no detections), 22.8ms\n",
      "Speed: 0.5ms preprocess, 22.8ms inference, 0.5ms postprocess per image at shape (1, 3, 224, 224)\n",
      "\n",
      "0: 224x224 (no detections), 23.3ms\n",
      "Speed: 0.0ms preprocess, 23.3ms inference, 0.0ms postprocess per image at shape (1, 3, 224, 224)\n",
      "\n",
      "0: 224x224 (no detections), 24.3ms\n",
      "Speed: 0.5ms preprocess, 24.3ms inference, 0.5ms postprocess per image at shape (1, 3, 224, 224)\n",
      "\n",
      "0: 224x224 (no detections), 29.3ms\n",
      "Speed: 0.5ms preprocess, 29.3ms inference, 0.0ms postprocess per image at shape (1, 3, 224, 224)\n",
      "\n",
      "0: 224x224 (no detections), 27.3ms\n",
      "Speed: 0.0ms preprocess, 27.3ms inference, 0.5ms postprocess per image at shape (1, 3, 224, 224)\n",
      "\n",
      "0: 224x224 (no detections), 24.8ms\n",
      "Speed: 0.0ms preprocess, 24.8ms inference, 0.0ms postprocess per image at shape (1, 3, 224, 224)\n",
      "\n",
      "0: 224x224 (no detections), 24.3ms\n",
      "Speed: 0.5ms preprocess, 24.3ms inference, 0.5ms postprocess per image at shape (1, 3, 224, 224)\n",
      "\n",
      "0: 224x224 (no detections), 25.3ms\n",
      "Speed: 0.5ms preprocess, 25.3ms inference, 0.0ms postprocess per image at shape (1, 3, 224, 224)\n",
      "\n",
      "0: 224x224 (no detections), 23.8ms\n",
      "Speed: 0.5ms preprocess, 23.8ms inference, 0.5ms postprocess per image at shape (1, 3, 224, 224)\n",
      "\n",
      "0: 224x224 (no detections), 25.3ms\n",
      "Speed: 0.0ms preprocess, 25.3ms inference, 0.5ms postprocess per image at shape (1, 3, 224, 224)\n",
      "\n",
      "0: 224x224 (no detections), 23.8ms\n",
      "Speed: 0.5ms preprocess, 23.8ms inference, 0.5ms postprocess per image at shape (1, 3, 224, 224)\n",
      "\n",
      "0: 224x224 (no detections), 23.3ms\n",
      "Speed: 0.0ms preprocess, 23.3ms inference, 0.5ms postprocess per image at shape (1, 3, 224, 224)\n",
      "\n",
      "0: 224x224 (no detections), 23.8ms\n",
      "Speed: 0.0ms preprocess, 23.8ms inference, 0.5ms postprocess per image at shape (1, 3, 224, 224)\n",
      "\n",
      "0: 224x224 (no detections), 23.8ms\n",
      "Speed: 0.0ms preprocess, 23.8ms inference, 0.5ms postprocess per image at shape (1, 3, 224, 224)\n",
      "\n",
      "0: 224x224 (no detections), 23.3ms\n",
      "Speed: 0.0ms preprocess, 23.3ms inference, 0.0ms postprocess per image at shape (1, 3, 224, 224)\n",
      "\n",
      "0: 224x224 (no detections), 24.3ms\n",
      "Speed: 0.5ms preprocess, 24.3ms inference, 0.5ms postprocess per image at shape (1, 3, 224, 224)\n",
      "\n",
      "0: 224x224 (no detections), 29.3ms\n",
      "Speed: 0.5ms preprocess, 29.3ms inference, 0.5ms postprocess per image at shape (1, 3, 224, 224)\n",
      "\n",
      "0: 224x224 (no detections), 23.8ms\n",
      "Speed: 0.5ms preprocess, 23.8ms inference, 0.5ms postprocess per image at shape (1, 3, 224, 224)\n",
      "\n",
      "0: 224x224 1 pool, 26.8ms\n",
      "Speed: 0.5ms preprocess, 26.8ms inference, 0.5ms postprocess per image at shape (1, 3, 224, 224)\n",
      "\n",
      "0: 224x224 (no detections), 23.8ms\n",
      "Speed: 0.5ms preprocess, 23.8ms inference, 0.5ms postprocess per image at shape (1, 3, 224, 224)\n",
      "\n",
      "0: 224x224 (no detections), 24.3ms\n",
      "Speed: 0.5ms preprocess, 24.3ms inference, 0.5ms postprocess per image at shape (1, 3, 224, 224)\n",
      "\n",
      "0: 224x224 (no detections), 25.3ms\n",
      "Speed: 0.5ms preprocess, 25.3ms inference, 0.5ms postprocess per image at shape (1, 3, 224, 224)\n",
      "\n",
      "0: 224x224 (no detections), 23.8ms\n",
      "Speed: 0.0ms preprocess, 23.8ms inference, 0.0ms postprocess per image at shape (1, 3, 224, 224)\n",
      "\n",
      "0: 224x224 (no detections), 29.8ms\n",
      "Speed: 0.5ms preprocess, 29.8ms inference, 1.0ms postprocess per image at shape (1, 3, 224, 224)\n",
      "\n",
      "0: 224x224 (no detections), 23.8ms\n",
      "Speed: 0.0ms preprocess, 23.8ms inference, 0.5ms postprocess per image at shape (1, 3, 224, 224)\n",
      "\n",
      "0: 224x224 (no detections), 24.8ms\n",
      "Speed: 0.0ms preprocess, 24.8ms inference, 0.5ms postprocess per image at shape (1, 3, 224, 224)\n",
      "\n",
      "0: 224x224 (no detections), 24.3ms\n",
      "Speed: 0.5ms preprocess, 24.3ms inference, 0.5ms postprocess per image at shape (1, 3, 224, 224)\n",
      "\n",
      "0: 224x224 (no detections), 22.8ms\n",
      "Speed: 0.5ms preprocess, 22.8ms inference, 0.5ms postprocess per image at shape (1, 3, 224, 224)\n",
      "\n",
      "0: 224x224 (no detections), 21.8ms\n",
      "Speed: 0.5ms preprocess, 21.8ms inference, 0.5ms postprocess per image at shape (1, 3, 224, 224)\n",
      "\n",
      "0: 224x224 (no detections), 24.3ms\n",
      "Speed: 0.5ms preprocess, 24.3ms inference, 0.0ms postprocess per image at shape (1, 3, 224, 224)\n",
      "\n",
      "0: 224x224 (no detections), 23.3ms\n",
      "Speed: 0.0ms preprocess, 23.3ms inference, 0.0ms postprocess per image at shape (1, 3, 224, 224)\n",
      "\n",
      "0: 224x224 (no detections), 25.3ms\n",
      "Speed: 0.5ms preprocess, 25.3ms inference, 0.0ms postprocess per image at shape (1, 3, 224, 224)\n",
      "\n",
      "0: 224x224 (no detections), 28.8ms\n",
      "Speed: 0.5ms preprocess, 28.8ms inference, 0.5ms postprocess per image at shape (1, 3, 224, 224)\n",
      "\n",
      "0: 224x224 (no detections), 23.8ms\n",
      "Speed: 0.5ms preprocess, 23.8ms inference, 0.0ms postprocess per image at shape (1, 3, 224, 224)\n",
      "\n",
      "0: 224x224 (no detections), 25.3ms\n",
      "Speed: 0.5ms preprocess, 25.3ms inference, 0.5ms postprocess per image at shape (1, 3, 224, 224)\n",
      "\n",
      "0: 224x224 (no detections), 40.2ms\n",
      "Speed: 0.5ms preprocess, 40.2ms inference, 0.5ms postprocess per image at shape (1, 3, 224, 224)\n",
      "\n",
      "0: 224x224 (no detections), 31.2ms\n",
      "Speed: 0.5ms preprocess, 31.2ms inference, 0.0ms postprocess per image at shape (1, 3, 224, 224)\n",
      "\n",
      "0: 224x224 (no detections), 73.9ms\n",
      "Speed: 0.5ms preprocess, 73.9ms inference, 0.5ms postprocess per image at shape (1, 3, 224, 224)\n",
      "\n",
      "0: 224x224 (no detections), 23.8ms\n",
      "Speed: 13.9ms preprocess, 23.8ms inference, 0.5ms postprocess per image at shape (1, 3, 224, 224)\n",
      "\n",
      "0: 224x224 (no detections), 25.3ms\n",
      "Speed: 0.0ms preprocess, 25.3ms inference, 0.0ms postprocess per image at shape (1, 3, 224, 224)\n",
      "\n",
      "0: 224x224 (no detections), 26.8ms\n",
      "Speed: 0.5ms preprocess, 26.8ms inference, 0.0ms postprocess per image at shape (1, 3, 224, 224)\n",
      "\n",
      "0: 224x224 (no detections), 27.8ms\n",
      "Speed: 0.5ms preprocess, 27.8ms inference, 0.0ms postprocess per image at shape (1, 3, 224, 224)\n",
      "\n",
      "0: 224x224 (no detections), 25.3ms\n",
      "Speed: 0.5ms preprocess, 25.3ms inference, 0.0ms postprocess per image at shape (1, 3, 224, 224)\n",
      "\n",
      "0: 224x224 (no detections), 23.8ms\n",
      "Speed: 0.0ms preprocess, 23.8ms inference, 0.5ms postprocess per image at shape (1, 3, 224, 224)\n",
      "\n",
      "0: 224x224 (no detections), 23.8ms\n",
      "Speed: 0.5ms preprocess, 23.8ms inference, 0.5ms postprocess per image at shape (1, 3, 224, 224)\n",
      "\n",
      "0: 224x224 (no detections), 22.3ms\n",
      "Speed: 0.0ms preprocess, 22.3ms inference, 0.5ms postprocess per image at shape (1, 3, 224, 224)\n",
      "\n",
      "0: 224x224 (no detections), 27.3ms\n",
      "Speed: 0.5ms preprocess, 27.3ms inference, 0.0ms postprocess per image at shape (1, 3, 224, 224)\n",
      "\n",
      "0: 224x224 (no detections), 23.3ms\n",
      "Speed: 0.5ms preprocess, 23.3ms inference, 0.5ms postprocess per image at shape (1, 3, 224, 224)\n",
      "\n",
      "0: 224x224 (no detections), 29.8ms\n",
      "Speed: 0.5ms preprocess, 29.8ms inference, 0.0ms postprocess per image at shape (1, 3, 224, 224)\n",
      "\n",
      "0: 224x224 (no detections), 26.8ms\n",
      "Speed: 0.0ms preprocess, 26.8ms inference, 0.5ms postprocess per image at shape (1, 3, 224, 224)\n",
      "\n",
      "0: 224x224 (no detections), 26.3ms\n",
      "Speed: 0.0ms preprocess, 26.3ms inference, 0.0ms postprocess per image at shape (1, 3, 224, 224)\n",
      "\n",
      "0: 224x224 (no detections), 25.8ms\n",
      "Speed: 0.5ms preprocess, 25.8ms inference, 0.5ms postprocess per image at shape (1, 3, 224, 224)\n",
      "\n",
      "0: 224x224 (no detections), 30.8ms\n",
      "Speed: 0.5ms preprocess, 30.8ms inference, 0.5ms postprocess per image at shape (1, 3, 224, 224)\n",
      "\n",
      "0: 224x224 (no detections), 26.3ms\n",
      "Speed: 0.5ms preprocess, 26.3ms inference, 0.5ms postprocess per image at shape (1, 3, 224, 224)\n",
      "\n",
      "0: 224x224 (no detections), 24.8ms\n",
      "Speed: 0.5ms preprocess, 24.8ms inference, 0.5ms postprocess per image at shape (1, 3, 224, 224)\n",
      "\n",
      "0: 224x224 (no detections), 24.3ms\n",
      "Speed: 0.0ms preprocess, 24.3ms inference, 0.5ms postprocess per image at shape (1, 3, 224, 224)\n",
      "\n",
      "0: 224x224 (no detections), 24.3ms\n",
      "Speed: 0.5ms preprocess, 24.3ms inference, 0.5ms postprocess per image at shape (1, 3, 224, 224)\n",
      "\n",
      "0: 224x224 (no detections), 24.8ms\n",
      "Speed: 0.5ms preprocess, 24.8ms inference, 0.0ms postprocess per image at shape (1, 3, 224, 224)\n",
      "\n",
      "0: 224x224 (no detections), 24.3ms\n",
      "Speed: 0.0ms preprocess, 24.3ms inference, 0.5ms postprocess per image at shape (1, 3, 224, 224)\n",
      "\n",
      "0: 224x224 (no detections), 27.3ms\n",
      "Speed: 0.5ms preprocess, 27.3ms inference, 0.0ms postprocess per image at shape (1, 3, 224, 224)\n",
      "\n",
      "0: 224x224 (no detections), 24.3ms\n",
      "Speed: 0.5ms preprocess, 24.3ms inference, 0.5ms postprocess per image at shape (1, 3, 224, 224)\n",
      "\n",
      "0: 224x224 (no detections), 82.8ms\n",
      "Speed: 0.0ms preprocess, 82.8ms inference, 0.5ms postprocess per image at shape (1, 3, 224, 224)\n",
      "\n",
      "0: 224x224 (no detections), 31.7ms\n",
      "Speed: 2.0ms preprocess, 31.7ms inference, 0.0ms postprocess per image at shape (1, 3, 224, 224)\n",
      "\n",
      "0: 224x224 (no detections), 25.3ms\n",
      "Speed: 0.5ms preprocess, 25.3ms inference, 0.5ms postprocess per image at shape (1, 3, 224, 224)\n",
      "\n",
      "0: 224x224 (no detections), 26.8ms\n",
      "Speed: 0.5ms preprocess, 26.8ms inference, 0.5ms postprocess per image at shape (1, 3, 224, 224)\n",
      "\n",
      "0: 224x224 (no detections), 26.3ms\n",
      "Speed: 0.0ms preprocess, 26.3ms inference, 0.0ms postprocess per image at shape (1, 3, 224, 224)\n",
      "\n",
      "0: 224x224 (no detections), 27.3ms\n",
      "Speed: 0.5ms preprocess, 27.3ms inference, 0.5ms postprocess per image at shape (1, 3, 224, 224)\n",
      "\n",
      "0: 224x224 (no detections), 24.8ms\n",
      "Speed: 0.0ms preprocess, 24.8ms inference, 0.5ms postprocess per image at shape (1, 3, 224, 224)\n",
      "\n",
      "0: 224x224 (no detections), 24.3ms\n",
      "Speed: 0.5ms preprocess, 24.3ms inference, 0.5ms postprocess per image at shape (1, 3, 224, 224)\n",
      "\n",
      "0: 224x224 (no detections), 29.3ms\n",
      "Speed: 0.0ms preprocess, 29.3ms inference, 1.0ms postprocess per image at shape (1, 3, 224, 224)\n",
      "\n",
      "0: 224x224 (no detections), 23.3ms\n",
      "Speed: 0.5ms preprocess, 23.3ms inference, 1.0ms postprocess per image at shape (1, 3, 224, 224)\n",
      "\n",
      "0: 224x224 (no detections), 23.3ms\n",
      "Speed: 0.5ms preprocess, 23.3ms inference, 0.0ms postprocess per image at shape (1, 3, 224, 224)\n",
      "\n",
      "0: 224x224 (no detections), 23.3ms\n",
      "Speed: 0.0ms preprocess, 23.3ms inference, 0.5ms postprocess per image at shape (1, 3, 224, 224)\n",
      "\n",
      "0: 224x224 (no detections), 23.3ms\n",
      "Speed: 0.5ms preprocess, 23.3ms inference, 0.5ms postprocess per image at shape (1, 3, 224, 224)\n",
      "\n",
      "0: 224x224 1 pool, 24.3ms\n",
      "Speed: 0.0ms preprocess, 24.3ms inference, 0.5ms postprocess per image at shape (1, 3, 224, 224)\n",
      "\n",
      "0: 224x224 (no detections), 26.3ms\n",
      "Speed: 0.0ms preprocess, 26.3ms inference, 0.5ms postprocess per image at shape (1, 3, 224, 224)\n",
      "\n",
      "0: 224x224 1 pool, 28.8ms\n",
      "Speed: 0.0ms preprocess, 28.8ms inference, 0.5ms postprocess per image at shape (1, 3, 224, 224)\n",
      "\n",
      "0: 224x224 1 pool, 27.3ms\n",
      "Speed: 0.0ms preprocess, 27.3ms inference, 0.5ms postprocess per image at shape (1, 3, 224, 224)\n",
      "\n",
      "0: 224x224 (no detections), 30.8ms\n",
      "Speed: 0.0ms preprocess, 30.8ms inference, 0.5ms postprocess per image at shape (1, 3, 224, 224)\n",
      "\n",
      "0: 224x224 (no detections), 24.3ms\n",
      "Speed: 0.0ms preprocess, 24.3ms inference, 0.5ms postprocess per image at shape (1, 3, 224, 224)\n",
      "\n",
      "0: 224x224 (no detections), 21.8ms\n",
      "Speed: 0.5ms preprocess, 21.8ms inference, 0.0ms postprocess per image at shape (1, 3, 224, 224)\n",
      "\n",
      "0: 224x224 (no detections), 24.8ms\n",
      "Speed: 0.0ms preprocess, 24.8ms inference, 0.5ms postprocess per image at shape (1, 3, 224, 224)\n",
      "\n",
      "0: 224x224 (no detections), 23.8ms\n",
      "Speed: 0.0ms preprocess, 23.8ms inference, 0.5ms postprocess per image at shape (1, 3, 224, 224)\n",
      "\n",
      "0: 224x224 (no detections), 23.3ms\n",
      "Speed: 0.5ms preprocess, 23.3ms inference, 0.5ms postprocess per image at shape (1, 3, 224, 224)\n",
      "\n",
      "0: 224x224 (no detections), 23.8ms\n",
      "Speed: 0.5ms preprocess, 23.8ms inference, 0.5ms postprocess per image at shape (1, 3, 224, 224)\n",
      "\n",
      "0: 224x224 (no detections), 21.8ms\n",
      "Speed: 0.5ms preprocess, 21.8ms inference, 0.5ms postprocess per image at shape (1, 3, 224, 224)\n",
      "\n",
      "0: 224x224 (no detections), 64.0ms\n",
      "Speed: 12.9ms preprocess, 64.0ms inference, 0.5ms postprocess per image at shape (1, 3, 224, 224)\n",
      "\n",
      "0: 224x224 (no detections), 25.8ms\n",
      "Speed: 0.0ms preprocess, 25.8ms inference, 0.5ms postprocess per image at shape (1, 3, 224, 224)\n",
      "\n",
      "0: 224x224 (no detections), 24.8ms\n",
      "Speed: 0.5ms preprocess, 24.8ms inference, 0.5ms postprocess per image at shape (1, 3, 224, 224)\n",
      "\n",
      "0: 224x224 (no detections), 25.8ms\n",
      "Speed: 0.0ms preprocess, 25.8ms inference, 0.5ms postprocess per image at shape (1, 3, 224, 224)\n",
      "\n",
      "0: 224x224 (no detections), 23.8ms\n",
      "Speed: 0.5ms preprocess, 23.8ms inference, 0.5ms postprocess per image at shape (1, 3, 224, 224)\n",
      "\n",
      "0: 224x224 (no detections), 25.8ms\n",
      "Speed: 0.5ms preprocess, 25.8ms inference, 0.5ms postprocess per image at shape (1, 3, 224, 224)\n",
      "\n",
      "0: 224x224 (no detections), 24.8ms\n",
      "Speed: 0.5ms preprocess, 24.8ms inference, 0.5ms postprocess per image at shape (1, 3, 224, 224)\n",
      "\n",
      "0: 224x224 (no detections), 25.8ms\n",
      "Speed: 0.5ms preprocess, 25.8ms inference, 0.0ms postprocess per image at shape (1, 3, 224, 224)\n",
      "\n",
      "0: 224x224 (no detections), 25.3ms\n",
      "Speed: 0.0ms preprocess, 25.3ms inference, 0.5ms postprocess per image at shape (1, 3, 224, 224)\n",
      "\n",
      "0: 224x224 (no detections), 31.7ms\n",
      "Speed: 0.5ms preprocess, 31.7ms inference, 0.5ms postprocess per image at shape (1, 3, 224, 224)\n",
      "\n",
      "0: 224x224 (no detections), 23.8ms\n",
      "Speed: 0.5ms preprocess, 23.8ms inference, 0.5ms postprocess per image at shape (1, 3, 224, 224)\n",
      "\n",
      "0: 224x224 (no detections), 28.8ms\n",
      "Speed: 0.5ms preprocess, 28.8ms inference, 0.5ms postprocess per image at shape (1, 3, 224, 224)\n",
      "\n",
      "0: 224x224 (no detections), 24.8ms\n",
      "Speed: 0.5ms preprocess, 24.8ms inference, 0.5ms postprocess per image at shape (1, 3, 224, 224)\n",
      "\n",
      "0: 224x224 (no detections), 27.8ms\n",
      "Speed: 0.5ms preprocess, 27.8ms inference, 0.5ms postprocess per image at shape (1, 3, 224, 224)\n",
      "\n",
      "0: 224x224 (no detections), 26.3ms\n",
      "Speed: 0.0ms preprocess, 26.3ms inference, 0.5ms postprocess per image at shape (1, 3, 224, 224)\n",
      "\n",
      "0: 224x224 (no detections), 24.8ms\n",
      "Speed: 0.5ms preprocess, 24.8ms inference, 0.5ms postprocess per image at shape (1, 3, 224, 224)\n",
      "\n",
      "0: 224x224 (no detections), 25.3ms\n",
      "Speed: 0.5ms preprocess, 25.3ms inference, 0.5ms postprocess per image at shape (1, 3, 224, 224)\n",
      "\n",
      "0: 224x224 (no detections), 27.8ms\n",
      "Speed: 0.5ms preprocess, 27.8ms inference, 0.5ms postprocess per image at shape (1, 3, 224, 224)\n",
      "\n",
      "0: 224x224 (no detections), 30.8ms\n",
      "Speed: 0.0ms preprocess, 30.8ms inference, 0.5ms postprocess per image at shape (1, 3, 224, 224)\n",
      "\n",
      "0: 224x224 (no detections), 23.8ms\n",
      "Speed: 0.0ms preprocess, 23.8ms inference, 0.0ms postprocess per image at shape (1, 3, 224, 224)\n",
      "\n",
      "0: 224x224 (no detections), 23.8ms\n",
      "Speed: 0.0ms preprocess, 23.8ms inference, 0.5ms postprocess per image at shape (1, 3, 224, 224)\n",
      "\n",
      "0: 224x224 (no detections), 23.3ms\n",
      "Speed: 0.5ms preprocess, 23.3ms inference, 0.0ms postprocess per image at shape (1, 3, 224, 224)\n",
      "\n",
      "0: 224x224 (no detections), 25.3ms\n",
      "Speed: 0.5ms preprocess, 25.3ms inference, 0.5ms postprocess per image at shape (1, 3, 224, 224)\n",
      "\n",
      "0: 224x224 (no detections), 22.3ms\n",
      "Speed: 0.5ms preprocess, 22.3ms inference, 0.5ms postprocess per image at shape (1, 3, 224, 224)\n",
      "\n",
      "0: 224x224 (no detections), 34.7ms\n",
      "Speed: 10.9ms preprocess, 34.7ms inference, 0.0ms postprocess per image at shape (1, 3, 224, 224)\n",
      "\n",
      "0: 224x224 (no detections), 25.8ms\n",
      "Speed: 0.0ms preprocess, 25.8ms inference, 0.5ms postprocess per image at shape (1, 3, 224, 224)\n",
      "\n",
      "0: 224x224 (no detections), 29.3ms\n",
      "Speed: 0.0ms preprocess, 29.3ms inference, 0.0ms postprocess per image at shape (1, 3, 224, 224)\n",
      "\n",
      "0: 224x224 (no detections), 23.3ms\n",
      "Speed: 0.5ms preprocess, 23.3ms inference, 0.5ms postprocess per image at shape (1, 3, 224, 224)\n",
      "\n",
      "0: 224x224 (no detections), 23.3ms\n",
      "Speed: 0.5ms preprocess, 23.3ms inference, 0.5ms postprocess per image at shape (1, 3, 224, 224)\n",
      "\n",
      "0: 224x224 (no detections), 23.8ms\n",
      "Speed: 0.5ms preprocess, 23.8ms inference, 0.0ms postprocess per image at shape (1, 3, 224, 224)\n",
      "\n",
      "0: 224x224 (no detections), 25.3ms\n",
      "Speed: 0.5ms preprocess, 25.3ms inference, 0.0ms postprocess per image at shape (1, 3, 224, 224)\n",
      "\n",
      "0: 224x224 (no detections), 25.3ms\n",
      "Speed: 0.0ms preprocess, 25.3ms inference, 0.0ms postprocess per image at shape (1, 3, 224, 224)\n",
      "\n",
      "0: 224x224 (no detections), 22.8ms\n",
      "Speed: 0.5ms preprocess, 22.8ms inference, 0.5ms postprocess per image at shape (1, 3, 224, 224)\n",
      "\n",
      "0: 224x224 (no detections), 23.3ms\n",
      "Speed: 0.0ms preprocess, 23.3ms inference, 0.5ms postprocess per image at shape (1, 3, 224, 224)\n",
      "\n",
      "0: 224x224 (no detections), 23.8ms\n",
      "Speed: 0.5ms preprocess, 23.8ms inference, 0.5ms postprocess per image at shape (1, 3, 224, 224)\n",
      "\n",
      "0: 224x224 (no detections), 24.3ms\n",
      "Speed: 0.5ms preprocess, 24.3ms inference, 0.0ms postprocess per image at shape (1, 3, 224, 224)\n",
      "\n",
      "0: 224x224 (no detections), 28.3ms\n",
      "Speed: 1.5ms preprocess, 28.3ms inference, 0.5ms postprocess per image at shape (1, 3, 224, 224)\n",
      "\n",
      "0: 224x224 (no detections), 22.8ms\n",
      "Speed: 0.5ms preprocess, 22.8ms inference, 0.0ms postprocess per image at shape (1, 3, 224, 224)\n",
      "\n",
      "0: 224x224 (no detections), 23.8ms\n",
      "Speed: 0.5ms preprocess, 23.8ms inference, 0.5ms postprocess per image at shape (1, 3, 224, 224)\n",
      "\n",
      "0: 224x224 (no detections), 24.3ms\n",
      "Speed: 0.5ms preprocess, 24.3ms inference, 0.5ms postprocess per image at shape (1, 3, 224, 224)\n",
      "\n",
      "0: 224x224 (no detections), 23.8ms\n",
      "Speed: 0.0ms preprocess, 23.8ms inference, 0.5ms postprocess per image at shape (1, 3, 224, 224)\n",
      "\n",
      "0: 224x224 (no detections), 23.8ms\n",
      "Speed: 0.0ms preprocess, 23.8ms inference, 0.5ms postprocess per image at shape (1, 3, 224, 224)\n",
      "\n",
      "0: 224x224 (no detections), 25.3ms\n",
      "Speed: 0.5ms preprocess, 25.3ms inference, 0.5ms postprocess per image at shape (1, 3, 224, 224)\n",
      "\n",
      "0: 224x224 (no detections), 24.8ms\n",
      "Speed: 0.5ms preprocess, 24.8ms inference, 0.5ms postprocess per image at shape (1, 3, 224, 224)\n",
      "\n",
      "0: 224x224 (no detections), 28.8ms\n",
      "Speed: 0.5ms preprocess, 28.8ms inference, 0.5ms postprocess per image at shape (1, 3, 224, 224)\n",
      "\n",
      "0: 224x224 (no detections), 24.8ms\n",
      "Speed: 0.0ms preprocess, 24.8ms inference, 0.5ms postprocess per image at shape (1, 3, 224, 224)\n",
      "\n",
      "0: 224x224 (no detections), 23.3ms\n",
      "Speed: 0.5ms preprocess, 23.3ms inference, 0.5ms postprocess per image at shape (1, 3, 224, 224)\n",
      "\n",
      "0: 224x224 (no detections), 25.8ms\n",
      "Speed: 0.5ms preprocess, 25.8ms inference, 0.5ms postprocess per image at shape (1, 3, 224, 224)\n",
      "\n",
      "0: 224x224 (no detections), 24.8ms\n",
      "Speed: 0.0ms preprocess, 24.8ms inference, 0.0ms postprocess per image at shape (1, 3, 224, 224)\n",
      "\n",
      "0: 224x224 (no detections), 22.3ms\n",
      "Speed: 0.0ms preprocess, 22.3ms inference, 0.5ms postprocess per image at shape (1, 3, 224, 224)\n",
      "\n",
      "0: 224x224 (no detections), 22.8ms\n",
      "Speed: 0.0ms preprocess, 22.8ms inference, 0.5ms postprocess per image at shape (1, 3, 224, 224)\n",
      "\n",
      "0: 224x224 (no detections), 25.3ms\n",
      "Speed: 0.5ms preprocess, 25.3ms inference, 0.5ms postprocess per image at shape (1, 3, 224, 224)\n",
      "\n",
      "0: 224x224 (no detections), 30.8ms\n",
      "Speed: 0.5ms preprocess, 30.8ms inference, 0.5ms postprocess per image at shape (1, 3, 224, 224)\n",
      "\n",
      "0: 224x224 (no detections), 22.8ms\n",
      "Speed: 0.0ms preprocess, 22.8ms inference, 0.5ms postprocess per image at shape (1, 3, 224, 224)\n",
      "\n",
      "0: 224x224 (no detections), 22.3ms\n",
      "Speed: 0.5ms preprocess, 22.3ms inference, 0.0ms postprocess per image at shape (1, 3, 224, 224)\n",
      "\n",
      "0: 224x224 (no detections), 23.8ms\n",
      "Speed: 0.0ms preprocess, 23.8ms inference, 1.0ms postprocess per image at shape (1, 3, 224, 224)\n",
      "\n",
      "0: 224x224 (no detections), 26.8ms\n",
      "Speed: 0.0ms preprocess, 26.8ms inference, 0.0ms postprocess per image at shape (1, 3, 224, 224)\n",
      "\n",
      "0: 224x224 (no detections), 38.7ms\n",
      "Speed: 0.5ms preprocess, 38.7ms inference, 0.5ms postprocess per image at shape (1, 3, 224, 224)\n",
      "\n",
      "0: 224x224 (no detections), 30.3ms\n",
      "Speed: 0.0ms preprocess, 30.3ms inference, 0.0ms postprocess per image at shape (1, 3, 224, 224)\n",
      "\n",
      "0: 224x224 (no detections), 27.3ms\n",
      "Speed: 0.5ms preprocess, 27.3ms inference, 0.5ms postprocess per image at shape (1, 3, 224, 224)\n",
      "\n",
      "0: 224x224 (no detections), 30.8ms\n",
      "Speed: 0.5ms preprocess, 30.8ms inference, 0.5ms postprocess per image at shape (1, 3, 224, 224)\n",
      "\n",
      "0: 224x224 (no detections), 22.8ms\n",
      "Speed: 0.5ms preprocess, 22.8ms inference, 0.0ms postprocess per image at shape (1, 3, 224, 224)\n",
      "\n",
      "0: 224x224 (no detections), 23.8ms\n",
      "Speed: 0.0ms preprocess, 23.8ms inference, 0.0ms postprocess per image at shape (1, 3, 224, 224)\n",
      "\n",
      "0: 224x224 (no detections), 22.8ms\n",
      "Speed: 0.5ms preprocess, 22.8ms inference, 0.5ms postprocess per image at shape (1, 3, 224, 224)\n",
      "\n",
      "0: 224x224 (no detections), 25.3ms\n",
      "Speed: 0.0ms preprocess, 25.3ms inference, 0.5ms postprocess per image at shape (1, 3, 224, 224)\n",
      "\n",
      "0: 224x224 (no detections), 22.8ms\n",
      "Speed: 0.5ms preprocess, 22.8ms inference, 0.5ms postprocess per image at shape (1, 3, 224, 224)\n",
      "\n",
      "0: 224x224 (no detections), 23.3ms\n",
      "Speed: 0.5ms preprocess, 23.3ms inference, 0.5ms postprocess per image at shape (1, 3, 224, 224)\n",
      "\n",
      "0: 224x224 (no detections), 24.3ms\n",
      "Speed: 0.5ms preprocess, 24.3ms inference, 0.5ms postprocess per image at shape (1, 3, 224, 224)\n",
      "\n",
      "0: 224x224 (no detections), 28.8ms\n",
      "Speed: 0.0ms preprocess, 28.8ms inference, 0.0ms postprocess per image at shape (1, 3, 224, 224)\n",
      "\n",
      "0: 224x224 (no detections), 23.3ms\n",
      "Speed: 0.5ms preprocess, 23.3ms inference, 0.5ms postprocess per image at shape (1, 3, 224, 224)\n",
      "\n",
      "0: 224x224 (no detections), 24.3ms\n",
      "Speed: 0.0ms preprocess, 24.3ms inference, 0.5ms postprocess per image at shape (1, 3, 224, 224)\n",
      "\n",
      "0: 224x224 (no detections), 24.8ms\n",
      "Speed: 0.5ms preprocess, 24.8ms inference, 0.0ms postprocess per image at shape (1, 3, 224, 224)\n",
      "\n",
      "0: 224x224 (no detections), 82.3ms\n",
      "Speed: 0.0ms preprocess, 82.3ms inference, 0.5ms postprocess per image at shape (1, 3, 224, 224)\n",
      "\n",
      "0: 224x224 (no detections), 24.8ms\n",
      "Speed: 0.5ms preprocess, 24.8ms inference, 0.5ms postprocess per image at shape (1, 3, 224, 224)\n",
      "\n",
      "0: 224x224 (no detections), 26.8ms\n",
      "Speed: 0.5ms preprocess, 26.8ms inference, 0.5ms postprocess per image at shape (1, 3, 224, 224)\n",
      "\n",
      "0: 224x224 (no detections), 24.8ms\n",
      "Speed: 0.0ms preprocess, 24.8ms inference, 0.5ms postprocess per image at shape (1, 3, 224, 224)\n",
      "\n",
      "0: 224x224 (no detections), 33.2ms\n",
      "Speed: 0.0ms preprocess, 33.2ms inference, 0.0ms postprocess per image at shape (1, 3, 224, 224)\n",
      "\n",
      "0: 224x224 (no detections), 25.3ms\n",
      "Speed: 0.5ms preprocess, 25.3ms inference, 0.0ms postprocess per image at shape (1, 3, 224, 224)\n",
      "\n",
      "0: 224x224 (no detections), 26.3ms\n",
      "Speed: 0.5ms preprocess, 26.3ms inference, 0.5ms postprocess per image at shape (1, 3, 224, 224)\n",
      "\n",
      "0: 224x224 1 pool, 27.3ms\n",
      "Speed: 0.5ms preprocess, 27.3ms inference, 0.5ms postprocess per image at shape (1, 3, 224, 224)\n",
      "\n",
      "0: 224x224 1 pool, 24.8ms\n",
      "Speed: 0.5ms preprocess, 24.8ms inference, 1.0ms postprocess per image at shape (1, 3, 224, 224)\n",
      "\n",
      "0: 224x224 (no detections), 26.3ms\n",
      "Speed: 0.0ms preprocess, 26.3ms inference, 0.5ms postprocess per image at shape (1, 3, 224, 224)\n",
      "\n",
      "0: 224x224 (no detections), 26.8ms\n",
      "Speed: 0.0ms preprocess, 26.8ms inference, 0.5ms postprocess per image at shape (1, 3, 224, 224)\n",
      "\n",
      "0: 224x224 (no detections), 26.3ms\n",
      "Speed: 0.0ms preprocess, 26.3ms inference, 0.5ms postprocess per image at shape (1, 3, 224, 224)\n",
      "\n",
      "0: 224x224 (no detections), 32.7ms\n",
      "Speed: 0.5ms preprocess, 32.7ms inference, 0.5ms postprocess per image at shape (1, 3, 224, 224)\n",
      "\n",
      "0: 224x224 (no detections), 30.8ms\n",
      "Speed: 0.0ms preprocess, 30.8ms inference, 0.5ms postprocess per image at shape (1, 3, 224, 224)\n",
      "\n",
      "0: 224x224 (no detections), 28.3ms\n",
      "Speed: 0.0ms preprocess, 28.3ms inference, 0.5ms postprocess per image at shape (1, 3, 224, 224)\n",
      "\n",
      "0: 224x224 (no detections), 23.3ms\n",
      "Speed: 0.0ms preprocess, 23.3ms inference, 0.5ms postprocess per image at shape (1, 3, 224, 224)\n",
      "\n",
      "0: 224x224 (no detections), 24.3ms\n",
      "Speed: 0.5ms preprocess, 24.3ms inference, 0.5ms postprocess per image at shape (1, 3, 224, 224)\n",
      "\n",
      "0: 224x224 (no detections), 24.8ms\n",
      "Speed: 0.5ms preprocess, 24.8ms inference, 0.5ms postprocess per image at shape (1, 3, 224, 224)\n",
      "\n",
      "0: 224x224 (no detections), 23.3ms\n",
      "Speed: 0.5ms preprocess, 23.3ms inference, 0.5ms postprocess per image at shape (1, 3, 224, 224)\n",
      "\n",
      "0: 224x224 (no detections), 22.3ms\n",
      "Speed: 0.5ms preprocess, 22.3ms inference, 0.5ms postprocess per image at shape (1, 3, 224, 224)\n",
      "\n",
      "0: 224x224 (no detections), 72.9ms\n",
      "Speed: 0.0ms preprocess, 72.9ms inference, 0.5ms postprocess per image at shape (1, 3, 224, 224)\n",
      "\n",
      "0: 224x224 (no detections), 31.2ms\n",
      "Speed: 0.5ms preprocess, 31.2ms inference, 0.0ms postprocess per image at shape (1, 3, 224, 224)\n",
      "\n",
      "0: 224x224 (no detections), 23.8ms\n",
      "Speed: 0.0ms preprocess, 23.8ms inference, 0.5ms postprocess per image at shape (1, 3, 224, 224)\n",
      "\n",
      "0: 224x224 (no detections), 23.3ms\n",
      "Speed: 0.5ms preprocess, 23.3ms inference, 0.5ms postprocess per image at shape (1, 3, 224, 224)\n",
      "\n",
      "0: 224x224 (no detections), 24.8ms\n",
      "Speed: 0.0ms preprocess, 24.8ms inference, 0.0ms postprocess per image at shape (1, 3, 224, 224)\n",
      "\n",
      "0: 224x224 (no detections), 24.3ms\n",
      "Speed: 0.5ms preprocess, 24.3ms inference, 0.0ms postprocess per image at shape (1, 3, 224, 224)\n",
      "\n",
      "0: 224x224 (no detections), 23.8ms\n",
      "Speed: 0.0ms preprocess, 23.8ms inference, 0.0ms postprocess per image at shape (1, 3, 224, 224)\n",
      "\n",
      "0: 224x224 (no detections), 23.8ms\n",
      "Speed: 0.5ms preprocess, 23.8ms inference, 0.5ms postprocess per image at shape (1, 3, 224, 224)\n",
      "\n",
      "0: 224x224 (no detections), 24.8ms\n",
      "Speed: 0.0ms preprocess, 24.8ms inference, 0.5ms postprocess per image at shape (1, 3, 224, 224)\n",
      "\n",
      "0: 224x224 1 pool, 31.7ms\n",
      "Speed: 0.0ms preprocess, 31.7ms inference, 0.5ms postprocess per image at shape (1, 3, 224, 224)\n",
      "\n",
      "0: 224x224 1 pool, 24.3ms\n",
      "Speed: 0.0ms preprocess, 24.3ms inference, 0.5ms postprocess per image at shape (1, 3, 224, 224)\n",
      "\n",
      "0: 224x224 1 pool, 23.8ms\n",
      "Speed: 0.5ms preprocess, 23.8ms inference, 0.5ms postprocess per image at shape (1, 3, 224, 224)\n",
      "\n",
      "0: 224x224 1 pool, 23.3ms\n",
      "Speed: 0.5ms preprocess, 23.3ms inference, 0.5ms postprocess per image at shape (1, 3, 224, 224)\n",
      "\n",
      "0: 224x224 (no detections), 24.3ms\n",
      "Speed: 0.0ms preprocess, 24.3ms inference, 0.5ms postprocess per image at shape (1, 3, 224, 224)\n",
      "\n",
      "0: 224x224 (no detections), 24.3ms\n",
      "Speed: 0.5ms preprocess, 24.3ms inference, 0.0ms postprocess per image at shape (1, 3, 224, 224)\n",
      "\n",
      "0: 224x224 (no detections), 22.8ms\n",
      "Speed: 0.5ms preprocess, 22.8ms inference, 0.5ms postprocess per image at shape (1, 3, 224, 224)\n",
      "\n",
      "0: 224x224 (no detections), 23.3ms\n",
      "Speed: 0.5ms preprocess, 23.3ms inference, 0.5ms postprocess per image at shape (1, 3, 224, 224)\n",
      "\n",
      "0: 224x224 (no detections), 29.3ms\n",
      "Speed: 0.5ms preprocess, 29.3ms inference, 0.0ms postprocess per image at shape (1, 3, 224, 224)\n",
      "\n",
      "0: 224x224 (no detections), 22.8ms\n",
      "Speed: 0.5ms preprocess, 22.8ms inference, 0.0ms postprocess per image at shape (1, 3, 224, 224)\n",
      "\n",
      "0: 224x224 (no detections), 24.8ms\n",
      "Speed: 0.5ms preprocess, 24.8ms inference, 0.5ms postprocess per image at shape (1, 3, 224, 224)\n",
      "\n",
      "0: 224x224 (no detections), 24.8ms\n",
      "Speed: 0.5ms preprocess, 24.8ms inference, 0.5ms postprocess per image at shape (1, 3, 224, 224)\n",
      "\n",
      "0: 224x224 (no detections), 22.8ms\n",
      "Speed: 0.0ms preprocess, 22.8ms inference, 0.5ms postprocess per image at shape (1, 3, 224, 224)\n",
      "\n",
      "0: 224x224 (no detections), 76.9ms\n",
      "Speed: 0.5ms preprocess, 76.9ms inference, 0.5ms postprocess per image at shape (1, 3, 224, 224)\n",
      "\n",
      "0: 224x224 2 pools, 22.3ms\n",
      "Speed: 0.0ms preprocess, 22.3ms inference, 1.0ms postprocess per image at shape (1, 3, 224, 224)\n",
      "\n",
      "0: 224x224 (no detections), 24.8ms\n",
      "Speed: 0.0ms preprocess, 24.8ms inference, 0.5ms postprocess per image at shape (1, 3, 224, 224)\n",
      "\n",
      "0: 224x224 (no detections), 23.8ms\n",
      "Speed: 0.5ms preprocess, 23.8ms inference, 0.0ms postprocess per image at shape (1, 3, 224, 224)\n",
      "\n",
      "0: 224x224 (no detections), 23.8ms\n",
      "Speed: 0.5ms preprocess, 23.8ms inference, 0.5ms postprocess per image at shape (1, 3, 224, 224)\n",
      "\n",
      "0: 224x224 (no detections), 25.3ms\n",
      "Speed: 0.5ms preprocess, 25.3ms inference, 0.5ms postprocess per image at shape (1, 3, 224, 224)\n",
      "\n",
      "0: 224x224 (no detections), 22.8ms\n",
      "Speed: 0.5ms preprocess, 22.8ms inference, 0.5ms postprocess per image at shape (1, 3, 224, 224)\n",
      "\n",
      "0: 224x224 (no detections), 23.8ms\n",
      "Speed: 0.5ms preprocess, 23.8ms inference, 0.5ms postprocess per image at shape (1, 3, 224, 224)\n",
      "\n",
      "0: 224x224 (no detections), 22.8ms\n",
      "Speed: 0.5ms preprocess, 22.8ms inference, 0.5ms postprocess per image at shape (1, 3, 224, 224)\n",
      "\n",
      "0: 224x224 (no detections), 24.3ms\n",
      "Speed: 0.5ms preprocess, 24.3ms inference, 0.5ms postprocess per image at shape (1, 3, 224, 224)\n",
      "\n",
      "0: 224x224 (no detections), 23.3ms\n",
      "Speed: 0.0ms preprocess, 23.3ms inference, 0.0ms postprocess per image at shape (1, 3, 224, 224)\n",
      "\n",
      "0: 224x224 (no detections), 23.8ms\n",
      "Speed: 0.0ms preprocess, 23.8ms inference, 0.0ms postprocess per image at shape (1, 3, 224, 224)\n",
      "\n",
      "0: 224x224 (no detections), 30.3ms\n",
      "Speed: 0.5ms preprocess, 30.3ms inference, 0.5ms postprocess per image at shape (1, 3, 224, 224)\n",
      "\n",
      "0: 224x224 (no detections), 22.8ms\n",
      "Speed: 0.0ms preprocess, 22.8ms inference, 0.5ms postprocess per image at shape (1, 3, 224, 224)\n",
      "\n",
      "0: 224x224 (no detections), 23.8ms\n",
      "Speed: 0.0ms preprocess, 23.8ms inference, 0.5ms postprocess per image at shape (1, 3, 224, 224)\n",
      "\n",
      "0: 224x224 (no detections), 22.8ms\n",
      "Speed: 0.0ms preprocess, 22.8ms inference, 0.5ms postprocess per image at shape (1, 3, 224, 224)\n",
      "\n",
      "0: 224x224 (no detections), 23.3ms\n",
      "Speed: 0.5ms preprocess, 23.3ms inference, 1.0ms postprocess per image at shape (1, 3, 224, 224)\n",
      "\n",
      "0: 224x224 (no detections), 23.3ms\n",
      "Speed: 0.0ms preprocess, 23.3ms inference, 0.5ms postprocess per image at shape (1, 3, 224, 224)\n",
      "\n",
      "0: 224x224 (no detections), 23.8ms\n",
      "Speed: 0.0ms preprocess, 23.8ms inference, 0.0ms postprocess per image at shape (1, 3, 224, 224)\n",
      "\n",
      "0: 224x224 (no detections), 24.8ms\n",
      "Speed: 0.5ms preprocess, 24.8ms inference, 0.5ms postprocess per image at shape (1, 3, 224, 224)\n",
      "\n",
      "0: 224x224 (no detections), 30.3ms\n",
      "Speed: 0.5ms preprocess, 30.3ms inference, 0.0ms postprocess per image at shape (1, 3, 224, 224)\n",
      "\n",
      "0: 224x224 (no detections), 25.3ms\n",
      "Speed: 0.5ms preprocess, 25.3ms inference, 0.5ms postprocess per image at shape (1, 3, 224, 224)\n",
      "\n",
      "0: 224x224 (no detections), 80.4ms\n",
      "Speed: 0.5ms preprocess, 80.4ms inference, 0.5ms postprocess per image at shape (1, 3, 224, 224)\n",
      "\n",
      "0: 224x224 (no detections), 22.8ms\n",
      "Speed: 0.0ms preprocess, 22.8ms inference, 0.0ms postprocess per image at shape (1, 3, 224, 224)\n",
      "\n",
      "0: 224x224 (no detections), 23.8ms\n",
      "Speed: 0.0ms preprocess, 23.8ms inference, 0.5ms postprocess per image at shape (1, 3, 224, 224)\n",
      "\n",
      "0: 224x224 1 pool, 23.8ms\n",
      "Speed: 0.0ms preprocess, 23.8ms inference, 0.5ms postprocess per image at shape (1, 3, 224, 224)\n",
      "\n",
      "0: 224x224 1 pool, 23.8ms\n",
      "Speed: 0.5ms preprocess, 23.8ms inference, 0.5ms postprocess per image at shape (1, 3, 224, 224)\n",
      "\n",
      "0: 224x224 (no detections), 23.8ms\n",
      "Speed: 0.5ms preprocess, 23.8ms inference, 0.5ms postprocess per image at shape (1, 3, 224, 224)\n",
      "\n",
      "0: 224x224 (no detections), 27.8ms\n",
      "Speed: 0.5ms preprocess, 27.8ms inference, 0.5ms postprocess per image at shape (1, 3, 224, 224)\n",
      "\n",
      "0: 224x224 (no detections), 23.3ms\n",
      "Speed: 0.0ms preprocess, 23.3ms inference, 0.5ms postprocess per image at shape (1, 3, 224, 224)\n",
      "\n",
      "0: 224x224 (no detections), 25.3ms\n",
      "Speed: 0.0ms preprocess, 25.3ms inference, 0.5ms postprocess per image at shape (1, 3, 224, 224)\n",
      "\n",
      "0: 224x224 (no detections), 27.8ms\n",
      "Speed: 0.0ms preprocess, 27.8ms inference, 0.0ms postprocess per image at shape (1, 3, 224, 224)\n",
      "\n",
      "0: 224x224 1 pool, 25.8ms\n",
      "Speed: 0.5ms preprocess, 25.8ms inference, 0.5ms postprocess per image at shape (1, 3, 224, 224)\n",
      "\n",
      "0: 224x224 (no detections), 29.3ms\n",
      "Speed: 0.0ms preprocess, 29.3ms inference, 0.5ms postprocess per image at shape (1, 3, 224, 224)\n",
      "\n",
      "0: 224x224 1 pool, 23.3ms\n",
      "Speed: 0.5ms preprocess, 23.3ms inference, 0.5ms postprocess per image at shape (1, 3, 224, 224)\n",
      "\n",
      "0: 224x224 1 pool, 25.3ms\n",
      "Speed: 0.5ms preprocess, 25.3ms inference, 0.5ms postprocess per image at shape (1, 3, 224, 224)\n",
      "\n",
      "0: 224x224 (no detections), 23.8ms\n",
      "Speed: 0.0ms preprocess, 23.8ms inference, 0.5ms postprocess per image at shape (1, 3, 224, 224)\n",
      "\n",
      "0: 224x224 (no detections), 22.8ms\n",
      "Speed: 0.5ms preprocess, 22.8ms inference, 0.5ms postprocess per image at shape (1, 3, 224, 224)\n",
      "\n",
      "0: 224x224 (no detections), 23.8ms\n",
      "Speed: 0.5ms preprocess, 23.8ms inference, 0.5ms postprocess per image at shape (1, 3, 224, 224)\n",
      "\n",
      "0: 224x224 (no detections), 23.3ms\n",
      "Speed: 0.5ms preprocess, 23.3ms inference, 0.0ms postprocess per image at shape (1, 3, 224, 224)\n",
      "\n",
      "0: 224x224 (no detections), 23.8ms\n",
      "Speed: 0.5ms preprocess, 23.8ms inference, 0.5ms postprocess per image at shape (1, 3, 224, 224)\n",
      "\n",
      "0: 224x224 (no detections), 24.3ms\n",
      "Speed: 0.0ms preprocess, 24.3ms inference, 0.5ms postprocess per image at shape (1, 3, 224, 224)\n",
      "\n",
      "0: 224x224 (no detections), 23.8ms\n",
      "Speed: 0.5ms preprocess, 23.8ms inference, 0.0ms postprocess per image at shape (1, 3, 224, 224)\n",
      "\n",
      "0: 224x224 (no detections), 36.2ms\n",
      "Speed: 28.3ms preprocess, 36.2ms inference, 0.0ms postprocess per image at shape (1, 3, 224, 224)\n",
      "\n",
      "0: 224x224 (no detections), 23.3ms\n",
      "Speed: 0.5ms preprocess, 23.3ms inference, 0.5ms postprocess per image at shape (1, 3, 224, 224)\n",
      "\n",
      "0: 224x224 (no detections), 22.8ms\n",
      "Speed: 0.5ms preprocess, 22.8ms inference, 0.5ms postprocess per image at shape (1, 3, 224, 224)\n",
      "\n",
      "0: 224x224 (no detections), 30.3ms\n",
      "Speed: 0.5ms preprocess, 30.3ms inference, 0.0ms postprocess per image at shape (1, 3, 224, 224)\n",
      "\n",
      "0: 224x224 (no detections), 22.8ms\n",
      "Speed: 0.0ms preprocess, 22.8ms inference, 0.0ms postprocess per image at shape (1, 3, 224, 224)\n",
      "\n",
      "0: 224x224 (no detections), 24.3ms\n",
      "Speed: 0.0ms preprocess, 24.3ms inference, 0.5ms postprocess per image at shape (1, 3, 224, 224)\n",
      "\n",
      "0: 224x224 (no detections), 24.8ms\n",
      "Speed: 0.5ms preprocess, 24.8ms inference, 0.0ms postprocess per image at shape (1, 3, 224, 224)\n",
      "\n",
      "0: 224x224 1 pool, 26.8ms\n",
      "Speed: 0.0ms preprocess, 26.8ms inference, 1.0ms postprocess per image at shape (1, 3, 224, 224)\n",
      "\n",
      "0: 224x224 (no detections), 41.2ms\n",
      "Speed: 0.5ms preprocess, 41.2ms inference, 0.5ms postprocess per image at shape (1, 3, 224, 224)\n",
      "\n",
      "0: 224x224 (no detections), 30.8ms\n",
      "Speed: 1.0ms preprocess, 30.8ms inference, 0.0ms postprocess per image at shape (1, 3, 224, 224)\n",
      "\n",
      "0: 224x224 (no detections), 30.3ms\n",
      "Speed: 0.5ms preprocess, 30.3ms inference, 0.5ms postprocess per image at shape (1, 3, 224, 224)\n",
      "\n",
      "0: 224x224 (no detections), 32.7ms\n",
      "Speed: 0.5ms preprocess, 32.7ms inference, 0.5ms postprocess per image at shape (1, 3, 224, 224)\n",
      "\n",
      "0: 224x224 (no detections), 30.3ms\n",
      "Speed: 0.5ms preprocess, 30.3ms inference, 0.0ms postprocess per image at shape (1, 3, 224, 224)\n",
      "\n",
      "0: 224x224 (no detections), 23.8ms\n",
      "Speed: 0.5ms preprocess, 23.8ms inference, 0.5ms postprocess per image at shape (1, 3, 224, 224)\n",
      "\n",
      "0: 224x224 (no detections), 24.3ms\n",
      "Speed: 0.5ms preprocess, 24.3ms inference, 0.5ms postprocess per image at shape (1, 3, 224, 224)\n",
      "\n",
      "0: 224x224 1 pool, 24.8ms\n",
      "Speed: 0.0ms preprocess, 24.8ms inference, 0.5ms postprocess per image at shape (1, 3, 224, 224)\n",
      "\n",
      "0: 224x224 (no detections), 23.8ms\n",
      "Speed: 0.5ms preprocess, 23.8ms inference, 0.0ms postprocess per image at shape (1, 3, 224, 224)\n",
      "\n",
      "0: 224x224 (no detections), 23.8ms\n",
      "Speed: 0.5ms preprocess, 23.8ms inference, 0.5ms postprocess per image at shape (1, 3, 224, 224)\n",
      "\n",
      "0: 224x224 (no detections), 22.8ms\n",
      "Speed: 0.5ms preprocess, 22.8ms inference, 0.5ms postprocess per image at shape (1, 3, 224, 224)\n",
      "\n",
      "0: 224x224 1 pool, 26.8ms\n",
      "Speed: 0.0ms preprocess, 26.8ms inference, 0.5ms postprocess per image at shape (1, 3, 224, 224)\n",
      "\n",
      "0: 224x224 1 pool, 28.8ms\n",
      "Speed: 0.0ms preprocess, 28.8ms inference, 1.0ms postprocess per image at shape (1, 3, 224, 224)\n",
      "\n",
      "0: 224x224 1 pool, 23.8ms\n",
      "Speed: 0.0ms preprocess, 23.8ms inference, 0.5ms postprocess per image at shape (1, 3, 224, 224)\n",
      "\n",
      "0: 224x224 1 pool, 26.8ms\n",
      "Speed: 0.5ms preprocess, 26.8ms inference, 0.5ms postprocess per image at shape (1, 3, 224, 224)\n",
      "\n",
      "0: 224x224 (no detections), 79.4ms\n",
      "Speed: 0.0ms preprocess, 79.4ms inference, 0.5ms postprocess per image at shape (1, 3, 224, 224)\n",
      "\n",
      "0: 224x224 (no detections), 25.8ms\n",
      "Speed: 0.0ms preprocess, 25.8ms inference, 0.0ms postprocess per image at shape (1, 3, 224, 224)\n",
      "\n",
      "0: 224x224 (no detections), 25.3ms\n",
      "Speed: 0.5ms preprocess, 25.3ms inference, 0.5ms postprocess per image at shape (1, 3, 224, 224)\n",
      "\n",
      "0: 224x224 (no detections), 25.3ms\n",
      "Speed: 0.0ms preprocess, 25.3ms inference, 0.5ms postprocess per image at shape (1, 3, 224, 224)\n",
      "\n",
      "0: 224x224 1 pool, 25.8ms\n",
      "Speed: 0.0ms preprocess, 25.8ms inference, 0.5ms postprocess per image at shape (1, 3, 224, 224)\n",
      "\n",
      "0: 224x224 1 pool, 30.8ms\n",
      "Speed: 0.0ms preprocess, 30.8ms inference, 1.0ms postprocess per image at shape (1, 3, 224, 224)\n",
      "\n",
      "0: 224x224 1 pool, 26.8ms\n",
      "Speed: 0.0ms preprocess, 26.8ms inference, 0.5ms postprocess per image at shape (1, 3, 224, 224)\n",
      "\n",
      "0: 224x224 1 pool, 25.3ms\n",
      "Speed: 1.0ms preprocess, 25.3ms inference, 0.5ms postprocess per image at shape (1, 3, 224, 224)\n",
      "\n",
      "0: 224x224 (no detections), 26.3ms\n",
      "Speed: 0.5ms preprocess, 26.3ms inference, 0.5ms postprocess per image at shape (1, 3, 224, 224)\n",
      "\n",
      "0: 224x224 (no detections), 25.3ms\n",
      "Speed: 0.0ms preprocess, 25.3ms inference, 0.5ms postprocess per image at shape (1, 3, 224, 224)\n",
      "\n",
      "0: 224x224 (no detections), 28.8ms\n",
      "Speed: 0.5ms preprocess, 28.8ms inference, 0.5ms postprocess per image at shape (1, 3, 224, 224)\n",
      "\n",
      "0: 224x224 (no detections), 28.8ms\n",
      "Speed: 0.0ms preprocess, 28.8ms inference, 0.0ms postprocess per image at shape (1, 3, 224, 224)\n",
      "\n",
      "0: 224x224 (no detections), 27.8ms\n",
      "Speed: 0.0ms preprocess, 27.8ms inference, 0.5ms postprocess per image at shape (1, 3, 224, 224)\n",
      "\n",
      "0: 224x224 (no detections), 26.3ms\n",
      "Speed: 0.5ms preprocess, 26.3ms inference, 0.5ms postprocess per image at shape (1, 3, 224, 224)\n",
      "\n",
      "0: 224x224 1 pool, 36.7ms\n",
      "Speed: 0.5ms preprocess, 36.7ms inference, 0.5ms postprocess per image at shape (1, 3, 224, 224)\n",
      "\n",
      "0: 224x224 2 pools, 22.8ms\n",
      "Speed: 0.5ms preprocess, 22.8ms inference, 0.5ms postprocess per image at shape (1, 3, 224, 224)\n",
      "\n",
      "0: 224x224 (no detections), 23.8ms\n",
      "Speed: 0.5ms preprocess, 23.8ms inference, 0.0ms postprocess per image at shape (1, 3, 224, 224)\n",
      "\n",
      "0: 224x224 (no detections), 22.8ms\n",
      "Speed: 0.5ms preprocess, 22.8ms inference, 0.5ms postprocess per image at shape (1, 3, 224, 224)\n",
      "\n",
      "0: 224x224 1 pool, 23.8ms\n",
      "Speed: 0.0ms preprocess, 23.8ms inference, 0.5ms postprocess per image at shape (1, 3, 224, 224)\n",
      "\n",
      "0: 224x224 (no detections), 23.3ms\n",
      "Speed: 0.5ms preprocess, 23.3ms inference, 0.5ms postprocess per image at shape (1, 3, 224, 224)\n",
      "\n",
      "0: 224x224 (no detections), 25.3ms\n",
      "Speed: 0.5ms preprocess, 25.3ms inference, 0.5ms postprocess per image at shape (1, 3, 224, 224)\n",
      "\n",
      "0: 224x224 (no detections), 22.8ms\n",
      "Speed: 0.0ms preprocess, 22.8ms inference, 0.0ms postprocess per image at shape (1, 3, 224, 224)\n",
      "\n",
      "0: 224x224 (no detections), 22.3ms\n",
      "Speed: 0.0ms preprocess, 22.3ms inference, 0.5ms postprocess per image at shape (1, 3, 224, 224)\n",
      "\n",
      "0: 224x224 (no detections), 74.9ms\n",
      "Speed: 4.5ms preprocess, 74.9ms inference, 0.5ms postprocess per image at shape (1, 3, 224, 224)\n",
      "\n",
      "0: 224x224 (no detections), 23.8ms\n",
      "Speed: 0.5ms preprocess, 23.8ms inference, 0.0ms postprocess per image at shape (1, 3, 224, 224)\n",
      "\n",
      "0: 224x224 (no detections), 23.3ms\n",
      "Speed: 0.5ms preprocess, 23.3ms inference, 0.5ms postprocess per image at shape (1, 3, 224, 224)\n",
      "\n",
      "0: 224x224 (no detections), 25.8ms\n",
      "Speed: 0.5ms preprocess, 25.8ms inference, 0.5ms postprocess per image at shape (1, 3, 224, 224)\n",
      "\n",
      "0: 224x224 (no detections), 24.8ms\n",
      "Speed: 0.5ms preprocess, 24.8ms inference, 0.5ms postprocess per image at shape (1, 3, 224, 224)\n",
      "\n",
      "0: 224x224 (no detections), 26.3ms\n",
      "Speed: 0.5ms preprocess, 26.3ms inference, 0.5ms postprocess per image at shape (1, 3, 224, 224)\n",
      "\n",
      "0: 224x224 (no detections), 22.8ms\n",
      "Speed: 0.5ms preprocess, 22.8ms inference, 0.5ms postprocess per image at shape (1, 3, 224, 224)\n",
      "\n",
      "0: 224x224 (no detections), 23.8ms\n",
      "Speed: 0.0ms preprocess, 23.8ms inference, 0.5ms postprocess per image at shape (1, 3, 224, 224)\n",
      "\n",
      "0: 224x224 (no detections), 24.8ms\n",
      "Speed: 0.5ms preprocess, 24.8ms inference, 0.5ms postprocess per image at shape (1, 3, 224, 224)\n",
      "\n",
      "0: 224x224 (no detections), 24.3ms\n",
      "Speed: 0.0ms preprocess, 24.3ms inference, 0.0ms postprocess per image at shape (1, 3, 224, 224)\n",
      "\n",
      "0: 224x224 (no detections), 23.8ms\n",
      "Speed: 0.5ms preprocess, 23.8ms inference, 0.0ms postprocess per image at shape (1, 3, 224, 224)\n",
      "\n",
      "0: 224x224 (no detections), 23.3ms\n",
      "Speed: 0.5ms preprocess, 23.3ms inference, 0.5ms postprocess per image at shape (1, 3, 224, 224)\n",
      "\n",
      "0: 224x224 (no detections), 23.3ms\n",
      "Speed: 0.0ms preprocess, 23.3ms inference, 0.5ms postprocess per image at shape (1, 3, 224, 224)\n",
      "\n",
      "0: 224x224 (no detections), 24.3ms\n",
      "Speed: 0.5ms preprocess, 24.3ms inference, 0.0ms postprocess per image at shape (1, 3, 224, 224)\n",
      "\n",
      "0: 224x224 (no detections), 22.3ms\n",
      "Speed: 0.0ms preprocess, 22.3ms inference, 0.5ms postprocess per image at shape (1, 3, 224, 224)\n",
      "\n",
      "0: 224x224 (no detections), 29.8ms\n",
      "Speed: 0.0ms preprocess, 29.8ms inference, 0.5ms postprocess per image at shape (1, 3, 224, 224)\n",
      "\n",
      "0: 224x224 (no detections), 23.8ms\n",
      "Speed: 0.5ms preprocess, 23.8ms inference, 0.0ms postprocess per image at shape (1, 3, 224, 224)\n",
      "\n",
      "0: 224x224 (no detections), 22.8ms\n",
      "Speed: 0.5ms preprocess, 22.8ms inference, 0.5ms postprocess per image at shape (1, 3, 224, 224)\n",
      "\n",
      "0: 224x224 (no detections), 23.8ms\n",
      "Speed: 0.5ms preprocess, 23.8ms inference, 0.5ms postprocess per image at shape (1, 3, 224, 224)\n",
      "\n",
      "0: 224x224 (no detections), 48.1ms\n",
      "Speed: 0.5ms preprocess, 48.1ms inference, 0.5ms postprocess per image at shape (1, 3, 224, 224)\n",
      "\n",
      "0: 224x224 (no detections), 40.7ms\n",
      "Speed: 8.4ms preprocess, 40.7ms inference, 0.5ms postprocess per image at shape (1, 3, 224, 224)\n",
      "\n",
      "0: 224x224 (no detections), 24.8ms\n",
      "Speed: 0.5ms preprocess, 24.8ms inference, 0.5ms postprocess per image at shape (1, 3, 224, 224)\n",
      "\n",
      "0: 224x224 (no detections), 24.3ms\n",
      "Speed: 0.5ms preprocess, 24.3ms inference, 0.5ms postprocess per image at shape (1, 3, 224, 224)\n",
      "\n",
      "0: 224x224 (no detections), 23.3ms\n",
      "Speed: 0.5ms preprocess, 23.3ms inference, 0.5ms postprocess per image at shape (1, 3, 224, 224)\n",
      "\n",
      "0: 224x224 (no detections), 21.3ms\n",
      "Speed: 0.5ms preprocess, 21.3ms inference, 0.5ms postprocess per image at shape (1, 3, 224, 224)\n",
      "\n",
      "0: 224x224 (no detections), 25.8ms\n",
      "Speed: 0.5ms preprocess, 25.8ms inference, 0.0ms postprocess per image at shape (1, 3, 224, 224)\n",
      "\n",
      "0: 224x224 (no detections), 23.8ms\n",
      "Speed: 0.0ms preprocess, 23.8ms inference, 0.5ms postprocess per image at shape (1, 3, 224, 224)\n",
      "\n",
      "0: 224x224 (no detections), 25.8ms\n",
      "Speed: 0.5ms preprocess, 25.8ms inference, 0.0ms postprocess per image at shape (1, 3, 224, 224)\n",
      "\n",
      "0: 224x224 (no detections), 22.8ms\n",
      "Speed: 0.5ms preprocess, 22.8ms inference, 0.5ms postprocess per image at shape (1, 3, 224, 224)\n",
      "\n",
      "0: 224x224 (no detections), 23.3ms\n",
      "Speed: 0.0ms preprocess, 23.3ms inference, 0.5ms postprocess per image at shape (1, 3, 224, 224)\n",
      "\n",
      "0: 224x224 (no detections), 26.8ms\n",
      "Speed: 0.0ms preprocess, 26.8ms inference, 0.0ms postprocess per image at shape (1, 3, 224, 224)\n",
      "\n",
      "0: 224x224 (no detections), 23.8ms\n",
      "Speed: 0.5ms preprocess, 23.8ms inference, 0.5ms postprocess per image at shape (1, 3, 224, 224)\n",
      "\n",
      "0: 224x224 (no detections), 22.3ms\n",
      "Speed: 0.0ms preprocess, 22.3ms inference, 0.0ms postprocess per image at shape (1, 3, 224, 224)\n",
      "\n",
      "0: 224x224 (no detections), 24.8ms\n",
      "Speed: 1.5ms preprocess, 24.8ms inference, 0.5ms postprocess per image at shape (1, 3, 224, 224)\n",
      "\n",
      "0: 224x224 (no detections), 21.8ms\n",
      "Speed: 0.0ms preprocess, 21.8ms inference, 0.5ms postprocess per image at shape (1, 3, 224, 224)\n",
      "\n",
      "0: 224x224 (no detections), 23.8ms\n",
      "Speed: 0.5ms preprocess, 23.8ms inference, 0.0ms postprocess per image at shape (1, 3, 224, 224)\n",
      "\n",
      "0: 224x224 (no detections), 23.3ms\n",
      "Speed: 0.5ms preprocess, 23.3ms inference, 0.5ms postprocess per image at shape (1, 3, 224, 224)\n",
      "\n",
      "0: 224x224 (no detections), 24.3ms\n",
      "Speed: 0.5ms preprocess, 24.3ms inference, 0.0ms postprocess per image at shape (1, 3, 224, 224)\n",
      "\n",
      "0: 224x224 (no detections), 23.3ms\n",
      "Speed: 0.5ms preprocess, 23.3ms inference, 0.5ms postprocess per image at shape (1, 3, 224, 224)\n",
      "\n",
      "0: 224x224 (no detections), 23.8ms\n",
      "Speed: 0.0ms preprocess, 23.8ms inference, 0.0ms postprocess per image at shape (1, 3, 224, 224)\n",
      "\n",
      "0: 224x224 (no detections), 24.8ms\n",
      "Speed: 0.5ms preprocess, 24.8ms inference, 0.5ms postprocess per image at shape (1, 3, 224, 224)\n",
      "\n",
      "0: 224x224 (no detections), 59.5ms\n",
      "Speed: 0.5ms preprocess, 59.5ms inference, 0.0ms postprocess per image at shape (1, 3, 224, 224)\n",
      "\n",
      "0: 224x224 (no detections), 34.2ms\n",
      "Speed: 6.0ms preprocess, 34.2ms inference, 0.5ms postprocess per image at shape (1, 3, 224, 224)\n",
      "\n",
      "0: 224x224 (no detections), 24.8ms\n",
      "Speed: 0.5ms preprocess, 24.8ms inference, 0.5ms postprocess per image at shape (1, 3, 224, 224)\n",
      "\n",
      "0: 224x224 (no detections), 23.3ms\n",
      "Speed: 0.0ms preprocess, 23.3ms inference, 0.5ms postprocess per image at shape (1, 3, 224, 224)\n",
      "\n",
      "0: 224x224 (no detections), 25.3ms\n",
      "Speed: 0.0ms preprocess, 25.3ms inference, 0.5ms postprocess per image at shape (1, 3, 224, 224)\n",
      "\n",
      "0: 224x224 (no detections), 22.8ms\n",
      "Speed: 0.0ms preprocess, 22.8ms inference, 0.0ms postprocess per image at shape (1, 3, 224, 224)\n",
      "\n",
      "0: 224x224 1 pool, 28.3ms\n",
      "Speed: 0.5ms preprocess, 28.3ms inference, 0.5ms postprocess per image at shape (1, 3, 224, 224)\n",
      "\n",
      "0: 224x224 2 pools, 26.8ms\n",
      "Speed: 0.0ms preprocess, 26.8ms inference, 1.0ms postprocess per image at shape (1, 3, 224, 224)\n",
      "\n",
      "0: 224x224 (no detections), 28.3ms\n",
      "Speed: 0.5ms preprocess, 28.3ms inference, 0.5ms postprocess per image at shape (1, 3, 224, 224)\n",
      "\n",
      "0: 224x224 (no detections), 22.8ms\n",
      "Speed: 0.5ms preprocess, 22.8ms inference, 0.0ms postprocess per image at shape (1, 3, 224, 224)\n",
      "\n",
      "0: 224x224 1 pool, 30.8ms\n",
      "Speed: 0.5ms preprocess, 30.8ms inference, 0.5ms postprocess per image at shape (1, 3, 224, 224)\n",
      "\n",
      "0: 224x224 (no detections), 25.3ms\n",
      "Speed: 0.5ms preprocess, 25.3ms inference, 0.5ms postprocess per image at shape (1, 3, 224, 224)\n",
      "\n",
      "0: 224x224 (no detections), 25.3ms\n",
      "Speed: 0.5ms preprocess, 25.3ms inference, 0.0ms postprocess per image at shape (1, 3, 224, 224)\n",
      "\n",
      "0: 224x224 (no detections), 23.8ms\n",
      "Speed: 0.0ms preprocess, 23.8ms inference, 0.5ms postprocess per image at shape (1, 3, 224, 224)\n",
      "\n",
      "0: 224x224 (no detections), 23.3ms\n",
      "Speed: 0.0ms preprocess, 23.3ms inference, 0.5ms postprocess per image at shape (1, 3, 224, 224)\n",
      "\n",
      "0: 224x224 (no detections), 26.3ms\n",
      "Speed: 0.0ms preprocess, 26.3ms inference, 0.0ms postprocess per image at shape (1, 3, 224, 224)\n",
      "\n",
      "0: 224x224 (no detections), 23.3ms\n",
      "Speed: 0.5ms preprocess, 23.3ms inference, 0.5ms postprocess per image at shape (1, 3, 224, 224)\n",
      "\n",
      "0: 224x224 (no detections), 25.8ms\n",
      "Speed: 0.0ms preprocess, 25.8ms inference, 0.0ms postprocess per image at shape (1, 3, 224, 224)\n",
      "\n",
      "0: 224x224 (no detections), 32.7ms\n",
      "Speed: 0.5ms preprocess, 32.7ms inference, 0.0ms postprocess per image at shape (1, 3, 224, 224)\n",
      "\n",
      "0: 224x224 (no detections), 23.8ms\n",
      "Speed: 0.0ms preprocess, 23.8ms inference, 0.0ms postprocess per image at shape (1, 3, 224, 224)\n",
      "\n",
      "0: 224x224 (no detections), 23.3ms\n",
      "Speed: 0.0ms preprocess, 23.3ms inference, 0.5ms postprocess per image at shape (1, 3, 224, 224)\n",
      "\n",
      "0: 224x224 (no detections), 69.9ms\n",
      "Speed: 0.5ms preprocess, 69.9ms inference, 0.5ms postprocess per image at shape (1, 3, 224, 224)\n",
      "\n",
      "0: 224x224 (no detections), 22.8ms\n",
      "Speed: 0.0ms preprocess, 22.8ms inference, 0.5ms postprocess per image at shape (1, 3, 224, 224)\n",
      "\n",
      "0: 224x224 (no detections), 23.3ms\n",
      "Speed: 0.5ms preprocess, 23.3ms inference, 0.0ms postprocess per image at shape (1, 3, 224, 224)\n",
      "\n",
      "0: 224x224 (no detections), 23.8ms\n",
      "Speed: 0.5ms preprocess, 23.8ms inference, 0.0ms postprocess per image at shape (1, 3, 224, 224)\n",
      "\n",
      "0: 224x224 (no detections), 23.3ms\n",
      "Speed: 0.5ms preprocess, 23.3ms inference, 0.5ms postprocess per image at shape (1, 3, 224, 224)\n",
      "\n",
      "0: 224x224 (no detections), 23.8ms\n",
      "Speed: 0.0ms preprocess, 23.8ms inference, 0.0ms postprocess per image at shape (1, 3, 224, 224)\n",
      "\n",
      "0: 224x224 (no detections), 31.2ms\n",
      "Speed: 0.5ms preprocess, 31.2ms inference, 0.5ms postprocess per image at shape (1, 3, 224, 224)\n",
      "\n",
      "0: 224x224 (no detections), 24.3ms\n",
      "Speed: 0.0ms preprocess, 24.3ms inference, 0.5ms postprocess per image at shape (1, 3, 224, 224)\n",
      "\n",
      "0: 224x224 (no detections), 43.6ms\n",
      "Speed: 0.5ms preprocess, 43.6ms inference, 0.5ms postprocess per image at shape (1, 3, 224, 224)\n",
      "\n",
      "0: 224x224 (no detections), 32.7ms\n",
      "Speed: 0.0ms preprocess, 32.7ms inference, 0.0ms postprocess per image at shape (1, 3, 224, 224)\n",
      "\n",
      "0: 224x224 (no detections), 28.3ms\n",
      "Speed: 0.0ms preprocess, 28.3ms inference, 0.5ms postprocess per image at shape (1, 3, 224, 224)\n",
      "\n",
      "0: 224x224 (no detections), 28.8ms\n",
      "Speed: 0.5ms preprocess, 28.8ms inference, 0.0ms postprocess per image at shape (1, 3, 224, 224)\n",
      "\n",
      "0: 224x224 (no detections), 24.3ms\n",
      "Speed: 0.5ms preprocess, 24.3ms inference, 0.0ms postprocess per image at shape (1, 3, 224, 224)\n",
      "\n",
      "0: 224x224 (no detections), 23.8ms\n",
      "Speed: 0.5ms preprocess, 23.8ms inference, 0.5ms postprocess per image at shape (1, 3, 224, 224)\n",
      "\n",
      "0: 224x224 (no detections), 30.8ms\n",
      "Speed: 0.0ms preprocess, 30.8ms inference, 0.5ms postprocess per image at shape (1, 3, 224, 224)\n",
      "\n",
      "0: 224x224 (no detections), 24.3ms\n",
      "Speed: 0.5ms preprocess, 24.3ms inference, 0.5ms postprocess per image at shape (1, 3, 224, 224)\n",
      "\n",
      "0: 224x224 (no detections), 24.3ms\n",
      "Speed: 0.5ms preprocess, 24.3ms inference, 0.0ms postprocess per image at shape (1, 3, 224, 224)\n",
      "\n",
      "0: 224x224 (no detections), 23.3ms\n",
      "Speed: 0.5ms preprocess, 23.3ms inference, 0.5ms postprocess per image at shape (1, 3, 224, 224)\n",
      "\n",
      "0: 224x224 (no detections), 24.3ms\n",
      "Speed: 0.0ms preprocess, 24.3ms inference, 0.5ms postprocess per image at shape (1, 3, 224, 224)\n",
      "\n",
      "0: 224x224 (no detections), 23.8ms\n",
      "Speed: 1.0ms preprocess, 23.8ms inference, 0.5ms postprocess per image at shape (1, 3, 224, 224)\n",
      "\n",
      "0: 224x224 (no detections), 64.5ms\n",
      "Speed: 0.5ms preprocess, 64.5ms inference, 0.5ms postprocess per image at shape (1, 3, 224, 224)\n",
      "\n",
      "0: 224x224 (no detections), 28.3ms\n",
      "Speed: 2.0ms preprocess, 28.3ms inference, 0.5ms postprocess per image at shape (1, 3, 224, 224)\n",
      "\n",
      "0: 224x224 (no detections), 25.3ms\n",
      "Speed: 0.0ms preprocess, 25.3ms inference, 0.5ms postprocess per image at shape (1, 3, 224, 224)\n",
      "\n",
      "0: 224x224 (no detections), 31.7ms\n",
      "Speed: 0.0ms preprocess, 31.7ms inference, 0.5ms postprocess per image at shape (1, 3, 224, 224)\n",
      "\n",
      "0: 224x224 (no detections), 26.3ms\n",
      "Speed: 0.5ms preprocess, 26.3ms inference, 0.5ms postprocess per image at shape (1, 3, 224, 224)\n",
      "\n",
      "0: 224x224 (no detections), 26.8ms\n",
      "Speed: 0.0ms preprocess, 26.8ms inference, 0.5ms postprocess per image at shape (1, 3, 224, 224)\n",
      "\n",
      "0: 224x224 (no detections), 27.3ms\n",
      "Speed: 0.0ms preprocess, 27.3ms inference, 0.5ms postprocess per image at shape (1, 3, 224, 224)\n",
      "\n",
      "0: 224x224 (no detections), 26.8ms\n",
      "Speed: 0.5ms preprocess, 26.8ms inference, 0.5ms postprocess per image at shape (1, 3, 224, 224)\n",
      "\n",
      "0: 224x224 (no detections), 26.8ms\n",
      "Speed: 0.5ms preprocess, 26.8ms inference, 0.5ms postprocess per image at shape (1, 3, 224, 224)\n",
      "\n",
      "0: 224x224 (no detections), 26.3ms\n",
      "Speed: 0.0ms preprocess, 26.3ms inference, 0.5ms postprocess per image at shape (1, 3, 224, 224)\n",
      "\n",
      "0: 224x224 1 pool, 31.2ms\n",
      "Speed: 1.0ms preprocess, 31.2ms inference, 0.5ms postprocess per image at shape (1, 3, 224, 224)\n",
      "\n",
      "0: 224x224 (no detections), 34.7ms\n",
      "Speed: 0.5ms preprocess, 34.7ms inference, 0.5ms postprocess per image at shape (1, 3, 224, 224)\n",
      "\n",
      "0: 224x224 (no detections), 25.8ms\n",
      "Speed: 0.5ms preprocess, 25.8ms inference, 0.5ms postprocess per image at shape (1, 3, 224, 224)\n",
      "\n",
      "0: 224x224 (no detections), 25.8ms\n",
      "Speed: 0.5ms preprocess, 25.8ms inference, 0.5ms postprocess per image at shape (1, 3, 224, 224)\n",
      "\n",
      "0: 224x224 (no detections), 37.2ms\n",
      "Speed: 0.5ms preprocess, 37.2ms inference, 0.5ms postprocess per image at shape (1, 3, 224, 224)\n",
      "\n",
      "0: 224x224 (no detections), 30.3ms\n",
      "Speed: 0.0ms preprocess, 30.3ms inference, 0.5ms postprocess per image at shape (1, 3, 224, 224)\n",
      "\n",
      "0: 224x224 (no detections), 25.8ms\n",
      "Speed: 0.5ms preprocess, 25.8ms inference, 0.5ms postprocess per image at shape (1, 3, 224, 224)\n",
      "\n",
      "0: 224x224 (no detections), 28.3ms\n",
      "Speed: 0.0ms preprocess, 28.3ms inference, 0.5ms postprocess per image at shape (1, 3, 224, 224)\n",
      "\n",
      "0: 224x224 (no detections), 26.8ms\n",
      "Speed: 0.5ms preprocess, 26.8ms inference, 0.5ms postprocess per image at shape (1, 3, 224, 224)\n",
      "\n",
      "0: 224x224 (no detections), 26.3ms\n",
      "Speed: 0.0ms preprocess, 26.3ms inference, 0.5ms postprocess per image at shape (1, 3, 224, 224)\n",
      "\n",
      "0: 224x224 1 pool, 31.2ms\n",
      "Speed: 0.0ms preprocess, 31.2ms inference, 0.5ms postprocess per image at shape (1, 3, 224, 224)\n",
      "\n",
      "0: 224x224 (no detections), 22.8ms\n",
      "Speed: 0.5ms preprocess, 22.8ms inference, 0.0ms postprocess per image at shape (1, 3, 224, 224)\n",
      "\n",
      "0: 224x224 (no detections), 65.0ms\n",
      "Speed: 0.0ms preprocess, 65.0ms inference, 0.5ms postprocess per image at shape (1, 3, 224, 224)\n",
      "\n",
      "0: 224x224 (no detections), 24.3ms\n",
      "Speed: 0.5ms preprocess, 24.3ms inference, 0.5ms postprocess per image at shape (1, 3, 224, 224)\n",
      "\n",
      "0: 224x224 (no detections), 24.8ms\n",
      "Speed: 0.0ms preprocess, 24.8ms inference, 0.0ms postprocess per image at shape (1, 3, 224, 224)\n",
      "\n",
      "0: 224x224 (no detections), 23.3ms\n",
      "Speed: 0.0ms preprocess, 23.3ms inference, 0.0ms postprocess per image at shape (1, 3, 224, 224)\n",
      "\n",
      "0: 224x224 (no detections), 26.3ms\n",
      "Speed: 0.0ms preprocess, 26.3ms inference, 0.0ms postprocess per image at shape (1, 3, 224, 224)\n",
      "\n",
      "0: 224x224 (no detections), 34.2ms\n",
      "Speed: 0.5ms preprocess, 34.2ms inference, 0.5ms postprocess per image at shape (1, 3, 224, 224)\n",
      "\n",
      "0: 224x224 (no detections), 27.3ms\n",
      "Speed: 0.5ms preprocess, 27.3ms inference, 0.5ms postprocess per image at shape (1, 3, 224, 224)\n",
      "\n",
      "0: 224x224 (no detections), 24.8ms\n",
      "Speed: 0.5ms preprocess, 24.8ms inference, 0.5ms postprocess per image at shape (1, 3, 224, 224)\n",
      "\n",
      "0: 224x224 (no detections), 23.3ms\n",
      "Speed: 0.5ms preprocess, 23.3ms inference, 0.5ms postprocess per image at shape (1, 3, 224, 224)\n",
      "\n",
      "0: 224x224 (no detections), 23.8ms\n",
      "Speed: 0.5ms preprocess, 23.8ms inference, 0.5ms postprocess per image at shape (1, 3, 224, 224)\n",
      "\n",
      "0: 224x224 (no detections), 23.8ms\n",
      "Speed: 0.5ms preprocess, 23.8ms inference, 0.5ms postprocess per image at shape (1, 3, 224, 224)\n",
      "\n",
      "0: 224x224 (no detections), 23.3ms\n",
      "Speed: 0.5ms preprocess, 23.3ms inference, 0.0ms postprocess per image at shape (1, 3, 224, 224)\n",
      "\n",
      "0: 224x224 (no detections), 23.3ms\n",
      "Speed: 0.0ms preprocess, 23.3ms inference, 0.0ms postprocess per image at shape (1, 3, 224, 224)\n",
      "\n",
      "0: 224x224 (no detections), 22.3ms\n",
      "Speed: 0.5ms preprocess, 22.3ms inference, 0.5ms postprocess per image at shape (1, 3, 224, 224)\n",
      "\n",
      "0: 224x224 (no detections), 24.3ms\n",
      "Speed: 0.0ms preprocess, 24.3ms inference, 0.5ms postprocess per image at shape (1, 3, 224, 224)\n",
      "\n",
      "0: 224x224 (no detections), 23.8ms\n",
      "Speed: 0.0ms preprocess, 23.8ms inference, 0.5ms postprocess per image at shape (1, 3, 224, 224)\n",
      "\n",
      "0: 224x224 (no detections), 24.8ms\n",
      "Speed: 0.0ms preprocess, 24.8ms inference, 0.5ms postprocess per image at shape (1, 3, 224, 224)\n",
      "\n",
      "0: 224x224 (no detections), 22.8ms\n",
      "Speed: 0.5ms preprocess, 22.8ms inference, 0.5ms postprocess per image at shape (1, 3, 224, 224)\n",
      "\n",
      "0: 224x224 (no detections), 22.8ms\n",
      "Speed: 0.5ms preprocess, 22.8ms inference, 0.5ms postprocess per image at shape (1, 3, 224, 224)\n",
      "\n",
      "0: 224x224 (no detections), 31.2ms\n",
      "Speed: 0.0ms preprocess, 31.2ms inference, 0.5ms postprocess per image at shape (1, 3, 224, 224)\n",
      "\n",
      "0: 224x224 (no detections), 22.8ms\n",
      "Speed: 0.5ms preprocess, 22.8ms inference, 0.5ms postprocess per image at shape (1, 3, 224, 224)\n",
      "\n",
      "0: 224x224 (no detections), 24.8ms\n",
      "Speed: 0.5ms preprocess, 24.8ms inference, 0.5ms postprocess per image at shape (1, 3, 224, 224)\n",
      "\n",
      "0: 224x224 (no detections), 75.4ms\n",
      "Speed: 0.5ms preprocess, 75.4ms inference, 0.5ms postprocess per image at shape (1, 3, 224, 224)\n",
      "\n",
      "0: 224x224 (no detections), 23.3ms\n",
      "Speed: 0.5ms preprocess, 23.3ms inference, 1.0ms postprocess per image at shape (1, 3, 224, 224)\n",
      "\n",
      "0: 224x224 (no detections), 22.3ms\n",
      "Speed: 0.0ms preprocess, 22.3ms inference, 1.0ms postprocess per image at shape (1, 3, 224, 224)\n",
      "\n",
      "0: 224x224 (no detections), 24.8ms\n",
      "Speed: 0.0ms preprocess, 24.8ms inference, 0.0ms postprocess per image at shape (1, 3, 224, 224)\n",
      "\n",
      "0: 224x224 (no detections), 21.8ms\n",
      "Speed: 0.5ms preprocess, 21.8ms inference, 0.5ms postprocess per image at shape (1, 3, 224, 224)\n",
      "\n",
      "0: 224x224 (no detections), 23.8ms\n",
      "Speed: 0.5ms preprocess, 23.8ms inference, 0.5ms postprocess per image at shape (1, 3, 224, 224)\n",
      "\n",
      "0: 224x224 (no detections), 23.8ms\n",
      "Speed: 0.5ms preprocess, 23.8ms inference, 0.5ms postprocess per image at shape (1, 3, 224, 224)\n",
      "\n",
      "0: 224x224 (no detections), 24.3ms\n",
      "Speed: 0.5ms preprocess, 24.3ms inference, 0.5ms postprocess per image at shape (1, 3, 224, 224)\n",
      "\n",
      "0: 224x224 (no detections), 23.8ms\n",
      "Speed: 0.5ms preprocess, 23.8ms inference, 0.5ms postprocess per image at shape (1, 3, 224, 224)\n",
      "\n",
      "0: 224x224 (no detections), 23.3ms\n",
      "Speed: 0.0ms preprocess, 23.3ms inference, 0.5ms postprocess per image at shape (1, 3, 224, 224)\n",
      "\n",
      "0: 224x224 (no detections), 22.8ms\n",
      "Speed: 0.0ms preprocess, 22.8ms inference, 0.0ms postprocess per image at shape (1, 3, 224, 224)\n",
      "\n",
      "0: 224x224 (no detections), 27.3ms\n",
      "Speed: 0.0ms preprocess, 27.3ms inference, 0.5ms postprocess per image at shape (1, 3, 224, 224)\n",
      "\n",
      "0: 224x224 (no detections), 27.3ms\n",
      "Speed: 0.5ms preprocess, 27.3ms inference, 0.5ms postprocess per image at shape (1, 3, 224, 224)\n",
      "\n",
      "0: 224x224 (no detections), 27.3ms\n",
      "Speed: 0.5ms preprocess, 27.3ms inference, 0.0ms postprocess per image at shape (1, 3, 224, 224)\n",
      "\n",
      "0: 224x224 (no detections), 30.8ms\n",
      "Speed: 0.5ms preprocess, 30.8ms inference, 0.5ms postprocess per image at shape (1, 3, 224, 224)\n",
      "\n",
      "0: 224x224 (no detections), 23.8ms\n",
      "Speed: 0.5ms preprocess, 23.8ms inference, 0.5ms postprocess per image at shape (1, 3, 224, 224)\n",
      "\n",
      "0: 224x224 (no detections), 26.3ms\n",
      "Speed: 0.5ms preprocess, 26.3ms inference, 0.0ms postprocess per image at shape (1, 3, 224, 224)\n",
      "\n",
      "0: 224x224 (no detections), 25.8ms\n",
      "Speed: 0.0ms preprocess, 25.8ms inference, 0.5ms postprocess per image at shape (1, 3, 224, 224)\n",
      "\n",
      "0: 224x224 (no detections), 24.8ms\n",
      "Speed: 0.5ms preprocess, 24.8ms inference, 0.0ms postprocess per image at shape (1, 3, 224, 224)\n",
      "\n",
      "0: 224x224 (no detections), 22.3ms\n",
      "Speed: 0.0ms preprocess, 22.3ms inference, 0.0ms postprocess per image at shape (1, 3, 224, 224)\n",
      "\n",
      "0: 224x224 (no detections), 23.8ms\n",
      "Speed: 0.5ms preprocess, 23.8ms inference, 0.5ms postprocess per image at shape (1, 3, 224, 224)\n",
      "\n",
      "0: 224x224 (no detections), 23.8ms\n",
      "Speed: 0.5ms preprocess, 23.8ms inference, 0.0ms postprocess per image at shape (1, 3, 224, 224)\n",
      "\n",
      "0: 224x224 1 pool, 30.3ms\n",
      "Speed: 0.5ms preprocess, 30.3ms inference, 0.5ms postprocess per image at shape (1, 3, 224, 224)\n",
      "\n",
      "0: 224x224 1 pool, 22.8ms\n",
      "Speed: 0.5ms preprocess, 22.8ms inference, 0.5ms postprocess per image at shape (1, 3, 224, 224)\n",
      "\n",
      "0: 224x224 1 pool, 24.3ms\n",
      "Speed: 0.5ms preprocess, 24.3ms inference, 0.5ms postprocess per image at shape (1, 3, 224, 224)\n",
      "\n",
      "0: 224x224 (no detections), 24.3ms\n",
      "Speed: 0.5ms preprocess, 24.3ms inference, 0.5ms postprocess per image at shape (1, 3, 224, 224)\n",
      "\n",
      "0: 224x224 (no detections), 24.8ms\n",
      "Speed: 0.5ms preprocess, 24.8ms inference, 0.5ms postprocess per image at shape (1, 3, 224, 224)\n",
      "\n",
      "0: 224x224 (no detections), 22.8ms\n",
      "Speed: 0.5ms preprocess, 22.8ms inference, 0.0ms postprocess per image at shape (1, 3, 224, 224)\n",
      "\n",
      "0: 224x224 (no detections), 23.8ms\n",
      "Speed: 0.0ms preprocess, 23.8ms inference, 0.5ms postprocess per image at shape (1, 3, 224, 224)\n",
      "\n",
      "0: 224x224 1 pool, 23.3ms\n",
      "Speed: 0.0ms preprocess, 23.3ms inference, 4.5ms postprocess per image at shape (1, 3, 224, 224)\n",
      "\n",
      "0: 224x224 (no detections), 23.3ms\n",
      "Speed: 0.0ms preprocess, 23.3ms inference, 0.5ms postprocess per image at shape (1, 3, 224, 224)\n",
      "\n",
      "0: 224x224 1 pool, 23.3ms\n",
      "Speed: 0.0ms preprocess, 23.3ms inference, 0.5ms postprocess per image at shape (1, 3, 224, 224)\n",
      "\n",
      "0: 224x224 2 pools, 24.3ms\n",
      "Speed: 0.5ms preprocess, 24.3ms inference, 0.5ms postprocess per image at shape (1, 3, 224, 224)\n",
      "\n",
      "0: 224x224 (no detections), 23.3ms\n",
      "Speed: 0.5ms preprocess, 23.3ms inference, 0.5ms postprocess per image at shape (1, 3, 224, 224)\n",
      "\n",
      "0: 224x224 1 pool, 24.3ms\n",
      "Speed: 0.0ms preprocess, 24.3ms inference, 0.5ms postprocess per image at shape (1, 3, 224, 224)\n",
      "\n",
      "0: 224x224 (no detections), 22.8ms\n",
      "Speed: 0.5ms preprocess, 22.8ms inference, 0.0ms postprocess per image at shape (1, 3, 224, 224)\n",
      "\n",
      "0: 224x224 (no detections), 28.8ms\n",
      "Speed: 0.5ms preprocess, 28.8ms inference, 0.0ms postprocess per image at shape (1, 3, 224, 224)\n",
      "\n",
      "0: 224x224 (no detections), 24.8ms\n",
      "Speed: 0.5ms preprocess, 24.8ms inference, 0.0ms postprocess per image at shape (1, 3, 224, 224)\n",
      "\n",
      "0: 224x224 (no detections), 24.8ms\n",
      "Speed: 0.0ms preprocess, 24.8ms inference, 0.5ms postprocess per image at shape (1, 3, 224, 224)\n",
      "\n",
      "0: 224x224 (no detections), 24.3ms\n",
      "Speed: 0.0ms preprocess, 24.3ms inference, 0.0ms postprocess per image at shape (1, 3, 224, 224)\n",
      "\n",
      "0: 224x224 (no detections), 57.5ms\n",
      "Speed: 0.0ms preprocess, 57.5ms inference, 0.0ms postprocess per image at shape (1, 3, 224, 224)\n",
      "\n",
      "0: 224x224 (no detections), 32.2ms\n",
      "Speed: 0.0ms preprocess, 32.2ms inference, 0.5ms postprocess per image at shape (1, 3, 224, 224)\n",
      "\n",
      "0: 224x224 (no detections), 25.8ms\n",
      "Speed: 0.5ms preprocess, 25.8ms inference, 0.5ms postprocess per image at shape (1, 3, 224, 224)\n",
      "\n",
      "0: 224x224 (no detections), 24.8ms\n",
      "Speed: 0.0ms preprocess, 24.8ms inference, 0.5ms postprocess per image at shape (1, 3, 224, 224)\n",
      "\n",
      "0: 224x224 1 pool, 24.3ms\n",
      "Speed: 0.5ms preprocess, 24.3ms inference, 5.0ms postprocess per image at shape (1, 3, 224, 224)\n",
      "\n",
      "0: 224x224 2 pools, 26.3ms\n",
      "Speed: 0.5ms preprocess, 26.3ms inference, 0.5ms postprocess per image at shape (1, 3, 224, 224)\n",
      "\n",
      "0: 224x224 1 pool, 21.8ms\n",
      "Speed: 0.0ms preprocess, 21.8ms inference, 1.0ms postprocess per image at shape (1, 3, 224, 224)\n",
      "\n",
      "0: 224x224 2 pools, 25.8ms\n",
      "Speed: 0.0ms preprocess, 25.8ms inference, 1.0ms postprocess per image at shape (1, 3, 224, 224)\n",
      "\n",
      "0: 224x224 (no detections), 21.8ms\n",
      "Speed: 0.5ms preprocess, 21.8ms inference, 0.5ms postprocess per image at shape (1, 3, 224, 224)\n",
      "\n",
      "0: 224x224 (no detections), 23.8ms\n",
      "Speed: 0.5ms preprocess, 23.8ms inference, 0.5ms postprocess per image at shape (1, 3, 224, 224)\n",
      "\n",
      "0: 224x224 (no detections), 24.8ms\n",
      "Speed: 0.5ms preprocess, 24.8ms inference, 0.5ms postprocess per image at shape (1, 3, 224, 224)\n",
      "\n",
      "0: 224x224 (no detections), 51.1ms\n",
      "Speed: 0.0ms preprocess, 51.1ms inference, 0.5ms postprocess per image at shape (1, 3, 224, 224)\n",
      "\n",
      "0: 224x224 (no detections), 32.2ms\n",
      "Speed: 0.5ms preprocess, 32.2ms inference, 0.5ms postprocess per image at shape (1, 3, 224, 224)\n",
      "\n",
      "0: 224x224 (no detections), 40.7ms\n",
      "Speed: 1.5ms preprocess, 40.7ms inference, 0.5ms postprocess per image at shape (1, 3, 224, 224)\n",
      "\n",
      "0: 224x224 (no detections), 27.3ms\n",
      "Speed: 0.5ms preprocess, 27.3ms inference, 0.5ms postprocess per image at shape (1, 3, 224, 224)\n",
      "\n",
      "0: 224x224 (no detections), 24.3ms\n",
      "Speed: 0.0ms preprocess, 24.3ms inference, 0.5ms postprocess per image at shape (1, 3, 224, 224)\n",
      "\n",
      "0: 224x224 (no detections), 22.8ms\n",
      "Speed: 0.5ms preprocess, 22.8ms inference, 0.0ms postprocess per image at shape (1, 3, 224, 224)\n",
      "\n",
      "0: 224x224 (no detections), 22.8ms\n",
      "Speed: 0.5ms preprocess, 22.8ms inference, 0.5ms postprocess per image at shape (1, 3, 224, 224)\n",
      "\n",
      "0: 224x224 (no detections), 24.3ms\n",
      "Speed: 1.0ms preprocess, 24.3ms inference, 0.5ms postprocess per image at shape (1, 3, 224, 224)\n",
      "\n",
      "0: 224x224 (no detections), 58.0ms\n",
      "Speed: 0.5ms preprocess, 58.0ms inference, 0.5ms postprocess per image at shape (1, 3, 224, 224)\n",
      "\n",
      "0: 224x224 (no detections), 30.8ms\n",
      "Speed: 0.5ms preprocess, 30.8ms inference, 0.5ms postprocess per image at shape (1, 3, 224, 224)\n",
      "\n",
      "0: 224x224 (no detections), 31.2ms\n",
      "Speed: 0.5ms preprocess, 31.2ms inference, 0.0ms postprocess per image at shape (1, 3, 224, 224)\n",
      "\n",
      "0: 224x224 (no detections), 22.3ms\n",
      "Speed: 0.5ms preprocess, 22.3ms inference, 0.5ms postprocess per image at shape (1, 3, 224, 224)\n",
      "\n",
      "0: 224x224 (no detections), 23.8ms\n",
      "Speed: 0.5ms preprocess, 23.8ms inference, 0.5ms postprocess per image at shape (1, 3, 224, 224)\n",
      "\n",
      "0: 224x224 (no detections), 25.3ms\n",
      "Speed: 0.5ms preprocess, 25.3ms inference, 0.5ms postprocess per image at shape (1, 3, 224, 224)\n",
      "\n",
      "0: 224x224 (no detections), 27.8ms\n",
      "Speed: 0.5ms preprocess, 27.8ms inference, 0.5ms postprocess per image at shape (1, 3, 224, 224)\n",
      "\n",
      "0: 224x224 (no detections), 22.8ms\n",
      "Speed: 0.5ms preprocess, 22.8ms inference, 0.5ms postprocess per image at shape (1, 3, 224, 224)\n",
      "\n",
      "0: 224x224 (no detections), 27.3ms\n",
      "Speed: 0.0ms preprocess, 27.3ms inference, 0.5ms postprocess per image at shape (1, 3, 224, 224)\n",
      "\n",
      "0: 224x224 (no detections), 25.8ms\n",
      "Speed: 0.0ms preprocess, 25.8ms inference, 0.5ms postprocess per image at shape (1, 3, 224, 224)\n",
      "\n",
      "0: 224x224 (no detections), 31.2ms\n",
      "Speed: 0.5ms preprocess, 31.2ms inference, 0.5ms postprocess per image at shape (1, 3, 224, 224)\n",
      "\n",
      "0: 224x224 (no detections), 25.8ms\n",
      "Speed: 0.5ms preprocess, 25.8ms inference, 0.5ms postprocess per image at shape (1, 3, 224, 224)\n",
      "\n",
      "0: 224x224 (no detections), 25.8ms\n",
      "Speed: 0.5ms preprocess, 25.8ms inference, 0.0ms postprocess per image at shape (1, 3, 224, 224)\n",
      "\n",
      "0: 224x224 (no detections), 28.8ms\n",
      "Speed: 0.0ms preprocess, 28.8ms inference, 0.5ms postprocess per image at shape (1, 3, 224, 224)\n",
      "\n",
      "0: 224x224 (no detections), 27.8ms\n",
      "Speed: 0.5ms preprocess, 27.8ms inference, 0.5ms postprocess per image at shape (1, 3, 224, 224)\n",
      "\n",
      "0: 224x224 (no detections), 27.3ms\n",
      "Speed: 0.0ms preprocess, 27.3ms inference, 0.5ms postprocess per image at shape (1, 3, 224, 224)\n",
      "\n",
      "0: 224x224 (no detections), 25.3ms\n",
      "Speed: 0.5ms preprocess, 25.3ms inference, 0.5ms postprocess per image at shape (1, 3, 224, 224)\n",
      "\n",
      "0: 224x224 (no detections), 24.3ms\n",
      "Speed: 0.5ms preprocess, 24.3ms inference, 0.5ms postprocess per image at shape (1, 3, 224, 224)\n",
      "\n",
      "0: 224x224 (no detections), 37.2ms\n",
      "Speed: 0.5ms preprocess, 37.2ms inference, 0.5ms postprocess per image at shape (1, 3, 224, 224)\n",
      "\n",
      "0: 224x224 (no detections), 30.3ms\n",
      "Speed: 1.5ms preprocess, 30.3ms inference, 0.5ms postprocess per image at shape (1, 3, 224, 224)\n",
      "\n",
      "0: 224x224 (no detections), 27.3ms\n",
      "Speed: 0.5ms preprocess, 27.3ms inference, 0.0ms postprocess per image at shape (1, 3, 224, 224)\n",
      "\n",
      "0: 224x224 (no detections), 23.8ms\n",
      "Speed: 0.5ms preprocess, 23.8ms inference, 0.5ms postprocess per image at shape (1, 3, 224, 224)\n",
      "\n",
      "0: 224x224 (no detections), 23.8ms\n",
      "Speed: 0.0ms preprocess, 23.8ms inference, 0.5ms postprocess per image at shape (1, 3, 224, 224)\n",
      "\n",
      "0: 224x224 (no detections), 23.8ms\n",
      "Speed: 0.5ms preprocess, 23.8ms inference, 0.5ms postprocess per image at shape (1, 3, 224, 224)\n",
      "\n",
      "0: 224x224 (no detections), 23.8ms\n",
      "Speed: 0.5ms preprocess, 23.8ms inference, 0.0ms postprocess per image at shape (1, 3, 224, 224)\n",
      "\n",
      "0: 224x224 (no detections), 23.8ms\n",
      "Speed: 0.5ms preprocess, 23.8ms inference, 0.5ms postprocess per image at shape (1, 3, 224, 224)\n",
      "\n",
      "0: 224x224 (no detections), 24.8ms\n",
      "Speed: 0.0ms preprocess, 24.8ms inference, 0.0ms postprocess per image at shape (1, 3, 224, 224)\n",
      "\n",
      "0: 224x224 (no detections), 22.3ms\n",
      "Speed: 0.0ms preprocess, 22.3ms inference, 0.5ms postprocess per image at shape (1, 3, 224, 224)\n",
      "\n",
      "0: 224x224 (no detections), 23.8ms\n",
      "Speed: 0.5ms preprocess, 23.8ms inference, 0.5ms postprocess per image at shape (1, 3, 224, 224)\n",
      "\n",
      "0: 224x224 (no detections), 24.3ms\n",
      "Speed: 0.5ms preprocess, 24.3ms inference, 0.5ms postprocess per image at shape (1, 3, 224, 224)\n",
      "\n",
      "0: 224x224 (no detections), 23.8ms\n",
      "Speed: 0.5ms preprocess, 23.8ms inference, 0.5ms postprocess per image at shape (1, 3, 224, 224)\n",
      "\n",
      "0: 224x224 (no detections), 23.3ms\n",
      "Speed: 0.5ms preprocess, 23.3ms inference, 0.5ms postprocess per image at shape (1, 3, 224, 224)\n",
      "\n",
      "0: 224x224 1 pool, 24.8ms\n",
      "Speed: 0.5ms preprocess, 24.8ms inference, 1.0ms postprocess per image at shape (1, 3, 224, 224)\n",
      "\n",
      "0: 224x224 (no detections), 23.3ms\n",
      "Speed: 0.5ms preprocess, 23.3ms inference, 0.5ms postprocess per image at shape (1, 3, 224, 224)\n",
      "\n",
      "0: 224x224 (no detections), 25.3ms\n",
      "Speed: 0.5ms preprocess, 25.3ms inference, 0.0ms postprocess per image at shape (1, 3, 224, 224)\n",
      "\n",
      "0: 224x224 1 pool, 25.8ms\n",
      "Speed: 0.5ms preprocess, 25.8ms inference, 0.5ms postprocess per image at shape (1, 3, 224, 224)\n",
      "\n",
      "0: 224x224 (no detections), 23.3ms\n",
      "Speed: 0.5ms preprocess, 23.3ms inference, 0.5ms postprocess per image at shape (1, 3, 224, 224)\n",
      "\n",
      "0: 224x224 (no detections), 25.3ms\n",
      "Speed: 0.5ms preprocess, 25.3ms inference, 0.0ms postprocess per image at shape (1, 3, 224, 224)\n",
      "\n",
      "0: 224x224 (no detections), 58.5ms\n",
      "Speed: 0.5ms preprocess, 58.5ms inference, 0.0ms postprocess per image at shape (1, 3, 224, 224)\n",
      "\n",
      "0: 224x224 (no detections), 41.2ms\n",
      "Speed: 1.0ms preprocess, 41.2ms inference, 0.5ms postprocess per image at shape (1, 3, 224, 224)\n",
      "\n",
      "0: 224x224 (no detections), 22.3ms\n",
      "Speed: 0.5ms preprocess, 22.3ms inference, 0.5ms postprocess per image at shape (1, 3, 224, 224)\n",
      "\n",
      "0: 224x224 (no detections), 24.3ms\n",
      "Speed: 0.5ms preprocess, 24.3ms inference, 0.5ms postprocess per image at shape (1, 3, 224, 224)\n",
      "\n",
      "0: 224x224 1 pool, 27.8ms\n",
      "Speed: 0.0ms preprocess, 27.8ms inference, 0.5ms postprocess per image at shape (1, 3, 224, 224)\n",
      "\n",
      "0: 224x224 (no detections), 23.8ms\n",
      "Speed: 0.5ms preprocess, 23.8ms inference, 0.0ms postprocess per image at shape (1, 3, 224, 224)\n",
      "\n",
      "0: 224x224 (no detections), 25.3ms\n",
      "Speed: 0.0ms preprocess, 25.3ms inference, 0.5ms postprocess per image at shape (1, 3, 224, 224)\n",
      "\n",
      "0: 224x224 (no detections), 22.8ms\n",
      "Speed: 0.0ms preprocess, 22.8ms inference, 0.5ms postprocess per image at shape (1, 3, 224, 224)\n",
      "\n",
      "0: 224x224 (no detections), 25.3ms\n",
      "Speed: 0.5ms preprocess, 25.3ms inference, 0.5ms postprocess per image at shape (1, 3, 224, 224)\n",
      "\n",
      "0: 224x224 (no detections), 30.8ms\n",
      "Speed: 0.5ms preprocess, 30.8ms inference, 0.5ms postprocess per image at shape (1, 3, 224, 224)\n",
      "\n",
      "0: 224x224 (no detections), 31.7ms\n",
      "Speed: 0.0ms preprocess, 31.7ms inference, 0.0ms postprocess per image at shape (1, 3, 224, 224)\n",
      "\n",
      "0: 224x224 (no detections), 26.8ms\n",
      "Speed: 0.5ms preprocess, 26.8ms inference, 0.5ms postprocess per image at shape (1, 3, 224, 224)\n",
      "\n",
      "0: 224x224 (no detections), 26.8ms\n",
      "Speed: 0.0ms preprocess, 26.8ms inference, 0.5ms postprocess per image at shape (1, 3, 224, 224)\n",
      "\n",
      "0: 224x224 (no detections), 27.3ms\n",
      "Speed: 0.0ms preprocess, 27.3ms inference, 0.0ms postprocess per image at shape (1, 3, 224, 224)\n",
      "\n",
      "0: 224x224 (no detections), 25.3ms\n",
      "Speed: 0.5ms preprocess, 25.3ms inference, 0.5ms postprocess per image at shape (1, 3, 224, 224)\n",
      "\n",
      "0: 224x224 (no detections), 24.3ms\n",
      "Speed: 0.5ms preprocess, 24.3ms inference, 0.5ms postprocess per image at shape (1, 3, 224, 224)\n",
      "\n",
      "0: 224x224 (no detections), 27.8ms\n",
      "Speed: 0.5ms preprocess, 27.8ms inference, 0.0ms postprocess per image at shape (1, 3, 224, 224)\n",
      "\n",
      "0: 224x224 (no detections), 23.3ms\n",
      "Speed: 0.5ms preprocess, 23.3ms inference, 0.5ms postprocess per image at shape (1, 3, 224, 224)\n",
      "\n",
      "0: 224x224 (no detections), 28.3ms\n",
      "Speed: 0.0ms preprocess, 28.3ms inference, 0.0ms postprocess per image at shape (1, 3, 224, 224)\n",
      "\n",
      "0: 224x224 1 pool, 23.3ms\n",
      "Speed: 0.0ms preprocess, 23.3ms inference, 0.5ms postprocess per image at shape (1, 3, 224, 224)\n",
      "\n",
      "0: 224x224 (no detections), 23.8ms\n",
      "Speed: 0.5ms preprocess, 23.8ms inference, 0.0ms postprocess per image at shape (1, 3, 224, 224)\n",
      "\n",
      "0: 224x224 (no detections), 23.8ms\n",
      "Speed: 0.5ms preprocess, 23.8ms inference, 0.0ms postprocess per image at shape (1, 3, 224, 224)\n",
      "\n",
      "0: 224x224 (no detections), 24.8ms\n",
      "Speed: 0.0ms preprocess, 24.8ms inference, 0.5ms postprocess per image at shape (1, 3, 224, 224)\n",
      "\n",
      "0: 224x224 (no detections), 23.8ms\n",
      "Speed: 0.5ms preprocess, 23.8ms inference, 0.0ms postprocess per image at shape (1, 3, 224, 224)\n",
      "\n",
      "0: 224x224 (no detections), 23.3ms\n",
      "Speed: 0.5ms preprocess, 23.3ms inference, 0.0ms postprocess per image at shape (1, 3, 224, 224)\n",
      "\n",
      "0: 224x224 (no detections), 24.3ms\n",
      "Speed: 0.0ms preprocess, 24.3ms inference, 0.5ms postprocess per image at shape (1, 3, 224, 224)\n",
      "\n",
      "0: 224x224 (no detections), 25.3ms\n",
      "Speed: 0.5ms preprocess, 25.3ms inference, 0.5ms postprocess per image at shape (1, 3, 224, 224)\n",
      "\n",
      "0: 224x224 (no detections), 23.8ms\n",
      "Speed: 0.5ms preprocess, 23.8ms inference, 0.5ms postprocess per image at shape (1, 3, 224, 224)\n",
      "\n",
      "0: 224x224 (no detections), 24.8ms\n",
      "Speed: 0.5ms preprocess, 24.8ms inference, 0.0ms postprocess per image at shape (1, 3, 224, 224)\n",
      "\n",
      "0: 224x224 (no detections), 24.3ms\n",
      "Speed: 0.5ms preprocess, 24.3ms inference, 0.5ms postprocess per image at shape (1, 3, 224, 224)\n",
      "\n",
      "0: 224x224 (no detections), 24.3ms\n",
      "Speed: 0.5ms preprocess, 24.3ms inference, 0.5ms postprocess per image at shape (1, 3, 224, 224)\n",
      "\n",
      "0: 224x224 (no detections), 23.8ms\n",
      "Speed: 0.0ms preprocess, 23.8ms inference, 0.0ms postprocess per image at shape (1, 3, 224, 224)\n",
      "\n",
      "0: 224x224 (no detections), 23.3ms\n",
      "Speed: 0.5ms preprocess, 23.3ms inference, 0.5ms postprocess per image at shape (1, 3, 224, 224)\n",
      "\n",
      "0: 224x224 (no detections), 23.3ms\n",
      "Speed: 0.5ms preprocess, 23.3ms inference, 0.5ms postprocess per image at shape (1, 3, 224, 224)\n",
      "\n",
      "0: 224x224 (no detections), 33.7ms\n",
      "Speed: 0.5ms preprocess, 33.7ms inference, 0.5ms postprocess per image at shape (1, 3, 224, 224)\n",
      "\n",
      "0: 224x224 (no detections), 25.3ms\n",
      "Speed: 0.5ms preprocess, 25.3ms inference, 0.0ms postprocess per image at shape (1, 3, 224, 224)\n",
      "\n",
      "0: 224x224 (no detections), 25.8ms\n",
      "Speed: 0.5ms preprocess, 25.8ms inference, 0.5ms postprocess per image at shape (1, 3, 224, 224)\n",
      "\n",
      "0: 224x224 (no detections), 22.8ms\n",
      "Speed: 0.5ms preprocess, 22.8ms inference, 0.5ms postprocess per image at shape (1, 3, 224, 224)\n",
      "\n",
      "0: 224x224 (no detections), 27.8ms\n",
      "Speed: 0.5ms preprocess, 27.8ms inference, 0.5ms postprocess per image at shape (1, 3, 224, 224)\n",
      "\n",
      "0: 224x224 (no detections), 24.8ms\n",
      "Speed: 0.0ms preprocess, 24.8ms inference, 0.0ms postprocess per image at shape (1, 3, 224, 224)\n",
      "\n",
      "0: 224x224 (no detections), 23.3ms\n",
      "Speed: 0.0ms preprocess, 23.3ms inference, 0.0ms postprocess per image at shape (1, 3, 224, 224)\n",
      "\n",
      "0: 224x224 (no detections), 23.8ms\n",
      "Speed: 0.0ms preprocess, 23.8ms inference, 0.0ms postprocess per image at shape (1, 3, 224, 224)\n",
      "\n",
      "0: 224x224 (no detections), 35.2ms\n",
      "Speed: 0.0ms preprocess, 35.2ms inference, 0.5ms postprocess per image at shape (1, 3, 224, 224)\n",
      "\n",
      "0: 224x224 (no detections), 30.8ms\n",
      "Speed: 0.5ms preprocess, 30.8ms inference, 0.5ms postprocess per image at shape (1, 3, 224, 224)\n",
      "\n",
      "0: 224x224 (no detections), 28.3ms\n",
      "Speed: 0.0ms preprocess, 28.3ms inference, 0.5ms postprocess per image at shape (1, 3, 224, 224)\n",
      "\n",
      "0: 224x224 (no detections), 27.3ms\n",
      "Speed: 0.5ms preprocess, 27.3ms inference, 0.0ms postprocess per image at shape (1, 3, 224, 224)\n",
      "\n",
      "0: 224x224 (no detections), 26.8ms\n",
      "Speed: 0.5ms preprocess, 26.8ms inference, 0.5ms postprocess per image at shape (1, 3, 224, 224)\n",
      "\n",
      "0: 224x224 1 pool, 27.3ms\n",
      "Speed: 0.0ms preprocess, 27.3ms inference, 0.5ms postprocess per image at shape (1, 3, 224, 224)\n",
      "\n",
      "0: 224x224 (no detections), 26.8ms\n",
      "Speed: 0.0ms preprocess, 26.8ms inference, 0.5ms postprocess per image at shape (1, 3, 224, 224)\n",
      "\n",
      "0: 224x224 (no detections), 26.8ms\n",
      "Speed: 0.0ms preprocess, 26.8ms inference, 0.5ms postprocess per image at shape (1, 3, 224, 224)\n",
      "\n",
      "0: 224x224 1 pool, 33.2ms\n",
      "Speed: 0.5ms preprocess, 33.2ms inference, 1.0ms postprocess per image at shape (1, 3, 224, 224)\n",
      "\n",
      "0: 224x224 (no detections), 29.3ms\n",
      "Speed: 0.5ms preprocess, 29.3ms inference, 0.0ms postprocess per image at shape (1, 3, 224, 224)\n",
      "\n",
      "0: 224x224 (no detections), 27.3ms\n",
      "Speed: 0.5ms preprocess, 27.3ms inference, 0.5ms postprocess per image at shape (1, 3, 224, 224)\n",
      "\n",
      "0: 224x224 (no detections), 27.3ms\n",
      "Speed: 0.5ms preprocess, 27.3ms inference, 0.5ms postprocess per image at shape (1, 3, 224, 224)\n",
      "\n",
      "0: 224x224 (no detections), 27.8ms\n",
      "Speed: 0.5ms preprocess, 27.8ms inference, 0.5ms postprocess per image at shape (1, 3, 224, 224)\n",
      "\n",
      "0: 224x224 (no detections), 27.3ms\n",
      "Speed: 0.0ms preprocess, 27.3ms inference, 0.5ms postprocess per image at shape (1, 3, 224, 224)\n",
      "\n",
      "0: 224x224 (no detections), 26.3ms\n",
      "Speed: 0.0ms preprocess, 26.3ms inference, 0.0ms postprocess per image at shape (1, 3, 224, 224)\n",
      "\n",
      "0: 224x224 (no detections), 60.5ms\n",
      "Speed: 0.0ms preprocess, 60.5ms inference, 1.0ms postprocess per image at shape (1, 3, 224, 224)\n",
      "\n",
      "0: 224x224 (no detections), 27.3ms\n",
      "Speed: 1.0ms preprocess, 27.3ms inference, 0.5ms postprocess per image at shape (1, 3, 224, 224)\n",
      "\n",
      "0: 224x224 (no detections), 32.7ms\n",
      "Speed: 0.5ms preprocess, 32.7ms inference, 0.5ms postprocess per image at shape (1, 3, 224, 224)\n",
      "\n",
      "0: 224x224 (no detections), 25.3ms\n",
      "Speed: 0.0ms preprocess, 25.3ms inference, 0.5ms postprocess per image at shape (1, 3, 224, 224)\n",
      "\n",
      "0: 224x224 (no detections), 40.2ms\n",
      "Speed: 0.5ms preprocess, 40.2ms inference, 2.0ms postprocess per image at shape (1, 3, 224, 224)\n",
      "\n",
      "0: 224x224 (no detections), 40.2ms\n",
      "Speed: 0.5ms preprocess, 40.2ms inference, 0.5ms postprocess per image at shape (1, 3, 224, 224)\n",
      "\n",
      "0: 224x224 1 pool, 33.2ms\n",
      "Speed: 0.5ms preprocess, 33.2ms inference, 0.5ms postprocess per image at shape (1, 3, 224, 224)\n",
      "\n",
      "0: 224x224 (no detections), 24.8ms\n",
      "Speed: 1.0ms preprocess, 24.8ms inference, 0.5ms postprocess per image at shape (1, 3, 224, 224)\n",
      "\n",
      "0: 224x224 (no detections), 29.8ms\n",
      "Speed: 0.5ms preprocess, 29.8ms inference, 0.5ms postprocess per image at shape (1, 3, 224, 224)\n",
      "\n",
      "0: 224x224 1 pool, 35.7ms\n",
      "Speed: 0.5ms preprocess, 35.7ms inference, 1.0ms postprocess per image at shape (1, 3, 224, 224)\n",
      "\n",
      "0: 224x224 (no detections), 24.3ms\n",
      "Speed: 0.5ms preprocess, 24.3ms inference, 0.0ms postprocess per image at shape (1, 3, 224, 224)\n",
      "\n",
      "0: 224x224 (no detections), 28.8ms\n",
      "Speed: 0.5ms preprocess, 28.8ms inference, 0.5ms postprocess per image at shape (1, 3, 224, 224)\n",
      "\n",
      "0: 224x224 (no detections), 25.8ms\n",
      "Speed: 0.0ms preprocess, 25.8ms inference, 0.5ms postprocess per image at shape (1, 3, 224, 224)\n",
      "\n",
      "0: 224x224 (no detections), 24.8ms\n",
      "Speed: 0.5ms preprocess, 24.8ms inference, 0.5ms postprocess per image at shape (1, 3, 224, 224)\n",
      "\n",
      "0: 224x224 (no detections), 26.8ms\n",
      "Speed: 0.0ms preprocess, 26.8ms inference, 0.0ms postprocess per image at shape (1, 3, 224, 224)\n",
      "\n",
      "0: 224x224 (no detections), 27.8ms\n",
      "Speed: 0.0ms preprocess, 27.8ms inference, 0.5ms postprocess per image at shape (1, 3, 224, 224)\n",
      "\n",
      "0: 224x224 (no detections), 34.2ms\n",
      "Speed: 0.5ms preprocess, 34.2ms inference, 0.5ms postprocess per image at shape (1, 3, 224, 224)\n",
      "\n",
      "0: 224x224 (no detections), 26.8ms\n",
      "Speed: 0.5ms preprocess, 26.8ms inference, 0.5ms postprocess per image at shape (1, 3, 224, 224)\n",
      "\n",
      "0: 224x224 (no detections), 28.8ms\n",
      "Speed: 0.5ms preprocess, 28.8ms inference, 0.5ms postprocess per image at shape (1, 3, 224, 224)\n",
      "\n",
      "0: 224x224 (no detections), 27.3ms\n",
      "Speed: 0.5ms preprocess, 27.3ms inference, 0.5ms postprocess per image at shape (1, 3, 224, 224)\n",
      "\n",
      "0: 224x224 (no detections), 83.3ms\n",
      "Speed: 0.5ms preprocess, 83.3ms inference, 0.5ms postprocess per image at shape (1, 3, 224, 224)\n",
      "\n",
      "0: 224x224 1 pool, 26.3ms\n",
      "Speed: 0.5ms preprocess, 26.3ms inference, 0.5ms postprocess per image at shape (1, 3, 224, 224)\n",
      "\n",
      "0: 224x224 (no detections), 33.7ms\n",
      "Speed: 0.0ms preprocess, 33.7ms inference, 0.5ms postprocess per image at shape (1, 3, 224, 224)\n",
      "\n",
      "0: 224x224 1 pool, 29.8ms\n",
      "Speed: 0.5ms preprocess, 29.8ms inference, 1.0ms postprocess per image at shape (1, 3, 224, 224)\n",
      "\n",
      "0: 224x224 (no detections), 34.2ms\n",
      "Speed: 0.5ms preprocess, 34.2ms inference, 0.5ms postprocess per image at shape (1, 3, 224, 224)\n",
      "\n",
      "0: 224x224 (no detections), 29.8ms\n",
      "Speed: 0.5ms preprocess, 29.8ms inference, 0.5ms postprocess per image at shape (1, 3, 224, 224)\n",
      "\n",
      "0: 224x224 (no detections), 26.3ms\n",
      "Speed: 0.5ms preprocess, 26.3ms inference, 0.5ms postprocess per image at shape (1, 3, 224, 224)\n",
      "\n",
      "0: 224x224 (no detections), 27.8ms\n",
      "Speed: 0.0ms preprocess, 27.8ms inference, 0.5ms postprocess per image at shape (1, 3, 224, 224)\n",
      "\n",
      "0: 224x224 (no detections), 26.3ms\n",
      "Speed: 0.5ms preprocess, 26.3ms inference, 0.5ms postprocess per image at shape (1, 3, 224, 224)\n",
      "\n",
      "0: 224x224 (no detections), 37.7ms\n",
      "Speed: 0.5ms preprocess, 37.7ms inference, 0.5ms postprocess per image at shape (1, 3, 224, 224)\n",
      "\n",
      "0: 224x224 (no detections), 33.7ms\n",
      "Speed: 0.0ms preprocess, 33.7ms inference, 0.5ms postprocess per image at shape (1, 3, 224, 224)\n",
      "\n",
      "0: 224x224 1 pool, 31.2ms\n",
      "Speed: 0.5ms preprocess, 31.2ms inference, 0.5ms postprocess per image at shape (1, 3, 224, 224)\n",
      "\n",
      "0: 224x224 (no detections), 29.3ms\n",
      "Speed: 0.5ms preprocess, 29.3ms inference, 0.5ms postprocess per image at shape (1, 3, 224, 224)\n",
      "\n",
      "0: 224x224 (no detections), 31.2ms\n",
      "Speed: 0.0ms preprocess, 31.2ms inference, 0.5ms postprocess per image at shape (1, 3, 224, 224)\n",
      "\n",
      "0: 224x224 1 pool, 30.8ms\n",
      "Speed: 0.5ms preprocess, 30.8ms inference, 0.5ms postprocess per image at shape (1, 3, 224, 224)\n",
      "\n",
      "0: 224x224 (no detections), 35.2ms\n",
      "Speed: 0.5ms preprocess, 35.2ms inference, 0.5ms postprocess per image at shape (1, 3, 224, 224)\n",
      "\n",
      "0: 224x224 (no detections), 27.8ms\n",
      "Speed: 0.5ms preprocess, 27.8ms inference, 0.5ms postprocess per image at shape (1, 3, 224, 224)\n",
      "\n",
      "0: 224x224 (no detections), 31.2ms\n",
      "Speed: 0.5ms preprocess, 31.2ms inference, 0.5ms postprocess per image at shape (1, 3, 224, 224)\n",
      "\n",
      "0: 224x224 (no detections), 60.0ms\n",
      "Speed: 0.5ms preprocess, 60.0ms inference, 0.5ms postprocess per image at shape (1, 3, 224, 224)\n",
      "\n",
      "0: 224x224 (no detections), 31.7ms\n",
      "Speed: 0.5ms preprocess, 31.7ms inference, 0.5ms postprocess per image at shape (1, 3, 224, 224)\n",
      "\n",
      "0: 224x224 (no detections), 28.8ms\n",
      "Speed: 0.5ms preprocess, 28.8ms inference, 0.5ms postprocess per image at shape (1, 3, 224, 224)\n",
      "\n",
      "0: 224x224 (no detections), 26.3ms\n",
      "Speed: 0.5ms preprocess, 26.3ms inference, 0.0ms postprocess per image at shape (1, 3, 224, 224)\n",
      "\n",
      "0: 224x224 (no detections), 25.3ms\n",
      "Speed: 0.5ms preprocess, 25.3ms inference, 0.5ms postprocess per image at shape (1, 3, 224, 224)\n",
      "\n",
      "0: 224x224 (no detections), 24.8ms\n",
      "Speed: 0.0ms preprocess, 24.8ms inference, 0.5ms postprocess per image at shape (1, 3, 224, 224)\n",
      "\n",
      "0: 224x224 (no detections), 23.8ms\n",
      "Speed: 0.5ms preprocess, 23.8ms inference, 0.5ms postprocess per image at shape (1, 3, 224, 224)\n",
      "\n",
      "0: 224x224 (no detections), 22.8ms\n",
      "Speed: 0.5ms preprocess, 22.8ms inference, 0.5ms postprocess per image at shape (1, 3, 224, 224)\n",
      "\n",
      "0: 224x224 (no detections), 23.8ms\n",
      "Speed: 0.0ms preprocess, 23.8ms inference, 0.5ms postprocess per image at shape (1, 3, 224, 224)\n",
      "\n",
      "0: 224x224 (no detections), 23.8ms\n",
      "Speed: 0.0ms preprocess, 23.8ms inference, 0.5ms postprocess per image at shape (1, 3, 224, 224)\n",
      "\n",
      "0: 224x224 (no detections), 24.3ms\n",
      "Speed: 0.0ms preprocess, 24.3ms inference, 0.5ms postprocess per image at shape (1, 3, 224, 224)\n",
      "\n",
      "0: 224x224 2 pools, 30.8ms\n",
      "Speed: 0.0ms preprocess, 30.8ms inference, 1.0ms postprocess per image at shape (1, 3, 224, 224)\n",
      "\n",
      "0: 224x224 (no detections), 22.8ms\n",
      "Speed: 0.5ms preprocess, 22.8ms inference, 0.5ms postprocess per image at shape (1, 3, 224, 224)\n",
      "\n",
      "0: 224x224 (no detections), 22.8ms\n",
      "Speed: 0.0ms preprocess, 22.8ms inference, 0.5ms postprocess per image at shape (1, 3, 224, 224)\n",
      "\n",
      "0: 224x224 1 pool, 24.3ms\n",
      "Speed: 0.5ms preprocess, 24.3ms inference, 0.5ms postprocess per image at shape (1, 3, 224, 224)\n",
      "\n",
      "0: 224x224 (no detections), 21.8ms\n",
      "Speed: 0.5ms preprocess, 21.8ms inference, 0.0ms postprocess per image at shape (1, 3, 224, 224)\n",
      "\n",
      "0: 224x224 1 pool, 23.8ms\n",
      "Speed: 0.5ms preprocess, 23.8ms inference, 1.0ms postprocess per image at shape (1, 3, 224, 224)\n",
      "\n",
      "0: 224x224 (no detections), 22.8ms\n",
      "Speed: 0.5ms preprocess, 22.8ms inference, 0.5ms postprocess per image at shape (1, 3, 224, 224)\n",
      "\n",
      "0: 224x224 (no detections), 23.3ms\n",
      "Speed: 0.5ms preprocess, 23.3ms inference, 0.5ms postprocess per image at shape (1, 3, 224, 224)\n",
      "\n",
      "0: 224x224 (no detections), 22.3ms\n",
      "Speed: 0.5ms preprocess, 22.3ms inference, 0.5ms postprocess per image at shape (1, 3, 224, 224)\n",
      "\n",
      "0: 224x224 (no detections), 66.5ms\n",
      "Speed: 0.5ms preprocess, 66.5ms inference, 0.5ms postprocess per image at shape (1, 3, 224, 224)\n",
      "\n",
      "0: 224x224 (no detections), 29.8ms\n",
      "Speed: 0.5ms preprocess, 29.8ms inference, 0.0ms postprocess per image at shape (1, 3, 224, 224)\n",
      "\n",
      "0: 224x224 (no detections), 25.3ms\n",
      "Speed: 0.0ms preprocess, 25.3ms inference, 0.5ms postprocess per image at shape (1, 3, 224, 224)\n",
      "\n",
      "0: 224x224 (no detections), 22.8ms\n",
      "Speed: 0.0ms preprocess, 22.8ms inference, 0.5ms postprocess per image at shape (1, 3, 224, 224)\n",
      "\n",
      "0: 224x224 1 pool, 24.8ms\n",
      "Speed: 0.0ms preprocess, 24.8ms inference, 0.5ms postprocess per image at shape (1, 3, 224, 224)\n",
      "\n",
      "0: 224x224 (no detections), 22.8ms\n",
      "Speed: 0.5ms preprocess, 22.8ms inference, 0.5ms postprocess per image at shape (1, 3, 224, 224)\n",
      "\n",
      "0: 224x224 (no detections), 27.3ms\n",
      "Speed: 0.5ms preprocess, 27.3ms inference, 0.0ms postprocess per image at shape (1, 3, 224, 224)\n",
      "\n",
      "0: 224x224 (no detections), 25.3ms\n",
      "Speed: 0.5ms preprocess, 25.3ms inference, 0.0ms postprocess per image at shape (1, 3, 224, 224)\n",
      "\n",
      "0: 224x224 (no detections), 25.8ms\n",
      "Speed: 0.5ms preprocess, 25.8ms inference, 0.5ms postprocess per image at shape (1, 3, 224, 224)\n",
      "\n",
      "0: 224x224 (no detections), 34.7ms\n",
      "Speed: 0.5ms preprocess, 34.7ms inference, 0.0ms postprocess per image at shape (1, 3, 224, 224)\n",
      "\n",
      "0: 224x224 (no detections), 24.8ms\n",
      "Speed: 0.0ms preprocess, 24.8ms inference, 0.5ms postprocess per image at shape (1, 3, 224, 224)\n",
      "\n",
      "0: 224x224 (no detections), 25.8ms\n",
      "Speed: 0.0ms preprocess, 25.8ms inference, 0.5ms postprocess per image at shape (1, 3, 224, 224)\n",
      "\n",
      "0: 224x224 (no detections), 27.3ms\n",
      "Speed: 0.5ms preprocess, 27.3ms inference, 0.5ms postprocess per image at shape (1, 3, 224, 224)\n",
      "\n",
      "0: 224x224 (no detections), 31.2ms\n",
      "Speed: 0.5ms preprocess, 31.2ms inference, 0.5ms postprocess per image at shape (1, 3, 224, 224)\n",
      "\n",
      "0: 224x224 (no detections), 24.8ms\n",
      "Speed: 0.5ms preprocess, 24.8ms inference, 0.0ms postprocess per image at shape (1, 3, 224, 224)\n",
      "\n",
      "0: 224x224 (no detections), 25.8ms\n",
      "Speed: 0.5ms preprocess, 25.8ms inference, 0.0ms postprocess per image at shape (1, 3, 224, 224)\n",
      "\n",
      "0: 224x224 (no detections), 25.3ms\n",
      "Speed: 0.5ms preprocess, 25.3ms inference, 0.5ms postprocess per image at shape (1, 3, 224, 224)\n",
      "\n",
      "0: 224x224 (no detections), 25.8ms\n",
      "Speed: 0.0ms preprocess, 25.8ms inference, 0.5ms postprocess per image at shape (1, 3, 224, 224)\n",
      "\n",
      "0: 224x224 (no detections), 27.3ms\n",
      "Speed: 0.5ms preprocess, 27.3ms inference, 0.5ms postprocess per image at shape (1, 3, 224, 224)\n",
      "\n",
      "0: 224x224 (no detections), 63.5ms\n",
      "Speed: 1.0ms preprocess, 63.5ms inference, 0.5ms postprocess per image at shape (1, 3, 224, 224)\n",
      "\n",
      "0: 224x224 (no detections), 36.2ms\n",
      "Speed: 0.5ms preprocess, 36.2ms inference, 0.5ms postprocess per image at shape (1, 3, 224, 224)\n",
      "\n",
      "0: 224x224 (no detections), 30.3ms\n",
      "Speed: 0.0ms preprocess, 30.3ms inference, 0.5ms postprocess per image at shape (1, 3, 224, 224)\n",
      "\n",
      "0: 224x224 (no detections), 26.3ms\n",
      "Speed: 0.5ms preprocess, 26.3ms inference, 0.5ms postprocess per image at shape (1, 3, 224, 224)\n",
      "\n",
      "0: 224x224 (no detections), 26.8ms\n",
      "Speed: 0.5ms preprocess, 26.8ms inference, 0.5ms postprocess per image at shape (1, 3, 224, 224)\n",
      "\n",
      "0: 224x224 (no detections), 24.8ms\n",
      "Speed: 0.5ms preprocess, 24.8ms inference, 0.5ms postprocess per image at shape (1, 3, 224, 224)\n",
      "\n",
      "0: 224x224 (no detections), 23.3ms\n",
      "Speed: 0.0ms preprocess, 23.3ms inference, 0.5ms postprocess per image at shape (1, 3, 224, 224)\n",
      "\n",
      "0: 224x224 (no detections), 23.3ms\n",
      "Speed: 0.0ms preprocess, 23.3ms inference, 0.5ms postprocess per image at shape (1, 3, 224, 224)\n",
      "\n",
      "0: 224x224 1 pool, 23.8ms\n",
      "Speed: 0.0ms preprocess, 23.8ms inference, 0.5ms postprocess per image at shape (1, 3, 224, 224)\n",
      "\n",
      "0: 224x224 (no detections), 24.8ms\n",
      "Speed: 1.0ms preprocess, 24.8ms inference, 0.0ms postprocess per image at shape (1, 3, 224, 224)\n",
      "\n",
      "0: 224x224 (no detections), 24.3ms\n",
      "Speed: 0.5ms preprocess, 24.3ms inference, 0.5ms postprocess per image at shape (1, 3, 224, 224)\n",
      "\n",
      "0: 224x224 (no detections), 27.3ms\n",
      "Speed: 0.5ms preprocess, 27.3ms inference, 0.5ms postprocess per image at shape (1, 3, 224, 224)\n",
      "\n",
      "0: 224x224 (no detections), 23.8ms\n",
      "Speed: 0.5ms preprocess, 23.8ms inference, 0.5ms postprocess per image at shape (1, 3, 224, 224)\n",
      "\n",
      "0: 224x224 (no detections), 27.3ms\n",
      "Speed: 0.5ms preprocess, 27.3ms inference, 0.0ms postprocess per image at shape (1, 3, 224, 224)\n",
      "\n",
      "0: 224x224 1 pool, 23.3ms\n",
      "Speed: 0.0ms preprocess, 23.3ms inference, 0.5ms postprocess per image at shape (1, 3, 224, 224)\n",
      "\n",
      "0: 224x224 (no detections), 24.8ms\n",
      "Speed: 0.0ms preprocess, 24.8ms inference, 0.5ms postprocess per image at shape (1, 3, 224, 224)\n",
      "\n",
      "0: 224x224 (no detections), 22.8ms\n",
      "Speed: 0.5ms preprocess, 22.8ms inference, 0.5ms postprocess per image at shape (1, 3, 224, 224)\n",
      "\n",
      "0: 224x224 1 pool, 35.7ms\n",
      "Speed: 0.5ms preprocess, 35.7ms inference, 1.0ms postprocess per image at shape (1, 3, 224, 224)\n",
      "\n",
      "0: 224x224 (no detections), 23.3ms\n",
      "Speed: 0.0ms preprocess, 23.3ms inference, 0.5ms postprocess per image at shape (1, 3, 224, 224)\n",
      "\n",
      "0: 224x224 (no detections), 22.8ms\n",
      "Speed: 0.5ms preprocess, 22.8ms inference, 0.0ms postprocess per image at shape (1, 3, 224, 224)\n",
      "\n",
      "0: 224x224 (no detections), 23.3ms\n",
      "Speed: 0.5ms preprocess, 23.3ms inference, 0.0ms postprocess per image at shape (1, 3, 224, 224)\n",
      "\n",
      "0: 224x224 (no detections), 24.8ms\n",
      "Speed: 0.0ms preprocess, 24.8ms inference, 0.0ms postprocess per image at shape (1, 3, 224, 224)\n",
      "\n",
      "0: 224x224 (no detections), 23.8ms\n",
      "Speed: 0.5ms preprocess, 23.8ms inference, 0.0ms postprocess per image at shape (1, 3, 224, 224)\n",
      "\n",
      "0: 224x224 (no detections), 23.3ms\n",
      "Speed: 0.5ms preprocess, 23.3ms inference, 0.5ms postprocess per image at shape (1, 3, 224, 224)\n",
      "\n",
      "0: 224x224 (no detections), 22.3ms\n",
      "Speed: 0.5ms preprocess, 22.3ms inference, 0.5ms postprocess per image at shape (1, 3, 224, 224)\n",
      "\n",
      "0: 224x224 (no detections), 31.7ms\n",
      "Speed: 0.5ms preprocess, 31.7ms inference, 0.0ms postprocess per image at shape (1, 3, 224, 224)\n",
      "\n",
      "0: 224x224 (no detections), 22.8ms\n",
      "Speed: 0.5ms preprocess, 22.8ms inference, 0.5ms postprocess per image at shape (1, 3, 224, 224)\n",
      "\n",
      "0: 224x224 (no detections), 24.3ms\n",
      "Speed: 0.5ms preprocess, 24.3ms inference, 0.0ms postprocess per image at shape (1, 3, 224, 224)\n",
      "\n",
      "0: 224x224 (no detections), 22.8ms\n",
      "Speed: 0.5ms preprocess, 22.8ms inference, 0.5ms postprocess per image at shape (1, 3, 224, 224)\n",
      "\n",
      "0: 224x224 (no detections), 23.8ms\n",
      "Speed: 0.5ms preprocess, 23.8ms inference, 0.5ms postprocess per image at shape (1, 3, 224, 224)\n",
      "\n",
      "0: 224x224 (no detections), 24.3ms\n",
      "Speed: 0.0ms preprocess, 24.3ms inference, 0.5ms postprocess per image at shape (1, 3, 224, 224)\n",
      "\n",
      "0: 224x224 (no detections), 26.3ms\n",
      "Speed: 0.5ms preprocess, 26.3ms inference, 0.5ms postprocess per image at shape (1, 3, 224, 224)\n",
      "\n",
      "0: 224x224 (no detections), 49.6ms\n",
      "Speed: 1.0ms preprocess, 49.6ms inference, 0.5ms postprocess per image at shape (1, 3, 224, 224)\n",
      "\n",
      "0: 224x224 (no detections), 32.2ms\n",
      "Speed: 0.0ms preprocess, 32.2ms inference, 0.5ms postprocess per image at shape (1, 3, 224, 224)\n",
      "\n",
      "0: 224x224 (no detections), 25.3ms\n",
      "Speed: 0.5ms preprocess, 25.3ms inference, 0.5ms postprocess per image at shape (1, 3, 224, 224)\n",
      "\n",
      "0: 224x224 (no detections), 60.0ms\n",
      "Speed: 0.5ms preprocess, 60.0ms inference, 0.0ms postprocess per image at shape (1, 3, 224, 224)\n",
      "\n",
      "0: 224x224 1 pool, 30.3ms\n",
      "Speed: 1.5ms preprocess, 30.3ms inference, 0.5ms postprocess per image at shape (1, 3, 224, 224)\n",
      "\n",
      "0: 224x224 1 pool, 22.8ms\n",
      "Speed: 0.5ms preprocess, 22.8ms inference, 0.5ms postprocess per image at shape (1, 3, 224, 224)\n",
      "\n",
      "0: 224x224 (no detections), 25.3ms\n",
      "Speed: 0.5ms preprocess, 25.3ms inference, 0.5ms postprocess per image at shape (1, 3, 224, 224)\n",
      "\n",
      "0: 224x224 (no detections), 23.8ms\n",
      "Speed: 0.5ms preprocess, 23.8ms inference, 0.0ms postprocess per image at shape (1, 3, 224, 224)\n",
      "\n",
      "0: 224x224 (no detections), 24.3ms\n",
      "Speed: 0.5ms preprocess, 24.3ms inference, 0.5ms postprocess per image at shape (1, 3, 224, 224)\n",
      "\n",
      "0: 224x224 (no detections), 24.3ms\n",
      "Speed: 0.0ms preprocess, 24.3ms inference, 0.5ms postprocess per image at shape (1, 3, 224, 224)\n",
      "\n",
      "0: 224x224 (no detections), 24.3ms\n",
      "Speed: 0.0ms preprocess, 24.3ms inference, 0.5ms postprocess per image at shape (1, 3, 224, 224)\n",
      "\n",
      "0: 224x224 (no detections), 23.3ms\n",
      "Speed: 0.5ms preprocess, 23.3ms inference, 0.5ms postprocess per image at shape (1, 3, 224, 224)\n",
      "\n",
      "0: 224x224 (no detections), 24.3ms\n",
      "Speed: 0.5ms preprocess, 24.3ms inference, 0.5ms postprocess per image at shape (1, 3, 224, 224)\n",
      "\n",
      "0: 224x224 (no detections), 29.8ms\n",
      "Speed: 0.0ms preprocess, 29.8ms inference, 0.5ms postprocess per image at shape (1, 3, 224, 224)\n",
      "\n",
      "0: 224x224 (no detections), 30.3ms\n",
      "Speed: 0.5ms preprocess, 30.3ms inference, 0.5ms postprocess per image at shape (1, 3, 224, 224)\n",
      "\n",
      "0: 224x224 (no detections), 28.8ms\n",
      "Speed: 0.5ms preprocess, 28.8ms inference, 0.0ms postprocess per image at shape (1, 3, 224, 224)\n",
      "\n",
      "0: 224x224 (no detections), 27.3ms\n",
      "Speed: 0.5ms preprocess, 27.3ms inference, 0.0ms postprocess per image at shape (1, 3, 224, 224)\n",
      "\n",
      "0: 224x224 (no detections), 28.3ms\n",
      "Speed: 0.5ms preprocess, 28.3ms inference, 0.5ms postprocess per image at shape (1, 3, 224, 224)\n",
      "\n",
      "0: 224x224 (no detections), 24.8ms\n",
      "Speed: 0.5ms preprocess, 24.8ms inference, 0.5ms postprocess per image at shape (1, 3, 224, 224)\n",
      "\n",
      "0: 224x224 (no detections), 24.8ms\n",
      "Speed: 0.5ms preprocess, 24.8ms inference, 0.0ms postprocess per image at shape (1, 3, 224, 224)\n",
      "\n",
      "0: 224x224 (no detections), 24.3ms\n",
      "Speed: 0.5ms preprocess, 24.3ms inference, 0.5ms postprocess per image at shape (1, 3, 224, 224)\n",
      "\n",
      "0: 224x224 (no detections), 25.8ms\n",
      "Speed: 0.0ms preprocess, 25.8ms inference, 0.5ms postprocess per image at shape (1, 3, 224, 224)\n",
      "\n",
      "0: 224x224 (no detections), 79.9ms\n",
      "Speed: 0.5ms preprocess, 79.9ms inference, 0.0ms postprocess per image at shape (1, 3, 224, 224)\n",
      "\n",
      "0: 224x224 (no detections), 29.3ms\n",
      "Speed: 0.5ms preprocess, 29.3ms inference, 0.5ms postprocess per image at shape (1, 3, 224, 224)\n",
      "\n",
      "0: 224x224 (no detections), 25.8ms\n",
      "Speed: 1.5ms preprocess, 25.8ms inference, 0.5ms postprocess per image at shape (1, 3, 224, 224)\n",
      "\n",
      "0: 224x224 (no detections), 28.8ms\n",
      "Speed: 0.5ms preprocess, 28.8ms inference, 0.5ms postprocess per image at shape (1, 3, 224, 224)\n",
      "\n",
      "0: 224x224 (no detections), 26.8ms\n",
      "Speed: 0.0ms preprocess, 26.8ms inference, 0.5ms postprocess per image at shape (1, 3, 224, 224)\n",
      "\n",
      "0: 224x224 (no detections), 25.8ms\n",
      "Speed: 0.5ms preprocess, 25.8ms inference, 0.5ms postprocess per image at shape (1, 3, 224, 224)\n",
      "\n",
      "0: 224x224 (no detections), 22.8ms\n",
      "Speed: 0.5ms preprocess, 22.8ms inference, 0.0ms postprocess per image at shape (1, 3, 224, 224)\n",
      "\n",
      "0: 224x224 (no detections), 29.8ms\n",
      "Speed: 0.5ms preprocess, 29.8ms inference, 0.5ms postprocess per image at shape (1, 3, 224, 224)\n",
      "\n",
      "0: 224x224 (no detections), 23.3ms\n",
      "Speed: 0.5ms preprocess, 23.3ms inference, 0.5ms postprocess per image at shape (1, 3, 224, 224)\n",
      "\n",
      "0: 224x224 (no detections), 25.3ms\n",
      "Speed: 0.5ms preprocess, 25.3ms inference, 0.5ms postprocess per image at shape (1, 3, 224, 224)\n",
      "\n",
      "0: 224x224 (no detections), 32.2ms\n",
      "Speed: 0.5ms preprocess, 32.2ms inference, 0.5ms postprocess per image at shape (1, 3, 224, 224)\n",
      "\n",
      "0: 224x224 (no detections), 24.8ms\n",
      "Speed: 0.5ms preprocess, 24.8ms inference, 0.5ms postprocess per image at shape (1, 3, 224, 224)\n",
      "\n",
      "0: 224x224 (no detections), 24.8ms\n",
      "Speed: 0.5ms preprocess, 24.8ms inference, 0.5ms postprocess per image at shape (1, 3, 224, 224)\n",
      "\n",
      "0: 224x224 1 pool, 27.8ms\n",
      "Speed: 0.5ms preprocess, 27.8ms inference, 0.5ms postprocess per image at shape (1, 3, 224, 224)\n",
      "\n",
      "0: 224x224 (no detections), 23.3ms\n",
      "Speed: 0.0ms preprocess, 23.3ms inference, 0.5ms postprocess per image at shape (1, 3, 224, 224)\n",
      "\n",
      "0: 224x224 (no detections), 23.3ms\n",
      "Speed: 0.5ms preprocess, 23.3ms inference, 0.5ms postprocess per image at shape (1, 3, 224, 224)\n",
      "\n",
      "0: 224x224 (no detections), 24.3ms\n",
      "Speed: 0.5ms preprocess, 24.3ms inference, 0.5ms postprocess per image at shape (1, 3, 224, 224)\n",
      "\n",
      "0: 224x224 (no detections), 23.3ms\n",
      "Speed: 0.5ms preprocess, 23.3ms inference, 0.5ms postprocess per image at shape (1, 3, 224, 224)\n",
      "\n",
      "0: 224x224 (no detections), 23.8ms\n",
      "Speed: 0.5ms preprocess, 23.8ms inference, 0.0ms postprocess per image at shape (1, 3, 224, 224)\n",
      "\n",
      "0: 224x224 (no detections), 32.2ms\n",
      "Speed: 0.0ms preprocess, 32.2ms inference, 0.5ms postprocess per image at shape (1, 3, 224, 224)\n",
      "\n",
      "0: 224x224 (no detections), 28.3ms\n",
      "Speed: 0.5ms preprocess, 28.3ms inference, 0.5ms postprocess per image at shape (1, 3, 224, 224)\n",
      "\n",
      "0: 224x224 (no detections), 26.3ms\n",
      "Speed: 0.5ms preprocess, 26.3ms inference, 0.5ms postprocess per image at shape (1, 3, 224, 224)\n",
      "\n",
      "0: 224x224 (no detections), 24.3ms\n",
      "Speed: 0.5ms preprocess, 24.3ms inference, 0.5ms postprocess per image at shape (1, 3, 224, 224)\n",
      "\n",
      "0: 224x224 1 pool, 23.3ms\n",
      "Speed: 0.0ms preprocess, 23.3ms inference, 0.5ms postprocess per image at shape (1, 3, 224, 224)\n",
      "\n",
      "0: 224x224 (no detections), 23.3ms\n",
      "Speed: 0.5ms preprocess, 23.3ms inference, 0.5ms postprocess per image at shape (1, 3, 224, 224)\n",
      "\n",
      "0: 224x224 (no detections), 24.8ms\n",
      "Speed: 0.5ms preprocess, 24.8ms inference, 0.5ms postprocess per image at shape (1, 3, 224, 224)\n",
      "\n",
      "0: 224x224 1 pool, 31.2ms\n",
      "Speed: 0.0ms preprocess, 31.2ms inference, 0.5ms postprocess per image at shape (1, 3, 224, 224)\n",
      "\n",
      "0: 224x224 (no detections), 24.8ms\n",
      "Speed: 0.5ms preprocess, 24.8ms inference, 0.0ms postprocess per image at shape (1, 3, 224, 224)\n",
      "\n",
      "0: 224x224 (no detections), 24.3ms\n",
      "Speed: 0.0ms preprocess, 24.3ms inference, 0.5ms postprocess per image at shape (1, 3, 224, 224)\n",
      "\n",
      "0: 224x224 (no detections), 24.8ms\n",
      "Speed: 0.5ms preprocess, 24.8ms inference, 0.5ms postprocess per image at shape (1, 3, 224, 224)\n",
      "\n",
      "0: 224x224 (no detections), 24.8ms\n",
      "Speed: 0.0ms preprocess, 24.8ms inference, 0.5ms postprocess per image at shape (1, 3, 224, 224)\n",
      "\n",
      "0: 224x224 (no detections), 28.8ms\n",
      "Speed: 0.5ms preprocess, 28.8ms inference, 0.5ms postprocess per image at shape (1, 3, 224, 224)\n",
      "\n",
      "0: 224x224 (no detections), 24.3ms\n",
      "Speed: 0.5ms preprocess, 24.3ms inference, 0.5ms postprocess per image at shape (1, 3, 224, 224)\n",
      "\n",
      "0: 224x224 (no detections), 22.8ms\n",
      "Speed: 0.0ms preprocess, 22.8ms inference, 0.5ms postprocess per image at shape (1, 3, 224, 224)\n",
      "\n",
      "0: 224x224 (no detections), 78.9ms\n",
      "Speed: 0.0ms preprocess, 78.9ms inference, 0.5ms postprocess per image at shape (1, 3, 224, 224)\n",
      "\n",
      "0: 224x224 (no detections), 25.3ms\n",
      "Speed: 0.0ms preprocess, 25.3ms inference, 0.5ms postprocess per image at shape (1, 3, 224, 224)\n",
      "\n",
      "0: 224x224 (no detections), 24.3ms\n",
      "Speed: 0.5ms preprocess, 24.3ms inference, 0.5ms postprocess per image at shape (1, 3, 224, 224)\n",
      "\n",
      "0: 224x224 (no detections), 24.3ms\n",
      "Speed: 0.5ms preprocess, 24.3ms inference, 0.5ms postprocess per image at shape (1, 3, 224, 224)\n",
      "\n",
      "0: 224x224 (no detections), 23.8ms\n",
      "Speed: 0.5ms preprocess, 23.8ms inference, 0.0ms postprocess per image at shape (1, 3, 224, 224)\n",
      "\n",
      "0: 224x224 (no detections), 24.3ms\n",
      "Speed: 0.5ms preprocess, 24.3ms inference, 0.5ms postprocess per image at shape (1, 3, 224, 224)\n",
      "\n",
      "0: 224x224 (no detections), 22.8ms\n",
      "Speed: 0.5ms preprocess, 22.8ms inference, 0.5ms postprocess per image at shape (1, 3, 224, 224)\n",
      "\n",
      "0: 224x224 (no detections), 22.8ms\n",
      "Speed: 0.5ms preprocess, 22.8ms inference, 0.0ms postprocess per image at shape (1, 3, 224, 224)\n",
      "\n",
      "0: 224x224 (no detections), 24.8ms\n",
      "Speed: 0.0ms preprocess, 24.8ms inference, 0.5ms postprocess per image at shape (1, 3, 224, 224)\n",
      "\n",
      "0: 224x224 (no detections), 23.8ms\n",
      "Speed: 0.5ms preprocess, 23.8ms inference, 0.5ms postprocess per image at shape (1, 3, 224, 224)\n",
      "\n",
      "0: 224x224 (no detections), 25.8ms\n",
      "Speed: 0.5ms preprocess, 25.8ms inference, 0.0ms postprocess per image at shape (1, 3, 224, 224)\n",
      "\n",
      "0: 224x224 (no detections), 24.3ms\n",
      "Speed: 0.5ms preprocess, 24.3ms inference, 1.0ms postprocess per image at shape (1, 3, 224, 224)\n",
      "\n",
      "0: 224x224 (no detections), 24.3ms\n",
      "Speed: 0.5ms preprocess, 24.3ms inference, 0.5ms postprocess per image at shape (1, 3, 224, 224)\n",
      "\n",
      "0: 224x224 (no detections), 22.8ms\n",
      "Speed: 0.5ms preprocess, 22.8ms inference, 0.0ms postprocess per image at shape (1, 3, 224, 224)\n",
      "\n",
      "0: 224x224 (no detections), 23.3ms\n",
      "Speed: 0.5ms preprocess, 23.3ms inference, 0.5ms postprocess per image at shape (1, 3, 224, 224)\n",
      "\n",
      "0: 224x224 (no detections), 23.3ms\n",
      "Speed: 0.5ms preprocess, 23.3ms inference, 0.5ms postprocess per image at shape (1, 3, 224, 224)\n",
      "\n",
      "0: 224x224 (no detections), 30.3ms\n",
      "Speed: 0.5ms preprocess, 30.3ms inference, 0.0ms postprocess per image at shape (1, 3, 224, 224)\n",
      "\n",
      "0: 224x224 (no detections), 27.3ms\n",
      "Speed: 0.5ms preprocess, 27.3ms inference, 0.0ms postprocess per image at shape (1, 3, 224, 224)\n",
      "\n",
      "0: 224x224 (no detections), 63.0ms\n",
      "Speed: 0.5ms preprocess, 63.0ms inference, 0.5ms postprocess per image at shape (1, 3, 224, 224)\n",
      "\n",
      "0: 224x224 (no detections), 30.8ms\n",
      "Speed: 3.5ms preprocess, 30.8ms inference, 0.5ms postprocess per image at shape (1, 3, 224, 224)\n",
      "\n",
      "0: 224x224 (no detections), 22.3ms\n",
      "Speed: 0.5ms preprocess, 22.3ms inference, 0.5ms postprocess per image at shape (1, 3, 224, 224)\n",
      "\n",
      "0: 224x224 (no detections), 29.8ms\n",
      "Speed: 0.0ms preprocess, 29.8ms inference, 0.5ms postprocess per image at shape (1, 3, 224, 224)\n",
      "\n",
      "0: 224x224 (no detections), 23.8ms\n",
      "Speed: 0.5ms preprocess, 23.8ms inference, 0.5ms postprocess per image at shape (1, 3, 224, 224)\n",
      "\n",
      "0: 224x224 (no detections), 23.8ms\n",
      "Speed: 0.5ms preprocess, 23.8ms inference, 0.5ms postprocess per image at shape (1, 3, 224, 224)\n",
      "\n",
      "0: 224x224 (no detections), 24.3ms\n",
      "Speed: 0.5ms preprocess, 24.3ms inference, 0.5ms postprocess per image at shape (1, 3, 224, 224)\n",
      "\n",
      "0: 224x224 (no detections), 24.3ms\n",
      "Speed: 0.5ms preprocess, 24.3ms inference, 0.5ms postprocess per image at shape (1, 3, 224, 224)\n",
      "\n",
      "0: 224x224 (no detections), 25.3ms\n",
      "Speed: 0.0ms preprocess, 25.3ms inference, 0.0ms postprocess per image at shape (1, 3, 224, 224)\n",
      "\n",
      "0: 224x224 (no detections), 22.3ms\n",
      "Speed: 0.5ms preprocess, 22.3ms inference, 0.5ms postprocess per image at shape (1, 3, 224, 224)\n",
      "\n",
      "0: 224x224 (no detections), 29.3ms\n",
      "Speed: 0.5ms preprocess, 29.3ms inference, 0.0ms postprocess per image at shape (1, 3, 224, 224)\n",
      "\n",
      "0: 224x224 (no detections), 24.9ms\n",
      "Speed: 0.5ms preprocess, 24.9ms inference, 0.4ms postprocess per image at shape (1, 3, 224, 224)\n",
      "\n",
      "0: 224x224 (no detections), 24.8ms\n",
      "Speed: 0.5ms preprocess, 24.8ms inference, 0.5ms postprocess per image at shape (1, 3, 224, 224)\n",
      "\n",
      "0: 224x224 (no detections), 22.9ms\n",
      "Speed: 0.0ms preprocess, 22.9ms inference, 0.4ms postprocess per image at shape (1, 3, 224, 224)\n",
      "\n",
      "0: 224x224 (no detections), 24.8ms\n",
      "Speed: 0.0ms preprocess, 24.8ms inference, 0.5ms postprocess per image at shape (1, 3, 224, 224)\n",
      "\n",
      "0: 224x224 (no detections), 23.3ms\n",
      "Speed: 0.0ms preprocess, 23.3ms inference, 0.5ms postprocess per image at shape (1, 3, 224, 224)\n",
      "\n",
      "0: 224x224 (no detections), 24.3ms\n",
      "Speed: 0.5ms preprocess, 24.3ms inference, 0.5ms postprocess per image at shape (1, 3, 224, 224)\n",
      "\n",
      "0: 224x224 (no detections), 23.8ms\n",
      "Speed: 0.5ms preprocess, 23.8ms inference, 0.5ms postprocess per image at shape (1, 3, 224, 224)\n",
      "\n",
      "0: 224x224 (no detections), 23.8ms\n",
      "Speed: 0.5ms preprocess, 23.8ms inference, 0.5ms postprocess per image at shape (1, 3, 224, 224)\n",
      "\n",
      "0: 224x224 (no detections), 32.7ms\n",
      "Speed: 0.5ms preprocess, 32.7ms inference, 0.5ms postprocess per image at shape (1, 3, 224, 224)\n",
      "\n",
      "0: 224x224 (no detections), 23.3ms\n",
      "Speed: 0.0ms preprocess, 23.3ms inference, 0.5ms postprocess per image at shape (1, 3, 224, 224)\n",
      "\n",
      "0: 224x224 (no detections), 23.8ms\n",
      "Speed: 0.5ms preprocess, 23.8ms inference, 0.0ms postprocess per image at shape (1, 3, 224, 224)\n",
      "\n",
      "0: 224x224 (no detections), 22.8ms\n",
      "Speed: 0.0ms preprocess, 22.8ms inference, 0.0ms postprocess per image at shape (1, 3, 224, 224)\n",
      "\n",
      "0: 224x224 (no detections), 24.8ms\n",
      "Speed: 0.0ms preprocess, 24.8ms inference, 0.5ms postprocess per image at shape (1, 3, 224, 224)\n",
      "\n",
      "0: 224x224 (no detections), 28.8ms\n",
      "Speed: 0.0ms preprocess, 28.8ms inference, 0.5ms postprocess per image at shape (1, 3, 224, 224)\n",
      "\n",
      "0: 224x224 (no detections), 22.8ms\n",
      "Speed: 0.0ms preprocess, 22.8ms inference, 0.5ms postprocess per image at shape (1, 3, 224, 224)\n",
      "\n",
      "0: 224x224 1 pool, 22.3ms\n",
      "Speed: 0.5ms preprocess, 22.3ms inference, 1.0ms postprocess per image at shape (1, 3, 224, 224)\n",
      "\n",
      "0: 224x224 (no detections), 23.3ms\n",
      "Speed: 0.5ms preprocess, 23.3ms inference, 0.5ms postprocess per image at shape (1, 3, 224, 224)\n",
      "\n",
      "0: 224x224 (no detections), 23.8ms\n",
      "Speed: 0.0ms preprocess, 23.8ms inference, 0.5ms postprocess per image at shape (1, 3, 224, 224)\n",
      "\n",
      "0: 224x224 1 pool, 24.8ms\n",
      "Speed: 0.5ms preprocess, 24.8ms inference, 0.5ms postprocess per image at shape (1, 3, 224, 224)\n",
      "\n",
      "0: 224x224 (no detections), 32.7ms\n",
      "Speed: 0.0ms preprocess, 32.7ms inference, 0.5ms postprocess per image at shape (1, 3, 224, 224)\n",
      "\n",
      "0: 224x224 (no detections), 23.8ms\n",
      "Speed: 0.0ms preprocess, 23.8ms inference, 0.5ms postprocess per image at shape (1, 3, 224, 224)\n",
      "\n",
      "0: 224x224 (no detections), 26.3ms\n",
      "Speed: 0.5ms preprocess, 26.3ms inference, 0.5ms postprocess per image at shape (1, 3, 224, 224)\n",
      "\n",
      "0: 224x224 1 pool, 53.1ms\n",
      "Speed: 0.5ms preprocess, 53.1ms inference, 1.0ms postprocess per image at shape (1, 3, 224, 224)\n",
      "\n",
      "0: 224x224 1 pool, 31.7ms\n",
      "Speed: 0.5ms preprocess, 31.7ms inference, 1.0ms postprocess per image at shape (1, 3, 224, 224)\n",
      "\n",
      "0: 224x224 (no detections), 86.3ms\n",
      "Speed: 0.5ms preprocess, 86.3ms inference, 1.0ms postprocess per image at shape (1, 3, 224, 224)\n",
      "\n",
      "0: 224x224 (no detections), 23.3ms\n",
      "Speed: 0.5ms preprocess, 23.3ms inference, 0.0ms postprocess per image at shape (1, 3, 224, 224)\n",
      "\n",
      "0: 224x224 (no detections), 23.3ms\n",
      "Speed: 0.0ms preprocess, 23.3ms inference, 0.5ms postprocess per image at shape (1, 3, 224, 224)\n",
      "\n",
      "0: 224x224 (no detections), 30.3ms\n",
      "Speed: 0.5ms preprocess, 30.3ms inference, 0.0ms postprocess per image at shape (1, 3, 224, 224)\n",
      "\n",
      "0: 224x224 (no detections), 22.8ms\n",
      "Speed: 0.5ms preprocess, 22.8ms inference, 0.5ms postprocess per image at shape (1, 3, 224, 224)\n",
      "\n",
      "0: 224x224 (no detections), 22.8ms\n",
      "Speed: 0.5ms preprocess, 22.8ms inference, 0.5ms postprocess per image at shape (1, 3, 224, 224)\n",
      "\n",
      "0: 224x224 (no detections), 23.8ms\n",
      "Speed: 0.0ms preprocess, 23.8ms inference, 0.5ms postprocess per image at shape (1, 3, 224, 224)\n",
      "\n",
      "0: 224x224 1 pool, 23.3ms\n",
      "Speed: 0.5ms preprocess, 23.3ms inference, 0.5ms postprocess per image at shape (1, 3, 224, 224)\n",
      "\n",
      "0: 224x224 (no detections), 22.8ms\n",
      "Speed: 0.5ms preprocess, 22.8ms inference, 0.5ms postprocess per image at shape (1, 3, 224, 224)\n",
      "\n",
      "0: 224x224 (no detections), 23.3ms\n",
      "Speed: 0.0ms preprocess, 23.3ms inference, 0.5ms postprocess per image at shape (1, 3, 224, 224)\n",
      "\n",
      "0: 224x224 (no detections), 23.8ms\n",
      "Speed: 0.5ms preprocess, 23.8ms inference, 0.5ms postprocess per image at shape (1, 3, 224, 224)\n",
      "\n",
      "0: 224x224 (no detections), 35.2ms\n",
      "Speed: 0.0ms preprocess, 35.2ms inference, 0.0ms postprocess per image at shape (1, 3, 224, 224)\n",
      "\n",
      "0: 224x224 (no detections), 25.8ms\n",
      "Speed: 0.5ms preprocess, 25.8ms inference, 0.0ms postprocess per image at shape (1, 3, 224, 224)\n",
      "\n",
      "0: 224x224 (no detections), 25.3ms\n",
      "Speed: 0.5ms preprocess, 25.3ms inference, 0.5ms postprocess per image at shape (1, 3, 224, 224)\n",
      "\n",
      "0: 224x224 (no detections), 25.3ms\n",
      "Speed: 0.5ms preprocess, 25.3ms inference, 0.5ms postprocess per image at shape (1, 3, 224, 224)\n",
      "\n",
      "0: 224x224 (no detections), 28.8ms\n",
      "Speed: 0.5ms preprocess, 28.8ms inference, 0.5ms postprocess per image at shape (1, 3, 224, 224)\n",
      "\n",
      "0: 224x224 (no detections), 26.3ms\n",
      "Speed: 0.5ms preprocess, 26.3ms inference, 0.0ms postprocess per image at shape (1, 3, 224, 224)\n",
      "\n",
      "0: 224x224 (no detections), 27.8ms\n",
      "Speed: 1.0ms preprocess, 27.8ms inference, 0.5ms postprocess per image at shape (1, 3, 224, 224)\n",
      "\n",
      "0: 224x224 (no detections), 25.8ms\n",
      "Speed: 0.0ms preprocess, 25.8ms inference, 0.5ms postprocess per image at shape (1, 3, 224, 224)\n",
      "\n",
      "0: 224x224 (no detections), 25.8ms\n",
      "Speed: 0.5ms preprocess, 25.8ms inference, 0.0ms postprocess per image at shape (1, 3, 224, 224)\n",
      "\n",
      "0: 224x224 (no detections), 32.7ms\n",
      "Speed: 0.5ms preprocess, 32.7ms inference, 0.0ms postprocess per image at shape (1, 3, 224, 224)\n",
      "\n",
      "0: 224x224 (no detections), 26.3ms\n",
      "Speed: 0.0ms preprocess, 26.3ms inference, 0.5ms postprocess per image at shape (1, 3, 224, 224)\n",
      "\n",
      "0: 224x224 (no detections), 26.3ms\n",
      "Speed: 0.5ms preprocess, 26.3ms inference, 1.0ms postprocess per image at shape (1, 3, 224, 224)\n",
      "\n",
      "0: 224x224 (no detections), 32.2ms\n",
      "Speed: 0.5ms preprocess, 32.2ms inference, 0.5ms postprocess per image at shape (1, 3, 224, 224)\n",
      "\n",
      "0: 224x224 (no detections), 30.8ms\n",
      "Speed: 0.0ms preprocess, 30.8ms inference, 0.5ms postprocess per image at shape (1, 3, 224, 224)\n",
      "\n",
      "0: 224x224 (no detections), 27.3ms\n",
      "Speed: 0.5ms preprocess, 27.3ms inference, 0.5ms postprocess per image at shape (1, 3, 224, 224)\n",
      "\n",
      "0: 224x224 (no detections), 28.8ms\n",
      "Speed: 0.5ms preprocess, 28.8ms inference, 0.0ms postprocess per image at shape (1, 3, 224, 224)\n",
      "\n",
      "0: 224x224 (no detections), 24.3ms\n",
      "Speed: 0.5ms preprocess, 24.3ms inference, 0.5ms postprocess per image at shape (1, 3, 224, 224)\n",
      "\n",
      "0: 224x224 (no detections), 31.2ms\n",
      "Speed: 0.5ms preprocess, 31.2ms inference, 0.0ms postprocess per image at shape (1, 3, 224, 224)\n",
      "\n",
      "0: 224x224 (no detections), 22.8ms\n",
      "Speed: 0.5ms preprocess, 22.8ms inference, 0.5ms postprocess per image at shape (1, 3, 224, 224)\n",
      "\n",
      "0: 224x224 (no detections), 24.8ms\n",
      "Speed: 0.5ms preprocess, 24.8ms inference, 0.5ms postprocess per image at shape (1, 3, 224, 224)\n",
      "\n",
      "0: 224x224 (no detections), 23.8ms\n",
      "Speed: 0.5ms preprocess, 23.8ms inference, 0.0ms postprocess per image at shape (1, 3, 224, 224)\n",
      "\n",
      "0: 224x224 (no detections), 24.3ms\n",
      "Speed: 0.5ms preprocess, 24.3ms inference, 0.5ms postprocess per image at shape (1, 3, 224, 224)\n",
      "\n",
      "0: 224x224 (no detections), 24.3ms\n",
      "Speed: 0.5ms preprocess, 24.3ms inference, 0.5ms postprocess per image at shape (1, 3, 224, 224)\n",
      "\n",
      "0: 224x224 (no detections), 62.5ms\n",
      "Speed: 0.5ms preprocess, 62.5ms inference, 0.0ms postprocess per image at shape (1, 3, 224, 224)\n",
      "\n",
      "0: 224x224 (no detections), 24.3ms\n",
      "Speed: 4.5ms preprocess, 24.3ms inference, 0.5ms postprocess per image at shape (1, 3, 224, 224)\n",
      "\n",
      "0: 224x224 (no detections), 26.3ms\n",
      "Speed: 0.5ms preprocess, 26.3ms inference, 0.5ms postprocess per image at shape (1, 3, 224, 224)\n",
      "\n",
      "0: 224x224 (no detections), 22.8ms\n",
      "Speed: 0.5ms preprocess, 22.8ms inference, 0.5ms postprocess per image at shape (1, 3, 224, 224)\n",
      "\n",
      "0: 224x224 1 pool, 26.8ms\n",
      "Speed: 0.0ms preprocess, 26.8ms inference, 0.5ms postprocess per image at shape (1, 3, 224, 224)\n",
      "\n",
      "0: 224x224 1 pool, 25.3ms\n",
      "Speed: 0.0ms preprocess, 25.3ms inference, 1.0ms postprocess per image at shape (1, 3, 224, 224)\n",
      "\n",
      "0: 224x224 (no detections), 26.8ms\n",
      "Speed: 0.5ms preprocess, 26.8ms inference, 0.5ms postprocess per image at shape (1, 3, 224, 224)\n",
      "\n",
      "0: 224x224 (no detections), 28.3ms\n",
      "Speed: 0.5ms preprocess, 28.3ms inference, 0.5ms postprocess per image at shape (1, 3, 224, 224)\n",
      "\n",
      "0: 224x224 (no detections), 23.8ms\n",
      "Speed: 0.0ms preprocess, 23.8ms inference, 0.5ms postprocess per image at shape (1, 3, 224, 224)\n",
      "\n",
      "0: 224x224 (no detections), 23.8ms\n",
      "Speed: 0.5ms preprocess, 23.8ms inference, 0.5ms postprocess per image at shape (1, 3, 224, 224)\n",
      "\n",
      "0: 224x224 (no detections), 24.3ms\n",
      "Speed: 0.0ms preprocess, 24.3ms inference, 0.0ms postprocess per image at shape (1, 3, 224, 224)\n",
      "\n",
      "0: 224x224 (no detections), 25.8ms\n",
      "Speed: 0.0ms preprocess, 25.8ms inference, 0.0ms postprocess per image at shape (1, 3, 224, 224)\n",
      "\n",
      "0: 224x224 2 pools, 24.3ms\n",
      "Speed: 0.5ms preprocess, 24.3ms inference, 0.5ms postprocess per image at shape (1, 3, 224, 224)\n",
      "\n",
      "0: 224x224 (no detections), 30.8ms\n",
      "Speed: 0.5ms preprocess, 30.8ms inference, 0.5ms postprocess per image at shape (1, 3, 224, 224)\n",
      "\n",
      "0: 224x224 (no detections), 22.8ms\n",
      "Speed: 0.5ms preprocess, 22.8ms inference, 0.5ms postprocess per image at shape (1, 3, 224, 224)\n",
      "\n",
      "0: 224x224 (no detections), 24.8ms\n",
      "Speed: 0.5ms preprocess, 24.8ms inference, 0.5ms postprocess per image at shape (1, 3, 224, 224)\n",
      "\n",
      "0: 224x224 (no detections), 20.8ms\n",
      "Speed: 0.5ms preprocess, 20.8ms inference, 0.5ms postprocess per image at shape (1, 3, 224, 224)\n",
      "\n",
      "0: 224x224 (no detections), 26.8ms\n",
      "Speed: 0.5ms preprocess, 26.8ms inference, 0.0ms postprocess per image at shape (1, 3, 224, 224)\n",
      "\n",
      "0: 224x224 (no detections), 23.8ms\n",
      "Speed: 0.5ms preprocess, 23.8ms inference, 0.5ms postprocess per image at shape (1, 3, 224, 224)\n",
      "\n",
      "0: 224x224 (no detections), 34.2ms\n",
      "Speed: 0.5ms preprocess, 34.2ms inference, 0.5ms postprocess per image at shape (1, 3, 224, 224)\n",
      "\n",
      "0: 224x224 1 pool, 22.8ms\n",
      "Speed: 0.5ms preprocess, 22.8ms inference, 0.5ms postprocess per image at shape (1, 3, 224, 224)\n",
      "\n",
      "0: 224x224 (no detections), 25.8ms\n",
      "Speed: 0.5ms preprocess, 25.8ms inference, 0.0ms postprocess per image at shape (1, 3, 224, 224)\n",
      "\n",
      "0: 224x224 (no detections), 23.3ms\n",
      "Speed: 0.5ms preprocess, 23.3ms inference, 0.5ms postprocess per image at shape (1, 3, 224, 224)\n",
      "\n",
      "0: 224x224 2 pools, 24.3ms\n",
      "Speed: 0.5ms preprocess, 24.3ms inference, 1.0ms postprocess per image at shape (1, 3, 224, 224)\n",
      "\n",
      "0: 224x224 1 pool, 23.8ms\n",
      "Speed: 0.0ms preprocess, 23.8ms inference, 1.0ms postprocess per image at shape (1, 3, 224, 224)\n",
      "\n",
      "0: 224x224 (no detections), 24.8ms\n",
      "Speed: 0.0ms preprocess, 24.8ms inference, 0.5ms postprocess per image at shape (1, 3, 224, 224)\n",
      "\n",
      "0: 224x224 (no detections), 29.3ms\n",
      "Speed: 0.5ms preprocess, 29.3ms inference, 0.5ms postprocess per image at shape (1, 3, 224, 224)\n",
      "\n",
      "0: 224x224 (no detections), 24.8ms\n",
      "Speed: 0.5ms preprocess, 24.8ms inference, 0.5ms postprocess per image at shape (1, 3, 224, 224)\n",
      "\n",
      "0: 224x224 (no detections), 22.8ms\n",
      "Speed: 0.5ms preprocess, 22.8ms inference, 0.5ms postprocess per image at shape (1, 3, 224, 224)\n",
      "\n",
      "0: 224x224 (no detections), 24.3ms\n",
      "Speed: 0.5ms preprocess, 24.3ms inference, 0.5ms postprocess per image at shape (1, 3, 224, 224)\n",
      "\n",
      "0: 224x224 (no detections), 24.3ms\n",
      "Speed: 0.5ms preprocess, 24.3ms inference, 0.0ms postprocess per image at shape (1, 3, 224, 224)\n",
      "\n",
      "0: 224x224 (no detections), 24.8ms\n",
      "Speed: 0.0ms preprocess, 24.8ms inference, 0.5ms postprocess per image at shape (1, 3, 224, 224)\n",
      "\n",
      "0: 224x224 (no detections), 30.3ms\n",
      "Speed: 0.0ms preprocess, 30.3ms inference, 0.0ms postprocess per image at shape (1, 3, 224, 224)\n",
      "\n",
      "0: 224x224 (no detections), 69.9ms\n",
      "Speed: 0.0ms preprocess, 69.9ms inference, 0.5ms postprocess per image at shape (1, 3, 224, 224)\n",
      "\n",
      "0: 224x224 1 pool, 24.3ms\n",
      "Speed: 0.5ms preprocess, 24.3ms inference, 0.5ms postprocess per image at shape (1, 3, 224, 224)\n",
      "\n",
      "0: 224x224 (no detections), 24.3ms\n",
      "Speed: 0.0ms preprocess, 24.3ms inference, 0.0ms postprocess per image at shape (1, 3, 224, 224)\n",
      "\n",
      "0: 224x224 1 pool, 24.8ms\n",
      "Speed: 0.5ms preprocess, 24.8ms inference, 0.5ms postprocess per image at shape (1, 3, 224, 224)\n",
      "\n",
      "0: 224x224 1 pool, 23.3ms\n",
      "Speed: 0.5ms preprocess, 23.3ms inference, 1.0ms postprocess per image at shape (1, 3, 224, 224)\n",
      "\n",
      "0: 224x224 (no detections), 22.3ms\n",
      "Speed: 0.5ms preprocess, 22.3ms inference, 0.5ms postprocess per image at shape (1, 3, 224, 224)\n",
      "\n",
      "0: 224x224 1 pool, 30.3ms\n",
      "Speed: 0.5ms preprocess, 30.3ms inference, 0.5ms postprocess per image at shape (1, 3, 224, 224)\n",
      "\n",
      "0: 224x224 (no detections), 23.8ms\n",
      "Speed: 0.5ms preprocess, 23.8ms inference, 0.5ms postprocess per image at shape (1, 3, 224, 224)\n",
      "\n",
      "0: 224x224 (no detections), 24.8ms\n",
      "Speed: 0.0ms preprocess, 24.8ms inference, 0.5ms postprocess per image at shape (1, 3, 224, 224)\n",
      "\n",
      "0: 224x224 (no detections), 23.3ms\n",
      "Speed: 0.0ms preprocess, 23.3ms inference, 0.5ms postprocess per image at shape (1, 3, 224, 224)\n",
      "\n",
      "0: 224x224 (no detections), 21.8ms\n",
      "Speed: 0.0ms preprocess, 21.8ms inference, 0.5ms postprocess per image at shape (1, 3, 224, 224)\n",
      "\n",
      "0: 224x224 (no detections), 24.3ms\n",
      "Speed: 0.0ms preprocess, 24.3ms inference, 0.5ms postprocess per image at shape (1, 3, 224, 224)\n",
      "\n",
      "0: 224x224 (no detections), 23.8ms\n",
      "Speed: 0.5ms preprocess, 23.8ms inference, 0.5ms postprocess per image at shape (1, 3, 224, 224)\n",
      "\n",
      "0: 224x224 (no detections), 30.8ms\n",
      "Speed: 0.0ms preprocess, 30.8ms inference, 0.5ms postprocess per image at shape (1, 3, 224, 224)\n",
      "\n",
      "0: 224x224 (no detections), 23.8ms\n",
      "Speed: 0.5ms preprocess, 23.8ms inference, 0.5ms postprocess per image at shape (1, 3, 224, 224)\n",
      "\n",
      "0: 224x224 (no detections), 24.3ms\n",
      "Speed: 0.5ms preprocess, 24.3ms inference, 0.5ms postprocess per image at shape (1, 3, 224, 224)\n",
      "\n",
      "0: 224x224 (no detections), 36.7ms\n",
      "Speed: 36.2ms preprocess, 36.7ms inference, 0.5ms postprocess per image at shape (1, 3, 224, 224)\n",
      "\n",
      "0: 224x224 (no detections), 28.8ms\n",
      "Speed: 0.5ms preprocess, 28.8ms inference, 0.5ms postprocess per image at shape (1, 3, 224, 224)\n",
      "\n",
      "0: 224x224 (no detections), 23.3ms\n",
      "Speed: 0.5ms preprocess, 23.3ms inference, 0.0ms postprocess per image at shape (1, 3, 224, 224)\n",
      "\n",
      "0: 224x224 (no detections), 24.8ms\n",
      "Speed: 0.5ms preprocess, 24.8ms inference, 0.0ms postprocess per image at shape (1, 3, 224, 224)\n",
      "\n",
      "0: 224x224 (no detections), 25.3ms\n",
      "Speed: 0.0ms preprocess, 25.3ms inference, 0.0ms postprocess per image at shape (1, 3, 224, 224)\n",
      "\n",
      "0: 224x224 1 pool, 29.3ms\n",
      "Speed: 1.0ms preprocess, 29.3ms inference, 0.5ms postprocess per image at shape (1, 3, 224, 224)\n",
      "\n",
      "0: 224x224 1 pool, 22.8ms\n",
      "Speed: 0.5ms preprocess, 22.8ms inference, 1.0ms postprocess per image at shape (1, 3, 224, 224)\n",
      "\n",
      "0: 224x224 (no detections), 25.8ms\n",
      "Speed: 0.5ms preprocess, 25.8ms inference, 0.5ms postprocess per image at shape (1, 3, 224, 224)\n",
      "\n",
      "0: 224x224 1 pool, 24.3ms\n",
      "Speed: 0.5ms preprocess, 24.3ms inference, 0.5ms postprocess per image at shape (1, 3, 224, 224)\n",
      "\n",
      "0: 224x224 1 pool, 23.8ms\n",
      "Speed: 0.5ms preprocess, 23.8ms inference, 0.5ms postprocess per image at shape (1, 3, 224, 224)\n",
      "\n",
      "0: 224x224 2 pools, 23.8ms\n",
      "Speed: 0.5ms preprocess, 23.8ms inference, 0.5ms postprocess per image at shape (1, 3, 224, 224)\n",
      "\n",
      "0: 224x224 (no detections), 30.8ms\n",
      "Speed: 0.5ms preprocess, 30.8ms inference, 0.0ms postprocess per image at shape (1, 3, 224, 224)\n",
      "\n",
      "0: 224x224 (no detections), 23.3ms\n",
      "Speed: 0.0ms preprocess, 23.3ms inference, 0.5ms postprocess per image at shape (1, 3, 224, 224)\n",
      "\n",
      "0: 224x224 (no detections), 24.3ms\n",
      "Speed: 0.5ms preprocess, 24.3ms inference, 0.0ms postprocess per image at shape (1, 3, 224, 224)\n",
      "\n",
      "0: 224x224 (no detections), 23.8ms\n",
      "Speed: 0.5ms preprocess, 23.8ms inference, 0.5ms postprocess per image at shape (1, 3, 224, 224)\n",
      "\n",
      "0: 224x224 (no detections), 23.3ms\n",
      "Speed: 0.5ms preprocess, 23.3ms inference, 0.5ms postprocess per image at shape (1, 3, 224, 224)\n",
      "\n",
      "0: 224x224 1 pool, 23.8ms\n",
      "Speed: 0.0ms preprocess, 23.8ms inference, 0.5ms postprocess per image at shape (1, 3, 224, 224)\n",
      "\n",
      "0: 224x224 (no detections), 22.8ms\n",
      "Speed: 0.5ms preprocess, 22.8ms inference, 0.5ms postprocess per image at shape (1, 3, 224, 224)\n",
      "\n",
      "0: 224x224 (no detections), 23.3ms\n",
      "Speed: 0.5ms preprocess, 23.3ms inference, 0.0ms postprocess per image at shape (1, 3, 224, 224)\n",
      "\n",
      "0: 224x224 2 pools, 25.3ms\n",
      "Speed: 0.5ms preprocess, 25.3ms inference, 0.5ms postprocess per image at shape (1, 3, 224, 224)\n",
      "\n",
      "0: 224x224 (no detections), 23.3ms\n",
      "Speed: 0.5ms preprocess, 23.3ms inference, 0.5ms postprocess per image at shape (1, 3, 224, 224)\n",
      "\n",
      "0: 224x224 1 pool, 25.8ms\n",
      "Speed: 0.0ms preprocess, 25.8ms inference, 1.0ms postprocess per image at shape (1, 3, 224, 224)\n",
      "\n",
      "0: 224x224 (no detections), 39.2ms\n",
      "Speed: 0.0ms preprocess, 39.2ms inference, 0.0ms postprocess per image at shape (1, 3, 224, 224)\n",
      "\n",
      "0: 224x224 (no detections), 28.3ms\n",
      "Speed: 0.5ms preprocess, 28.3ms inference, 0.0ms postprocess per image at shape (1, 3, 224, 224)\n",
      "\n",
      "0: 224x224 (no detections), 35.7ms\n",
      "Speed: 0.5ms preprocess, 35.7ms inference, 0.5ms postprocess per image at shape (1, 3, 224, 224)\n",
      "\n",
      "0: 224x224 (no detections), 26.8ms\n",
      "Speed: 0.0ms preprocess, 26.8ms inference, 0.5ms postprocess per image at shape (1, 3, 224, 224)\n",
      "\n",
      "0: 224x224 (no detections), 26.8ms\n",
      "Speed: 0.0ms preprocess, 26.8ms inference, 0.5ms postprocess per image at shape (1, 3, 224, 224)\n",
      "\n",
      "0: 224x224 (no detections), 23.8ms\n",
      "Speed: 0.5ms preprocess, 23.8ms inference, 0.5ms postprocess per image at shape (1, 3, 224, 224)\n",
      "\n",
      "0: 224x224 1 pool, 24.8ms\n",
      "Speed: 0.5ms preprocess, 24.8ms inference, 0.5ms postprocess per image at shape (1, 3, 224, 224)\n",
      "\n",
      "0: 224x224 (no detections), 24.3ms\n",
      "Speed: 0.5ms preprocess, 24.3ms inference, 0.5ms postprocess per image at shape (1, 3, 224, 224)\n",
      "\n",
      "0: 224x224 1 pool, 23.3ms\n",
      "Speed: 0.5ms preprocess, 23.3ms inference, 0.5ms postprocess per image at shape (1, 3, 224, 224)\n",
      "\n",
      "0: 224x224 1 pool, 30.3ms\n",
      "Speed: 0.5ms preprocess, 30.3ms inference, 0.5ms postprocess per image at shape (1, 3, 224, 224)\n",
      "\n",
      "0: 224x224 (no detections), 69.9ms\n",
      "Speed: 0.0ms preprocess, 69.9ms inference, 0.5ms postprocess per image at shape (1, 3, 224, 224)\n",
      "\n",
      "0: 224x224 1 pool, 31.7ms\n",
      "Speed: 0.5ms preprocess, 31.7ms inference, 1.0ms postprocess per image at shape (1, 3, 224, 224)\n",
      "\n",
      "0: 224x224 (no detections), 23.3ms\n",
      "Speed: 0.5ms preprocess, 23.3ms inference, 0.5ms postprocess per image at shape (1, 3, 224, 224)\n",
      "\n",
      "0: 224x224 (no detections), 26.3ms\n",
      "Speed: 0.0ms preprocess, 26.3ms inference, 0.5ms postprocess per image at shape (1, 3, 224, 224)\n",
      "\n",
      "0: 224x224 (no detections), 25.3ms\n",
      "Speed: 0.5ms preprocess, 25.3ms inference, 0.5ms postprocess per image at shape (1, 3, 224, 224)\n",
      "\n",
      "0: 224x224 (no detections), 31.2ms\n",
      "Speed: 0.0ms preprocess, 31.2ms inference, 0.5ms postprocess per image at shape (1, 3, 224, 224)\n",
      "\n",
      "0: 224x224 (no detections), 27.3ms\n",
      "Speed: 0.5ms preprocess, 27.3ms inference, 0.5ms postprocess per image at shape (1, 3, 224, 224)\n",
      "\n",
      "0: 224x224 (no detections), 24.8ms\n",
      "Speed: 0.0ms preprocess, 24.8ms inference, 0.5ms postprocess per image at shape (1, 3, 224, 224)\n",
      "\n",
      "0: 224x224 (no detections), 26.3ms\n",
      "Speed: 0.5ms preprocess, 26.3ms inference, 0.5ms postprocess per image at shape (1, 3, 224, 224)\n",
      "\n",
      "0: 224x224 (no detections), 24.3ms\n",
      "Speed: 0.0ms preprocess, 24.3ms inference, 0.0ms postprocess per image at shape (1, 3, 224, 224)\n",
      "\n",
      "0: 224x224 (no detections), 28.3ms\n",
      "Speed: 0.5ms preprocess, 28.3ms inference, 0.5ms postprocess per image at shape (1, 3, 224, 224)\n",
      "\n",
      "0: 224x224 (no detections), 34.7ms\n",
      "Speed: 0.0ms preprocess, 34.7ms inference, 0.0ms postprocess per image at shape (1, 3, 224, 224)\n",
      "\n",
      "0: 224x224 (no detections), 25.8ms\n",
      "Speed: 0.0ms preprocess, 25.8ms inference, 0.0ms postprocess per image at shape (1, 3, 224, 224)\n",
      "\n",
      "0: 224x224 (no detections), 25.3ms\n",
      "Speed: 0.5ms preprocess, 25.3ms inference, 0.0ms postprocess per image at shape (1, 3, 224, 224)\n",
      "\n",
      "0: 224x224 (no detections), 27.3ms\n",
      "Speed: 0.5ms preprocess, 27.3ms inference, 0.5ms postprocess per image at shape (1, 3, 224, 224)\n",
      "\n",
      "0: 224x224 (no detections), 28.8ms\n",
      "Speed: 0.5ms preprocess, 28.8ms inference, 0.5ms postprocess per image at shape (1, 3, 224, 224)\n",
      "\n",
      "0: 224x224 (no detections), 26.8ms\n",
      "Speed: 0.5ms preprocess, 26.8ms inference, 0.5ms postprocess per image at shape (1, 3, 224, 224)\n",
      "\n",
      "0: 224x224 (no detections), 24.3ms\n",
      "Speed: 0.5ms preprocess, 24.3ms inference, 0.0ms postprocess per image at shape (1, 3, 224, 224)\n",
      "\n",
      "0: 224x224 (no detections), 23.8ms\n",
      "Speed: 0.0ms preprocess, 23.8ms inference, 0.5ms postprocess per image at shape (1, 3, 224, 224)\n",
      "\n",
      "0: 224x224 (no detections), 24.3ms\n",
      "Speed: 0.5ms preprocess, 24.3ms inference, 0.5ms postprocess per image at shape (1, 3, 224, 224)\n",
      "\n",
      "0: 224x224 (no detections), 22.8ms\n",
      "Speed: 0.5ms preprocess, 22.8ms inference, 0.0ms postprocess per image at shape (1, 3, 224, 224)\n",
      "\n",
      "0: 224x224 (no detections), 23.3ms\n",
      "Speed: 0.5ms preprocess, 23.3ms inference, 0.5ms postprocess per image at shape (1, 3, 224, 224)\n",
      "\n",
      "0: 224x224 (no detections), 23.3ms\n",
      "Speed: 0.5ms preprocess, 23.3ms inference, 0.0ms postprocess per image at shape (1, 3, 224, 224)\n",
      "\n",
      "0: 224x224 (no detections), 24.8ms\n",
      "Speed: 0.5ms preprocess, 24.8ms inference, 0.5ms postprocess per image at shape (1, 3, 224, 224)\n",
      "\n",
      "0: 224x224 (no detections), 23.3ms\n",
      "Speed: 0.5ms preprocess, 23.3ms inference, 0.0ms postprocess per image at shape (1, 3, 224, 224)\n",
      "\n",
      "0: 224x224 (no detections), 23.8ms\n",
      "Speed: 0.5ms preprocess, 23.8ms inference, 0.5ms postprocess per image at shape (1, 3, 224, 224)\n",
      "\n",
      "0: 224x224 (no detections), 30.3ms\n",
      "Speed: 0.0ms preprocess, 30.3ms inference, 0.5ms postprocess per image at shape (1, 3, 224, 224)\n",
      "\n",
      "0: 224x224 (no detections), 26.8ms\n",
      "Speed: 0.5ms preprocess, 26.8ms inference, 0.0ms postprocess per image at shape (1, 3, 224, 224)\n",
      "\n",
      "0: 224x224 (no detections), 25.8ms\n",
      "Speed: 0.0ms preprocess, 25.8ms inference, 0.5ms postprocess per image at shape (1, 3, 224, 224)\n",
      "\n",
      "0: 224x224 1 pool, 23.3ms\n",
      "Speed: 0.0ms preprocess, 23.3ms inference, 0.5ms postprocess per image at shape (1, 3, 224, 224)\n",
      "\n",
      "0: 224x224 1 pool, 25.8ms\n",
      "Speed: 0.0ms preprocess, 25.8ms inference, 0.5ms postprocess per image at shape (1, 3, 224, 224)\n",
      "\n",
      "0: 224x224 1 pool, 76.9ms\n",
      "Speed: 0.5ms preprocess, 76.9ms inference, 0.5ms postprocess per image at shape (1, 3, 224, 224)\n",
      "\n",
      "0: 224x224 1 pool, 23.3ms\n",
      "Speed: 0.5ms preprocess, 23.3ms inference, 1.0ms postprocess per image at shape (1, 3, 224, 224)\n",
      "\n",
      "0: 224x224 1 pool, 23.8ms\n",
      "Speed: 0.0ms preprocess, 23.8ms inference, 0.5ms postprocess per image at shape (1, 3, 224, 224)\n",
      "\n",
      "0: 224x224 (no detections), 24.8ms\n",
      "Speed: 0.0ms preprocess, 24.8ms inference, 0.5ms postprocess per image at shape (1, 3, 224, 224)\n",
      "\n",
      "0: 224x224 1 pool, 26.8ms\n",
      "Speed: 0.5ms preprocess, 26.8ms inference, 1.0ms postprocess per image at shape (1, 3, 224, 224)\n",
      "\n",
      "0: 224x224 (no detections), 25.8ms\n",
      "Speed: 0.5ms preprocess, 25.8ms inference, 0.5ms postprocess per image at shape (1, 3, 224, 224)\n",
      "\n",
      "0: 224x224 (no detections), 22.8ms\n",
      "Speed: 0.0ms preprocess, 22.8ms inference, 0.5ms postprocess per image at shape (1, 3, 224, 224)\n",
      "\n",
      "0: 224x224 (no detections), 23.8ms\n",
      "Speed: 0.5ms preprocess, 23.8ms inference, 0.0ms postprocess per image at shape (1, 3, 224, 224)\n",
      "\n",
      "0: 224x224 (no detections), 24.3ms\n",
      "Speed: 0.5ms preprocess, 24.3ms inference, 0.0ms postprocess per image at shape (1, 3, 224, 224)\n",
      "\n",
      "0: 224x224 (no detections), 24.8ms\n",
      "Speed: 0.0ms preprocess, 24.8ms inference, 0.0ms postprocess per image at shape (1, 3, 224, 224)\n",
      "\n",
      "0: 224x224 (no detections), 23.3ms\n",
      "Speed: 0.5ms preprocess, 23.3ms inference, 0.0ms postprocess per image at shape (1, 3, 224, 224)\n",
      "\n",
      "0: 224x224 1 pool, 30.3ms\n",
      "Speed: 0.0ms preprocess, 30.3ms inference, 1.0ms postprocess per image at shape (1, 3, 224, 224)\n",
      "\n",
      "0: 224x224 1 pool, 23.8ms\n",
      "Speed: 0.5ms preprocess, 23.8ms inference, 0.5ms postprocess per image at shape (1, 3, 224, 224)\n",
      "\n",
      "0: 224x224 (no detections), 23.3ms\n",
      "Speed: 0.5ms preprocess, 23.3ms inference, 0.5ms postprocess per image at shape (1, 3, 224, 224)\n",
      "\n",
      "0: 224x224 (no detections), 23.3ms\n",
      "Speed: 0.5ms preprocess, 23.3ms inference, 0.5ms postprocess per image at shape (1, 3, 224, 224)\n",
      "\n",
      "0: 224x224 1 pool, 24.3ms\n",
      "Speed: 0.0ms preprocess, 24.3ms inference, 0.5ms postprocess per image at shape (1, 3, 224, 224)\n",
      "\n",
      "0: 224x224 (no detections), 24.3ms\n",
      "Speed: 0.5ms preprocess, 24.3ms inference, 0.5ms postprocess per image at shape (1, 3, 224, 224)\n",
      "\n",
      "0: 224x224 (no detections), 70.4ms\n",
      "Speed: 0.5ms preprocess, 70.4ms inference, 0.5ms postprocess per image at shape (1, 3, 224, 224)\n",
      "\n",
      "0: 224x224 (no detections), 28.3ms\n",
      "Speed: 1.0ms preprocess, 28.3ms inference, 0.5ms postprocess per image at shape (1, 3, 224, 224)\n",
      "\n",
      "0: 224x224 (no detections), 22.8ms\n",
      "Speed: 0.5ms preprocess, 22.8ms inference, 0.5ms postprocess per image at shape (1, 3, 224, 224)\n",
      "\n",
      "0: 224x224 (no detections), 23.3ms\n",
      "Speed: 0.0ms preprocess, 23.3ms inference, 0.5ms postprocess per image at shape (1, 3, 224, 224)\n",
      "\n",
      "0: 224x224 (no detections), 22.8ms\n",
      "Speed: 0.5ms preprocess, 22.8ms inference, 0.5ms postprocess per image at shape (1, 3, 224, 224)\n",
      "\n",
      "0: 224x224 (no detections), 24.8ms\n",
      "Speed: 0.5ms preprocess, 24.8ms inference, 0.5ms postprocess per image at shape (1, 3, 224, 224)\n",
      "\n",
      "0: 224x224 (no detections), 25.3ms\n",
      "Speed: 0.0ms preprocess, 25.3ms inference, 0.5ms postprocess per image at shape (1, 3, 224, 224)\n",
      "\n",
      "0: 224x224 (no detections), 23.3ms\n",
      "Speed: 0.5ms preprocess, 23.3ms inference, 0.0ms postprocess per image at shape (1, 3, 224, 224)\n",
      "\n",
      "0: 224x224 (no detections), 25.3ms\n",
      "Speed: 0.0ms preprocess, 25.3ms inference, 0.5ms postprocess per image at shape (1, 3, 224, 224)\n",
      "\n",
      "0: 224x224 (no detections), 33.2ms\n",
      "Speed: 0.0ms preprocess, 33.2ms inference, 0.5ms postprocess per image at shape (1, 3, 224, 224)\n",
      "\n",
      "0: 224x224 (no detections), 25.8ms\n",
      "Speed: 0.0ms preprocess, 25.8ms inference, 0.5ms postprocess per image at shape (1, 3, 224, 224)\n",
      "\n",
      "0: 224x224 (no detections), 24.8ms\n",
      "Speed: 0.5ms preprocess, 24.8ms inference, 0.5ms postprocess per image at shape (1, 3, 224, 224)\n",
      "\n",
      "0: 224x224 (no detections), 27.8ms\n",
      "Speed: 0.5ms preprocess, 27.8ms inference, 0.5ms postprocess per image at shape (1, 3, 224, 224)\n",
      "\n",
      "0: 224x224 (no detections), 26.8ms\n",
      "Speed: 0.0ms preprocess, 26.8ms inference, 0.5ms postprocess per image at shape (1, 3, 224, 224)\n",
      "\n",
      "0: 224x224 (no detections), 25.3ms\n",
      "Speed: 0.0ms preprocess, 25.3ms inference, 0.5ms postprocess per image at shape (1, 3, 224, 224)\n",
      "\n",
      "0: 224x224 (no detections), 31.2ms\n",
      "Speed: 0.5ms preprocess, 31.2ms inference, 0.5ms postprocess per image at shape (1, 3, 224, 224)\n",
      "\n",
      "0: 224x224 (no detections), 24.8ms\n",
      "Speed: 0.5ms preprocess, 24.8ms inference, 0.0ms postprocess per image at shape (1, 3, 224, 224)\n",
      "\n",
      "0: 224x224 (no detections), 50.1ms\n",
      "Speed: 0.0ms preprocess, 50.1ms inference, 0.5ms postprocess per image at shape (1, 3, 224, 224)\n",
      "\n",
      "0: 224x224 (no detections), 34.2ms\n",
      "Speed: 6.4ms preprocess, 34.2ms inference, 0.5ms postprocess per image at shape (1, 3, 224, 224)\n",
      "\n",
      "0: 224x224 (no detections), 22.8ms\n",
      "Speed: 0.5ms preprocess, 22.8ms inference, 0.0ms postprocess per image at shape (1, 3, 224, 224)\n",
      "\n",
      "0: 224x224 (no detections), 24.8ms\n",
      "Speed: 0.5ms preprocess, 24.8ms inference, 0.5ms postprocess per image at shape (1, 3, 224, 224)\n",
      "\n",
      "0: 224x224 (no detections), 30.3ms\n",
      "Speed: 0.5ms preprocess, 30.3ms inference, 0.0ms postprocess per image at shape (1, 3, 224, 224)\n",
      "\n",
      "0: 224x224 (no detections), 23.3ms\n",
      "Speed: 0.5ms preprocess, 23.3ms inference, 0.5ms postprocess per image at shape (1, 3, 224, 224)\n",
      "\n",
      "0: 224x224 (no detections), 22.8ms\n",
      "Speed: 0.5ms preprocess, 22.8ms inference, 0.5ms postprocess per image at shape (1, 3, 224, 224)\n",
      "\n",
      "0: 224x224 (no detections), 23.3ms\n",
      "Speed: 0.5ms preprocess, 23.3ms inference, 0.5ms postprocess per image at shape (1, 3, 224, 224)\n",
      "\n",
      "0: 224x224 (no detections), 24.3ms\n",
      "Speed: 0.5ms preprocess, 24.3ms inference, 0.0ms postprocess per image at shape (1, 3, 224, 224)\n",
      "\n",
      "0: 224x224 (no detections), 23.3ms\n",
      "Speed: 0.0ms preprocess, 23.3ms inference, 0.5ms postprocess per image at shape (1, 3, 224, 224)\n",
      "\n",
      "0: 224x224 (no detections), 29.3ms\n",
      "Speed: 0.5ms preprocess, 29.3ms inference, 0.5ms postprocess per image at shape (1, 3, 224, 224)\n",
      "\n",
      "0: 224x224 (no detections), 25.3ms\n",
      "Speed: 0.5ms preprocess, 25.3ms inference, 0.5ms postprocess per image at shape (1, 3, 224, 224)\n",
      "\n",
      "0: 224x224 (no detections), 22.8ms\n",
      "Speed: 0.5ms preprocess, 22.8ms inference, 0.5ms postprocess per image at shape (1, 3, 224, 224)\n",
      "\n",
      "0: 224x224 (no detections), 23.8ms\n",
      "Speed: 0.0ms preprocess, 23.8ms inference, 0.5ms postprocess per image at shape (1, 3, 224, 224)\n",
      "\n",
      "0: 224x224 (no detections), 24.3ms\n",
      "Speed: 0.5ms preprocess, 24.3ms inference, 0.5ms postprocess per image at shape (1, 3, 224, 224)\n",
      "\n",
      "0: 224x224 (no detections), 23.3ms\n",
      "Speed: 0.0ms preprocess, 23.3ms inference, 0.5ms postprocess per image at shape (1, 3, 224, 224)\n",
      "\n",
      "0: 224x224 (no detections), 23.8ms\n",
      "Speed: 0.0ms preprocess, 23.8ms inference, 0.5ms postprocess per image at shape (1, 3, 224, 224)\n",
      "\n",
      "0: 224x224 (no detections), 23.8ms\n",
      "Speed: 0.5ms preprocess, 23.8ms inference, 0.5ms postprocess per image at shape (1, 3, 224, 224)\n",
      "\n",
      "0: 224x224 1 pool, 22.3ms\n",
      "Speed: 0.5ms preprocess, 22.3ms inference, 0.5ms postprocess per image at shape (1, 3, 224, 224)\n",
      "\n",
      "0: 224x224 1 pool, 22.8ms\n",
      "Speed: 0.0ms preprocess, 22.8ms inference, 0.5ms postprocess per image at shape (1, 3, 224, 224)\n",
      "\n",
      "0: 224x224 (no detections), 24.3ms\n",
      "Speed: 0.0ms preprocess, 24.3ms inference, 0.5ms postprocess per image at shape (1, 3, 224, 224)\n",
      "\n",
      "0: 224x224 1 pool, 25.8ms\n",
      "Speed: 0.0ms preprocess, 25.8ms inference, 0.5ms postprocess per image at shape (1, 3, 224, 224)\n",
      "\n",
      "0: 224x224 1 pool, 30.3ms\n",
      "Speed: 0.0ms preprocess, 30.3ms inference, 0.5ms postprocess per image at shape (1, 3, 224, 224)\n",
      "\n",
      "0: 224x224 (no detections), 27.8ms\n",
      "Speed: 0.5ms preprocess, 27.8ms inference, 0.5ms postprocess per image at shape (1, 3, 224, 224)\n",
      "\n",
      "0: 224x224 1 pool, 23.8ms\n",
      "Speed: 0.5ms preprocess, 23.8ms inference, 0.5ms postprocess per image at shape (1, 3, 224, 224)\n",
      "\n",
      "0: 224x224 (no detections), 22.8ms\n",
      "Speed: 0.5ms preprocess, 22.8ms inference, 0.5ms postprocess per image at shape (1, 3, 224, 224)\n",
      "\n",
      "0: 224x224 (no detections), 24.8ms\n",
      "Speed: 0.0ms preprocess, 24.8ms inference, 0.5ms postprocess per image at shape (1, 3, 224, 224)\n",
      "\n",
      "0: 224x224 (no detections), 22.8ms\n",
      "Speed: 0.5ms preprocess, 22.8ms inference, 0.5ms postprocess per image at shape (1, 3, 224, 224)\n",
      "\n",
      "0: 224x224 (no detections), 31.7ms\n",
      "Speed: 0.5ms preprocess, 31.7ms inference, 0.5ms postprocess per image at shape (1, 3, 224, 224)\n",
      "\n",
      "0: 224x224 (no detections), 24.3ms\n",
      "Speed: 0.5ms preprocess, 24.3ms inference, 0.0ms postprocess per image at shape (1, 3, 224, 224)\n",
      "\n",
      "0: 224x224 (no detections), 23.8ms\n",
      "Speed: 0.0ms preprocess, 23.8ms inference, 0.5ms postprocess per image at shape (1, 3, 224, 224)\n",
      "\n",
      "0: 224x224 (no detections), 24.8ms\n",
      "Speed: 0.0ms preprocess, 24.8ms inference, 0.5ms postprocess per image at shape (1, 3, 224, 224)\n",
      "\n",
      "0: 224x224 (no detections), 40.2ms\n",
      "Speed: 0.0ms preprocess, 40.2ms inference, 0.0ms postprocess per image at shape (1, 3, 224, 224)\n",
      "\n",
      "0: 224x224 (no detections), 47.1ms\n",
      "Speed: 0.5ms preprocess, 47.1ms inference, 0.5ms postprocess per image at shape (1, 3, 224, 224)\n",
      "\n",
      "0: 224x224 (no detections), 57.5ms\n",
      "Speed: 10.9ms preprocess, 57.5ms inference, 0.5ms postprocess per image at shape (1, 3, 224, 224)\n",
      "\n",
      "0: 224x224 (no detections), 23.3ms\n",
      "Speed: 0.5ms preprocess, 23.3ms inference, 0.5ms postprocess per image at shape (1, 3, 224, 224)\n",
      "\n",
      "0: 224x224 (no detections), 24.3ms\n",
      "Speed: 0.0ms preprocess, 24.3ms inference, 0.5ms postprocess per image at shape (1, 3, 224, 224)\n",
      "\n",
      "0: 224x224 (no detections), 22.8ms\n",
      "Speed: 0.5ms preprocess, 22.8ms inference, 0.5ms postprocess per image at shape (1, 3, 224, 224)\n",
      "\n",
      "0: 224x224 (no detections), 22.8ms\n",
      "Speed: 0.0ms preprocess, 22.8ms inference, 0.0ms postprocess per image at shape (1, 3, 224, 224)\n",
      "\n",
      "0: 224x224 (no detections), 24.3ms\n",
      "Speed: 0.5ms preprocess, 24.3ms inference, 0.0ms postprocess per image at shape (1, 3, 224, 224)\n",
      "\n",
      "0: 224x224 (no detections), 23.3ms\n",
      "Speed: 0.0ms preprocess, 23.3ms inference, 0.5ms postprocess per image at shape (1, 3, 224, 224)\n",
      "\n",
      "0: 224x224 (no detections), 25.3ms\n",
      "Speed: 0.5ms preprocess, 25.3ms inference, 0.5ms postprocess per image at shape (1, 3, 224, 224)\n",
      "\n",
      "0: 224x224 (no detections), 23.8ms\n",
      "Speed: 0.0ms preprocess, 23.8ms inference, 0.0ms postprocess per image at shape (1, 3, 224, 224)\n",
      "\n",
      "0: 224x224 (no detections), 23.3ms\n",
      "Speed: 0.5ms preprocess, 23.3ms inference, 0.5ms postprocess per image at shape (1, 3, 224, 224)\n",
      "\n",
      "0: 224x224 (no detections), 23.3ms\n",
      "Speed: 0.5ms preprocess, 23.3ms inference, 0.5ms postprocess per image at shape (1, 3, 224, 224)\n",
      "\n",
      "0: 224x224 (no detections), 23.8ms\n",
      "Speed: 0.0ms preprocess, 23.8ms inference, 0.5ms postprocess per image at shape (1, 3, 224, 224)\n",
      "\n",
      "0: 224x224 (no detections), 30.8ms\n",
      "Speed: 0.5ms preprocess, 30.8ms inference, 0.5ms postprocess per image at shape (1, 3, 224, 224)\n",
      "\n",
      "0: 224x224 (no detections), 32.2ms\n",
      "Speed: 0.0ms preprocess, 32.2ms inference, 0.5ms postprocess per image at shape (1, 3, 224, 224)\n",
      "\n",
      "0: 224x224 (no detections), 23.8ms\n",
      "Speed: 0.5ms preprocess, 23.8ms inference, 0.5ms postprocess per image at shape (1, 3, 224, 224)\n",
      "\n",
      "0: 224x224 (no detections), 25.3ms\n",
      "Speed: 0.5ms preprocess, 25.3ms inference, 0.5ms postprocess per image at shape (1, 3, 224, 224)\n",
      "\n",
      "0: 224x224 (no detections), 25.3ms\n",
      "Speed: 0.5ms preprocess, 25.3ms inference, 0.5ms postprocess per image at shape (1, 3, 224, 224)\n",
      "\n",
      "0: 224x224 (no detections), 25.3ms\n",
      "Speed: 0.0ms preprocess, 25.3ms inference, 0.5ms postprocess per image at shape (1, 3, 224, 224)\n",
      "\n",
      "0: 224x224 (no detections), 23.8ms\n",
      "Speed: 0.5ms preprocess, 23.8ms inference, 0.5ms postprocess per image at shape (1, 3, 224, 224)\n",
      "\n",
      "0: 224x224 (no detections), 25.8ms\n",
      "Speed: 0.5ms preprocess, 25.8ms inference, 0.0ms postprocess per image at shape (1, 3, 224, 224)\n",
      "\n",
      "0: 224x224 (no detections), 27.8ms\n",
      "Speed: 0.5ms preprocess, 27.8ms inference, 0.5ms postprocess per image at shape (1, 3, 224, 224)\n",
      "\n",
      "0: 224x224 (no detections), 41.2ms\n",
      "Speed: 0.5ms preprocess, 41.2ms inference, 0.5ms postprocess per image at shape (1, 3, 224, 224)\n",
      "\n",
      "0: 224x224 (no detections), 28.3ms\n",
      "Speed: 0.5ms preprocess, 28.3ms inference, 0.5ms postprocess per image at shape (1, 3, 224, 224)\n",
      "\n",
      "0: 224x224 (no detections), 27.8ms\n",
      "Speed: 0.5ms preprocess, 27.8ms inference, 0.5ms postprocess per image at shape (1, 3, 224, 224)\n",
      "\n",
      "0: 224x224 (no detections), 38.7ms\n",
      "Speed: 0.0ms preprocess, 38.7ms inference, 0.5ms postprocess per image at shape (1, 3, 224, 224)\n",
      "\n",
      "0: 224x224 (no detections), 28.3ms\n",
      "Speed: 0.5ms preprocess, 28.3ms inference, 0.5ms postprocess per image at shape (1, 3, 224, 224)\n",
      "\n",
      "0: 224x224 (no detections), 28.3ms\n",
      "Speed: 0.0ms preprocess, 28.3ms inference, 0.0ms postprocess per image at shape (1, 3, 224, 224)\n",
      "\n",
      "0: 224x224 (no detections), 32.2ms\n",
      "Speed: 0.5ms preprocess, 32.2ms inference, 0.5ms postprocess per image at shape (1, 3, 224, 224)\n",
      "\n",
      "0: 224x224 (no detections), 26.3ms\n",
      "Speed: 0.5ms preprocess, 26.3ms inference, 0.5ms postprocess per image at shape (1, 3, 224, 224)\n",
      "\n",
      "0: 224x224 (no detections), 26.3ms\n",
      "Speed: 0.5ms preprocess, 26.3ms inference, 1.0ms postprocess per image at shape (1, 3, 224, 224)\n",
      "\n",
      "0: 224x224 1 pool, 25.3ms\n",
      "Speed: 0.5ms preprocess, 25.3ms inference, 1.0ms postprocess per image at shape (1, 3, 224, 224)\n",
      "\n",
      "0: 224x224 (no detections), 25.3ms\n",
      "Speed: 0.5ms preprocess, 25.3ms inference, 0.5ms postprocess per image at shape (1, 3, 224, 224)\n",
      "\n",
      "0: 224x224 1 pool, 74.9ms\n",
      "Speed: 0.5ms preprocess, 74.9ms inference, 0.5ms postprocess per image at shape (1, 3, 224, 224)\n",
      "\n",
      "0: 224x224 1 pool, 32.7ms\n",
      "Speed: 0.5ms preprocess, 32.7ms inference, 1.0ms postprocess per image at shape (1, 3, 224, 224)\n",
      "\n",
      "0: 224x224 (no detections), 23.3ms\n",
      "Speed: 0.0ms preprocess, 23.3ms inference, 0.5ms postprocess per image at shape (1, 3, 224, 224)\n",
      "\n",
      "0: 224x224 (no detections), 24.8ms\n",
      "Speed: 0.0ms preprocess, 24.8ms inference, 0.5ms postprocess per image at shape (1, 3, 224, 224)\n",
      "\n",
      "0: 224x224 (no detections), 24.3ms\n",
      "Speed: 0.0ms preprocess, 24.3ms inference, 0.0ms postprocess per image at shape (1, 3, 224, 224)\n",
      "\n",
      "0: 224x224 (no detections), 24.3ms\n",
      "Speed: 0.0ms preprocess, 24.3ms inference, 0.5ms postprocess per image at shape (1, 3, 224, 224)\n",
      "\n",
      "0: 224x224 (no detections), 24.8ms\n",
      "Speed: 0.5ms preprocess, 24.8ms inference, 0.5ms postprocess per image at shape (1, 3, 224, 224)\n",
      "\n",
      "0: 224x224 (no detections), 32.2ms\n",
      "Speed: 0.5ms preprocess, 32.2ms inference, 0.0ms postprocess per image at shape (1, 3, 224, 224)\n",
      "\n",
      "0: 224x224 (no detections), 23.8ms\n",
      "Speed: 0.5ms preprocess, 23.8ms inference, 0.5ms postprocess per image at shape (1, 3, 224, 224)\n",
      "\n",
      "0: 224x224 (no detections), 25.8ms\n",
      "Speed: 0.5ms preprocess, 25.8ms inference, 0.5ms postprocess per image at shape (1, 3, 224, 224)\n",
      "\n",
      "0: 224x224 (no detections), 22.8ms\n",
      "Speed: 0.5ms preprocess, 22.8ms inference, 0.0ms postprocess per image at shape (1, 3, 224, 224)\n",
      "\n",
      "0: 224x224 (no detections), 24.8ms\n",
      "Speed: 0.5ms preprocess, 24.8ms inference, 0.5ms postprocess per image at shape (1, 3, 224, 224)\n",
      "\n",
      "0: 224x224 (no detections), 23.3ms\n",
      "Speed: 0.5ms preprocess, 23.3ms inference, 0.5ms postprocess per image at shape (1, 3, 224, 224)\n",
      "\n",
      "0: 224x224 (no detections), 29.8ms\n",
      "Speed: 0.5ms preprocess, 29.8ms inference, 0.5ms postprocess per image at shape (1, 3, 224, 224)\n",
      "\n",
      "0: 224x224 (no detections), 23.8ms\n",
      "Speed: 0.5ms preprocess, 23.8ms inference, 0.5ms postprocess per image at shape (1, 3, 224, 224)\n",
      "\n",
      "0: 224x224 (no detections), 70.4ms\n",
      "Speed: 0.5ms preprocess, 70.4ms inference, 0.5ms postprocess per image at shape (1, 3, 224, 224)\n",
      "\n",
      "0: 224x224 (no detections), 29.8ms\n",
      "Speed: 1.0ms preprocess, 29.8ms inference, 0.0ms postprocess per image at shape (1, 3, 224, 224)\n",
      "\n",
      "0: 224x224 (no detections), 24.3ms\n",
      "Speed: 0.5ms preprocess, 24.3ms inference, 0.5ms postprocess per image at shape (1, 3, 224, 224)\n",
      "\n",
      "0: 224x224 (no detections), 24.3ms\n",
      "Speed: 0.5ms preprocess, 24.3ms inference, 0.5ms postprocess per image at shape (1, 3, 224, 224)\n",
      "\n",
      "0: 224x224 (no detections), 28.8ms\n",
      "Speed: 0.0ms preprocess, 28.8ms inference, 0.5ms postprocess per image at shape (1, 3, 224, 224)\n",
      "\n",
      "0: 224x224 (no detections), 25.8ms\n",
      "Speed: 0.0ms preprocess, 25.8ms inference, 0.0ms postprocess per image at shape (1, 3, 224, 224)\n",
      "\n",
      "0: 224x224 (no detections), 24.3ms\n",
      "Speed: 0.0ms preprocess, 24.3ms inference, 0.5ms postprocess per image at shape (1, 3, 224, 224)\n",
      "\n",
      "0: 224x224 (no detections), 23.8ms\n",
      "Speed: 0.5ms preprocess, 23.8ms inference, 0.5ms postprocess per image at shape (1, 3, 224, 224)\n",
      "\n",
      "0: 224x224 (no detections), 24.8ms\n",
      "Speed: 0.5ms preprocess, 24.8ms inference, 0.5ms postprocess per image at shape (1, 3, 224, 224)\n",
      "\n",
      "0: 224x224 (no detections), 23.3ms\n",
      "Speed: 0.5ms preprocess, 23.3ms inference, 0.0ms postprocess per image at shape (1, 3, 224, 224)\n",
      "\n",
      "0: 224x224 (no detections), 29.3ms\n",
      "Speed: 0.5ms preprocess, 29.3ms inference, 0.5ms postprocess per image at shape (1, 3, 224, 224)\n",
      "\n",
      "0: 224x224 (no detections), 23.3ms\n",
      "Speed: 0.5ms preprocess, 23.3ms inference, 0.5ms postprocess per image at shape (1, 3, 224, 224)\n",
      "\n",
      "0: 224x224 (no detections), 22.8ms\n",
      "Speed: 0.5ms preprocess, 22.8ms inference, 0.5ms postprocess per image at shape (1, 3, 224, 224)\n",
      "\n",
      "0: 224x224 (no detections), 22.3ms\n",
      "Speed: 0.5ms preprocess, 22.3ms inference, 0.5ms postprocess per image at shape (1, 3, 224, 224)\n",
      "\n",
      "0: 224x224 (no detections), 23.3ms\n",
      "Speed: 0.5ms preprocess, 23.3ms inference, 0.0ms postprocess per image at shape (1, 3, 224, 224)\n",
      "\n",
      "0: 224x224 (no detections), 23.8ms\n",
      "Speed: 0.5ms preprocess, 23.8ms inference, 0.0ms postprocess per image at shape (1, 3, 224, 224)\n",
      "\n",
      "0: 224x224 (no detections), 27.8ms\n",
      "Speed: 0.5ms preprocess, 27.8ms inference, 0.0ms postprocess per image at shape (1, 3, 224, 224)\n",
      "\n",
      "0: 224x224 (no detections), 23.8ms\n",
      "Speed: 0.5ms preprocess, 23.8ms inference, 0.0ms postprocess per image at shape (1, 3, 224, 224)\n",
      "\n",
      "0: 224x224 (no detections), 23.8ms\n",
      "Speed: 0.0ms preprocess, 23.8ms inference, 0.0ms postprocess per image at shape (1, 3, 224, 224)\n",
      "\n",
      "0: 224x224 (no detections), 24.8ms\n",
      "Speed: 0.5ms preprocess, 24.8ms inference, 0.5ms postprocess per image at shape (1, 3, 224, 224)\n",
      "\n",
      "0: 224x224 (no detections), 24.3ms\n",
      "Speed: 0.5ms preprocess, 24.3ms inference, 0.0ms postprocess per image at shape (1, 3, 224, 224)\n",
      "\n",
      "0: 224x224 (no detections), 24.3ms\n",
      "Speed: 0.5ms preprocess, 24.3ms inference, 0.5ms postprocess per image at shape (1, 3, 224, 224)\n",
      "\n",
      "0: 224x224 (no detections), 28.3ms\n",
      "Speed: 0.0ms preprocess, 28.3ms inference, 0.5ms postprocess per image at shape (1, 3, 224, 224)\n",
      "\n",
      "0: 224x224 (no detections), 23.8ms\n",
      "Speed: 0.5ms preprocess, 23.8ms inference, 0.0ms postprocess per image at shape (1, 3, 224, 224)\n",
      "\n",
      "0: 224x224 (no detections), 22.8ms\n",
      "Speed: 0.5ms preprocess, 22.8ms inference, 0.0ms postprocess per image at shape (1, 3, 224, 224)\n",
      "\n",
      "0: 224x224 (no detections), 24.8ms\n",
      "Speed: 0.5ms preprocess, 24.8ms inference, 0.0ms postprocess per image at shape (1, 3, 224, 224)\n",
      "\n",
      "0: 224x224 (no detections), 23.8ms\n",
      "Speed: 0.0ms preprocess, 23.8ms inference, 0.5ms postprocess per image at shape (1, 3, 224, 224)\n",
      "\n",
      "0: 224x224 (no detections), 22.3ms\n",
      "Speed: 0.5ms preprocess, 22.3ms inference, 0.5ms postprocess per image at shape (1, 3, 224, 224)\n",
      "\n",
      "0: 224x224 (no detections), 23.8ms\n",
      "Speed: 0.5ms preprocess, 23.8ms inference, 0.0ms postprocess per image at shape (1, 3, 224, 224)\n",
      "\n",
      "0: 224x224 1 pool, 32.2ms\n",
      "Speed: 0.5ms preprocess, 32.2ms inference, 1.0ms postprocess per image at shape (1, 3, 224, 224)\n",
      "\n",
      "0: 224x224 (no detections), 21.8ms\n",
      "Speed: 0.5ms preprocess, 21.8ms inference, 0.5ms postprocess per image at shape (1, 3, 224, 224)\n",
      "\n",
      "0: 224x224 1 pool, 73.9ms\n",
      "Speed: 0.5ms preprocess, 73.9ms inference, 0.5ms postprocess per image at shape (1, 3, 224, 224)\n",
      "\n",
      "0: 224x224 (no detections), 24.3ms\n",
      "Speed: 0.5ms preprocess, 24.3ms inference, 0.5ms postprocess per image at shape (1, 3, 224, 224)\n",
      "\n",
      "0: 224x224 (no detections), 24.8ms\n",
      "Speed: 0.5ms preprocess, 24.8ms inference, 0.5ms postprocess per image at shape (1, 3, 224, 224)\n",
      "\n",
      "0: 224x224 (no detections), 24.3ms\n",
      "Speed: 0.5ms preprocess, 24.3ms inference, 0.5ms postprocess per image at shape (1, 3, 224, 224)\n",
      "\n",
      "0: 224x224 (no detections), 23.8ms\n",
      "Speed: 0.0ms preprocess, 23.8ms inference, 0.5ms postprocess per image at shape (1, 3, 224, 224)\n",
      "\n",
      "0: 224x224 (no detections), 24.3ms\n",
      "Speed: 0.5ms preprocess, 24.3ms inference, 0.5ms postprocess per image at shape (1, 3, 224, 224)\n",
      "\n",
      "0: 224x224 (no detections), 23.8ms\n",
      "Speed: 0.5ms preprocess, 23.8ms inference, 0.0ms postprocess per image at shape (1, 3, 224, 224)\n",
      "\n",
      "0: 224x224 (no detections), 22.8ms\n",
      "Speed: 0.0ms preprocess, 22.8ms inference, 0.5ms postprocess per image at shape (1, 3, 224, 224)\n",
      "\n",
      "0: 224x224 (no detections), 23.8ms\n",
      "Speed: 0.5ms preprocess, 23.8ms inference, 0.5ms postprocess per image at shape (1, 3, 224, 224)\n",
      "\n",
      "0: 224x224 (no detections), 24.3ms\n",
      "Speed: 0.0ms preprocess, 24.3ms inference, 0.5ms postprocess per image at shape (1, 3, 224, 224)\n",
      "\n",
      "0: 224x224 (no detections), 23.8ms\n",
      "Speed: 0.5ms preprocess, 23.8ms inference, 0.5ms postprocess per image at shape (1, 3, 224, 224)\n",
      "\n",
      "0: 224x224 1 pool, 23.8ms\n",
      "Speed: 0.5ms preprocess, 23.8ms inference, 0.5ms postprocess per image at shape (1, 3, 224, 224)\n",
      "\n",
      "0: 224x224 (no detections), 28.3ms\n",
      "Speed: 0.0ms preprocess, 28.3ms inference, 0.5ms postprocess per image at shape (1, 3, 224, 224)\n",
      "\n",
      "0: 224x224 1 pool, 23.8ms\n",
      "Speed: 0.5ms preprocess, 23.8ms inference, 0.5ms postprocess per image at shape (1, 3, 224, 224)\n",
      "\n",
      "0: 224x224 1 pool, 23.8ms\n",
      "Speed: 0.5ms preprocess, 23.8ms inference, 0.5ms postprocess per image at shape (1, 3, 224, 224)\n",
      "\n",
      "0: 224x224 (no detections), 61.5ms\n",
      "Speed: 0.5ms preprocess, 61.5ms inference, 0.5ms postprocess per image at shape (1, 3, 224, 224)\n",
      "\n",
      "0: 224x224 (no detections), 29.8ms\n",
      "Speed: 0.5ms preprocess, 29.8ms inference, 0.5ms postprocess per image at shape (1, 3, 224, 224)\n",
      "\n",
      "0: 224x224 (no detections), 24.3ms\n",
      "Speed: 0.0ms preprocess, 24.3ms inference, 0.5ms postprocess per image at shape (1, 3, 224, 224)\n",
      "\n",
      "0: 224x224 (no detections), 24.8ms\n",
      "Speed: 0.5ms preprocess, 24.8ms inference, 0.5ms postprocess per image at shape (1, 3, 224, 224)\n",
      "\n",
      "0: 224x224 (no detections), 23.8ms\n",
      "Speed: 0.0ms preprocess, 23.8ms inference, 0.0ms postprocess per image at shape (1, 3, 224, 224)\n",
      "\n",
      "0: 224x224 (no detections), 24.8ms\n",
      "Speed: 0.5ms preprocess, 24.8ms inference, 0.5ms postprocess per image at shape (1, 3, 224, 224)\n",
      "\n",
      "0: 224x224 (no detections), 23.8ms\n",
      "Speed: 0.5ms preprocess, 23.8ms inference, 0.5ms postprocess per image at shape (1, 3, 224, 224)\n",
      "\n",
      "0: 224x224 (no detections), 25.3ms\n",
      "Speed: 0.5ms preprocess, 25.3ms inference, 0.0ms postprocess per image at shape (1, 3, 224, 224)\n",
      "\n",
      "0: 224x224 (no detections), 22.3ms\n",
      "Speed: 0.0ms preprocess, 22.3ms inference, 0.0ms postprocess per image at shape (1, 3, 224, 224)\n",
      "\n",
      "0: 224x224 (no detections), 23.8ms\n",
      "Speed: 0.5ms preprocess, 23.8ms inference, 0.0ms postprocess per image at shape (1, 3, 224, 224)\n",
      "\n",
      "0: 224x224 (no detections), 24.3ms\n",
      "Speed: 0.5ms preprocess, 24.3ms inference, 0.5ms postprocess per image at shape (1, 3, 224, 224)\n",
      "\n",
      "0: 224x224 (no detections), 39.7ms\n",
      "Speed: 1.5ms preprocess, 39.7ms inference, 0.0ms postprocess per image at shape (1, 3, 224, 224)\n",
      "\n",
      "0: 224x224 1 pool, 31.2ms\n",
      "Speed: 0.5ms preprocess, 31.2ms inference, 0.5ms postprocess per image at shape (1, 3, 224, 224)\n",
      "\n",
      "0: 224x224 (no detections), 29.3ms\n",
      "Speed: 0.5ms preprocess, 29.3ms inference, 0.5ms postprocess per image at shape (1, 3, 224, 224)\n",
      "\n",
      "0: 224x224 1 pool, 28.8ms\n",
      "Speed: 0.5ms preprocess, 28.8ms inference, 0.5ms postprocess per image at shape (1, 3, 224, 224)\n",
      "\n",
      "0: 224x224 (no detections), 23.3ms\n",
      "Speed: 0.5ms preprocess, 23.3ms inference, 0.5ms postprocess per image at shape (1, 3, 224, 224)\n",
      "\n",
      "0: 224x224 1 pool, 72.4ms\n",
      "Speed: 0.5ms preprocess, 72.4ms inference, 1.0ms postprocess per image at shape (1, 3, 224, 224)\n",
      "\n",
      "0: 224x224 (no detections), 27.3ms\n",
      "Speed: 0.5ms preprocess, 27.3ms inference, 0.5ms postprocess per image at shape (1, 3, 224, 224)\n",
      "\n",
      "0: 224x224 1 pool, 52.1ms\n",
      "Speed: 0.5ms preprocess, 52.1ms inference, 2.0ms postprocess per image at shape (1, 3, 224, 224)\n",
      "\n",
      "0: 224x224 1 pool, 30.8ms\n",
      "Speed: 0.5ms preprocess, 30.8ms inference, 0.5ms postprocess per image at shape (1, 3, 224, 224)\n",
      "\n",
      "0: 224x224 1 pool, 22.8ms\n",
      "Speed: 0.0ms preprocess, 22.8ms inference, 0.5ms postprocess per image at shape (1, 3, 224, 224)\n",
      "\n",
      "0: 224x224 1 pool, 23.8ms\n",
      "Speed: 0.5ms preprocess, 23.8ms inference, 0.5ms postprocess per image at shape (1, 3, 224, 224)\n",
      "\n",
      "0: 224x224 2 pools, 30.8ms\n",
      "Speed: 0.0ms preprocess, 30.8ms inference, 0.5ms postprocess per image at shape (1, 3, 224, 224)\n",
      "\n",
      "0: 224x224 (no detections), 25.8ms\n",
      "Speed: 0.0ms preprocess, 25.8ms inference, 0.0ms postprocess per image at shape (1, 3, 224, 224)\n",
      "\n",
      "0: 224x224 (no detections), 27.3ms\n",
      "Speed: 0.5ms preprocess, 27.3ms inference, 0.0ms postprocess per image at shape (1, 3, 224, 224)\n",
      "\n",
      "0: 224x224 1 pool, 22.3ms\n",
      "Speed: 0.5ms preprocess, 22.3ms inference, 1.0ms postprocess per image at shape (1, 3, 224, 224)\n",
      "\n",
      "0: 224x224 (no detections), 25.3ms\n",
      "Speed: 0.5ms preprocess, 25.3ms inference, 0.0ms postprocess per image at shape (1, 3, 224, 224)\n",
      "\n",
      "0: 224x224 (no detections), 25.3ms\n",
      "Speed: 0.5ms preprocess, 25.3ms inference, 0.5ms postprocess per image at shape (1, 3, 224, 224)\n",
      "\n",
      "0: 224x224 (no detections), 33.2ms\n",
      "Speed: 0.5ms preprocess, 33.2ms inference, 0.5ms postprocess per image at shape (1, 3, 224, 224)\n",
      "\n",
      "0: 224x224 (no detections), 31.2ms\n",
      "Speed: 0.5ms preprocess, 31.2ms inference, 0.5ms postprocess per image at shape (1, 3, 224, 224)\n",
      "\n",
      "0: 224x224 (no detections), 27.3ms\n",
      "Speed: 0.5ms preprocess, 27.3ms inference, 0.5ms postprocess per image at shape (1, 3, 224, 224)\n",
      "\n",
      "0: 224x224 (no detections), 28.3ms\n",
      "Speed: 0.5ms preprocess, 28.3ms inference, 0.5ms postprocess per image at shape (1, 3, 224, 224)\n",
      "\n",
      "0: 224x224 (no detections), 58.5ms\n",
      "Speed: 0.0ms preprocess, 58.5ms inference, 0.5ms postprocess per image at shape (1, 3, 224, 224)\n",
      "\n",
      "0: 224x224 1 pool, 36.2ms\n",
      "Speed: 1.0ms preprocess, 36.2ms inference, 0.5ms postprocess per image at shape (1, 3, 224, 224)\n",
      "\n",
      "0: 224x224 (no detections), 38.7ms\n",
      "Speed: 0.0ms preprocess, 38.7ms inference, 0.0ms postprocess per image at shape (1, 3, 224, 224)\n",
      "\n",
      "0: 224x224 1 pool, 25.3ms\n",
      "Speed: 0.5ms preprocess, 25.3ms inference, 0.5ms postprocess per image at shape (1, 3, 224, 224)\n",
      "\n",
      "0: 224x224 1 pool, 24.8ms\n",
      "Speed: 0.5ms preprocess, 24.8ms inference, 0.5ms postprocess per image at shape (1, 3, 224, 224)\n",
      "\n",
      "0: 224x224 (no detections), 24.3ms\n",
      "Speed: 0.0ms preprocess, 24.3ms inference, 0.5ms postprocess per image at shape (1, 3, 224, 224)\n",
      "\n",
      "0: 224x224 (no detections), 23.3ms\n",
      "Speed: 0.0ms preprocess, 23.3ms inference, 0.0ms postprocess per image at shape (1, 3, 224, 224)\n",
      "\n",
      "0: 224x224 1 pool, 23.3ms\n",
      "Speed: 0.0ms preprocess, 23.3ms inference, 0.5ms postprocess per image at shape (1, 3, 224, 224)\n",
      "\n",
      "0: 224x224 (no detections), 27.3ms\n",
      "Speed: 0.0ms preprocess, 27.3ms inference, 0.0ms postprocess per image at shape (1, 3, 224, 224)\n",
      "\n",
      "0: 224x224 (no detections), 25.3ms\n",
      "Speed: 1.0ms preprocess, 25.3ms inference, 0.5ms postprocess per image at shape (1, 3, 224, 224)\n",
      "\n",
      "0: 224x224 (no detections), 23.3ms\n",
      "Speed: 0.5ms preprocess, 23.3ms inference, 0.0ms postprocess per image at shape (1, 3, 224, 224)\n",
      "\n",
      "0: 224x224 (no detections), 22.8ms\n",
      "Speed: 1.5ms preprocess, 22.8ms inference, 0.5ms postprocess per image at shape (1, 3, 224, 224)\n",
      "\n",
      "0: 224x224 (no detections), 26.8ms\n",
      "Speed: 0.5ms preprocess, 26.8ms inference, 0.0ms postprocess per image at shape (1, 3, 224, 224)\n",
      "\n",
      "0: 224x224 (no detections), 24.3ms\n",
      "Speed: 0.5ms preprocess, 24.3ms inference, 0.5ms postprocess per image at shape (1, 3, 224, 224)\n",
      "\n",
      "0: 224x224 (no detections), 24.8ms\n",
      "Speed: 0.5ms preprocess, 24.8ms inference, 0.5ms postprocess per image at shape (1, 3, 224, 224)\n",
      "\n",
      "0: 224x224 2 pools, 23.8ms\n",
      "Speed: 0.0ms preprocess, 23.8ms inference, 0.5ms postprocess per image at shape (1, 3, 224, 224)\n",
      "\n",
      "0: 224x224 (no detections), 80.8ms\n",
      "Speed: 0.5ms preprocess, 80.8ms inference, 0.5ms postprocess per image at shape (1, 3, 224, 224)\n",
      "\n",
      "0: 224x224 2 pools, 26.3ms\n",
      "Speed: 0.0ms preprocess, 26.3ms inference, 1.0ms postprocess per image at shape (1, 3, 224, 224)\n",
      "\n",
      "0: 224x224 (no detections), 26.3ms\n",
      "Speed: 0.5ms preprocess, 26.3ms inference, 0.0ms postprocess per image at shape (1, 3, 224, 224)\n",
      "\n",
      "0: 224x224 (no detections), 23.3ms\n",
      "Speed: 0.5ms preprocess, 23.3ms inference, 0.5ms postprocess per image at shape (1, 3, 224, 224)\n",
      "\n",
      "0: 224x224 (no detections), 22.3ms\n",
      "Speed: 0.5ms preprocess, 22.3ms inference, 0.5ms postprocess per image at shape (1, 3, 224, 224)\n",
      "\n",
      "0: 224x224 (no detections), 23.3ms\n",
      "Speed: 0.5ms preprocess, 23.3ms inference, 0.5ms postprocess per image at shape (1, 3, 224, 224)\n",
      "\n",
      "0: 224x224 (no detections), 28.8ms\n",
      "Speed: 0.0ms preprocess, 28.8ms inference, 0.0ms postprocess per image at shape (1, 3, 224, 224)\n",
      "\n",
      "0: 224x224 (no detections), 23.8ms\n",
      "Speed: 0.5ms preprocess, 23.8ms inference, 0.5ms postprocess per image at shape (1, 3, 224, 224)\n",
      "\n",
      "0: 224x224 (no detections), 23.8ms\n",
      "Speed: 0.5ms preprocess, 23.8ms inference, 0.0ms postprocess per image at shape (1, 3, 224, 224)\n",
      "\n",
      "0: 224x224 (no detections), 24.8ms\n",
      "Speed: 0.0ms preprocess, 24.8ms inference, 0.5ms postprocess per image at shape (1, 3, 224, 224)\n",
      "\n",
      "0: 224x224 (no detections), 24.3ms\n",
      "Speed: 0.5ms preprocess, 24.3ms inference, 0.0ms postprocess per image at shape (1, 3, 224, 224)\n",
      "\n",
      "0: 224x224 (no detections), 21.8ms\n",
      "Speed: 0.5ms preprocess, 21.8ms inference, 3.0ms postprocess per image at shape (1, 3, 224, 224)\n",
      "\n",
      "0: 224x224 1 pool, 25.3ms\n",
      "Speed: 0.0ms preprocess, 25.3ms inference, 0.5ms postprocess per image at shape (1, 3, 224, 224)\n",
      "\n",
      "0: 224x224 (no detections), 24.3ms\n",
      "Speed: 0.0ms preprocess, 24.3ms inference, 0.5ms postprocess per image at shape (1, 3, 224, 224)\n",
      "\n",
      "0: 224x224 1 pool, 24.3ms\n",
      "Speed: 0.5ms preprocess, 24.3ms inference, 1.0ms postprocess per image at shape (1, 3, 224, 224)\n",
      "\n",
      "0: 224x224 (no detections), 25.3ms\n",
      "Speed: 0.5ms preprocess, 25.3ms inference, 0.5ms postprocess per image at shape (1, 3, 224, 224)\n",
      "\n",
      "0: 224x224 (no detections), 24.8ms\n",
      "Speed: 0.0ms preprocess, 24.8ms inference, 0.0ms postprocess per image at shape (1, 3, 224, 224)\n",
      "\n",
      "0: 224x224 2 pools, 24.3ms\n",
      "Speed: 0.0ms preprocess, 24.3ms inference, 1.0ms postprocess per image at shape (1, 3, 224, 224)\n",
      "\n",
      "0: 224x224 (no detections), 31.2ms\n",
      "Speed: 0.0ms preprocess, 31.2ms inference, 0.5ms postprocess per image at shape (1, 3, 224, 224)\n",
      "\n",
      "0: 224x224 (no detections), 24.8ms\n",
      "Speed: 0.0ms preprocess, 24.8ms inference, 0.0ms postprocess per image at shape (1, 3, 224, 224)\n",
      "\n",
      "0: 224x224 (no detections), 23.8ms\n",
      "Speed: 0.5ms preprocess, 23.8ms inference, 0.0ms postprocess per image at shape (1, 3, 224, 224)\n",
      "\n",
      "0: 224x224 (no detections), 22.8ms\n",
      "Speed: 0.5ms preprocess, 22.8ms inference, 0.0ms postprocess per image at shape (1, 3, 224, 224)\n",
      "\n",
      "0: 224x224 (no detections), 24.8ms\n",
      "Speed: 0.5ms preprocess, 24.8ms inference, 0.5ms postprocess per image at shape (1, 3, 224, 224)\n",
      "\n",
      "0: 224x224 (no detections), 24.8ms\n",
      "Speed: 0.0ms preprocess, 24.8ms inference, 0.5ms postprocess per image at shape (1, 3, 224, 224)\n",
      "\n",
      "0: 224x224 (no detections), 30.8ms\n",
      "Speed: 0.5ms preprocess, 30.8ms inference, 0.0ms postprocess per image at shape (1, 3, 224, 224)\n",
      "\n",
      "0: 224x224 (no detections), 23.8ms\n",
      "Speed: 0.5ms preprocess, 23.8ms inference, 0.0ms postprocess per image at shape (1, 3, 224, 224)\n",
      "\n",
      "0: 224x224 (no detections), 24.3ms\n",
      "Speed: 0.0ms preprocess, 24.3ms inference, 0.5ms postprocess per image at shape (1, 3, 224, 224)\n",
      "\n",
      "0: 224x224 (no detections), 24.3ms\n",
      "Speed: 0.5ms preprocess, 24.3ms inference, 0.5ms postprocess per image at shape (1, 3, 224, 224)\n",
      "\n",
      "0: 224x224 2 pools, 25.3ms\n",
      "Speed: 0.5ms preprocess, 25.3ms inference, 1.0ms postprocess per image at shape (1, 3, 224, 224)\n",
      "\n",
      "0: 224x224 (no detections), 69.4ms\n",
      "Speed: 0.5ms preprocess, 69.4ms inference, 0.0ms postprocess per image at shape (1, 3, 224, 224)\n",
      "\n",
      "0: 224x224 (no detections), 31.2ms\n",
      "Speed: 1.0ms preprocess, 31.2ms inference, 0.5ms postprocess per image at shape (1, 3, 224, 224)\n",
      "\n",
      "0: 224x224 1 pool, 24.3ms\n",
      "Speed: 0.5ms preprocess, 24.3ms inference, 1.0ms postprocess per image at shape (1, 3, 224, 224)\n",
      "\n",
      "0: 224x224 1 pool, 23.8ms\n",
      "Speed: 0.5ms preprocess, 23.8ms inference, 0.5ms postprocess per image at shape (1, 3, 224, 224)\n",
      "\n",
      "0: 224x224 2 pools, 24.8ms\n",
      "Speed: 0.0ms preprocess, 24.8ms inference, 0.5ms postprocess per image at shape (1, 3, 224, 224)\n",
      "\n",
      "0: 224x224 2 pools, 30.8ms\n",
      "Speed: 0.5ms preprocess, 30.8ms inference, 1.0ms postprocess per image at shape (1, 3, 224, 224)\n",
      "\n",
      "0: 224x224 (no detections), 25.3ms\n",
      "Speed: 0.0ms preprocess, 25.3ms inference, 0.5ms postprocess per image at shape (1, 3, 224, 224)\n",
      "\n",
      "0: 224x224 (no detections), 29.3ms\n",
      "Speed: 0.5ms preprocess, 29.3ms inference, 0.0ms postprocess per image at shape (1, 3, 224, 224)\n",
      "\n",
      "0: 224x224 1 pool, 26.8ms\n",
      "Speed: 0.0ms preprocess, 26.8ms inference, 1.0ms postprocess per image at shape (1, 3, 224, 224)\n",
      "\n",
      "0: 224x224 (no detections), 23.3ms\n",
      "Speed: 0.5ms preprocess, 23.3ms inference, 0.5ms postprocess per image at shape (1, 3, 224, 224)\n",
      "\n",
      "0: 224x224 1 pool, 30.8ms\n",
      "Speed: 0.5ms preprocess, 30.8ms inference, 0.5ms postprocess per image at shape (1, 3, 224, 224)\n",
      "\n",
      "0: 224x224 1 pool, 25.3ms\n",
      "Speed: 0.5ms preprocess, 25.3ms inference, 0.5ms postprocess per image at shape (1, 3, 224, 224)\n",
      "\n",
      "0: 224x224 1 pool, 23.8ms\n",
      "Speed: 0.5ms preprocess, 23.8ms inference, 0.5ms postprocess per image at shape (1, 3, 224, 224)\n",
      "\n",
      "0: 224x224 1 pool, 23.8ms\n",
      "Speed: 0.5ms preprocess, 23.8ms inference, 0.5ms postprocess per image at shape (1, 3, 224, 224)\n",
      "\n",
      "0: 224x224 (no detections), 24.3ms\n",
      "Speed: 0.0ms preprocess, 24.3ms inference, 0.5ms postprocess per image at shape (1, 3, 224, 224)\n",
      "\n",
      "0: 224x224 (no detections), 79.4ms\n",
      "Speed: 0.0ms preprocess, 79.4ms inference, 0.5ms postprocess per image at shape (1, 3, 224, 224)\n",
      "\n",
      "0: 224x224 (no detections), 24.3ms\n",
      "Speed: 0.5ms preprocess, 24.3ms inference, 0.0ms postprocess per image at shape (1, 3, 224, 224)\n",
      "\n",
      "0: 224x224 (no detections), 25.8ms\n",
      "Speed: 0.5ms preprocess, 25.8ms inference, 0.5ms postprocess per image at shape (1, 3, 224, 224)\n",
      "\n",
      "0: 224x224 (no detections), 26.3ms\n",
      "Speed: 0.0ms preprocess, 26.3ms inference, 0.0ms postprocess per image at shape (1, 3, 224, 224)\n",
      "\n",
      "0: 224x224 (no detections), 26.8ms\n",
      "Speed: 0.5ms preprocess, 26.8ms inference, 0.5ms postprocess per image at shape (1, 3, 224, 224)\n",
      "\n",
      "0: 224x224 (no detections), 25.3ms\n",
      "Speed: 0.0ms preprocess, 25.3ms inference, 0.5ms postprocess per image at shape (1, 3, 224, 224)\n",
      "\n",
      "0: 224x224 (no detections), 23.3ms\n",
      "Speed: 0.5ms preprocess, 23.3ms inference, 0.5ms postprocess per image at shape (1, 3, 224, 224)\n",
      "\n",
      "0: 224x224 1 pool, 29.3ms\n",
      "Speed: 0.5ms preprocess, 29.3ms inference, 2.0ms postprocess per image at shape (1, 3, 224, 224)\n",
      "\n",
      "0: 224x224 1 pool, 23.8ms\n",
      "Speed: 0.0ms preprocess, 23.8ms inference, 0.5ms postprocess per image at shape (1, 3, 224, 224)\n",
      "\n",
      "0: 224x224 (no detections), 22.8ms\n",
      "Speed: 0.5ms preprocess, 22.8ms inference, 0.5ms postprocess per image at shape (1, 3, 224, 224)\n",
      "\n",
      "0: 224x224 (no detections), 24.8ms\n",
      "Speed: 0.5ms preprocess, 24.8ms inference, 0.5ms postprocess per image at shape (1, 3, 224, 224)\n"
     ]
    }
   ],
   "source": [
    "from pathlib import Path\n",
    "# Rutas de directorios\n",
    "input_dir = Path('DATABASE/ultralytics/images/test')\n",
    "output_dir_10_epoch = Path('DATABASE/predictions_ultralytics/10epoch_prediction')\n",
    "\n",
    "# Verificar si los directorios de salida existen, si no, crearlos\n",
    "output_dir_10_epoch.mkdir(parents=True, exist_ok=True)\n",
    "\n",
    "model_10_epoch = YOLO(\"yolo_swiming_pool_10epoch.pt\")\n",
    "image_files = list(input_dir.glob('*.*'))\n",
    "\n",
    "total_piscinas = 0\n",
    "accuracys_10epoch = []\n",
    "for image_file in image_files:\n",
    "    filename = image_file.stem\n",
    "\n",
    "    output_path_10_epoch = output_dir_10_epoch / f\"{filename}.jpg\"\n",
    "\n",
    "    results_10_epoch = model_10_epoch([str(image_file)])\n",
    "\n",
    "    \n",
    "    for result in results_10_epoch:\n",
    "        boxes = result.boxes\n",
    "        if len(boxes) > 0:\n",
    "            for box in boxes:\n",
    "                acc = tf.concat(box.conf, axis=0).numpy()\n",
    "                accuracys_10epoch = np.append(accuracys_10epoch, acc)\n",
    "        else:\n",
    "            acc = tf.concat(boxes.conf, axis=0).numpy()\n",
    "            accuracys_10epoch = np.append(accuracys_10epoch, acc)\n",
    "        result.save(filename=str(output_path_10_epoch))\n"
   ]
  },
  {
   "cell_type": "markdown",
   "metadata": {},
   "source": [
    "**Finalmente con 200 epoch**"
   ]
  },
  {
   "cell_type": "code",
   "execution_count": 4,
   "metadata": {},
   "outputs": [
    {
     "name": "stdout",
     "output_type": "stream",
     "text": [
      "\n",
      "0: 224x224 (no detections), 24.3ms\n",
      "Speed: 0.5ms preprocess, 24.3ms inference, 0.5ms postprocess per image at shape (1, 3, 224, 224)\n",
      "\n",
      "0: 224x224 (no detections), 21.3ms\n",
      "Speed: 0.5ms preprocess, 21.3ms inference, 0.0ms postprocess per image at shape (1, 3, 224, 224)\n",
      "\n",
      "0: 224x224 (no detections), 25.8ms\n",
      "Speed: 0.5ms preprocess, 25.8ms inference, 0.5ms postprocess per image at shape (1, 3, 224, 224)\n",
      "\n",
      "0: 224x224 (no detections), 23.8ms\n",
      "Speed: 0.5ms preprocess, 23.8ms inference, 0.5ms postprocess per image at shape (1, 3, 224, 224)\n",
      "\n",
      "0: 224x224 (no detections), 22.8ms\n",
      "Speed: 0.5ms preprocess, 22.8ms inference, 0.5ms postprocess per image at shape (1, 3, 224, 224)\n",
      "\n",
      "0: 224x224 (no detections), 21.8ms\n",
      "Speed: 0.5ms preprocess, 21.8ms inference, 0.5ms postprocess per image at shape (1, 3, 224, 224)\n",
      "\n",
      "0: 224x224 (no detections), 21.8ms\n",
      "Speed: 1.0ms preprocess, 21.8ms inference, 0.0ms postprocess per image at shape (1, 3, 224, 224)\n",
      "\n",
      "0: 224x224 (no detections), 24.8ms\n",
      "Speed: 0.5ms preprocess, 24.8ms inference, 0.0ms postprocess per image at shape (1, 3, 224, 224)\n",
      "\n",
      "0: 224x224 (no detections), 24.3ms\n",
      "Speed: 0.5ms preprocess, 24.3ms inference, 0.5ms postprocess per image at shape (1, 3, 224, 224)\n",
      "\n",
      "0: 224x224 1 pool, 22.8ms\n",
      "Speed: 0.0ms preprocess, 22.8ms inference, 3.5ms postprocess per image at shape (1, 3, 224, 224)\n"
     ]
    }
   ],
   "source": [
    "from pathlib import Path\n",
    "# Rutas de directorios\n",
    "input_dir = Path('DATABASE/ultralytics/images/test')\n",
    "output_dir_200_epoch = Path('DATABASE/predictions_ultralytics/200epoch_prediction')\n",
    "\n",
    "# Verificar si los directorios de salida existen, si no, crearlos\n",
    "output_dir_200_epoch.mkdir(parents=True, exist_ok=True)\n",
    "\n",
    "model_200_epoch = YOLO(\"yolo_swiming_pool_200epoch.pt\")\n",
    "image_files = list(input_dir.glob('*.*'))\n",
    "\n",
    "total_piscinas = 0\n",
    "accuracys_200epoch = []\n",
    "for image_file in image_files:\n",
    "    filename = image_file.stem\n",
    "\n",
    "    output_path_200_epoch = output_dir_200_epoch / f\"{filename}.jpg\"\n",
    "\n",
    "    results_200_epoch = model_200_epoch([str(image_file)])\n",
    "\n",
    "    \n",
    "    for result in results_200_epoch:\n",
    "        boxes = result.boxes\n",
    "        if is_tensor_empty(boxes):\n",
    "            total_piscinas = total_piscinas + 1\n",
    "        if len(boxes) > 0:\n",
    "            for box in boxes:\n",
    "                acc = tf.concat(box.conf, axis=0).numpy()\n",
    "                accuracys_200epoch = np.append(accuracys_200epoch, acc)\n",
    "        else:\n",
    "            acc = tf.concat(boxes.conf, axis=0).numpy()\n",
    "            accuracys_200epoch = np.append(accuracys_200epoch, acc)\n",
    "        result.save(filename=str(output_path_200_epoch))"
   ]
  },
  {
   "cell_type": "markdown",
   "metadata": {},
   "source": [
    "### **Ahora que ya hemos hecho la prediccion para todas las imagenes calcularemos el accuracy PROMEDIO de cada prediccion (para 1, 10 y 200 epochs)**"
   ]
  },
  {
   "cell_type": "code",
   "execution_count": 75,
   "metadata": {},
   "outputs": [
    {
     "name": "stdout",
     "output_type": "stream",
     "text": [
      "Total de piscinas:  2703\n",
      "Suma de accuracy 1 epoch:  135.00493454933167\n",
      "0.049946331686767174\n"
     ]
    }
   ],
   "source": [
    "print(\"Total de piscinas: \",total_piscinas)\n",
    "sum_acc_1epoch = np.sum(accuracys_1epoch)\n",
    "print(\"Suma de accuracy 1 epoch: \", np.sum(accuracys_1epoch))\n",
    "accuracy_1epoch = sum_acc_1epoch/total_piscinas\n",
    "print(accuracy_1epoch)"
   ]
  },
  {
   "cell_type": "code",
   "execution_count": 78,
   "metadata": {},
   "outputs": [
    {
     "name": "stdout",
     "output_type": "stream",
     "text": [
      "Total de piscinas:  2703\n",
      "Suma de accuracy 1 epoch:  274.10526540875435\n",
      "0.049946331686767174\n"
     ]
    }
   ],
   "source": [
    "print(\"Total de piscinas: \",total_piscinas)\n",
    "sum_acc_10epoch = np.sum(accuracys_10epoch)\n",
    "print(\"Suma de accuracy 1 epoch: \", np.sum(accuracys_10epoch))\n",
    "accuracy_10epoch = sum_acc_10epoch/total_piscinas\n",
    "print(accuracy_1epoch)"
   ]
  },
  {
   "cell_type": "code",
   "execution_count": null,
   "metadata": {},
   "outputs": [],
   "source": []
  }
 ],
 "metadata": {
  "kernelspec": {
   "display_name": "Python 3",
   "language": "python",
   "name": "python3"
  },
  "language_info": {
   "codemirror_mode": {
    "name": "ipython",
    "version": 3
   },
   "file_extension": ".py",
   "mimetype": "text/x-python",
   "name": "python",
   "nbconvert_exporter": "python",
   "pygments_lexer": "ipython3",
   "version": "3.12.0"
  }
 },
 "nbformat": 4,
 "nbformat_minor": 2
}
