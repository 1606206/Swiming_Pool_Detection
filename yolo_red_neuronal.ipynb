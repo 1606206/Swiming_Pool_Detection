{
 "cells": [
  {
   "cell_type": "code",
   "execution_count": null,
   "metadata": {},
   "outputs": [],
   "source": [
    "import tensorflow as tf\n",
    "from tensorflow.keras import layers, models\n",
    "from tensorflow.keras.preprocessing.image import ImageDataGenerator"
   ]
  },
  {
   "cell_type": "code",
   "execution_count": null,
   "metadata": {},
   "outputs": [
    {
     "ename": "NameError",
     "evalue": "name 'load_img' is not defined",
     "output_type": "error",
     "traceback": [
      "\u001b[1;31m---------------------------------------------------------------------------\u001b[0m",
      "\u001b[1;31mNameError\u001b[0m                                 Traceback (most recent call last)",
      "Cell \u001b[1;32mIn[9], line 7\u001b[0m\n\u001b[0;32m      4\u001b[0m \u001b[38;5;28;01mfrom\u001b[39;00m \u001b[38;5;21;01mkeras\u001b[39;00m\u001b[38;5;21;01m.\u001b[39;00m\u001b[38;5;21;01mpreprocessing\u001b[39;00m\u001b[38;5;21;01m.\u001b[39;00m\u001b[38;5;21;01mimage\u001b[39;00m \u001b[38;5;28;01mimport\u001b[39;00m load_img, img_to_array\n\u001b[0;32m      5\u001b[0m \u001b[38;5;28;01mimport\u001b[39;00m \u001b[38;5;21;01mload_clasification\u001b[39;00m\n\u001b[1;32m----> 7\u001b[0m images_with_pools, images_without_pools \u001b[38;5;241m=\u001b[39m \u001b[43mload_clasification\u001b[49m\u001b[38;5;241;43m.\u001b[39;49m\u001b[43mclasification\u001b[49m\u001b[43m(\u001b[49m\u001b[43m)\u001b[49m\n",
      "File \u001b[1;32mc:\\Users\\guill\\Desktop\\Universidad\\2023-2024\\Segundo Semestre\\VC\\Practicas\\Swiming_Pool_Detection\\load_clasification.py:47\u001b[0m, in \u001b[0;36mclasification\u001b[1;34m()\u001b[0m\n\u001b[0;32m     45\u001b[0m img_dir \u001b[38;5;241m=\u001b[39m \u001b[38;5;124m\"\u001b[39m\u001b[38;5;124mDATABASE/training_data/images\u001b[39m\u001b[38;5;124m\"\u001b[39m\n\u001b[0;32m     46\u001b[0m xml_dir \u001b[38;5;241m=\u001b[39m \u001b[38;5;124m\"\u001b[39m\u001b[38;5;124mDATABASE/training_data/labels\u001b[39m\u001b[38;5;124m\"\u001b[39m\n\u001b[1;32m---> 47\u001b[0m images_with_pools, images_without_pools \u001b[38;5;241m=\u001b[39m \u001b[43mload_images_and_labels\u001b[49m\u001b[43m(\u001b[49m\u001b[43mimg_dir\u001b[49m\u001b[43m,\u001b[49m\u001b[43m \u001b[49m\u001b[43mxml_dir\u001b[49m\u001b[43m)\u001b[49m\n\u001b[0;32m     48\u001b[0m \u001b[38;5;28mprint\u001b[39m(\u001b[38;5;124m\"\u001b[39m\u001b[38;5;124mImágenes con piscinas:\u001b[39m\u001b[38;5;124m\"\u001b[39m)\n\u001b[0;32m     49\u001b[0m \u001b[38;5;28;01mfor\u001b[39;00m img_file, labels \u001b[38;5;129;01min\u001b[39;00m images_with_pools\u001b[38;5;241m.\u001b[39mitems():\n",
      "File \u001b[1;32mc:\\Users\\guill\\Desktop\\Universidad\\2023-2024\\Segundo Semestre\\VC\\Practicas\\Swiming_Pool_Detection\\load_clasification.py:35\u001b[0m, in \u001b[0;36mload_images_and_labels\u001b[1;34m(img_dir, xml_dir)\u001b[0m\n\u001b[0;32m     33\u001b[0m \u001b[38;5;66;03m# Verificar si hay etiquetas de piscinas en este archivo XML\u001b[39;00m\n\u001b[0;32m     34\u001b[0m \u001b[38;5;28;01mif\u001b[39;00m img_labels:\n\u001b[1;32m---> 35\u001b[0m     img \u001b[38;5;241m=\u001b[39m \u001b[43mload_img\u001b[49m(img_path, target_size\u001b[38;5;241m=\u001b[39m(\u001b[38;5;241m224\u001b[39m, \u001b[38;5;241m224\u001b[39m))\n\u001b[0;32m     36\u001b[0m     img_array \u001b[38;5;241m=\u001b[39m img_to_array(img)\n\u001b[0;32m     37\u001b[0m     images_with_pools[img_file] \u001b[38;5;241m=\u001b[39m img_labels\n",
      "\u001b[1;31mNameError\u001b[0m: name 'load_img' is not defined"
     ]
    }
   ],
   "source": [
    "import load_clasification\n",
    "\n",
    "images_with_pools, images_without_pools = load_clasification.clasification()\n"
   ]
  },
  {
   "cell_type": "code",
   "execution_count": null,
   "metadata": {},
   "outputs": [],
   "source": [
    "import os\n",
    "import shutil\n",
    "\n",
    "# Directorio de origen de las imágenes\n",
    "source_dir = \"DATABASE/training_data/images\"\n",
    "# Directorios de destino\n",
    "pool_dir = \"DATABASE/training_data/images/pools\"\n",
    "no_pool_dir = \"DATABASE/training_data/images/no_pools\"\n",
    "\n",
    "# Crear directorios de destino si no existen\n",
    "os.makedirs(pool_dir, exist_ok=True)\n",
    "os.makedirs(no_pool_dir, exist_ok=True)\n",
    "\n",
    "# Función para copiar imágenes\n",
    "def copy_images(images, source, destination):\n",
    "    for image in images:\n",
    "        source_path = os.path.join(source, image)\n",
    "        destination_path = os.path.join(destination, image)\n",
    "        shutil.copyfile(source_path, destination_path)\n",
    "\n",
    "# Copiar imágenes con piscinas al directorio correspondiente\n",
    "copy_images(images_with_pools.keys(), source_dir, pool_dir)\n",
    "\n",
    "# Copiar imágenes sin piscinas al directorio correspondiente\n",
    "copy_images(images_without_pools, source_dir, no_pool_dir)"
   ]
  }
 ],
 "metadata": {
  "kernelspec": {
   "display_name": "Python 3",
   "language": "python",
   "name": "python3"
  },
  "language_info": {
   "codemirror_mode": {
    "name": "ipython",
    "version": 3
   },
   "file_extension": ".py",
   "mimetype": "text/x-python",
   "name": "python",
   "nbconvert_exporter": "python",
   "pygments_lexer": "ipython3",
   "version": "3.12.0"
  }
 },
 "nbformat": 4,
 "nbformat_minor": 2
}
